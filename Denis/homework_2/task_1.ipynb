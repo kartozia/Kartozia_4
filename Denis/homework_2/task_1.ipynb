{
 "cells": [
  {
   "cell_type": "code",
   "execution_count": 3,
   "metadata": {
    "collapsed": true
   },
   "outputs": [],
   "source": [
    "import re\n",
    "import itertools\n",
    "from collections import Counter\n",
    "from pattern.web import Wikipedia, plaintext\n",
    "from nltk.collocations import *\n",
    "from nltk import regexp_tokenize\n",
    "from nltk import word_tokenize\n",
    "\n",
    "class WikiParser:\n",
    "    def __init__(self):\n",
    "        pass\n",
    "    def get_articles(self, start):\n",
    "        arr = []\n",
    "        wiki = Wikipedia(language=\"en\")\n",
    "        article = wiki.article(start)\n",
    "        text = article.plaintext()\n",
    "        tokens = regexp_tokenize(text, r'[\\w]*', gaps=False)\n",
    "        draft = ' '.join(tokens)\n",
    "        remove_numbers = re.sub('[\\d]{1,4}', '', draft)\n",
    "        final = re.sub('[\\s]{1,25}', ' ', remove_numbers)\n",
    "        arr.append(final)\n",
    "        for title in article.links[:10]:\n",
    "            article = wiki.article(title)\n",
    "            full_text = article.plaintext()\n",
    "            token = regexp_tokenize(full_text, r'[\\w]*', gaps=False)\n",
    "            draft = ' '.join(token)\n",
    "            remove_numbers = re.sub('[\\d]{1,4}', '', draft)\n",
    "            final = re.sub('[\\s]{1,25}', ' ', remove_numbers)\n",
    "            arr.append(final)\n",
    "        return ' '.join(arr)\n",
    "            \n",
    "            \n",
    "       # for i in range(depth):\n",
    "        #    for title in article.links:\n",
    "         #       print(set(self.get_articles(title, depth-1)))\n",
    "        \n",
    "        "
   ]
  },
  {
   "cell_type": "code",
   "execution_count": 163,
   "metadata": {
    "collapsed": true
   },
   "outputs": [],
   "source": [
    "check = WikiParser()\n",
    "file = open('text.txt','w', encoding='utf-8')\n",
    "file.write(check.get_articles('Natural language processing'))\n",
    "file.close()"
   ]
  },
  {
   "cell_type": "code",
   "execution_count": 15,
   "metadata": {
    "collapsed": true
   },
   "outputs": [],
   "source": [
    "class TextStatistics:\n",
    "    def __init__(self, articles):\n",
    "        self.articles = articles\n",
    "        \n",
    "    def get_top_3grams(self, n):\n",
    "        list_of_3grams_in_descending_order_by_freq = list()\n",
    "        list_of_their_corresponding_freq = list()\n",
    "        finder = TrigramCollocationFinder.from_words(self.articles.split())\n",
    "        freqs = finder.ngram_fd\n",
    "        for key, value in list(freqs.items())[:n]:\n",
    "            list_of_3grams_in_descending_order_by_freq.append(key)\n",
    "            list_of_their_corresponding_freq.append(value)\n",
    "        return (list_of_3grams_in_descending_order_by_freq, list_of_their_corresponding_freq)\n",
    "            \n",
    "    def get_top_words(self, n):\n",
    "        corpus = word_tokenize(self.articles)\n",
    "        top_words = Counter(corpus).most_common(n)\n",
    "        return top_words"
   ]
  },
  {
   "cell_type": "code",
   "execution_count": 14,
   "metadata": {},
   "outputs": [
    {
     "name": "stdout",
     "output_type": "stream",
     "text": [
      "(('the', 2564), ('of', 1778), ('and', 1248), ('in', 1083), ('a', 1020), ('to', 941), ('is', 726), ('Turing', 482), ('The', 466), ('as', 461), ('Arabic', 404), ('for', 398), ('that', 390), ('or', 372), ('are', 321), ('s', 302), ('with', 300), ('by', 285), ('on', 265), ('be', 262))\n"
     ]
    }
   ],
   "source": [
    "check = WikiParser()\n",
    "top = TextStatistics(check.get_articles('Natural language processing'))\n",
    "#print(top.get_top_3grams(20))\n",
    "print(top.get_top_words(20))"
   ]
  },
  {
   "cell_type": "code",
   "execution_count": 171,
   "metadata": {
    "collapsed": true
   },
   "outputs": [],
   "source": [
    "class Experiment(TextStatistics, WikiParser):\n",
    "    #должен использовать предыдущие классы\n",
    "    def __init__(self):\n",
    "        pass\n",
    "    def show_result(self):\n",
    "        pass"
   ]
  },
  {
   "cell_type": "code",
   "execution_count": 1,
   "metadata": {
    "collapsed": true
   },
   "outputs": [],
   "source": [
    "#результаты метода show_result"
   ]
  },
  {
   "cell_type": "code",
   "execution_count": null,
   "metadata": {
    "collapsed": true
   },
   "outputs": [],
   "source": []
  }
 ],
 "metadata": {
  "kernelspec": {
   "display_name": "Python 3",
   "language": "python",
   "name": "python3"
  },
  "language_info": {
   "codemirror_mode": {
    "name": "ipython",
    "version": 3
   },
   "file_extension": ".py",
   "mimetype": "text/x-python",
   "name": "python",
   "nbconvert_exporter": "python",
   "pygments_lexer": "ipython3",
   "version": "3.6.1"
  }
 },
 "nbformat": 4,
 "nbformat_minor": 2
}
