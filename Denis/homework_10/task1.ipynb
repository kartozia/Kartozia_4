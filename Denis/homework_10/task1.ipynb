{
 "cells": [
  {
   "cell_type": "markdown",
   "metadata": {},
   "source": [
    "По материалам 16 семинара провести исследование по тематическому моделированию и разработать рекомендательную систему.\n",
    "\n",
    "* рекомендательная система обучается на корпусе текстов, в качестве корпуса текстов использовать 20 news groups из scikit-learn\n",
    "* пользователь предъявляет образец текста (не обязательно из обучающего корпуса) и просит показать k похожих по тематике текстов\n",
    "* в качестве моделей для тематического моделирования рассмотреть NMF, LSA, LDA\n",
    "* в качестве метрик topic coherence рассмотреть TC-W2C, UCI, Umass\n",
    "* для каждой тематической модели определить оптимальное кол-во тем, а затем сравнить сами модели с помощью метрик topic coherence\n",
    "* при выборе оптимального кол-ва тем постройте проверяйте дескрипторы тем\n",
    "* таким образом, для каждой метрики вы получите свою оптимальную модель. Сравните дескрипторы тем у этих моделей, и выберите\n",
    "* таким образом, вы получите тематическое представление для каждого документа. Выберите функцию расстояния между документами, посмотрите sklearn.metrics\n",
    "* при поиске ближайших соседей используйте sklearn.neighbors\n",
    "* работу оформить в виде ноутбука *.ipynb\n",
    "* продемонстрируйте работу вашей рекомендательной системы на текстах из обучающего корпуса и текстах из bbc news за 2017 год"
   ]
  },
  {
   "cell_type": "code",
   "execution_count": 9,
   "metadata": {
    "collapsed": true
   },
   "outputs": [],
   "source": [
    "import numpy as np\n",
    "import pandas as pd\n",
    "import matplotlib.pyplot as plt\n",
    "from sklearn.datasets import fetch_20newsgroups\n",
    "from sklearn.feature_extraction.text import TfidfVectorizer, CountVectorizer\n",
    "from sklearn.decomposition import NMF\n",
    "from sklearn.decomposition import LatentDirichletAllocation\n",
    "from sklearn.decomposition import TruncatedSVD\n",
    "from sklearn.externals import joblib\n",
    "from sklearn import metrics\n",
    "from tqdm import tqdm"
   ]
  },
  {
   "cell_type": "markdown",
   "metadata": {},
   "source": [
    "## Preprocess data"
   ]
  },
  {
   "cell_type": "code",
   "execution_count": 2,
   "metadata": {
    "collapsed": true
   },
   "outputs": [],
   "source": [
    "dataset = fetch_20newsgroups(shuffle=True, random_state=1, remove=('headers', 'footers', 'quotes'))\n",
    "docs = dataset.data"
   ]
  },
  {
   "cell_type": "code",
   "execution_count": 3,
   "metadata": {},
   "outputs": [
    {
     "name": "stdout",
     "output_type": "stream",
     "text": [
      "Stopword list has 350 entries\n"
     ]
    }
   ],
   "source": [
    "# custom stopwords\n",
    "custom_stop_words = []\n",
    "with open( \"./data/stopwords.txt\", \"r\" ) as f:\n",
    "    for line in f.readlines():\n",
    "        custom_stop_words.append( line.strip().lower() )\n",
    "        \n",
    "print(\"Stopword list has %d entries\" % len(custom_stop_words) )"
   ]
  },
  {
   "cell_type": "code",
   "execution_count": 4,
   "metadata": {},
   "outputs": [
    {
     "name": "stdout",
     "output_type": "stream",
     "text": [
      "Read 11314 raw text documents\n"
     ]
    }
   ],
   "source": [
    "raw_documents = []\n",
    "snippets = []\n",
    "for i in docs:\n",
    "    text = i.strip()\n",
    "    raw_documents.append( text.lower() )   \n",
    "    snippets.append( text[0:min(len(text),100)] )\n",
    "print(\"Read %d raw text documents\" % len(raw_documents))"
   ]
  },
  {
   "cell_type": "code",
   "execution_count": 5,
   "metadata": {},
   "outputs": [
    {
     "name": "stdout",
     "output_type": "stream",
     "text": [
      "Created 11314 X 6004 TF-IDF-normalized document-term matrix\n"
     ]
    },
    {
     "data": {
      "text/plain": [
       "['articles-tfidf.pkl']"
      ]
     },
     "execution_count": 5,
     "metadata": {},
     "output_type": "execute_result"
    }
   ],
   "source": [
    "vectorizer = TfidfVectorizer(min_df=20, stop_words=custom_stop_words)\n",
    "A = vectorizer.fit_transform(raw_documents)\n",
    "print( \"Created %d X %d TF-IDF-normalized document-term matrix\" % (A.shape[0], A.shape[1]) )\n",
    "\n",
    "terms = vectorizer.get_feature_names()\n",
    "joblib.dump((A,terms, snippets), \"articles-tfidf.pkl\")"
   ]
  },
  {
   "cell_type": "code",
   "execution_count": 6,
   "metadata": {},
   "outputs": [
    {
     "name": "stdout",
     "output_type": "stream",
     "text": [
      "know (183.69)\n",
      "get (172.95)\n",
      "people (160.03)\n",
      "think (156.97)\n",
      "good (133.11)\n",
      "thanks (133.07)\n",
      "time (127.37)\n",
      "please (118.39)\n",
      "edu (108.17)\n",
      "see (102.61)\n",
      "god (101.83)\n",
      "need (101.57)\n",
      "way (100.23)\n",
      "want (98.14)\n",
      "right (97.48)\n",
      "problem (95.40)\n",
      "system (94.64)\n",
      "windows (93.58)\n",
      "something (90.52)\n",
      "really (89.58)\n"
     ]
    }
   ],
   "source": [
    "import operator\n",
    "\n",
    "\n",
    "sums = np.array(A.sum(axis=0)).ravel()\n",
    "# map weights to the terms\n",
    "weights = { term: sums[col] for col, term in enumerate(terms)}\n",
    "ranking = sorted(weights.items(), key=operator.itemgetter(1), reverse=True)\n",
    "for i, pair in enumerate( ranking[0:20] ):\n",
    "    print( \"%s (%.2f)\" % ( pair[0], pair[1] ) )"
   ]
  },
  {
   "cell_type": "markdown",
   "metadata": {},
   "source": [
    "## NMF"
   ]
  },
  {
   "cell_type": "code",
   "execution_count": 8,
   "metadata": {
    "collapsed": true
   },
   "outputs": [],
   "source": [
    "(A,terms,snippets) = joblib.load( \"articles-tfidf.pkl\")\n",
    "\n",
    "# create the model\n",
    "k = 10\n",
    "modelNMF = NMF( init=\"nndsvd\", n_components=k ) \n",
    "\n",
    "W = modelNMF.fit_transform( A )\n",
    "H = modelNMF.components_"
   ]
  },
  {
   "cell_type": "code",
   "execution_count": 23,
   "metadata": {},
   "outputs": [
    {
     "name": "stdout",
     "output_type": "stream",
     "text": [
      "Topic 01: car, get, think, good, know, time, people, right, bike, back, see, really, go, way, space, long, something, going, thing, lot\n",
      "Topic 02: people, key, government, know, get, edu, think, time, please, good, com, number, information, right, law, public, encryption, list, clipper, want\n",
      "Topic 03: thanks, windows, drive, card, please, know, get, problem, file, need, system, mail, dos, software, pc, hi, program, help, files, mac\n",
      "Topic 04: god, jesus, people, israel, believe, bible, think, christian, jews, christians, know, true, faith, christ, see, israeli, church, life, way, religion\n"
     ]
    }
   ],
   "source": [
    "# show topic descriptors\n",
    "def get_descriptor( terms, H, topic_index, top ):\n",
    "    top_indices = np.argsort( H[topic_index,:] )[::-1]\n",
    "    top_terms = []\n",
    "    for term_index in top_indices[0:top]:\n",
    "        top_terms.append( terms[term_index] )\n",
    "    return top_terms\n",
    "\n",
    "descriptors = []\n",
    "for topic_index in range(k):\n",
    "    descriptors.append( get_descriptor( terms, H, topic_index, 20 ) )\n",
    "    str_descriptor = \", \".join( descriptors[topic_index] )\n",
    "    print(\"Topic %02d: %s\" % ( topic_index+1, str_descriptor ) )"
   ]
  },
  {
   "cell_type": "markdown",
   "metadata": {},
   "source": [
    "## LDA"
   ]
  },
  {
   "cell_type": "code",
   "execution_count": 60,
   "metadata": {
    "collapsed": true
   },
   "outputs": [],
   "source": [
    "k = 12\n",
    "modelLDA = LatentDirichletAllocation(n_components=k, max_iter=5,\n",
    "                                learning_method='batch',\n",
    "                                learning_offset=50.,\n",
    "                                random_state=1)\n",
    "\n",
    "W = modelLDA.fit_transform( A )\n",
    "H = model.components_"
   ]
  },
  {
   "cell_type": "code",
   "execution_count": 61,
   "metadata": {},
   "outputs": [
    {
     "name": "stdout",
     "output_type": "stream",
     "text": [
      "Topic 01: people, think, know, get, time, see, right, good, really, something, want, going, way, things, take, thing, gun, believe, sure, point\n",
      "Topic 02: thanks, please, mail, know, advance, hi, looking, info, email, help, anybody, address, appreciated, information, post, send, someone, interested, need, reply\n",
      "Topic 03: geb, cadre, dsl, n3jxp, chastity, shameful, pitt, intellect, skepticism, surrender, gordon, banks, soon, edu, blood, patients, probably, medical, weight, usually\n",
      "Topic 04: god, jesus, bible, christ, faith, believe, christian, christians, church, sin, life, heaven, lord, truth, hell, belief, man, christianity, father, son\n",
      "Topic 05: key, chip, encryption, clipper, keys, government, system, escrow, algorithm, public, security, law, nsa, phone, secure, des, bit, encrypted, privacy, chips\n",
      "Topic 06: drive, scsi, drives, disk, hard, ide, controller, floppy, cd, system, mac, hd, boot, tape, cable, internal, rom, problem, power, seagate\n",
      "Topic 07: windows, file, dos, files, program, version, ftp, running, pc, directory, run, os, microsoft, system, drivers, software, nt, driver, disk, ini\n",
      "Topic 08: 00, sale, 10, shipping, offer, price, 50, 20, condition, 15, asking, 25, 12, 30, 11, interested, sell, 40, excellent, best\n",
      "Topic 09: space, nasa, shuttle, launch, data, program, orbit, station, earth, moon, lunar, gov, research, science, cost, sci, satellite, information, center, system\n",
      "Topic 10: game, team, games, players, season, play, hockey, win, league, teams, player, nhl, baseball, go, good, runs, detroit, best, pitching, toronto\n",
      "Topic 11: card, video, monitor, bus, vga, cards, drivers, color, driver, memory, ram, mode, bit, board, graphics, pc, apple, system, vlb, ati\n",
      "Topic 12: car, bike, cars, engine, good, miles, get, dealer, speed, front, back, buy, power, oil, tires, honda, rear, driving, ride, road\n"
     ]
    }
   ],
   "source": [
    "def get_descriptor( terms, H, topic_index, top ):\n",
    "    top_indices = np.argsort( H[topic_index,:] )[::-1]\n",
    "    top_terms = []\n",
    "    for term_index in top_indices[0:top]:\n",
    "        top_terms.append( terms[term_index] )\n",
    "    return top_terms\n",
    "\n",
    "descriptors = []\n",
    "for topic_index in range(k):\n",
    "    descriptors.append( get_descriptor( terms, H, topic_index, 20 ) )\n",
    "    str_descriptor = \", \".join( descriptors[topic_index] )\n",
    "    print(\"Topic %02d: %s\" % ( topic_index+1, str_descriptor ) )"
   ]
  },
  {
   "cell_type": "markdown",
   "metadata": {},
   "source": [
    "## LSA"
   ]
  },
  {
   "cell_type": "code",
   "execution_count": 48,
   "metadata": {
    "collapsed": true
   },
   "outputs": [],
   "source": [
    "k = 10\n",
    "modelLSA = TruncatedSVD(n_components=k ) \n",
    "\n",
    "W = modelLSA.fit_transform( A )\n",
    "H = modelLSA.components_"
   ]
  },
  {
   "cell_type": "code",
   "execution_count": 13,
   "metadata": {},
   "outputs": [
    {
     "name": "stdout",
     "output_type": "stream",
     "text": [
      "Topic 01: know, people, get, think, good, time, thanks, god, please, see, want, way, need, right, system, windows, problem, edu, something, really\n",
      "Topic 02: god, people, jesus, think, believe, bible, christian, christians, life, government, see, christ, faith, law, right, israel, religion, jews, fact, against\n",
      "Topic 03: geb, cadre, pitt, dsl, chastity, n3jxp, shameful, edu, intellect, skepticism, surrender, gordon, banks, soon, team, get, game, key, probably, car\n",
      "Topic 04: god, jesus, edu, thanks, geb, cadre, dsl, n3jxp, chastity, skepticism, shameful, intellect, pitt, gordon, surrender, banks, windows, soon, please, bible\n",
      "Topic 05: key, chip, encryption, government, clipper, keys, file, public, program, law, escrow, information, algorithm, windows, files, people, security, system, window, nsa\n",
      "Topic 06: drive, scsi, system, key, disk, card, drives, chip, ide, hard, controller, god, bus, floppy, problem, bit, dos, encryption, clipper, apple\n",
      "Topic 07: windows, file, window, dos, files, program, problem, running, think, team, win, run, game, version, screen, drivers, manager, server, application, display\n",
      "Topic 08: god, key, 00, game, team, edu, games, chip, 10, jesus, sale, keys, encryption, clipper, season, com, 11, players, 15, 20\n",
      "Topic 09: 00, israel, edu, space, armenian, com, armenians, sale, jews, israeli, turkish, 10, people, 000, nasa, war, state, email, 15, gun\n",
      "Topic 10: car, bike, 00, get, good, window, price, engine, cars, god, sale, miles, condition, buy, speed, dealer, offer, sell, old, ride\n"
     ]
    }
   ],
   "source": [
    "def get_descriptor( terms, H, topic_index, top ):\n",
    "    top_indices = np.argsort( H[topic_index,:] )[::-1]\n",
    "    top_terms = []\n",
    "    for term_index in top_indices[0:top]:\n",
    "        top_terms.append( terms[term_index] )\n",
    "    return top_terms\n",
    "\n",
    "descriptors = []\n",
    "for topic_index in range(k):\n",
    "    descriptors.append( get_descriptor( terms, H, topic_index, 20 ) )\n",
    "    str_descriptor = \", \".join( descriptors[topic_index] )\n",
    "    print(\"Topic %02d: %s\" % ( topic_index+1, str_descriptor ) )"
   ]
  },
  {
   "cell_type": "markdown",
   "metadata": {},
   "source": [
    "## Topic coherence\n",
    "\n",
    "рассмотреть TC-W2C, UCI, Umass для топ-20 слов-дескрипторов тем"
   ]
  },
  {
   "cell_type": "markdown",
   "metadata": {},
   "source": [
    "### TC-W2C\n",
    "#### LDA выигрывает в этой метрике"
   ]
  },
  {
   "cell_type": "code",
   "execution_count": 14,
   "metadata": {},
   "outputs": [
    {
     "name": "stderr",
     "output_type": "stream",
     "text": [
      "100%|██████████| 12/12 [04:41<00:00, 23.47s/it]\n"
     ]
    }
   ],
   "source": [
    "kmin, kmax = 4, 15\n",
    "\n",
    "topic_models = []\n",
    "for k in tqdm(range(kmin,kmax+1)):\n",
    "    model = LatentDirichletAllocation(n_components=k, max_iter=5,\n",
    "                                learning_method='batch',\n",
    "                                learning_offset=50.,\n",
    "                                random_state=1)\n",
    "    W = model.fit_transform( A )\n",
    "    H = model.components_    \n",
    "    topic_models.append( (k,W,H) )"
   ]
  },
  {
   "cell_type": "markdown",
   "metadata": {},
   "source": [
    "### LDA \n",
    "#### best k=12\n",
    "K=04: Coherence=0.3422\n",
    "\n",
    "K=05: Coherence=0.3671\n",
    "\n",
    "K=06: Coherence=0.3947\n",
    "\n",
    "K=07: Coherence=0.4739\n",
    "\n",
    "K=08: Coherence=0.4606\n",
    "\n",
    "K=09: Coherence=0.4552\n",
    "\n",
    "K=10: Coherence=0.4602\n",
    "\n",
    "K=11: Coherence=0.4795\n",
    "\n",
    "K=12: Coherence=0.5391\n",
    "\n",
    "K=13: Coherence=0.4654\n",
    "\n",
    "K=14: Coherence=0.4781\n",
    "\n",
    "K=15: Coherence=0.4658\n",
    "\n",
    "### Topics\n",
    "Topic 01: msg, 205, tube, jason, food, helmet, eat, car, chinese, good\n",
    "\n",
    "Topic 02: people, get, think, government, know, time, right, good, see, really\n",
    "\n",
    "\n",
    "Topic 03: card, simms, monitor, quadra, lc, video, motherboard, bus, vram, vga\n",
    "\n",
    "\n",
    "Topic 04: gordon, surrender, pitt, geb, banks, intellect, cadre, shameful, skepticism, chastity\n",
    "\n",
    "\n",
    "Topic 05: sale, offer, shipping, condition, car, price, sell, asking, drive, best\n",
    "\n",
    "\n",
    "Topic 06: game, team, games, hockey, season, win, toronto, detroit, espn, play\n",
    "\n",
    "\n",
    "Topic 07: thanks, windows, know, please, get, file, mail, program, problem, software\n",
    "\n",
    "\n",
    "Topic 08: team, players, game, braves, season, pitching, games, teams, good, league\n",
    "\n",
    "\n",
    "Topic 09: steve, compiler, hello, se, bj, address, yo, reader, please, ld\n",
    "\n",
    "\n",
    "Topic 10: test, irq, cartridge, wanted, cooling, temp, comm, israel, suck, ml\n",
    "\n",
    "\n",
    "Topic 11: god, jesus, people, bible, think, believe, christian, christians, know, faith\n",
    "\n",
    "\n",
    "Topic 12: 10, 00, car, 11, 15, 12, 20, play, good, time"
   ]
  },
  {
   "cell_type": "code",
   "execution_count": 41,
   "metadata": {},
   "outputs": [
    {
     "name": "stderr",
     "output_type": "stream",
     "text": [
      "100%|██████████| 12/12 [00:23<00:00,  1.92s/it]\n"
     ]
    }
   ],
   "source": [
    "kmin, kmax = 4, 15\n",
    "\n",
    "topic_models = []\n",
    "for k in tqdm(range(kmin,kmax+1)):\n",
    "    model =  NMF( init=\"nndsvd\", n_components=k ) \n",
    "    W = model.fit_transform( A )\n",
    "    H = model.components_    \n",
    "    topic_models.append( (k,W,H) )"
   ]
  },
  {
   "cell_type": "markdown",
   "metadata": {},
   "source": [
    "### NMF\n",
    "#### best k=8\n",
    "K=04: Coherence=0.5465\n",
    "\n",
    "K=05: Coherence=0.5569\n",
    "\n",
    "K=06: Coherence=0.5705\n",
    "\n",
    "\n",
    "K=07: Coherence=0.5854\n",
    "\n",
    "\n",
    "K=08: Coherence=0.6087\n",
    "\n",
    "\n",
    "K=09: Coherence=0.5979\n",
    "\n",
    "\n",
    "K=10: Coherence=0.5748\n",
    "\n",
    "\n",
    "K=11: Coherence=0.5802\n",
    "\n",
    "\n",
    "K=12: Coherence=0.5880\n",
    "\n",
    "\n",
    "K=13: Coherence=0.6019\n",
    "\n",
    "\n",
    "K=14: Coherence=0.5888\n",
    "\n",
    "\n",
    "K=15: Coherence=0.5950\n",
    "\n",
    "### Topics\n",
    "Topic 01: people, think, get, know, time, right, good, see, really, way\n",
    "\n",
    "\n",
    "Topic 02: thanks, please, mail, know, advance, email, looking, info, address, edu\n",
    "\n",
    "\n",
    "Topic 03: geb, cadre, dsl, chastity, n3jxp, shameful, pitt, intellect, skepticism, surrender\n",
    "\n",
    "\n",
    "Topic 04: god, jesus, bible, believe, christ, faith, christian, christians, church, life\n",
    "\n",
    "\n",
    "Topic 05: key, chip, encryption, clipper, keys, government, system, escrow, algorithm, public\n",
    "\n",
    "\n",
    "Topic 06: drive, scsi, card, disk, drives, controller, hard, ide, floppy, bus\n",
    "\n",
    "\n",
    "Topic 07: windows, file, dos, files, window, program, version, problem, running, screen\n",
    "\n",
    "\n",
    "Topic 08: game, team, games, players, season, play, hockey, win, league, player"
   ]
  },
  {
   "cell_type": "code",
   "execution_count": 37,
   "metadata": {},
   "outputs": [
    {
     "name": "stderr",
     "output_type": "stream",
     "text": [
      "100%|██████████| 12/12 [00:02<00:00,  4.26it/s]\n"
     ]
    }
   ],
   "source": [
    "kmin, kmax = 4, 15\n",
    "\n",
    "topic_models = []\n",
    "for k in tqdm(range(kmin,kmax+1)):\n",
    "    model = TruncatedSVD(n_components=k ) \n",
    "    W = model.fit_transform( A )\n",
    "    H = model.components_    \n",
    "    topic_models.append( (k,W,H) )"
   ]
  },
  {
   "cell_type": "markdown",
   "metadata": {},
   "source": [
    "### LSA\n",
    "#### best k=4\n",
    "K=04: Coherence=0.5559\n",
    "\n",
    "K=05: Coherence=0.5273\n",
    "\n",
    "K=06: Coherence=0.5149\n",
    "\n",
    "K=07: Coherence=0.4991\n",
    "\n",
    "K=08: Coherence=0.4820\n",
    "\n",
    "\n",
    "K=09: Coherence=0.4561\n",
    "\n",
    "\n",
    "K=10: Coherence=0.4482\n",
    "\n",
    "\n",
    "K=11: Coherence=0.4524\n",
    "\n",
    "\n",
    "K=12: Coherence=0.4441\n",
    "\n",
    "\n",
    "K=13: Coherence=0.4302\n",
    "\n",
    "\n",
    "K=14: Coherence=0.4128\n",
    "\n",
    "\n",
    "K=15: Coherence=0.4074\n",
    "\n",
    "### Topics\n",
    "Topic 01: know, people, get, think, good, time, thanks, god, please, see\n",
    "\n",
    "Topic 02: god, people, jesus, think, believe, bible, christian, christians, life, government\n",
    "\n",
    "Topic 03: geb, cadre, pitt, dsl, n3jxp, chastity, shameful, intellect, skepticism, surrender\n",
    "\n",
    "Topic 04: god, jesus, thanks, edu, geb, cadre, dsl, n3jxp, chastity, skepticism"
   ]
  },
  {
   "cell_type": "code",
   "execution_count": 31,
   "metadata": {},
   "outputs": [
    {
     "name": "stdout",
     "output_type": "stream",
     "text": [
      "Model has 8460 terms\n"
     ]
    }
   ],
   "source": [
    "import re\n",
    "import gensim\n",
    "\n",
    "\n",
    "class TokenGenerator:\n",
    "    def __init__( self, documents, stopwords ):\n",
    "        self.documents = documents\n",
    "        self.stopwords = stopwords\n",
    "        self.tokenizer = re.compile( r\"(?u)\\b\\w\\w+\\b\" )\n",
    "\n",
    "    def __iter__( self ):\n",
    "        for doc in self.documents:\n",
    "            tokens = []\n",
    "            for tok in self.tokenizer.findall( doc ):\n",
    "                if tok in self.stopwords:\n",
    "                    tokens.append( \"<stopword>\" )\n",
    "                elif len(tok) >= 2:\n",
    "                    tokens.append( tok )\n",
    "            yield tokens\n",
    "            \n",
    "\n",
    "docgen = TokenGenerator( raw_documents, custom_stop_words )\n",
    "w2v_model = gensim.models.Word2Vec(docgen, size=500, min_count=20, sg=1)\n",
    "print( \"Model has %d terms\" % len(w2v_model.wv.vocab) )\n",
    "w2v_model.save(\"w2v-model.bin\")"
   ]
  },
  {
   "cell_type": "code",
   "execution_count": null,
   "metadata": {
    "collapsed": true
   },
   "outputs": [],
   "source": [
    "import gensim\n",
    "\n",
    "w2v_model = gensim.models.Word2Vec.load(\"w2v-model.bin\")\n",
    "print( \"Model has %d terms\" % len(w2v_model.wv.vocab) )"
   ]
  },
  {
   "cell_type": "code",
   "execution_count": 42,
   "metadata": {},
   "outputs": [
    {
     "name": "stdout",
     "output_type": "stream",
     "text": [
      "K=04: Coherence=0.5465\n",
      "K=05: Coherence=0.5569\n",
      "K=06: Coherence=0.5705\n",
      "K=07: Coherence=0.5854\n",
      "K=08: Coherence=0.6087\n",
      "K=09: Coherence=0.5979\n",
      "K=10: Coherence=0.5748\n",
      "K=11: Coherence=0.5802\n",
      "K=12: Coherence=0.5880\n",
      "K=13: Coherence=0.6019\n",
      "K=14: Coherence=0.5888\n",
      "K=15: Coherence=0.5950\n"
     ]
    }
   ],
   "source": [
    "from itertools import combinations\n",
    "\n",
    "\n",
    "def calculate_coherence( w2v_model, term_rankings ):\n",
    "    overall_coherence = 0.0\n",
    "    for topic_index in range(len(term_rankings)):\n",
    "        # check each pair of terms\n",
    "        pair_scores = []\n",
    "        for pair in combinations( term_rankings[topic_index], 2 ):\n",
    "            pair_scores.append( w2v_model.similarity(pair[0], pair[1]) )\n",
    "        # get the mean for all pairs in this topic\n",
    "        topic_score = sum(pair_scores) / len(pair_scores)\n",
    "        overall_coherence += topic_score\n",
    "    # get the mean score across all topics\n",
    "    return overall_coherence / len(term_rankings)\n",
    "\n",
    "\n",
    "k_values = []\n",
    "coherences = []\n",
    "for (k,W,H) in topic_models:\n",
    "    # Get all of the topic descriptors - the term_rankings, based on top 10 terms\n",
    "    term_rankings = []\n",
    "    for topic_index in range(k):\n",
    "        term_rankings.append( get_descriptor( terms, H, topic_index, 10 ) )\n",
    "    # Now calculate the coherence based on our Word2vec model\n",
    "    k_values.append( k )\n",
    "    coherences.append( calculate_coherence( w2v_model, term_rankings ) )\n",
    "    print(\"K=%02d: Coherence=%.4f\" % ( k, coherences[-1] ) )"
   ]
  },
  {
   "cell_type": "code",
   "execution_count": 43,
   "metadata": {},
   "outputs": [
    {
     "data": {
      "image/png": "[encoded data removed]",
      "text/plain": [
       "<matplotlib.figure.Figure at 0x11a40aac8>"
      ]
     },
     "metadata": {},
     "output_type": "display_data"
    }
   ],
   "source": [
    "fig = plt.figure(figsize=(13,7))\n",
    "# create the line plot\n",
    "ax = plt.plot( k_values, coherences )\n",
    "plt.xticks(k_values)\n",
    "plt.xlabel(\"Number of Topics\")\n",
    "plt.ylabel(\"Mean Coherence\")\n",
    "# add the points\n",
    "plt.scatter( k_values, coherences, s=120)\n",
    "# find and annotate the maximum point on the plot\n",
    "ymax = max(coherences)\n",
    "xpos = coherences.index(ymax)\n",
    "best_k = k_values[xpos]\n",
    "plt.annotate( \"k=%d\" % best_k, xy=(best_k, ymax), xytext=(best_k, ymax), textcoords=\"offset points\", fontsize=16)\n",
    "# show the plot\n",
    "plt.show()"
   ]
  },
  {
   "cell_type": "code",
   "execution_count": 44,
   "metadata": {},
   "outputs": [
    {
     "name": "stdout",
     "output_type": "stream",
     "text": [
      "Topic 01: people, think, get, know, time, right, good, see, really, way\n",
      "Topic 02: thanks, please, mail, know, advance, email, looking, info, address, edu\n",
      "Topic 03: geb, cadre, dsl, chastity, n3jxp, shameful, pitt, intellect, skepticism, surrender\n",
      "Topic 04: god, jesus, bible, believe, christ, faith, christian, christians, church, life\n",
      "Topic 05: key, chip, encryption, clipper, keys, government, system, escrow, algorithm, public\n",
      "Topic 06: drive, scsi, card, disk, drives, controller, hard, ide, floppy, bus\n",
      "Topic 07: windows, file, dos, files, window, program, version, problem, running, screen\n",
      "Topic 08: game, team, games, players, season, play, hockey, win, league, player\n"
     ]
    }
   ],
   "source": [
    "k = best_k\n",
    "# get the model that we generated earlier.\n",
    "W = topic_models[k-kmin][1]\n",
    "H = topic_models[k-kmin][2]\n",
    "\n",
    "for topic_index in range(k):\n",
    "    descriptor = get_descriptor( terms, H, topic_index, 10 )\n",
    "    str_descriptor = \", \".join( descriptor )\n",
    "    print(\"Topic %02d: %s\" % ( topic_index+1, str_descriptor ) )"
   ]
  },
  {
   "cell_type": "markdown",
   "metadata": {},
   "source": [
    "### UCI"
   ]
  },
  {
   "cell_type": "code",
   "execution_count": null,
   "metadata": {
    "collapsed": true
   },
   "outputs": [],
   "source": []
  },
  {
   "cell_type": "code",
   "execution_count": null,
   "metadata": {
    "collapsed": true
   },
   "outputs": [],
   "source": []
  },
  {
   "cell_type": "markdown",
   "metadata": {},
   "source": [
    "### Umass"
   ]
  },
  {
   "cell_type": "code",
   "execution_count": null,
   "metadata": {
    "collapsed": true
   },
   "outputs": [],
   "source": []
  },
  {
   "cell_type": "code",
   "execution_count": null,
   "metadata": {
    "collapsed": true
   },
   "outputs": [],
   "source": [
    "sklearn.metrics.pairwise.cosine_distances(X, Y=None)\n",
    "# x, y сжатые матрицы"
   ]
  },
  {
   "cell_type": "code",
   "execution_count": null,
   "metadata": {
    "collapsed": true
   },
   "outputs": [],
   "source": []
  },
  {
   "cell_type": "code",
   "execution_count": 30,
   "metadata": {
    "collapsed": true
   },
   "outputs": [],
   "source": [
    "from sklearn.neighbors import NearestNeighbors\n",
    "\n",
    "class NewsRecommender:\n",
    "    def __init__(self, texts=raw_documents, stopwords=custom_stop_words):\n",
    "        self.texts = texts\n",
    "        self.stopwords = stopwords\n",
    "        self.vectorizer = TfidfVectorizer(min_df=20, stop_words=self.stopwords)\n",
    "        \n",
    "    def train(self):\n",
    "        A = self.vectorizer.fit_transform(self.texts)\n",
    "        model = LatentDirichletAllocation(n_components=12, max_iter=5,\n",
    "                                learning_method='batch',\n",
    "                                learning_offset=50.,\n",
    "                                random_state=1)\n",
    "        return NearestNeighbors(n_neighbors=k, algorithm='auto', metric='cosine').fit(model)\n",
    "    def recommend(self, text_sample, k):\n",
    "        B = self.vectorizer.transform(text_sample)\n",
    "        И = text_sample.transform()\n",
    "        neigh = self.train()\n",
    "        n = neigh.kneighbors(B) \n",
    "        news = n.inverse_transform()\n",
    "        print ([i for i in news])"
   ]
  },
  {
   "cell_type": "code",
   "execution_count": 32,
   "metadata": {},
   "outputs": [
    {
     "ename": "AttributeError",
     "evalue": "'str' object has no attribute 'transform'",
     "output_type": "error",
     "traceback": [
      "\u001b[0;31m---------------------------------------------------------------------------\u001b[0m",
      "\u001b[0;31mAttributeError\u001b[0m                            Traceback (most recent call last)",
      "\u001b[0;32m<ipython-input-32-df41c0ba17a7>\u001b[0m in \u001b[0;36m<module>\u001b[0;34m()\u001b[0m\n\u001b[1;32m      1\u001b[0m \u001b[0mcheck\u001b[0m \u001b[0;34m=\u001b[0m \u001b[0mNewsRecommender\u001b[0m\u001b[0;34m(\u001b[0m\u001b[0;34m)\u001b[0m\u001b[0;34m\u001b[0m\u001b[0m\n\u001b[0;32m----> 2\u001b[0;31m \u001b[0mcheck\u001b[0m\u001b[0;34m.\u001b[0m\u001b[0mrecommend\u001b[0m\u001b[0;34m(\u001b[0m\u001b[0mtext_sample\u001b[0m\u001b[0;34m=\u001b[0m\u001b[0;34m'football was played'\u001b[0m\u001b[0;34m,\u001b[0m \u001b[0mk\u001b[0m\u001b[0;34m=\u001b[0m\u001b[0;36m10\u001b[0m\u001b[0;34m)\u001b[0m\u001b[0;34m\u001b[0m\u001b[0m\n\u001b[0m",
      "\u001b[0;32m<ipython-input-30-03f68b30c561>\u001b[0m in \u001b[0;36mrecommend\u001b[0;34m(self, text_sample, k)\u001b[0m\n\u001b[1;32m     16\u001b[0m     \u001b[0;32mdef\u001b[0m \u001b[0mrecommend\u001b[0m\u001b[0;34m(\u001b[0m\u001b[0mself\u001b[0m\u001b[0;34m,\u001b[0m \u001b[0mtext_sample\u001b[0m\u001b[0;34m,\u001b[0m \u001b[0mk\u001b[0m\u001b[0;34m)\u001b[0m\u001b[0;34m:\u001b[0m\u001b[0;34m\u001b[0m\u001b[0m\n\u001b[1;32m     17\u001b[0m         \u001b[0;31m#B = self.vectorizer.transform(text_sample)\u001b[0m\u001b[0;34m\u001b[0m\u001b[0;34m\u001b[0m\u001b[0m\n\u001b[0;32m---> 18\u001b[0;31m         \u001b[0mИ\u001b[0m \u001b[0;34m=\u001b[0m \u001b[0mtext_sample\u001b[0m\u001b[0;34m.\u001b[0m\u001b[0mtransform\u001b[0m\u001b[0;34m(\u001b[0m\u001b[0;34m)\u001b[0m\u001b[0;34m\u001b[0m\u001b[0m\n\u001b[0m\u001b[1;32m     19\u001b[0m         \u001b[0mneigh\u001b[0m \u001b[0;34m=\u001b[0m \u001b[0mself\u001b[0m\u001b[0;34m.\u001b[0m\u001b[0mtrain\u001b[0m\u001b[0;34m(\u001b[0m\u001b[0;34m)\u001b[0m\u001b[0;34m\u001b[0m\u001b[0m\n\u001b[1;32m     20\u001b[0m         \u001b[0mn\u001b[0m \u001b[0;34m=\u001b[0m \u001b[0mneigh\u001b[0m\u001b[0;34m.\u001b[0m\u001b[0mkneighbors\u001b[0m\u001b[0;34m(\u001b[0m\u001b[0mB\u001b[0m\u001b[0;34m)\u001b[0m\u001b[0;34m\u001b[0m\u001b[0m\n",
      "\u001b[0;31mAttributeError\u001b[0m: 'str' object has no attribute 'transform'"
     ]
    }
   ],
   "source": [
    "check = NewsRecommender()\n",
    "check.recommend(text_sample='football was played', k=10)"
   ]
  },
  {
   "cell_type": "code",
   "execution_count": 67,
   "metadata": {},
   "outputs": [
    {
     "name": "stdout",
     "output_type": "stream",
     "text": [
      "Read 1 raw text documents\n"
     ]
    }
   ],
   "source": []
  },
  {
   "cell_type": "code",
   "execution_count": null,
   "metadata": {
    "collapsed": true
   },
   "outputs": [],
   "source": []
  }
 ],
 "metadata": {
  "kernelspec": {
   "display_name": "Python 3",
   "language": "python",
   "name": "python3"
  },
  "language_info": {
   "codemirror_mode": {
    "name": "ipython",
    "version": 3
   },
   "file_extension": ".py",
   "mimetype": "text/x-python",
   "name": "python",
   "nbconvert_exporter": "python",
   "pygments_lexer": "ipython3",
   "version": "3.6.1"
  }
 },
 "nbformat": 4,
 "nbformat_minor": 2
}
