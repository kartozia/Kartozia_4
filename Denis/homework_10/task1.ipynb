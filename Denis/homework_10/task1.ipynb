{
 "cells": [
  {
   "cell_type": "markdown",
   "metadata": {},
   "source": [
    "По материалам 16 семинара провести исследование по тематическому моделированию и разработать рекомендательную систему.\n",
    "\n",
    "* рекомендательная система обучается на корпусе текстов, в качестве корпуса текстов использовать 20 news groups из scikit-learn\n",
    "* пользователь предъявляет образец текста (не обязательно из обучающего корпуса) и просит показать k похожих по тематике текстов\n",
    "* в качестве моделей для тематического моделирования рассмотреть NMF, LSA, LDA\n",
    "* в качестве метрик topic coherence рассмотреть TC-W2C, UCI, Umass\n",
    "* для каждой тематической модели определить оптимальное кол-во тем, а затем сравнить сами модели с помощью метрик topic coherence\n",
    "* при выборе оптимального кол-ва тем постройте проверяйте дескрипторы тем\n",
    "* таким образом, для каждой метрики вы получите свою оптимальную модель. Сравните дескрипторы тем у этих моделей, и выберите\n",
    "* таким образом, вы получите тематическое представление для каждого документа. Выберите функцию расстояния между документами, посмотрите sklearn.metrics\n",
    "* при поиске ближайших соседей используйте sklearn.neighbors\n",
    "* работу оформить в виде ноутбука *.ipynb\n",
    "* продемонстрируйте работу вашей рекомендательной системы на текстах из обучающего корпуса и текстах из bbc news за 2017 год"
   ]
  },
  {
   "cell_type": "code",
<<<<<<< Updated upstream
   "execution_count": 9,
   "metadata": {
    "collapsed": true
=======
   "execution_count": 60,
   "metadata": {
    "collapsed": true,
    "scrolled": true
>>>>>>> Stashed changes
   },
   "outputs": [],
   "source": [
    "import numpy as np\n",
    "import pandas as pd\n",
    "import matplotlib.pyplot as plt\n",
    "from sklearn.datasets import fetch_20newsgroups\n",
    "from sklearn.feature_extraction.text import TfidfVectorizer, CountVectorizer\n",
    "from sklearn.decomposition import NMF\n",
    "from sklearn.decomposition import LatentDirichletAllocation\n",
    "from sklearn.decomposition import TruncatedSVD\n",
    "from sklearn.externals import joblib\n",
    "from sklearn import metrics\n",
    "from tqdm import tqdm"
   ]
  },
  {
   "cell_type": "markdown",
   "metadata": {},
   "source": [
    "## Preprocess data"
   ]
  },
  {
   "cell_type": "code",
<<<<<<< Updated upstream
   "execution_count": 2,
   "metadata": {
    "collapsed": true
=======
   "execution_count": 61,
   "metadata": {
    "collapsed": true,
    "scrolled": true
>>>>>>> Stashed changes
   },
   "outputs": [],
   "source": [
    "dataset = fetch_20newsgroups(shuffle=True, random_state=1, remove=('headers', 'footers', 'quotes'))\n",
    "docs = dataset.data"
   ]
  },
  {
   "cell_type": "code",
<<<<<<< Updated upstream
   "execution_count": 3,
   "metadata": {},
=======
   "execution_count": 62,
   "metadata": {
    "scrolled": true
   },
>>>>>>> Stashed changes
   "outputs": [
    {
     "name": "stdout",
     "output_type": "stream",
     "text": [
      "Stopword list has 350 entries\n"
     ]
    }
   ],
   "source": [
    "# custom stopwords\n",
    "custom_stop_words = []\n",
    "with open( \"./data/stopwords.txt\", \"r\" ) as f:\n",
    "    for line in f.readlines():\n",
    "        custom_stop_words.append( line.strip().lower() )\n",
    "        \n",
    "print(\"Stopword list has %d entries\" % len(custom_stop_words) )"
   ]
  },
  {
   "cell_type": "code",
<<<<<<< Updated upstream
   "execution_count": 4,
   "metadata": {},
=======
   "execution_count": 108,
   "metadata": {
    "scrolled": true
   },
>>>>>>> Stashed changes
   "outputs": [
    {
     "name": "stdout",
     "output_type": "stream",
     "text": [
      "Read 11314 raw text documents\n"
     ]
    }
   ],
   "source": [
    "raw_documents = []\n",
    "snippets = []\n",
    "for i in docs:\n",
    "    text = i.strip()\n",
    "    raw_documents.append( text.lower() )   \n",
    "    snippets.append( text[0:min(len(text),100)] )\n",
    "print(\"Read %d raw text documents\" % len(raw_documents))"
   ]
  },
  {
   "cell_type": "code",
<<<<<<< Updated upstream
   "execution_count": 5,
   "metadata": {},
=======
   "execution_count": 64,
   "metadata": {
    "scrolled": true
   },
>>>>>>> Stashed changes
   "outputs": [
    {
     "name": "stdout",
     "output_type": "stream",
     "text": [
      "Created 11314 X 6004 TF-IDF-normalized document-term matrix\n"
     ]
    },
    {
     "data": {
      "text/plain": [
       "['articles-tfidf.pkl']"
      ]
     },
<<<<<<< Updated upstream
     "execution_count": 5,
=======
     "execution_count": 64,
>>>>>>> Stashed changes
     "metadata": {},
     "output_type": "execute_result"
    }
   ],
   "source": [
    "vectorizer = TfidfVectorizer(min_df=20, stop_words=custom_stop_words)\n",
    "A = vectorizer.fit_transform(raw_documents)\n",
    "print( \"Created %d X %d TF-IDF-normalized document-term matrix\" % (A.shape[0], A.shape[1]) )\n",
    "\n",
    "terms = vectorizer.get_feature_names()\n",
    "joblib.dump((A,terms, snippets), \"articles-tfidf.pkl\")"
   ]
  },
  {
   "cell_type": "code",
<<<<<<< Updated upstream
   "execution_count": 6,
   "metadata": {},
   "outputs": [
    {
     "name": "stdout",
     "output_type": "stream",
     "text": [
      "know (183.69)\n",
      "get (172.95)\n",
      "people (160.03)\n",
      "think (156.97)\n",
      "good (133.11)\n",
      "thanks (133.07)\n",
      "time (127.37)\n",
      "please (118.39)\n",
      "edu (108.17)\n",
      "see (102.61)\n",
      "god (101.83)\n",
      "need (101.57)\n",
      "way (100.23)\n",
      "want (98.14)\n",
      "right (97.48)\n",
      "problem (95.40)\n",
      "system (94.64)\n",
      "windows (93.58)\n",
      "something (90.52)\n",
      "really (89.58)\n"
     ]
    }
   ],
   "source": [
    "import operator\n",
    "\n",
    "\n",
    "sums = np.array(A.sum(axis=0)).ravel()\n",
    "# map weights to the terms\n",
    "weights = { term: sums[col] for col, term in enumerate(terms)}\n",
    "ranking = sorted(weights.items(), key=operator.itemgetter(1), reverse=True)\n",
    "for i, pair in enumerate( ranking[0:20] ):\n",
    "    print( \"%s (%.2f)\" % ( pair[0], pair[1] ) )"
=======
   "execution_count": null,
   "metadata": {
    "scrolled": true
   },
   "outputs": [],
   "source": [
    "def get_descriptor( terms, H, topic_index, top ):\n",
    "    top_indices = np.argsort( H[topic_index,:] )[::-1]\n",
    "    top_terms = []\n",
    "    for term_index in top_indices[0:top]:\n",
    "        top_terms.append( terms[term_index] )\n",
    "    return top_terms\n",
    "\n",
    "descriptors = []\n",
    "for topic_index in range(k):\n",
    "    descriptors.append( get_descriptor( terms, H, topic_index, 20 ) )\n",
    "    str_descriptor = \", \".join( descriptors[topic_index] )\n",
    "    print(\"Topic %02d: %s\" % ( topic_index+1, str_descriptor ) )"
   ]
  },
  {
   "cell_type": "markdown",
   "metadata": {},
   "source": [
    "## Topic coherence\n",
    "\n",
    "рассмотреть TC-W2C, UCI, Umass для топ-20 слов-дескрипторов тем"
>>>>>>> Stashed changes
   ]
  },
  {
   "cell_type": "markdown",
   "metadata": {},
   "source": [
<<<<<<< Updated upstream
    "## NMF"
=======
    "### TC-W2C\n",
    "\n",
    "\n",
    "\n"
>>>>>>> Stashed changes
   ]
  },
  {
   "cell_type": "code",
<<<<<<< Updated upstream
   "execution_count": 8,
   "metadata": {
    "collapsed": true
   },
   "outputs": [],
   "source": [
    "(A,terms,snippets) = joblib.load( \"articles-tfidf.pkl\")\n",
    "\n",
    "# create the model\n",
    "k = 10\n",
    "modelNMF = NMF( init=\"nndsvd\", n_components=k ) \n",
    "\n",
    "W = modelNMF.fit_transform( A )\n",
    "H = modelNMF.components_"
=======
   "execution_count": 115,
   "metadata": {
    "scrolled": true
   },
   "outputs": [
    {
     "name": "stderr",
     "output_type": "stream",
     "text": [
      "100%|██████████| 22/22 [08:18<00:00, 22.65s/it]\n"
     ]
    }
   ],
   "source": [
    "kmin, kmax = 4, 25\n",
    "\n",
    "topic_models_LDA = []\n",
    "for k in tqdm(range(kmin,kmax+1)):\n",
    "    model = LatentDirichletAllocation(n_components=k, max_iter=5,\n",
    "                                learning_method='batch',\n",
    "                                learning_offset=50.,\n",
    "                                random_state=1)\n",
    "    W = model.fit_transform( A )\n",
    "    H = model.components_    \n",
    "    topic_models_LDA.append( (k,W,H) )"
>>>>>>> Stashed changes
   ]
  },
  {
   "cell_type": "code",
<<<<<<< Updated upstream
   "execution_count": 23,
   "metadata": {},
   "outputs": [
    {
     "name": "stdout",
     "output_type": "stream",
     "text": [
      "Topic 01: car, get, think, good, know, time, people, right, bike, back, see, really, go, way, space, long, something, going, thing, lot\n",
      "Topic 02: people, key, government, know, get, edu, think, time, please, good, com, number, information, right, law, public, encryption, list, clipper, want\n",
      "Topic 03: thanks, windows, drive, card, please, know, get, problem, file, need, system, mail, dos, software, pc, hi, program, help, files, mac\n",
      "Topic 04: god, jesus, people, israel, believe, bible, think, christian, jews, christians, know, true, faith, christ, see, israeli, church, life, way, religion\n"
=======
   "execution_count": 116,
   "metadata": {
    "scrolled": true
   },
   "outputs": [
    {
     "name": "stderr",
     "output_type": "stream",
     "text": [
      "100%|██████████| 22/22 [01:08<00:00,  3.11s/it]\n"
>>>>>>> Stashed changes
     ]
    }
   ],
   "source": [
<<<<<<< Updated upstream
    "# show topic descriptors\n",
    "def get_descriptor( terms, H, topic_index, top ):\n",
    "    top_indices = np.argsort( H[topic_index,:] )[::-1]\n",
    "    top_terms = []\n",
    "    for term_index in top_indices[0:top]:\n",
    "        top_terms.append( terms[term_index] )\n",
    "    return top_terms\n",
    "\n",
    "descriptors = []\n",
    "for topic_index in range(k):\n",
    "    descriptors.append( get_descriptor( terms, H, topic_index, 20 ) )\n",
    "    str_descriptor = \", \".join( descriptors[topic_index] )\n",
    "    print(\"Topic %02d: %s\" % ( topic_index+1, str_descriptor ) )"
   ]
  },
  {
   "cell_type": "markdown",
   "metadata": {},
   "source": [
    "## LDA"
=======
    "kmin, kmax = 4, 25\n",
    "\n",
    "topic_models_NMF = []\n",
    "for k in tqdm(range(kmin,kmax+1)):\n",
    "    modelNMF =  NMF( init=\"nndsvd\", n_components=k ) \n",
    "    W = modelNMF.fit_transform( A )\n",
    "    H = modelNMF.components_    \n",
    "    topic_models_NMF.append( (k,W,H) )"
   ]
  },
  {
   "cell_type": "code",
   "execution_count": 118,
   "metadata": {
    "scrolled": true
   },
   "outputs": [
    {
     "name": "stderr",
     "output_type": "stream",
     "text": [
      "100%|██████████| 22/22 [00:06<00:00,  3.40it/s]\n"
     ]
    }
   ],
   "source": [
    "kmin, kmax = 4, 25\n",
    "\n",
    "topic_models_LSA = []\n",
    "for k in tqdm(range(kmin,kmax+1)):\n",
    "    model = TruncatedSVD(n_components=k ) \n",
    "    W = model.fit_transform( A )\n",
    "    H = model.components_    \n",
    "    topic_models_LSA.append( (k,W,H) )"
>>>>>>> Stashed changes
   ]
  },
  {
   "cell_type": "code",
<<<<<<< Updated upstream
   "execution_count": 60,
   "metadata": {
    "collapsed": true
   },
   "outputs": [],
   "source": [
    "k = 12\n",
    "modelLDA = LatentDirichletAllocation(n_components=k, max_iter=5,\n",
    "                                learning_method='batch',\n",
    "                                learning_offset=50.,\n",
    "                                random_state=1)\n",
    "\n",
    "W = modelLDA.fit_transform( A )\n",
    "H = model.components_"
=======
   "execution_count": 50,
   "metadata": {
    "scrolled": true
   },
   "outputs": [],
   "source": [
    "import re\n",
    "import gensim\n",
    "\n",
    "\n",
    "class TokenGenerator:\n",
    "    def __init__( self, documents, stopwords ):\n",
    "        self.documents = documents\n",
    "        self.stopwords = stopwords\n",
    "        self.tokenizer = re.compile( r\"(?u)\\b\\w\\w+\\b\" )\n",
    "\n",
    "    def __iter__( self ):\n",
    "        for doc in self.documents:\n",
    "            tokens = []\n",
    "            for tok in self.tokenizer.findall( doc ):\n",
    "                if tok in self.stopwords:\n",
    "                    tokens.append( \"<stopword>\" )\n",
    "                elif len(tok) >= 2:\n",
    "                    tokens.append( tok )\n",
    "            yield tokens\n",
    "            \n",
    "\n",
    "docgen = TokenGenerator( raw_documents, custom_stop_words )\n",
    "#w2v_model = gensim.models.Word2Vec(docgen, size=500, min_count=20, sg=1)\n",
    "#print( \"Model has %d terms\" % len(w2v_model.wv.vocab) )\n",
    "#w2v_model.save(\"w2v-model.bin\")"
>>>>>>> Stashed changes
   ]
  },
  {
   "cell_type": "code",
<<<<<<< Updated upstream
   "execution_count": 61,
   "metadata": {},
=======
   "execution_count": 72,
   "metadata": {
    "scrolled": true
   },
>>>>>>> Stashed changes
   "outputs": [
    {
     "name": "stdout",
     "output_type": "stream",
     "text": [
<<<<<<< Updated upstream
      "Topic 01: people, think, know, get, time, see, right, good, really, something, want, going, way, things, take, thing, gun, believe, sure, point\n",
      "Topic 02: thanks, please, mail, know, advance, hi, looking, info, email, help, anybody, address, appreciated, information, post, send, someone, interested, need, reply\n",
      "Topic 03: geb, cadre, dsl, n3jxp, chastity, shameful, pitt, intellect, skepticism, surrender, gordon, banks, soon, edu, blood, patients, probably, medical, weight, usually\n",
      "Topic 04: god, jesus, bible, christ, faith, believe, christian, christians, church, sin, life, heaven, lord, truth, hell, belief, man, christianity, father, son\n",
      "Topic 05: key, chip, encryption, clipper, keys, government, system, escrow, algorithm, public, security, law, nsa, phone, secure, des, bit, encrypted, privacy, chips\n",
      "Topic 06: drive, scsi, drives, disk, hard, ide, controller, floppy, cd, system, mac, hd, boot, tape, cable, internal, rom, problem, power, seagate\n",
      "Topic 07: windows, file, dos, files, program, version, ftp, running, pc, directory, run, os, microsoft, system, drivers, software, nt, driver, disk, ini\n",
      "Topic 08: 00, sale, 10, shipping, offer, price, 50, 20, condition, 15, asking, 25, 12, 30, 11, interested, sell, 40, excellent, best\n",
      "Topic 09: space, nasa, shuttle, launch, data, program, orbit, station, earth, moon, lunar, gov, research, science, cost, sci, satellite, information, center, system\n",
      "Topic 10: game, team, games, players, season, play, hockey, win, league, teams, player, nhl, baseball, go, good, runs, detroit, best, pitching, toronto\n",
      "Topic 11: card, video, monitor, bus, vga, cards, drivers, color, driver, memory, ram, mode, bit, board, graphics, pc, apple, system, vlb, ati\n",
      "Topic 12: car, bike, cars, engine, good, miles, get, dealer, speed, front, back, buy, power, oil, tires, honda, rear, driving, ride, road\n"
=======
      "Model has 8460 terms\n"
>>>>>>> Stashed changes
     ]
    }
   ],
   "source": [
<<<<<<< Updated upstream
    "def get_descriptor( terms, H, topic_index, top ):\n",
    "    top_indices = np.argsort( H[topic_index,:] )[::-1]\n",
    "    top_terms = []\n",
    "    for term_index in top_indices[0:top]:\n",
    "        top_terms.append( terms[term_index] )\n",
    "    return top_terms\n",
    "\n",
    "descriptors = []\n",
    "for topic_index in range(k):\n",
    "    descriptors.append( get_descriptor( terms, H, topic_index, 20 ) )\n",
    "    str_descriptor = \", \".join( descriptors[topic_index] )\n",
    "    print(\"Topic %02d: %s\" % ( topic_index+1, str_descriptor ) )"
   ]
  },
  {
   "cell_type": "markdown",
   "metadata": {},
   "source": [
    "## LSA"
=======
    "import gensim\n",
    "\n",
    "w2v_model = gensim.models.Word2Vec.load(\"w2v-model.bin\")\n",
    "print( \"Model has %d terms\" % len(w2v_model.wv.vocab) )"
   ]
  },
  {
   "cell_type": "code",
   "execution_count": 120,
   "metadata": {
    "scrolled": true
   },
   "outputs": [
    {
     "name": "stdout",
     "output_type": "stream",
     "text": [
      "\n",
      "LDA Coherence:\n",
      "\n",
      "K=04: Coherence=0.3666\n",
      "K=05: Coherence=0.3688\n",
      "K=06: Coherence=0.3732\n",
      "K=07: Coherence=0.4371\n",
      "K=08: Coherence=0.4356\n",
      "K=09: Coherence=0.4337\n",
      "K=10: Coherence=0.4412\n",
      "K=11: Coherence=0.4449\n",
      "K=12: Coherence=0.4907\n",
      "K=13: Coherence=0.4318\n",
      "K=14: Coherence=0.4479\n",
      "K=15: Coherence=0.4385\n",
      "K=16: Coherence=0.4606\n",
      "K=17: Coherence=0.4410\n",
      "K=18: Coherence=0.4628\n",
      "K=19: Coherence=0.4414\n",
      "K=20: Coherence=0.4481\n",
      "K=21: Coherence=0.4580\n",
      "K=22: Coherence=0.4809\n",
      "K=23: Coherence=0.4417\n",
      "K=24: Coherence=0.4577\n",
      "K=25: Coherence=0.4493\n",
      "\n",
      "NMF Coherence:\n",
      "\n",
      "K=04: Coherence=0.4720\n",
      "K=05: Coherence=0.4886\n",
      "K=06: Coherence=0.5085\n",
      "K=07: Coherence=0.5220\n",
      "K=08: Coherence=0.5228\n",
      "K=09: Coherence=0.5347\n",
      "K=10: Coherence=0.5286\n",
      "K=11: Coherence=0.5425\n",
      "K=12: Coherence=0.5485\n",
      "K=13: Coherence=0.5507\n",
      "K=14: Coherence=0.5485\n",
      "K=15: Coherence=0.5574\n",
      "K=16: Coherence=0.5464\n",
      "K=17: Coherence=0.5563\n",
      "K=18: Coherence=0.5530\n",
      "K=19: Coherence=0.5545\n",
      "K=20: Coherence=0.5599\n",
      "K=21: Coherence=0.5648\n",
      "K=22: Coherence=0.5658\n",
      "K=23: Coherence=0.5699\n",
      "K=24: Coherence=0.5693\n",
      "K=25: Coherence=0.5709\n",
      "\n",
      "LSA Coherence:\n",
      "\n",
      "K=04: Coherence=0.4520\n",
      "K=05: Coherence=0.4410\n",
      "K=06: Coherence=0.4429\n",
      "K=07: Coherence=0.4427\n",
      "K=08: Coherence=0.4263\n",
      "K=09: Coherence=0.4124\n",
      "K=10: Coherence=0.4083\n",
      "K=11: Coherence=0.4112\n",
      "K=12: Coherence=0.4067\n",
      "K=13: Coherence=0.4025\n",
      "K=14: Coherence=0.3945\n",
      "K=15: Coherence=0.3913\n",
      "K=16: Coherence=0.3970\n",
      "K=17: Coherence=0.3882\n",
      "K=18: Coherence=0.3763\n",
      "K=19: Coherence=0.3833\n",
      "K=20: Coherence=0.3772\n",
      "K=21: Coherence=0.3744\n",
      "K=22: Coherence=0.3642\n",
      "K=23: Coherence=0.3646\n",
      "K=24: Coherence=0.3682\n",
      "K=25: Coherence=0.3622\n"
     ]
    }
   ],
   "source": [
    "from itertools import combinations\n",
    "\n",
    "\n",
    "def calculate_coherence( w2v_model, term_rankings ):\n",
    "    overall_coherence = 0.0\n",
    "    for topic_index in range(len(term_rankings)):\n",
    "        # check each pair of terms\n",
    "        pair_scores = []\n",
    "        for pair in combinations( term_rankings[topic_index], 2 ):\n",
    "            pair_scores.append( w2v_model.similarity(pair[0], pair[1]) )\n",
    "        # get the mean for all pairs in this topic\n",
    "        topic_score = sum(pair_scores) / len(pair_scores)\n",
    "        overall_coherence += topic_score\n",
    "    # get the mean score across all topics\n",
    "    return overall_coherence / len(term_rankings)\n",
    "\n",
    "\n",
    "k_valuesLDA = []\n",
    "k_valuesNMF = []\n",
    "k_valuesLSA = []\n",
    "coherencesLDA = []\n",
    "coherencesNMF = []\n",
    "coherencesLSA = []\n",
    "#LDA\n",
    "print('\\nLDA Coherence:\\n')\n",
    "for (k,W,H) in topic_models_LDA:\n",
    "    # Get all of the topic descriptors - the term_rankings, based on top 20 terms\n",
    "    term_rankings = []\n",
    "    for topic_index in range(k):\n",
    "        term_rankings.append( get_descriptor( terms, H, topic_index, 20 ) )\n",
    "    # Now calculate the coherence based on our Word2vec model\n",
    "    k_valuesLDA.append( k )\n",
    "    coherencesLDA.append( calculate_coherence( w2v_model, term_rankings ) )\n",
    "    print(\"K=%02d: Coherence=%.4f\" % ( k, coherencesLDA[-1] ) )\n",
    "    \n",
    "#NMF\n",
    "print('\\nNMF Coherence:\\n')\n",
    "for (k,W,H) in topic_models_NMF:\n",
    "    # Get all of the topic descriptors - the term_rankings, based on top 20 terms\n",
    "    term_rankings = []\n",
    "    for topic_index in range(k):\n",
    "        term_rankings.append( get_descriptor( terms, H, topic_index, 20 ) )\n",
    "    # Now calculate the coherence based on our Word2vec model\n",
    "    k_valuesNMF.append( k )\n",
    "    coherencesNMF.append( calculate_coherence( w2v_model, term_rankings ) )\n",
    "    print(\"K=%02d: Coherence=%.4f\" % ( k, coherencesNMF[-1] ) )\n",
    "#LSA\n",
    "print('\\nLSA Coherence:\\n')\n",
    "for (k,W,H) in topic_models_LSA:\n",
    "    # Get all of the topic descriptors - the term_rankings, based on top 20 terms\n",
    "    term_rankings = []\n",
    "    for topic_index in range(k):\n",
    "        term_rankings.append( get_descriptor( terms, H, topic_index, 20 ) )\n",
    "    # Now calculate the coherence based on our Word2vec model\n",
    "    k_valuesLSA.append( k )\n",
    "    coherencesLSA.append( calculate_coherence( w2v_model, term_rankings ) )\n",
    "    print(\"K=%02d: Coherence=%.4f\" % ( k, coherencesLSA[-1] ) )"
>>>>>>> Stashed changes
   ]
  },
  {
   "cell_type": "code",
<<<<<<< Updated upstream
   "execution_count": 48,
   "metadata": {
    "collapsed": true
   },
   "outputs": [],
   "source": [
    "k = 10\n",
    "modelLSA = TruncatedSVD(n_components=k ) \n",
    "\n",
    "W = modelLSA.fit_transform( A )\n",
    "H = modelLSA.components_"
=======
   "execution_count": 121,
   "metadata": {
    "scrolled": true
   },
   "outputs": [
    {
     "data": {
      "image/png": "iVBORw0KGgoAAAANSUhEUgAAAy4AAAGtCAYAAADwCCD0AAAABHNCSVQICAgIfAhkiAAAAAlwSFlz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\ngg==\n",
      "text/plain": [
       "<matplotlib.figure.Figure at 0x13c9cb470>"
      ]
     },
     "metadata": {},
     "output_type": "display_data"
    }
   ],
   "source": [
    "fig = plt.figure(figsize=(13,7))\n",
    "# create the line plot\n",
    "plt.plot( k_valuesLDA, coherencesLDA, 'r', label = 'LDA' )\n",
    "plt.plot( k_valuesNMF, coherencesNMF, 'b', label = 'NMF' )\n",
    "plt.plot( k_valuesLSA, coherencesLSA, 'g', label = 'LSA' )\n",
    "plt.xticks(k_valuesLDA)\n",
    "plt.xticks(k_valuesLSA)\n",
    "plt.xticks(k_valuesNMF)\n",
    "plt.xlabel(\"Number of Topics\")\n",
    "plt.ylabel(\"Mean Coherence\")\n",
    "# add the points\n",
    "plt.scatter( k_valuesLSA, coherencesLSA, s=50, color ='g')\n",
    "plt.scatter( k_valuesLDA, coherencesLDA, s=50, color ='r')\n",
    "plt.scatter( k_valuesNMF, coherencesNMF, s=50, color ='b')\n",
    "# find and annotate the maximum point on the plot\n",
    "ymax = max(coherencesLDA)\n",
    "ymax2 = max(coherencesNMF)\n",
    "ymax3 = max(coherencesLSA)\n",
    "xpos1 = coherencesLDA.index(ymax)\n",
    "xpos2 = coherencesNMF.index(ymax2)\n",
    "xpos3 = coherencesLSA.index(ymax3)\n",
    "best_k1 = k_valuesLDA[xpos1]\n",
    "best_k2 = k_valuesNMF[xpos2]\n",
    "best_k3 = k_valuesLSA[xpos3]\n",
    "plt.annotate( \"k=%d\" % best_k1, xy=(best_k1, ymax), xytext=(best_k1, ymax), textcoords=\"offset points\", fontsize=16)\n",
    "plt.annotate( \"k=%d\" % best_k2, xy=(best_k2, ymax2), xytext=(best_k2, ymax2), textcoords=\"offset points\", fontsize=16)\n",
    "plt.annotate( \"k=%d\" % best_k3, xy=(best_k3, ymax3), xytext=(best_k3, ymax3), textcoords=\"offset points\", fontsize=16)\n",
    "plt.legend()\n",
    "# show the plot\n",
    "plt.show()"
>>>>>>> Stashed changes
   ]
  },
  {
   "cell_type": "code",
<<<<<<< Updated upstream
   "execution_count": 13,
   "metadata": {},
=======
   "execution_count": 122,
   "metadata": {
    "scrolled": false
   },
>>>>>>> Stashed changes
   "outputs": [
    {
     "name": "stdout",
     "output_type": "stream",
     "text": [
<<<<<<< Updated upstream
      "Topic 01: know, people, get, think, good, time, thanks, god, please, see, want, way, need, right, system, windows, problem, edu, something, really\n",
      "Topic 02: god, people, jesus, think, believe, bible, christian, christians, life, government, see, christ, faith, law, right, israel, religion, jews, fact, against\n",
      "Topic 03: geb, cadre, pitt, dsl, chastity, n3jxp, shameful, edu, intellect, skepticism, surrender, gordon, banks, soon, team, get, game, key, probably, car\n",
      "Topic 04: god, jesus, edu, thanks, geb, cadre, dsl, n3jxp, chastity, skepticism, shameful, intellect, pitt, gordon, surrender, banks, windows, soon, please, bible\n",
      "Topic 05: key, chip, encryption, government, clipper, keys, file, public, program, law, escrow, information, algorithm, windows, files, people, security, system, window, nsa\n",
      "Topic 06: drive, scsi, system, key, disk, card, drives, chip, ide, hard, controller, god, bus, floppy, problem, bit, dos, encryption, clipper, apple\n",
      "Topic 07: windows, file, window, dos, files, program, problem, running, think, team, win, run, game, version, screen, drivers, manager, server, application, display\n",
      "Topic 08: god, key, 00, game, team, edu, games, chip, 10, jesus, sale, keys, encryption, clipper, season, com, 11, players, 15, 20\n",
      "Topic 09: 00, israel, edu, space, armenian, com, armenians, sale, jews, israeli, turkish, 10, people, 000, nasa, war, state, email, 15, gun\n",
      "Topic 10: car, bike, 00, get, good, window, price, engine, cars, god, sale, miles, condition, buy, speed, dealer, offer, sell, old, ride\n"
=======
      "\n",
      "LDA descriptor:\n",
      "\n",
      "Topic 01: phone, car, warrant, __, 205, hey, intergraph, owner, look, houses, listen, cops, uunet, networking, gang, criticism, uucp, get, dave, testing\n",
      "Topic 02: people, government, nsa, think, clinton, get, president, good, going, time, chip, list, please, clipper, know, see, security, thought, money, right\n",
      "Topic 03: quadra, centris, drive, 800, please, vga, nec, hi, cable, mouse, viewer, backup, norton, thanks, apple, kit, monitor, post, get, call\n",
      "Topic 04: satan, angels, objective, tells, ye, temporary, orthodox, god, long, greek, vms, germans, republicans, going, tonight, lunar, 02, wuarchive, keep, typing\n",
      "Topic 05: drive, scsi, controller, ide, printer, drives, disk, get, hd, games, disks, hard, think, cd, good, know, gt, irq, best, port\n",
      "Topic 06: msg, tek, food, bob, vice, doug, please, sea, ico, manhattan, chinese, diet, stay, bronx, 2400, seizures, com, la, blew, vs\n",
      "Topic 07: edu, ftp, windows, thanks, comp, version, export, tar, zip, pub, os, indiana, win3, mit, toolkit, lcs, news, apps, pc, widgets\n",
      "Topic 08: team, hockey, players, game, nhl, season, play, league, com, edu, games, teams, san, rangers, back, april, good, know, get, cup\n",
      "Topic 09: thanks, 3d, hello, looking, polygon, mac, anybody, package, graphics, mail, borland, please, client, know, 040, se, algorithm, advance, simple, server\n",
      "Topic 10: deleted, israel, test, wanted, yo, stuff, lebanese, happy, pagan, star, mystery, lebanon, ld, tom, msu, cl, pointers, know, edu, explosion\n",
      "Topic 11: god, people, think, know, believe, jesus, time, see, life, right, something, bible, evidence, christian, way, question, true, good, point, read\n",
      "Topic 12: com, radar, sex, get, detector, homosexuals, criminals, homosexuality, dave, know, people, think, netcom, car, gun, mask, huh, yeah, good, austin\n",
      "\n",
      "NMF descriptor:\n",
      "\n",
      "Topic 01: good, time, see, really, back, go, got, something, thing, going, take, long, bike, want, way, sure, right, little, stuff, things\n",
      "Topic 02: please, mail, email, address, send, list, post, interested, reply, someone, thank, looking, mailing, information, contact, hello, tell, respond, fax, replies\n",
      "Topic 03: geb, cadre, dsl, n3jxp, chastity, shameful, pitt, intellect, skepticism, surrender, gordon, banks, soon, edu, blood, patients, probably, medical, weight, disease\n",
      "Topic 04: god, jesus, bible, christ, believe, faith, christian, christians, church, life, sin, truth, heaven, lord, hell, belief, man, christianity, love, father\n",
      "Topic 05: key, chip, encryption, clipper, keys, escrow, algorithm, government, nsa, public, security, secure, phone, des, bit, encrypted, chips, secret, number, privacy\n",
      "Topic 06: drive, drives, disk, hard, floppy, cd, ide, boot, internal, controller, cable, rom, hd, switch, tape, power, external, disks, computer, meg\n",
      "Topic 07: windows, dos, version, os, microsoft, running, drivers, nt, driver, run, pc, 386, mouse, printer, software, win, programs, font, comp, ini\n",
      "Topic 08: 00, sale, 10, shipping, offer, 50, price, 20, 15, condition, 25, 12, 30, 11, asking, 40, excellent, sell, 17, interested\n",
      "Topic 09: armenian, armenians, turkish, turkey, armenia, turks, genocide, greek, soviet, azerbaijan, russian, muslim, argic, serdar, people, war, azeri, killed, population, kurds\n",
      "Topic 10: game, team, games, players, season, hockey, play, win, league, teams, nhl, player, baseball, runs, detroit, toronto, fans, pitching, best, playoffs\n",
      "Topic 11: card, video, monitor, vga, drivers, cards, color, driver, bus, graphics, mode, ati, ram, vesa, diamond, board, vlb, svga, colors, 16\n",
      "Topic 12: car, cars, engine, dealer, miles, bike, speed, price, driving, front, tires, buy, ford, insurance, oil, honda, rear, owner, bought, toyota\n",
      "Topic 13: window, manager, motif, application, server, display, widget, program, code, xterm, screen, set, x11r5, user, top, colormap, client, running, button, root\n",
      "Topic 14: space, nasa, shuttle, launch, station, orbit, earth, moon, data, lunar, gov, research, program, science, sci, cost, satellite, center, mission, technology\n",
      "Topic 15: edu, cs, university, ftp, david, uiuc, article, pub, mit, colorado, cc, email, virginia, internet, indiana, send, au, version, lcs, apr\n",
      "Topic 16: israel, israeli, jews, arab, jewish, arabs, peace, lebanon, lebanese, israelis, war, palestinian, adam, palestinians, land, state, anti, palestine, attacks, syria\n",
      "Topic 17: get, want, need, going, try, number, rid, buy, source, way, call, phone, work, life, question, keep, getting, sell, ask, 800\n",
      "Topic 18: know, anybody, need, program, something, sure, wanted, help, want, appreciated, happen, heard, going, source, interested, far, things, sorry, kind, really\n",
      "Topic 19: com, netcom, list, dave, article, tek, sun, internet, bob, ico, compuserve, handheld, corp, phone, mouse, port, bronx, manhattan, vice, ibm\n",
      "Topic 20: people, government, gun, law, right, guns, state, rights, crime, laws, against, federal, police, amendment, weapons, person, country, control, case, militia\n",
      "Topic 21: scsi, ide, controller, bus, pc, isa, bit, mac, data, devices, interface, sec, chip, transfer, dma, port, hd, fast, vlb, speed\n",
      "Topic 22: think, lot, something, way, science, wrong, try, really, agree, mean, see, objective, bit, people, pretty, morality, saying, thinking, better, true\n",
      "Topic 23: thanks, advance, hi, info, looking, help, appreciated, anybody, information, find, appreciate, wondering, greatly, someone, lot, mac, ftp, hello, site, buying\n",
      "Topic 24: file, files, program, ftp, format, directory, image, zip, gif, available, graphics, bmp, help, pub, convert, code, data, read, pc, need\n",
      "Topic 25: system, problem, apple, memory, mac, software, problems, computer, work, machine, screen, running, duo, hardware, fix, fine, simms, error, ram, power\n",
      "\n",
      "LSA descriptor:\n",
      "\n",
      "Topic 01: know, people, get, think, good, time, thanks, god, please, see, want, way, need, right, system, windows, problem, edu, something, really\n",
      "Topic 02: god, people, jesus, think, believe, bible, christian, christians, life, government, see, christ, faith, law, right, israel, religion, jews, fact, against\n",
      "Topic 03: geb, cadre, pitt, dsl, chastity, n3jxp, shameful, edu, intellect, skepticism, surrender, gordon, banks, soon, get, team, game, key, probably, car\n",
      "Topic 04: god, jesus, edu, thanks, geb, cadre, dsl, skepticism, chastity, n3jxp, shameful, intellect, pitt, gordon, surrender, banks, windows, soon, please, bible\n"
>>>>>>> Stashed changes
     ]
    }
   ],
   "source": [
<<<<<<< Updated upstream
    "def get_descriptor( terms, H, topic_index, top ):\n",
    "    top_indices = np.argsort( H[topic_index,:] )[::-1]\n",
    "    top_terms = []\n",
    "    for term_index in top_indices[0:top]:\n",
    "        top_terms.append( terms[term_index] )\n",
    "    return top_terms\n",
    "\n",
    "descriptors = []\n",
    "for topic_index in range(k):\n",
    "    descriptors.append( get_descriptor( terms, H, topic_index, 20 ) )\n",
    "    str_descriptor = \", \".join( descriptors[topic_index] )\n",
    "    print(\"Topic %02d: %s\" % ( topic_index+1, str_descriptor ) )"
=======
    "print('\\nLDA descriptor:\\n')\n",
    "W = topic_models_LDA[k-kmin][1]\n",
    "H = topic_models_LDA[k-kmin][2]\n",
    "for topic_index in range(best_k1):\n",
    "    descriptor = get_descriptor( terms, H, topic_index, 20 )\n",
    "    str_descriptor = \", \".join( descriptor )\n",
    "    print(\"Topic %02d: %s\" % ( topic_index+1, str_descriptor ) )\n",
    "\n",
    "print('\\nNMF descriptor:\\n')\n",
    "W = topic_models_NMF[k-kmin][1]\n",
    "H = topic_models_NMF[k-kmin][2]\n",
    "for topic_index in range(best_k2):\n",
    "    descriptor = get_descriptor( terms, H, topic_index, 20 )\n",
    "    str_descriptor = \", \".join( descriptor )\n",
    "    print(\"Topic %02d: %s\" % ( topic_index+1, str_descriptor ) )  \n",
    "    \n",
    "print('\\nLSA descriptor:\\n')\n",
    "W = topic_models_LSA[k-kmin][1]\n",
    "H = topic_models_LSA[k-kmin][2]\n",
    "for topic_index in range(best_k3):\n",
    "    descriptor = get_descriptor( terms, H, topic_index, 20 )\n",
    "    str_descriptor = \", \".join( descriptor )\n",
    "    print(\"Topic %02d: %s\" % ( topic_index+1, str_descriptor ) )   "
>>>>>>> Stashed changes
   ]
  },
  {
   "cell_type": "markdown",
   "metadata": {},
   "source": [
<<<<<<< Updated upstream
    "## Topic coherence\n",
    "\n",
    "рассмотреть TC-W2C, UCI, Umass для топ-20 слов-дескрипторов тем"
=======
    "### Лучшая модель по TC-W2V — NMF"
>>>>>>> Stashed changes
   ]
  },
  {
   "cell_type": "markdown",
   "metadata": {},
   "source": [
<<<<<<< Updated upstream
    "### TC-W2C\n",
    "#### LDA выигрывает в этой метрике"
=======
    "### UCI"
>>>>>>> Stashed changes
   ]
  },
  {
   "cell_type": "code",
<<<<<<< Updated upstream
   "execution_count": 14,
   "metadata": {},
   "outputs": [
    {
     "name": "stderr",
     "output_type": "stream",
     "text": [
      "100%|██████████| 12/12 [04:41<00:00, 23.47s/it]\n"
     ]
    }
   ],
   "source": [
    "kmin, kmax = 4, 15\n",
    "\n",
    "topic_models = []\n",
    "for k in tqdm(range(kmin,kmax+1)):\n",
    "    model = LatentDirichletAllocation(n_components=k, max_iter=5,\n",
    "                                learning_method='batch',\n",
    "                                learning_offset=50.,\n",
    "                                random_state=1)\n",
    "    W = model.fit_transform( A )\n",
    "    H = model.components_    \n",
    "    topic_models.append( (k,W,H) )"
   ]
  },
  {
   "cell_type": "markdown",
   "metadata": {},
   "source": [
    "### LDA \n",
    "#### best k=12\n",
    "K=04: Coherence=0.3422\n",
    "\n",
    "K=05: Coherence=0.3671\n",
    "\n",
    "K=06: Coherence=0.3947\n",
    "\n",
    "K=07: Coherence=0.4739\n",
    "\n",
    "K=08: Coherence=0.4606\n",
    "\n",
    "K=09: Coherence=0.4552\n",
    "\n",
    "K=10: Coherence=0.4602\n",
    "\n",
    "K=11: Coherence=0.4795\n",
    "\n",
    "K=12: Coherence=0.5391\n",
    "\n",
    "K=13: Coherence=0.4654\n",
    "\n",
    "K=14: Coherence=0.4781\n",
    "\n",
    "K=15: Coherence=0.4658\n",
    "\n",
    "### Topics\n",
    "Topic 01: msg, 205, tube, jason, food, helmet, eat, car, chinese, good\n",
    "\n",
    "Topic 02: people, get, think, government, know, time, right, good, see, really\n",
    "\n",
    "\n",
    "Topic 03: card, simms, monitor, quadra, lc, video, motherboard, bus, vram, vga\n",
    "\n",
    "\n",
    "Topic 04: gordon, surrender, pitt, geb, banks, intellect, cadre, shameful, skepticism, chastity\n",
    "\n",
    "\n",
    "Topic 05: sale, offer, shipping, condition, car, price, sell, asking, drive, best\n",
    "\n",
    "\n",
    "Topic 06: game, team, games, hockey, season, win, toronto, detroit, espn, play\n",
    "\n",
    "\n",
    "Topic 07: thanks, windows, know, please, get, file, mail, program, problem, software\n",
    "\n",
    "\n",
    "Topic 08: team, players, game, braves, season, pitching, games, teams, good, league\n",
    "\n",
    "\n",
    "Topic 09: steve, compiler, hello, se, bj, address, yo, reader, please, ld\n",
    "\n",
    "\n",
    "Topic 10: test, irq, cartridge, wanted, cooling, temp, comm, israel, suck, ml\n",
    "\n",
    "\n",
    "Topic 11: god, jesus, people, bible, think, believe, christian, christians, know, faith\n",
    "\n",
    "\n",
    "Topic 12: 10, 00, car, 11, 15, 12, 20, play, good, time"
=======
   "execution_count": 123,
   "metadata": {
    "collapsed": true,
    "scrolled": true
   },
   "outputs": [],
   "source": [
    "from collections import defaultdict\n",
    "def reversed_index(list_of_tokens):\n",
    "    reverse = defaultdict(set)\n",
    "    for i,doc in enumerate(list_of_tokens):\n",
    "        for token in doc:\n",
    "            reverse[token].add(i)\n",
    "    return reverse"
   ]
  },
  {
   "cell_type": "code",
   "execution_count": 124,
   "metadata": {
    "scrolled": true
   },
   "outputs": [],
   "source": [
    "index = reversed_index(docgen)"
>>>>>>> Stashed changes
   ]
  },
  {
   "cell_type": "code",
<<<<<<< Updated upstream
   "execution_count": 41,
   "metadata": {},
   "outputs": [
    {
     "name": "stderr",
     "output_type": "stream",
     "text": [
      "100%|██████████| 12/12 [00:23<00:00,  1.92s/it]\n"
=======
   "execution_count": 126,
   "metadata": {
    "collapsed": true,
    "scrolled": true
   },
   "outputs": [],
   "source": [
    "def calculate_uci(k, term_rankings, index):\n",
    "    overall_coherence = 0.0\n",
    "    for topic_index in range(len(term_rankings)):\n",
    "        pair_prob = []\n",
    "        for pair in combinations(term_rankings[topic_index], 2 ):\n",
    "            word1_prob =  len(index[pair[0]]) / 11314\n",
    "            word2_prob =  len(index[pair[1]]) / 11314\n",
    "            both = len(index[pair[0]]&index[pair[1]])/11314\n",
    "            score = np.log((both + 10**(-12)) / (word1_prob * word2_prob)) \n",
    "            pair_prob.append(score)\n",
    "        topic_score =  sum(pair_prob) * (2 / (len(term_rankings[topic_index]) * (len(term_rankings[topic_index])-1)))\n",
    "        overall_coherence += topic_score\n",
    "    return overall_coherence / len(term_rankings)\n"
   ]
  },
  {
   "cell_type": "code",
   "execution_count": 127,
   "metadata": {
    "scrolled": true
   },
   "outputs": [
    {
     "name": "stdout",
     "output_type": "stream",
     "text": [
      "\n",
      "LDA Coherence:\n",
      "\n",
      "K=04: Coherence=0.9290\n",
      "K=05: Coherence=0.2358\n",
      "K=06: Coherence=-0.1394\n",
      "K=07: Coherence=-0.7574\n",
      "K=08: Coherence=-1.0642\n",
      "K=09: Coherence=-0.5247\n",
      "K=10: Coherence=-0.6237\n",
      "K=11: Coherence=-0.1714\n",
      "K=12: Coherence=-0.7582\n",
      "K=13: Coherence=-0.7504\n",
      "K=14: Coherence=-0.8909\n",
      "K=15: Coherence=-1.7128\n",
      "K=16: Coherence=-0.6627\n",
      "K=17: Coherence=-2.6382\n",
      "K=18: Coherence=-1.7423\n",
      "K=19: Coherence=-1.1254\n",
      "K=20: Coherence=-1.2027\n",
      "K=21: Coherence=-1.5808\n",
      "K=22: Coherence=-0.7915\n",
      "K=23: Coherence=-1.3462\n",
      "K=24: Coherence=-2.3810\n",
      "K=25: Coherence=-0.9826\n",
      "\n",
      "NMF Coherence:\n",
      "\n",
      "K=04: Coherence=1.6736\n",
      "K=05: Coherence=1.7949\n",
      "K=06: Coherence=1.7834\n",
      "K=07: Coherence=1.7371\n",
      "K=08: Coherence=1.7235\n",
      "K=09: Coherence=1.7122\n",
      "K=10: Coherence=1.6875\n",
      "K=11: Coherence=1.7134\n",
      "K=12: Coherence=1.7182\n",
      "K=13: Coherence=1.7361\n",
      "K=14: Coherence=1.7685\n",
      "K=15: Coherence=1.7161\n",
      "K=16: Coherence=1.7605\n",
      "K=17: Coherence=1.7932\n",
      "K=18: Coherence=1.8297\n",
      "K=19: Coherence=1.7994\n",
      "K=20: Coherence=1.7053\n",
      "K=21: Coherence=1.8629\n",
      "K=22: Coherence=1.6660\n",
      "K=23: Coherence=1.8252\n",
      "K=24: Coherence=1.8103\n",
      "K=25: Coherence=1.6557\n",
      "\n",
      "LSA Coherence:\n",
      "\n",
      "K=04: Coherence=-0.0416\n",
      "K=05: Coherence=0.2233\n",
      "K=06: Coherence=0.2502\n",
      "K=07: Coherence=0.3503\n",
      "K=08: Coherence=0.3220\n",
      "K=09: Coherence=0.2165\n",
      "K=10: Coherence=0.2072\n",
      "K=11: Coherence=0.1120\n",
      "K=12: Coherence=0.3354\n",
      "K=13: Coherence=0.1673\n",
      "K=14: Coherence=0.0359\n",
      "K=15: Coherence=0.0169\n",
      "K=16: Coherence=0.0905\n",
      "K=17: Coherence=0.0645\n",
      "K=18: Coherence=-0.0821\n",
      "K=19: Coherence=0.0486\n",
      "K=20: Coherence=0.0440\n",
      "K=21: Coherence=0.0161\n",
      "K=22: Coherence=0.0872\n",
      "K=23: Coherence=0.1165\n",
      "K=24: Coherence=0.0630\n",
      "K=25: Coherence=0.0756\n"
>>>>>>> Stashed changes
     ]
    }
   ],
   "source": [
<<<<<<< Updated upstream
    "kmin, kmax = 4, 15\n",
    "\n",
    "topic_models = []\n",
    "for k in tqdm(range(kmin,kmax+1)):\n",
    "    model =  NMF( init=\"nndsvd\", n_components=k ) \n",
    "    W = model.fit_transform( A )\n",
    "    H = model.components_    \n",
    "    topic_models.append( (k,W,H) )"
   ]
  },
  {
   "cell_type": "markdown",
   "metadata": {},
   "source": [
    "### NMF\n",
    "#### best k=8\n",
    "K=04: Coherence=0.5465\n",
    "\n",
    "K=05: Coherence=0.5569\n",
    "\n",
    "K=06: Coherence=0.5705\n",
    "\n",
    "\n",
    "K=07: Coherence=0.5854\n",
    "\n",
    "\n",
    "K=08: Coherence=0.6087\n",
    "\n",
    "\n",
    "K=09: Coherence=0.5979\n",
    "\n",
    "\n",
    "K=10: Coherence=0.5748\n",
    "\n",
    "\n",
    "K=11: Coherence=0.5802\n",
    "\n",
    "\n",
    "K=12: Coherence=0.5880\n",
    "\n",
    "\n",
    "K=13: Coherence=0.6019\n",
    "\n",
    "\n",
    "K=14: Coherence=0.5888\n",
    "\n",
    "\n",
    "K=15: Coherence=0.5950\n",
    "\n",
    "### Topics\n",
    "Topic 01: people, think, get, know, time, right, good, see, really, way\n",
    "\n",
    "\n",
    "Topic 02: thanks, please, mail, know, advance, email, looking, info, address, edu\n",
    "\n",
    "\n",
    "Topic 03: geb, cadre, dsl, chastity, n3jxp, shameful, pitt, intellect, skepticism, surrender\n",
    "\n",
    "\n",
    "Topic 04: god, jesus, bible, believe, christ, faith, christian, christians, church, life\n",
    "\n",
    "\n",
    "Topic 05: key, chip, encryption, clipper, keys, government, system, escrow, algorithm, public\n",
    "\n",
    "\n",
    "Topic 06: drive, scsi, card, disk, drives, controller, hard, ide, floppy, bus\n",
    "\n",
    "\n",
    "Topic 07: windows, file, dos, files, window, program, version, problem, running, screen\n",
    "\n",
    "\n",
    "Topic 08: game, team, games, players, season, play, hockey, win, league, player"
=======
    "k_valuesLDA = []\n",
    "k_valuesNMF = []\n",
    "k_valuesLSA = []\n",
    "coherencesLDA = []\n",
    "coherencesNMF = []\n",
    "coherencesLSA = []\n",
    "#LDA\n",
    "print('\\nLDA Coherence:\\n')\n",
    "for (k,W,H) in topic_models_LDA:\n",
    "    # Get all of the topic descriptors - the term_rankings, based on top 20 terms\n",
    "    term_rankings = []\n",
    "    for topic_index in range(k):\n",
    "        term_rankings.append( get_descriptor( terms, H, topic_index, 20 ) )\n",
    "    # Now calculate the coherence based on our Word2vec model\n",
    "    k_valuesLDA.append( k )\n",
    "    coherencesLDA.append( calculate_uci( k, term_rankings, index ) )\n",
    "    print(\"K=%02d: Coherence=%.4f\" % ( k, coherencesLDA[-1] ) )\n",
    "    \n",
    "    \n",
    "#NMF\n",
    "print('\\nNMF Coherence:\\n')\n",
    "for (k,W,H) in topic_models_NMF:\n",
    "    # Get all of the topic descriptors - the term_rankings, based on top 20 terms\n",
    "    term_rankings = []\n",
    "    for topic_index in range(k):\n",
    "        term_rankings.append( get_descriptor( terms, H, topic_index, 20 ) )\n",
    "    # Now calculate the coherence based on our Word2vec model\n",
    "    k_valuesNMF.append( k )\n",
    "    coherencesNMF.append( calculate_uci( k, term_rankings, index ) )\n",
    "    print(\"K=%02d: Coherence=%.4f\" % ( k, coherencesNMF[-1] ) )\n",
    "#LSA\n",
    "print('\\nLSA Coherence:\\n')\n",
    "for (k,W,H) in topic_models_LSA:\n",
    "    # Get all of the topic descriptors - the term_rankings, based on top 20 terms\n",
    "    term_rankings = []\n",
    "    for topic_index in range(k):\n",
    "        term_rankings.append( get_descriptor( terms, H, topic_index, 20 ) )\n",
    "    # Now calculate the coherence based on our Word2vec model\n",
    "    k_valuesLSA.append( k )\n",
    "    coherencesLSA.append( calculate_uci( k, term_rankings, index ) )\n",
    "    print(\"K=%02d: Coherence=%.4f\" % ( k, coherencesLSA[-1] ) )"
   ]
  },
  {
   "cell_type": "code",
   "execution_count": 128,
   "metadata": {
    "scrolled": false
   },
   "outputs": [
    {
     "data": {
      "image/png": "iVBORw0KGgoAAAANSUhEUgAAAwsAAAGtCAYAAABZfOhgAAAABHNCSVQICAgIfAhkiAAAAAlwSFlz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\noP4/qEoDqeAIJkEAAAAASUVORK5CYII=\n",
      "text/plain": [
       "<matplotlib.figure.Figure at 0x142e5f278>"
      ]
     },
     "metadata": {},
     "output_type": "display_data"
    }
   ],
   "source": [
    "fig = plt.figure(figsize=(13,7))\n",
    "# create the line plot\n",
    "plt.plot( k_valuesLDA, coherencesLDA, 'r', label = 'LDA' )\n",
    "plt.plot( k_valuesNMF, coherencesNMF, 'b', label = 'NMF' )\n",
    "plt.plot( k_valuesLSA, coherencesLSA, 'g', label = 'LSA' )\n",
    "plt.xticks(k_valuesLDA)\n",
    "plt.xticks(k_valuesLSA)\n",
    "plt.xticks(k_valuesNMF)\n",
    "plt.xlabel(\"Number of Topics\")\n",
    "plt.ylabel(\"Mean Coherence\")\n",
    "# add the points\n",
    "plt.scatter( k_valuesLSA, coherencesLSA, s=50, color ='g')\n",
    "plt.scatter( k_valuesLDA, coherencesLDA, s=50, color ='r')\n",
    "plt.scatter( k_valuesNMF, coherencesNMF, s=50, color ='b')\n",
    "# find and annotate the maximum point on the plot\n",
    "ymax = max(coherencesLDA)\n",
    "ymax2 = max(coherencesNMF)\n",
    "ymax3 = max(coherencesLSA)\n",
    "xpos1 = coherencesLDA.index(ymax)\n",
    "xpos2 = coherencesNMF.index(ymax2)\n",
    "xpos3 = coherencesLSA.index(ymax3)\n",
    "best_k1 = k_valuesLDA[xpos1]\n",
    "best_k2 = k_valuesNMF[xpos2]\n",
    "best_k3 = k_valuesLSA[xpos3]\n",
    "plt.annotate( \"k=%d\" % best_k1, xy=(best_k1, ymax), xytext=(best_k1, ymax), textcoords=\"offset points\", fontsize=16)\n",
    "plt.annotate( \"k=%d\" % best_k2, xy=(best_k2, ymax2), xytext=(best_k2, ymax2), textcoords=\"offset points\", fontsize=16)\n",
    "plt.annotate( \"k=%d\" % best_k3, xy=(best_k3, ymax3), xytext=(best_k3, ymax3), textcoords=\"offset points\", fontsize=16)\n",
    "plt.legend()\n",
    "# show the plot\n",
    "plt.show()"
>>>>>>> Stashed changes
   ]
  },
  {
   "cell_type": "code",
<<<<<<< Updated upstream
   "execution_count": 37,
   "metadata": {},
   "outputs": [
    {
     "name": "stderr",
     "output_type": "stream",
     "text": [
      "100%|██████████| 12/12 [00:02<00:00,  4.26it/s]\n"
=======
   "execution_count": 129,
   "metadata": {
    "scrolled": false
   },
   "outputs": [
    {
     "name": "stdout",
     "output_type": "stream",
     "text": [
      "\n",
      "LDA descriptor:\n",
      "\n",
      "Topic 01: phone, car, warrant, __, 205, hey, intergraph, owner, look, houses, listen, cops, uunet, networking, gang, criticism, uucp, get, dave, testing\n",
      "Topic 02: people, government, nsa, think, clinton, get, president, good, going, time, chip, list, please, clipper, know, see, security, thought, money, right\n",
      "Topic 03: quadra, centris, drive, 800, please, vga, nec, hi, cable, mouse, viewer, backup, norton, thanks, apple, kit, monitor, post, get, call\n",
      "Topic 04: satan, angels, objective, tells, ye, temporary, orthodox, god, long, greek, vms, germans, republicans, going, tonight, lunar, 02, wuarchive, keep, typing\n",
      "\n",
      "NMF descriptor:\n",
      "\n",
      "Topic 01: good, time, see, really, back, go, got, something, thing, going, take, long, bike, want, way, sure, right, little, stuff, things\n",
      "Topic 02: please, mail, email, address, send, list, post, interested, reply, someone, thank, looking, mailing, information, contact, hello, tell, respond, fax, replies\n",
      "Topic 03: geb, cadre, dsl, n3jxp, chastity, shameful, pitt, intellect, skepticism, surrender, gordon, banks, soon, edu, blood, patients, probably, medical, weight, disease\n",
      "Topic 04: god, jesus, bible, christ, believe, faith, christian, christians, church, life, sin, truth, heaven, lord, hell, belief, man, christianity, love, father\n",
      "Topic 05: key, chip, encryption, clipper, keys, escrow, algorithm, government, nsa, public, security, secure, phone, des, bit, encrypted, chips, secret, number, privacy\n",
      "Topic 06: drive, drives, disk, hard, floppy, cd, ide, boot, internal, controller, cable, rom, hd, switch, tape, power, external, disks, computer, meg\n",
      "Topic 07: windows, dos, version, os, microsoft, running, drivers, nt, driver, run, pc, 386, mouse, printer, software, win, programs, font, comp, ini\n",
      "Topic 08: 00, sale, 10, shipping, offer, 50, price, 20, 15, condition, 25, 12, 30, 11, asking, 40, excellent, sell, 17, interested\n",
      "Topic 09: armenian, armenians, turkish, turkey, armenia, turks, genocide, greek, soviet, azerbaijan, russian, muslim, argic, serdar, people, war, azeri, killed, population, kurds\n",
      "Topic 10: game, team, games, players, season, hockey, play, win, league, teams, nhl, player, baseball, runs, detroit, toronto, fans, pitching, best, playoffs\n",
      "Topic 11: card, video, monitor, vga, drivers, cards, color, driver, bus, graphics, mode, ati, ram, vesa, diamond, board, vlb, svga, colors, 16\n",
      "Topic 12: car, cars, engine, dealer, miles, bike, speed, price, driving, front, tires, buy, ford, insurance, oil, honda, rear, owner, bought, toyota\n",
      "Topic 13: window, manager, motif, application, server, display, widget, program, code, xterm, screen, set, x11r5, user, top, colormap, client, running, button, root\n",
      "Topic 14: space, nasa, shuttle, launch, station, orbit, earth, moon, data, lunar, gov, research, program, science, sci, cost, satellite, center, mission, technology\n",
      "Topic 15: edu, cs, university, ftp, david, uiuc, article, pub, mit, colorado, cc, email, virginia, internet, indiana, send, au, version, lcs, apr\n",
      "Topic 16: israel, israeli, jews, arab, jewish, arabs, peace, lebanon, lebanese, israelis, war, palestinian, adam, palestinians, land, state, anti, palestine, attacks, syria\n",
      "Topic 17: get, want, need, going, try, number, rid, buy, source, way, call, phone, work, life, question, keep, getting, sell, ask, 800\n",
      "Topic 18: know, anybody, need, program, something, sure, wanted, help, want, appreciated, happen, heard, going, source, interested, far, things, sorry, kind, really\n",
      "Topic 19: com, netcom, list, dave, article, tek, sun, internet, bob, ico, compuserve, handheld, corp, phone, mouse, port, bronx, manhattan, vice, ibm\n",
      "Topic 20: people, government, gun, law, right, guns, state, rights, crime, laws, against, federal, police, amendment, weapons, person, country, control, case, militia\n",
      "Topic 21: scsi, ide, controller, bus, pc, isa, bit, mac, data, devices, interface, sec, chip, transfer, dma, port, hd, fast, vlb, speed\n",
      "\n",
      "LSA descriptor:\n",
      "\n",
      "Topic 01: know, people, get, think, good, time, thanks, god, please, see, want, way, need, right, system, windows, problem, edu, something, really\n",
      "Topic 02: god, people, jesus, think, believe, bible, christian, christians, life, government, see, christ, faith, law, right, israel, religion, jews, fact, against\n",
      "Topic 03: geb, cadre, pitt, dsl, chastity, n3jxp, shameful, edu, intellect, skepticism, surrender, gordon, banks, soon, get, team, game, key, probably, car\n",
      "Topic 04: god, jesus, edu, thanks, geb, cadre, dsl, skepticism, chastity, n3jxp, shameful, intellect, pitt, gordon, surrender, banks, windows, soon, please, bible\n",
      "Topic 05: key, encryption, chip, government, clipper, keys, file, public, program, law, information, escrow, algorithm, files, windows, people, security, system, window, nsa\n",
      "Topic 06: drive, scsi, system, key, disk, card, drives, chip, ide, hard, controller, god, bus, floppy, problem, bit, dos, encryption, clipper, apple\n",
      "Topic 07: windows, file, window, dos, files, program, problem, think, running, team, win, run, game, version, screen, manager, drivers, server, application, display\n"
>>>>>>> Stashed changes
     ]
    }
   ],
   "source": [
<<<<<<< Updated upstream
    "kmin, kmax = 4, 15\n",
    "\n",
    "topic_models = []\n",
    "for k in tqdm(range(kmin,kmax+1)):\n",
    "    model = TruncatedSVD(n_components=k ) \n",
    "    W = model.fit_transform( A )\n",
    "    H = model.components_    \n",
    "    topic_models.append( (k,W,H) )"
=======
    "print('\\nLDA descriptor:\\n')\n",
    "W = topic_models_LDA[k-kmin][1]\n",
    "H = topic_models_LDA[k-kmin][2]\n",
    "for topic_index in range(best_k1):\n",
    "    descriptor = get_descriptor( terms, H, topic_index, 20 )\n",
    "    str_descriptor = \", \".join( descriptor )\n",
    "    print(\"Topic %02d: %s\" % ( topic_index+1, str_descriptor ) )\n",
    "\n",
    "print('\\nNMF descriptor:\\n')\n",
    "W = topic_models_NMF[k-kmin][1]\n",
    "H = topic_models_NMF[k-kmin][2]\n",
    "for topic_index in range(best_k2):\n",
    "    descriptor = get_descriptor( terms, H, topic_index, 20 )\n",
    "    str_descriptor = \", \".join( descriptor )\n",
    "    print(\"Topic %02d: %s\" % ( topic_index+1, str_descriptor ) )  \n",
    "    \n",
    "print('\\nLSA descriptor:\\n')\n",
    "W = topic_models_LSA[k-kmin][1]\n",
    "H = topic_models_LSA[k-kmin][2]\n",
    "for topic_index in range(best_k3):\n",
    "    descriptor = get_descriptor( terms, H, topic_index, 20 )\n",
    "    str_descriptor = \", \".join( descriptor )\n",
    "    print(\"Topic %02d: %s\" % ( topic_index+1, str_descriptor ) )   "
>>>>>>> Stashed changes
   ]
  },
  {
   "cell_type": "markdown",
   "metadata": {},
   "source": [
<<<<<<< Updated upstream
    "### LSA\n",
    "#### best k=4\n",
    "K=04: Coherence=0.5559\n",
    "\n",
    "K=05: Coherence=0.5273\n",
    "\n",
    "K=06: Coherence=0.5149\n",
    "\n",
    "K=07: Coherence=0.4991\n",
    "\n",
    "K=08: Coherence=0.4820\n",
    "\n",
    "\n",
    "K=09: Coherence=0.4561\n",
    "\n",
    "\n",
    "K=10: Coherence=0.4482\n",
    "\n",
    "\n",
    "K=11: Coherence=0.4524\n",
    "\n",
    "\n",
    "K=12: Coherence=0.4441\n",
    "\n",
    "\n",
    "K=13: Coherence=0.4302\n",
    "\n",
    "\n",
    "K=14: Coherence=0.4128\n",
    "\n",
    "\n",
    "K=15: Coherence=0.4074\n",
    "\n",
    "### Topics\n",
    "Topic 01: know, people, get, think, good, time, thanks, god, please, see\n",
    "\n",
    "Topic 02: god, people, jesus, think, believe, bible, christian, christians, life, government\n",
    "\n",
    "Topic 03: geb, cadre, pitt, dsl, n3jxp, chastity, shameful, intellect, skepticism, surrender\n",
    "\n",
    "Topic 04: god, jesus, thanks, edu, geb, cadre, dsl, n3jxp, chastity, skepticism"
   ]
  },
  {
   "cell_type": "code",
   "execution_count": 31,
   "metadata": {},
   "outputs": [
    {
     "name": "stdout",
     "output_type": "stream",
     "text": [
      "Model has 8460 terms\n"
     ]
    }
   ],
   "source": [
    "import re\n",
    "import gensim\n",
    "\n",
    "\n",
    "class TokenGenerator:\n",
    "    def __init__( self, documents, stopwords ):\n",
    "        self.documents = documents\n",
    "        self.stopwords = stopwords\n",
    "        self.tokenizer = re.compile( r\"(?u)\\b\\w\\w+\\b\" )\n",
    "\n",
    "    def __iter__( self ):\n",
    "        for doc in self.documents:\n",
    "            tokens = []\n",
    "            for tok in self.tokenizer.findall( doc ):\n",
    "                if tok in self.stopwords:\n",
    "                    tokens.append( \"<stopword>\" )\n",
    "                elif len(tok) >= 2:\n",
    "                    tokens.append( tok )\n",
    "            yield tokens\n",
    "            \n",
    "\n",
    "docgen = TokenGenerator( raw_documents, custom_stop_words )\n",
    "w2v_model = gensim.models.Word2Vec(docgen, size=500, min_count=20, sg=1)\n",
    "print( \"Model has %d terms\" % len(w2v_model.wv.vocab) )\n",
    "w2v_model.save(\"w2v-model.bin\")"
=======
    "### Лучшая модель по UCI— NMF"
   ]
  },
  {
   "cell_type": "markdown",
   "metadata": {},
   "source": [
    "### Umass"
>>>>>>> Stashed changes
   ]
  },
  {
   "cell_type": "code",
<<<<<<< Updated upstream
   "execution_count": null,
   "metadata": {
    "collapsed": true
   },
   "outputs": [],
   "source": [
    "import gensim\n",
    "\n",
    "w2v_model = gensim.models.Word2Vec.load(\"w2v-model.bin\")\n",
    "print( \"Model has %d terms\" % len(w2v_model.wv.vocab) )"
=======
   "execution_count": 130,
   "metadata": {
    "collapsed": true,
    "scrolled": true
   },
   "outputs": [],
   "source": [
    "def calculate_umass(k, term_rankings, index):\n",
    "    overall_coherence = 0.0\n",
    "    for topic_index in range(len(term_rankings)):\n",
    "        pair_prob = []\n",
    "        for pair in combinations(term_rankings[topic_index], 2 ):\n",
    "            word1_prob =  len(index[pair[0]]) / 11314\n",
    "            both = len(index[pair[0]]&index[pair[1]])/11314\n",
    "            score = np.log((both + 10**(-12)) / (word1_prob)) \n",
    "            pair_prob.append(score)\n",
    "        topic_score =  sum(pair_prob) * (2 / (len(term_rankings[topic_index]) * (len(term_rankings[topic_index])-1)))\n",
    "        overall_coherence += topic_score\n",
    "    return overall_coherence / len(term_rankings)"
>>>>>>> Stashed changes
   ]
  },
  {
   "cell_type": "code",
<<<<<<< Updated upstream
   "execution_count": 42,
   "metadata": {},
=======
   "execution_count": 131,
   "metadata": {
    "scrolled": true
   },
>>>>>>> Stashed changes
   "outputs": [
    {
     "name": "stdout",
     "output_type": "stream",
     "text": [
<<<<<<< Updated upstream
      "K=04: Coherence=0.5465\n",
      "K=05: Coherence=0.5569\n",
      "K=06: Coherence=0.5705\n",
      "K=07: Coherence=0.5854\n",
      "K=08: Coherence=0.6087\n",
      "K=09: Coherence=0.5979\n",
      "K=10: Coherence=0.5748\n",
      "K=11: Coherence=0.5802\n",
      "K=12: Coherence=0.5880\n",
      "K=13: Coherence=0.6019\n",
      "K=14: Coherence=0.5888\n",
      "K=15: Coherence=0.5950\n"
=======
      "\n",
      "LDA Coherence:\n",
      "\n",
      "K=04: Coherence=-2.0157\n",
      "K=05: Coherence=-2.8287\n",
      "K=06: Coherence=-3.3634\n",
      "K=07: Coherence=-4.4911\n",
      "K=08: Coherence=-4.8534\n",
      "K=09: Coherence=-4.2024\n",
      "K=10: Coherence=-4.3444\n",
      "K=11: Coherence=-4.0097\n",
      "K=12: Coherence=-4.9083\n",
      "K=13: Coherence=-4.6311\n",
      "K=14: Coherence=-4.8373\n",
      "K=15: Coherence=-5.8844\n",
      "K=16: Coherence=-4.7149\n",
      "K=17: Coherence=-7.0267\n",
      "K=18: Coherence=-6.1043\n",
      "K=19: Coherence=-5.2736\n",
      "K=20: Coherence=-5.4244\n",
      "K=21: Coherence=-5.8197\n",
      "K=22: Coherence=-5.0469\n",
      "K=23: Coherence=-5.5326\n",
      "K=24: Coherence=-6.8543\n",
      "K=25: Coherence=-5.0951\n",
      "\n",
      "NMF Coherence:\n",
      "\n",
      "K=04: Coherence=-1.7901\n",
      "K=05: Coherence=-1.7679\n",
      "K=06: Coherence=-1.8462\n",
      "K=07: Coherence=-1.8884\n",
      "K=08: Coherence=-1.8920\n",
      "K=09: Coherence=-2.0094\n",
      "K=10: Coherence=-2.0166\n",
      "K=11: Coherence=-2.0597\n",
      "K=12: Coherence=-2.0848\n",
      "K=13: Coherence=-2.1058\n",
      "K=14: Coherence=-2.0807\n",
      "K=15: Coherence=-2.1320\n",
      "K=16: Coherence=-2.0574\n",
      "K=17: Coherence=-2.0191\n",
      "K=18: Coherence=-2.0288\n",
      "K=19: Coherence=-2.0488\n",
      "K=20: Coherence=-2.1524\n",
      "K=21: Coherence=-2.0062\n",
      "K=22: Coherence=-2.2686\n",
      "K=23: Coherence=-2.0829\n",
      "K=24: Coherence=-2.1034\n",
      "K=25: Coherence=-2.3810\n",
      "\n",
      "LSA Coherence:\n",
      "\n",
      "K=04: Coherence=-3.4367\n",
      "K=05: Coherence=-3.1885\n",
      "K=06: Coherence=-3.1942\n",
      "K=07: Coherence=-3.1189\n",
      "K=08: Coherence=-3.1992\n",
      "K=09: Coherence=-3.2785\n",
      "K=10: Coherence=-3.3213\n",
      "K=11: Coherence=-3.4366\n",
      "K=12: Coherence=-3.2304\n",
      "K=13: Coherence=-3.4170\n",
      "K=14: Coherence=-3.5631\n",
      "K=15: Coherence=-3.6227\n",
      "K=16: Coherence=-3.5343\n",
      "K=17: Coherence=-3.5236\n",
      "K=18: Coherence=-3.6794\n",
      "K=19: Coherence=-3.5285\n",
      "K=20: Coherence=-3.5299\n",
      "K=21: Coherence=-3.5954\n",
      "K=22: Coherence=-3.4283\n",
      "K=23: Coherence=-3.4447\n",
      "K=24: Coherence=-3.5274\n",
      "K=25: Coherence=-3.4962\n"
>>>>>>> Stashed changes
     ]
    }
   ],
   "source": [
<<<<<<< Updated upstream
    "from itertools import combinations\n",
    "\n",
    "\n",
    "def calculate_coherence( w2v_model, term_rankings ):\n",
    "    overall_coherence = 0.0\n",
    "    for topic_index in range(len(term_rankings)):\n",
    "        # check each pair of terms\n",
    "        pair_scores = []\n",
    "        for pair in combinations( term_rankings[topic_index], 2 ):\n",
    "            pair_scores.append( w2v_model.similarity(pair[0], pair[1]) )\n",
    "        # get the mean for all pairs in this topic\n",
    "        topic_score = sum(pair_scores) / len(pair_scores)\n",
    "        overall_coherence += topic_score\n",
    "    # get the mean score across all topics\n",
    "    return overall_coherence / len(term_rankings)\n",
    "\n",
    "\n",
    "k_values = []\n",
    "coherences = []\n",
    "for (k,W,H) in topic_models:\n",
    "    # Get all of the topic descriptors - the term_rankings, based on top 10 terms\n",
    "    term_rankings = []\n",
    "    for topic_index in range(k):\n",
    "        term_rankings.append( get_descriptor( terms, H, topic_index, 10 ) )\n",
    "    # Now calculate the coherence based on our Word2vec model\n",
    "    k_values.append( k )\n",
    "    coherences.append( calculate_coherence( w2v_model, term_rankings ) )\n",
    "    print(\"K=%02d: Coherence=%.4f\" % ( k, coherences[-1] ) )"
=======
    "k_valuesLDA = []\n",
    "k_valuesNMF = []\n",
    "k_valuesLSA = []\n",
    "coherencesLDA = []\n",
    "coherencesNMF = []\n",
    "coherencesLSA = []\n",
    "#LDA\n",
    "print('\\nLDA Coherence:\\n')\n",
    "for (k,W,H) in topic_models_LDA:\n",
    "    # Get all of the topic descriptors - the term_rankings, based on top 20 terms\n",
    "    term_rankings = []\n",
    "    for topic_index in range(k):\n",
    "        term_rankings.append( get_descriptor( terms, H, topic_index, 20 ) )\n",
    "    # Now calculate the coherence based on our Word2vec model\n",
    "    k_valuesLDA.append( k )\n",
    "    coherencesLDA.append( calculate_umass( k, term_rankings, index ) )\n",
    "    print(\"K=%02d: Coherence=%.4f\" % ( k, coherencesLDA[-1] ) )\n",
    "    \n",
    "    \n",
    "#NMF\n",
    "print('\\nNMF Coherence:\\n')\n",
    "for (k,W,H) in topic_models_NMF:\n",
    "    # Get all of the topic descriptors - the term_rankings, based on top 20 terms\n",
    "    term_rankings = []\n",
    "    for topic_index in range(k):\n",
    "        term_rankings.append( get_descriptor( terms, H, topic_index, 20 ) )\n",
    "    # Now calculate the coherence based on our Word2vec model\n",
    "    k_valuesNMF.append( k )\n",
    "    coherencesNMF.append( calculate_umass( k, term_rankings, index ) )\n",
    "    print(\"K=%02d: Coherence=%.4f\" % ( k, coherencesNMF[-1] ) )\n",
    "#LSA\n",
    "print('\\nLSA Coherence:\\n')\n",
    "for (k,W,H) in topic_models_LSA:\n",
    "    # Get all of the topic descriptors - the term_rankings, based on top 20 terms\n",
    "    term_rankings = []\n",
    "    for topic_index in range(k):\n",
    "        term_rankings.append( get_descriptor( terms, H, topic_index, 20 ) )\n",
    "    # Now calculate the coherence based on our Word2vec model\n",
    "    k_valuesLSA.append( k )\n",
    "    coherencesLSA.append( calculate_umass( k, term_rankings, index ) )\n",
    "    print(\"K=%02d: Coherence=%.4f\" % ( k, coherencesLSA[-1] ) )\n",
    "\n"
>>>>>>> Stashed changes
   ]
  },
  {
   "cell_type": "code",
<<<<<<< Updated upstream
   "execution_count": 43,
   "metadata": {},
   "outputs": [
    {
     "data": {
      "image/png": "iVBORw0KGgoAAAANSUhEUgAAAxIAAAGtCAYAAACCx0JCAAAABHNCSVQICAgIfAhkiAAAAAlwSFlz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\nAACARqNIAAAAAGi0/wMHI390RzYKuAAAAABJRU5ErkJggg==\n",
      "text/plain": [
       "<matplotlib.figure.Figure at 0x11a40aac8>"
=======
   "execution_count": 132,
   "metadata": {
    "scrolled": true
   },
   "outputs": [
    {
     "data": {
      "image/png": "iVBORw0KGgoAAAANSUhEUgAAAwsAAAGtCAYAAABZfOhgAAAABHNCSVQICAgIfAhkiAAAAAlwSFlz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\ngoiIiIiIZKRkQUREREREMvp/006as+Ro77IAAAAASUVORK5CYII=\n",
      "text/plain": [
       "<matplotlib.figure.Figure at 0x1468a7860>"
>>>>>>> Stashed changes
      ]
     },
     "metadata": {},
     "output_type": "display_data"
    }
   ],
   "source": [
    "fig = plt.figure(figsize=(13,7))\n",
    "# create the line plot\n",
<<<<<<< Updated upstream
    "ax = plt.plot( k_values, coherences )\n",
    "plt.xticks(k_values)\n",
    "plt.xlabel(\"Number of Topics\")\n",
    "plt.ylabel(\"Mean Coherence\")\n",
    "# add the points\n",
    "plt.scatter( k_values, coherences, s=120)\n",
    "# find and annotate the maximum point on the plot\n",
    "ymax = max(coherences)\n",
    "xpos = coherences.index(ymax)\n",
    "best_k = k_values[xpos]\n",
    "plt.annotate( \"k=%d\" % best_k, xy=(best_k, ymax), xytext=(best_k, ymax), textcoords=\"offset points\", fontsize=16)\n",
    "# show the plot\n",
    "plt.show()"
=======
    "plt.plot( k_valuesLDA, coherencesLDA, 'r', label = 'LDA' )\n",
    "plt.plot( k_valuesNMF, coherencesNMF, 'b', label = 'NMF' )\n",
    "plt.plot( k_valuesLSA, coherencesLSA, 'g', label = 'LSA' )\n",
    "plt.xticks(k_valuesLDA)\n",
    "plt.xticks(k_valuesLSA)\n",
    "plt.xticks(k_valuesNMF)\n",
    "plt.xlabel(\"Number of Topics\")\n",
    "plt.ylabel(\"Mean Coherence\")\n",
    "# add the points\n",
    "plt.scatter( k_valuesLSA, coherencesLSA, s=50, color ='g')\n",
    "plt.scatter( k_valuesLDA, coherencesLDA, s=50, color ='r')\n",
    "plt.scatter( k_valuesNMF, coherencesNMF, s=50, color ='b')\n",
    "# find and annotate the maximum point on the plot\n",
    "ymax = max(coherencesLDA)\n",
    "ymax2 = max(coherencesNMF)\n",
    "ymax3 = max(coherencesLSA)\n",
    "xpos1 = coherencesLDA.index(ymax)\n",
    "xpos2 = coherencesNMF.index(ymax2)\n",
    "xpos3 = coherencesLSA.index(ymax3)\n",
    "best_k1 = k_valuesLDA[xpos1]\n",
    "best_k2 = k_valuesNMF[xpos2]\n",
    "best_k3 = k_valuesLSA[xpos3]\n",
    "plt.annotate( \"k=%d\" % best_k1, xy=(best_k1, ymax), xytext=(best_k1, ymax), textcoords=\"offset points\", fontsize=16)\n",
    "plt.annotate( \"k=%d\" % best_k2, xy=(best_k2, ymax2), xytext=(best_k2, ymax2), textcoords=\"offset points\", fontsize=16)\n",
    "plt.annotate( \"k=%d\" % best_k3, xy=(best_k3, ymax3), xytext=(best_k3, ymax3), textcoords=\"offset points\", fontsize=16)\n",
    "plt.legend()\n",
    "# show the plot\n",
    "plt.show()\n",
    "\n"
>>>>>>> Stashed changes
   ]
  },
  {
   "cell_type": "code",
<<<<<<< Updated upstream
   "execution_count": 44,
   "metadata": {},
=======
   "execution_count": 133,
   "metadata": {
    "scrolled": true
   },
>>>>>>> Stashed changes
   "outputs": [
    {
     "name": "stdout",
     "output_type": "stream",
     "text": [
<<<<<<< Updated upstream
      "Topic 01: people, think, get, know, time, right, good, see, really, way\n",
      "Topic 02: thanks, please, mail, know, advance, email, looking, info, address, edu\n",
      "Topic 03: geb, cadre, dsl, chastity, n3jxp, shameful, pitt, intellect, skepticism, surrender\n",
      "Topic 04: god, jesus, bible, believe, christ, faith, christian, christians, church, life\n",
      "Topic 05: key, chip, encryption, clipper, keys, government, system, escrow, algorithm, public\n",
      "Topic 06: drive, scsi, card, disk, drives, controller, hard, ide, floppy, bus\n",
      "Topic 07: windows, file, dos, files, window, program, version, problem, running, screen\n",
      "Topic 08: game, team, games, players, season, play, hockey, win, league, player\n"
=======
      "\n",
      "LDA descriptor:\n",
      "\n",
      "Topic 01: phone, car, warrant, __, 205, hey, intergraph, owner, look, houses, listen, cops, uunet, networking, gang, criticism, uucp, get, dave, testing\n",
      "Topic 02: people, government, nsa, think, clinton, get, president, good, going, time, chip, list, please, clipper, know, see, security, thought, money, right\n",
      "Topic 03: quadra, centris, drive, 800, please, vga, nec, hi, cable, mouse, viewer, backup, norton, thanks, apple, kit, monitor, post, get, call\n",
      "Topic 04: satan, angels, objective, tells, ye, temporary, orthodox, god, long, greek, vms, germans, republicans, going, tonight, lunar, 02, wuarchive, keep, typing\n",
      "\n",
      "NMF descriptor:\n",
      "\n",
      "Topic 01: good, time, see, really, back, go, got, something, thing, going, take, long, bike, want, way, sure, right, little, stuff, things\n",
      "Topic 02: please, mail, email, address, send, list, post, interested, reply, someone, thank, looking, mailing, information, contact, hello, tell, respond, fax, replies\n",
      "Topic 03: geb, cadre, dsl, n3jxp, chastity, shameful, pitt, intellect, skepticism, surrender, gordon, banks, soon, edu, blood, patients, probably, medical, weight, disease\n",
      "Topic 04: god, jesus, bible, christ, believe, faith, christian, christians, church, life, sin, truth, heaven, lord, hell, belief, man, christianity, love, father\n",
      "Topic 05: key, chip, encryption, clipper, keys, escrow, algorithm, government, nsa, public, security, secure, phone, des, bit, encrypted, chips, secret, number, privacy\n",
      "\n",
      "LSA descriptor:\n",
      "\n",
      "Topic 01: know, people, get, think, good, time, thanks, god, please, see, want, way, need, right, system, windows, problem, edu, something, really\n",
      "Topic 02: god, people, jesus, think, believe, bible, christian, christians, life, government, see, christ, faith, law, right, israel, religion, jews, fact, against\n",
      "Topic 03: geb, cadre, pitt, dsl, chastity, n3jxp, shameful, edu, intellect, skepticism, surrender, gordon, banks, soon, get, team, game, key, probably, car\n",
      "Topic 04: god, jesus, edu, thanks, geb, cadre, dsl, skepticism, chastity, n3jxp, shameful, intellect, pitt, gordon, surrender, banks, windows, soon, please, bible\n",
      "Topic 05: key, encryption, chip, government, clipper, keys, file, public, program, law, information, escrow, algorithm, files, windows, people, security, system, window, nsa\n",
      "Topic 06: drive, scsi, system, key, disk, card, drives, chip, ide, hard, controller, god, bus, floppy, problem, bit, dos, encryption, clipper, apple\n",
      "Topic 07: windows, file, window, dos, files, program, problem, think, running, team, win, run, game, version, screen, manager, drivers, server, application, display\n"
>>>>>>> Stashed changes
     ]
    }
   ],
   "source": [
<<<<<<< Updated upstream
    "k = best_k\n",
    "# get the model that we generated earlier.\n",
    "W = topic_models[k-kmin][1]\n",
    "H = topic_models[k-kmin][2]\n",
    "\n",
    "for topic_index in range(k):\n",
    "    descriptor = get_descriptor( terms, H, topic_index, 10 )\n",
    "    str_descriptor = \", \".join( descriptor )\n",
    "    print(\"Topic %02d: %s\" % ( topic_index+1, str_descriptor ) )"
=======
    "print('\\nLDA descriptor:\\n')\n",
    "W = topic_models_LDA[k-kmin][1]\n",
    "H = topic_models_LDA[k-kmin][2]\n",
    "for topic_index in range(best_k1):\n",
    "    descriptor = get_descriptor( terms, H, topic_index, 20 )\n",
    "    str_descriptor = \", \".join( descriptor )\n",
    "    print(\"Topic %02d: %s\" % ( topic_index+1, str_descriptor ) )\n",
    "\n",
    "print('\\nNMF descriptor:\\n')\n",
    "W = topic_models_NMF[k-kmin][1]\n",
    "H = topic_models_NMF[k-kmin][2]\n",
    "for topic_index in range(best_k2):\n",
    "    descriptor = get_descriptor( terms, H, topic_index, 20 )\n",
    "    str_descriptor = \", \".join( descriptor )\n",
    "    print(\"Topic %02d: %s\" % ( topic_index+1, str_descriptor ) )  \n",
    "    \n",
    "print('\\nLSA descriptor:\\n')\n",
    "W = topic_models_LSA[k-kmin][1]\n",
    "H = topic_models_LSA[k-kmin][2]\n",
    "for topic_index in range(best_k3):\n",
    "    descriptor = get_descriptor( terms, H, topic_index, 20 )\n",
    "    str_descriptor = \", \".join( descriptor )\n",
    "    print(\"Topic %02d: %s\" % ( topic_index+1, str_descriptor ) )   "
>>>>>>> Stashed changes
   ]
  },
  {
   "cell_type": "markdown",
   "metadata": {},
   "source": [
<<<<<<< Updated upstream
    "### UCI"
=======
    "### Лучшая модель по Umass— NMF"
   ]
  },
  {
   "cell_type": "markdown",
   "metadata": {},
   "source": [
    "## Let's recommend"
>>>>>>> Stashed changes
   ]
  },
  {
   "cell_type": "code",
<<<<<<< Updated upstream
   "execution_count": null,
   "metadata": {
    "collapsed": true
   },
   "outputs": [],
   "source": []
  },
  {
   "cell_type": "code",
   "execution_count": null,
   "metadata": {
    "collapsed": true
   },
   "outputs": [],
   "source": []
=======
   "execution_count": 135,
   "metadata": {
    "collapsed": true,
    "scrolled": true
   },
   "outputs": [],
   "source": [
    "from sklearn.neighbors import NearestNeighbors\n",
    "\n",
    "class NewsRecommender:\n",
    "    def __init__(self, texts=raw_documents, stopwords=custom_stop_words):\n",
    "        self.texts = texts\n",
    "        self.stopwords = stopwords\n",
    "        self.vectorizer = TfidfVectorizer(min_df=20, stop_words=self.stopwords)\n",
    "        self.neigh = NearestNeighbors(algorithm='auto', metric='cosine')\n",
    "        self.model = NMF( init=\"nndsvd\", n_components=21)\n",
    "        \n",
    "    def train(self):\n",
    "        A = self.vectorizer.fit_transform(self.texts)\n",
    "        W = self.model.fit_transform(A)\n",
    "        self.neigh.fit(W)   \n",
    "\n",
    "    def recommend(self, text_sample, k):\n",
    "        A = self.vectorizer.transform([text_sample.lower()])\n",
    "        W = self.model.transform(A)\n",
    "        n = self.neigh.kneighbors(W, k, return_distance=False) \n",
    "        return [self.texts[i] for i in n[0]]"
   ]
  },
  {
   "cell_type": "code",
   "execution_count": 136,
   "metadata": {
    "scrolled": true
   },
   "outputs": [],
   "source": [
    "check = NewsRecommender(texts=raw_documents)\n",
    "check.train()"
   ]
>>>>>>> Stashed changes
  },
  {
   "cell_type": "markdown",
   "metadata": {},
   "source": [
<<<<<<< Updated upstream
    "### Umass"
=======
    "### Test on 20newsgroups dataset\n",
    "#### Тестовый текст про политку, арабские страны и Израль\n",
    "#### В результате выдаёт тексты, связанные с Израилем и его отношением с арабскими странами"
>>>>>>> Stashed changes
   ]
  },
  {
   "cell_type": "code",
<<<<<<< Updated upstream
   "execution_count": null,
   "metadata": {
    "collapsed": true
   },
   "outputs": [],
   "source": []
  },
  {
   "cell_type": "code",
   "execution_count": null,
   "metadata": {
    "collapsed": true
   },
   "outputs": [],
   "source": [
    "sklearn.metrics.pairwise.cosine_distances(X, Y=None)\n",
    "# x, y сжатые матрицы"
   ]
  },
  {
   "cell_type": "code",
   "execution_count": null,
   "metadata": {
    "collapsed": true
   },
   "outputs": [],
   "source": []
  },
  {
   "cell_type": "code",
   "execution_count": 30,
   "metadata": {
    "collapsed": true
   },
   "outputs": [],
   "source": [
    "from sklearn.neighbors import NearestNeighbors\n",
    "\n",
    "class NewsRecommender:\n",
    "    def __init__(self, texts=raw_documents, stopwords=custom_stop_words):\n",
    "        self.texts = texts\n",
    "        self.stopwords = stopwords\n",
    "        self.vectorizer = TfidfVectorizer(min_df=20, stop_words=self.stopwords)\n",
    "        \n",
    "    def train(self):\n",
    "        A = self.vectorizer.fit_transform(self.texts)\n",
    "        model = LatentDirichletAllocation(n_components=12, max_iter=5,\n",
    "                                learning_method='batch',\n",
    "                                learning_offset=50.,\n",
    "                                random_state=1)\n",
    "        return NearestNeighbors(n_neighbors=k, algorithm='auto', metric='cosine').fit(model)\n",
    "    def recommend(self, text_sample, k):\n",
    "        B = self.vectorizer.transform(text_sample)\n",
    "        И = text_sample.transform()\n",
    "        neigh = self.train()\n",
    "        n = neigh.kneighbors(B) \n",
    "        news = n.inverse_transform()\n",
    "        print ([i for i in news])"
   ]
  },
  {
   "cell_type": "code",
   "execution_count": 32,
   "metadata": {},
   "outputs": [
    {
     "ename": "AttributeError",
     "evalue": "'str' object has no attribute 'transform'",
     "output_type": "error",
     "traceback": [
      "\u001b[0;31m---------------------------------------------------------------------------\u001b[0m",
      "\u001b[0;31mAttributeError\u001b[0m                            Traceback (most recent call last)",
      "\u001b[0;32m<ipython-input-32-df41c0ba17a7>\u001b[0m in \u001b[0;36m<module>\u001b[0;34m()\u001b[0m\n\u001b[1;32m      1\u001b[0m \u001b[0mcheck\u001b[0m \u001b[0;34m=\u001b[0m \u001b[0mNewsRecommender\u001b[0m\u001b[0;34m(\u001b[0m\u001b[0;34m)\u001b[0m\u001b[0;34m\u001b[0m\u001b[0m\n\u001b[0;32m----> 2\u001b[0;31m \u001b[0mcheck\u001b[0m\u001b[0;34m.\u001b[0m\u001b[0mrecommend\u001b[0m\u001b[0;34m(\u001b[0m\u001b[0mtext_sample\u001b[0m\u001b[0;34m=\u001b[0m\u001b[0;34m'football was played'\u001b[0m\u001b[0;34m,\u001b[0m \u001b[0mk\u001b[0m\u001b[0;34m=\u001b[0m\u001b[0;36m10\u001b[0m\u001b[0;34m)\u001b[0m\u001b[0;34m\u001b[0m\u001b[0m\n\u001b[0m",
      "\u001b[0;32m<ipython-input-30-03f68b30c561>\u001b[0m in \u001b[0;36mrecommend\u001b[0;34m(self, text_sample, k)\u001b[0m\n\u001b[1;32m     16\u001b[0m     \u001b[0;32mdef\u001b[0m \u001b[0mrecommend\u001b[0m\u001b[0;34m(\u001b[0m\u001b[0mself\u001b[0m\u001b[0;34m,\u001b[0m \u001b[0mtext_sample\u001b[0m\u001b[0;34m,\u001b[0m \u001b[0mk\u001b[0m\u001b[0;34m)\u001b[0m\u001b[0;34m:\u001b[0m\u001b[0;34m\u001b[0m\u001b[0m\n\u001b[1;32m     17\u001b[0m         \u001b[0;31m#B = self.vectorizer.transform(text_sample)\u001b[0m\u001b[0;34m\u001b[0m\u001b[0;34m\u001b[0m\u001b[0m\n\u001b[0;32m---> 18\u001b[0;31m         \u001b[0mИ\u001b[0m \u001b[0;34m=\u001b[0m \u001b[0mtext_sample\u001b[0m\u001b[0;34m.\u001b[0m\u001b[0mtransform\u001b[0m\u001b[0;34m(\u001b[0m\u001b[0;34m)\u001b[0m\u001b[0;34m\u001b[0m\u001b[0m\n\u001b[0m\u001b[1;32m     19\u001b[0m         \u001b[0mneigh\u001b[0m \u001b[0;34m=\u001b[0m \u001b[0mself\u001b[0m\u001b[0;34m.\u001b[0m\u001b[0mtrain\u001b[0m\u001b[0;34m(\u001b[0m\u001b[0;34m)\u001b[0m\u001b[0;34m\u001b[0m\u001b[0m\n\u001b[1;32m     20\u001b[0m         \u001b[0mn\u001b[0m \u001b[0;34m=\u001b[0m \u001b[0mneigh\u001b[0m\u001b[0;34m.\u001b[0m\u001b[0mkneighbors\u001b[0m\u001b[0;34m(\u001b[0m\u001b[0mB\u001b[0m\u001b[0;34m)\u001b[0m\u001b[0;34m\u001b[0m\u001b[0m\n",
      "\u001b[0;31mAttributeError\u001b[0m: 'str' object has no attribute 'transform'"
     ]
    }
   ],
   "source": [
    "check = NewsRecommender()\n",
    "check.recommend(text_sample='football was played', k=10)"
=======
   "execution_count": 139,
   "metadata": {
    "scrolled": false
   },
   "outputs": [
    {
     "data": {
      "text/plain": [
       "\"although i realize that principle is not one of your strongest\\npoints, i would still like to know why do do not ask any question\\nof this sort about the arab countries.\\n\\n   if you want to continue this think tank charade of yours, your\\nfixation on israel must stop.  you might have to start asking the\\nsame sort of questions of arab countries as well.  you realize it\\nwould not work, as the arab countries' treatment of jews over the\\nlast several decades is so bad that your fixation on israel would\\nbegin to look like the biased attack that it is.\\n\\n   everyone in this group recognizes that your stupid 'center for\\npolicy research' is nothing more than a fancy name for some bigot\\nwho hates israel.\""
      ]
     },
     "execution_count": 139,
     "metadata": {},
     "output_type": "execute_result"
    }
   ],
   "source": [
    "test_text = raw_documents[2]"
   ]
  },
  {
   "cell_type": "code",
   "execution_count": 140,
   "metadata": {
    "scrolled": true
   },
   "outputs": [
    {
     "name": "stdout",
     "output_type": "stream",
     "text": [
      "although i realize that principle is not one of your strongest\n",
      "points, i would still like to know why do do not ask any question\n",
      "of this sort about the arab countries.\n",
      "\n",
      "   if you want to continue this think tank charade of yours, your\n",
      "fixation on israel must stop.  you might have to start asking the\n",
      "same sort of questions of arab countries as well.  you realize it\n",
      "would not work, as the arab countries' treatment of jews over the\n",
      "last several decades is so bad that your fixation on israel would\n",
      "begin to look like the biased attack that it is.\n",
      "\n",
      "   everyone in this group recognizes that your stupid 'center for\n",
      "policy research' is nothing more than a fancy name for some bigot\n",
      "who hates israel.\n",
      "_______________________________________________________________\n",
      "if you consider israeli reporting of events in israel to be propoganda, then \n",
      "consider the washington post's handling of american events to be propoganda\n",
      "too.  what makes the israeli press inherently biased in your opinion?  i\n",
      "wouldn't compare it to nazi propoganda either.  unless you want to provide\n",
      "some evidence of israeli inaccuracies or parallels to nazism, i suggest you \n",
      "keep your mouth shut.  i'm sick and tired of all you anti-semites comparing\n",
      "israel to the nazis (and yes, in my opinion, if you compare israel to the nazis\n",
      "you are an anti-semite because you know damn well it isn't true and you are\n",
      "just trying to discredit israel).\n",
      "_______________________________________________________________\n",
      "you know ed,...  you're right!  andi shouldn't be comparing\n",
      "israel to the nazis.  the israelis are much worse than the\n",
      "nazis ever were anyway.  the nazis did a lot of good for\n",
      "germany, and they would have succeeded if it weren't for the\n",
      "damn jews.  the holocaust never happened anyway.  ample\n",
      "evidence given by george schafer at harvard, dept. of history,\n",
      "and even by randolph higgins at nyu, have shown that the\n",
      "holocaust was just a semitic conspiracy created to obtain\n",
      "sympathy to piush for the creation of israel.\n",
      "_______________________________________________________________\n",
      "pardon me tim, but i do not see how it can be possible for the idf to fail\n",
      "to detect the presence of those responsible for planting the bomb which\n",
      "killed the three idf troops and then later know the exact number and \n",
      "whereabouts of all of them. several villages were shelled. how could the idf\n",
      "possibly have known that there were guerrillas in each of the targetted\n",
      "villages? you see, it was an arbitrary act of \"retaliation\".\n",
      "\n",
      "\n",
      "\n",
      "the problem, tim, is that the original reason for the invasion was palestinian\n",
      "attacks on israel, not lebanese attacks. \n",
      "\n",
      "\n",
      "first, i believe that my statement applies to both sides.\n",
      "\n",
      "having said that, i think it is neccessary to separate what is legitimately\n",
      "negotiable and what is not. for example, no country has the right to abuse\n",
      "one's human rights. deciding whether there will be one or two states in\n",
      "palestine is a legitimate question. while de facto one state exists, israel \n",
      "must treat all within its domain equitably.\n",
      "\n",
      "\n",
      "yes, i am afraid that what you say is true but that still does not justify\n",
      "occupying your neighbor's land. israel must resolve its disputes with the\n",
      "native palestinians if it wants peace from such attacks.\n",
      "\n",
      "\n",
      "not true. lebanese were not attacking israel in the 1970s. with a strong\n",
      "lebanese government (free from syrian and israeli interference) i believe\n",
      "that the border could be adequately patrolled. the palestinian heavy\n",
      "weapons have been siezed in past years and i do not see as significant a\n",
      "threat as once existed.\n",
      "_______________________________________________________________\n",
      "(just an interrupting comment here) since early 1980's , israelis said they are \n",
      "willing to give up the adminstration rule of the occupied terretories to\n",
      "palestineans. palestineans refused and will refuse such settlement that denies\n",
      "them their right of self-determination. period.\n",
      "\n",
      "\n",
      "ok. i donot know why there are israeli voices against negotiations. however,\n",
      "i would guess that is because they refuse giving back a land for those who\n",
      "have the right for it.\n",
      "\n",
      "as for the arabian and palestinean voices that are against the\n",
      "current negotiations and the so-called peace process, they\n",
      "are not against peace per se, but rather for their well-founded predictions\n",
      "that israel would not give an inch of the west bank (and most probably the same\n",
      "for golan heights) back to the arabs. an 18 months of \"negotiations\" in madrid,\n",
      "and washington proved these predictions. now many will jump on me saying why\n",
      "are you blaming israelis for no-result negotiations.\n",
      "i would say why would the arabs stall the negotiations, what do they have to\n",
      "loose ?\n",
      "\n",
      "arabs feel that the current \"negotiations\" is only for legitimizing the current\n",
      "status-quo and for opening the doors of the arab markets for israeli trade and\n",
      "\"oranges\". that is simply unacceptable and would be revoked. \n",
      "\n",
      "just an opinion.\n",
      "_______________________________________________________________\n",
      "i will again *repeat* my statement: 1) i *do not* condone these \n",
      "*indiscriminate* israeli acts (nor have i *ever*, 2) if the villagers do not know who these \"guerillas\" are (which you stated earlier), how do you expect the\n",
      "israelis to know? it is **very** difficult to \"identify\" who they are (this\n",
      "*is why* the \"guerillas\" prefer to lose themselves in the general population \n",
      "by dressing the same, acting the same, etc.).\n",
      "i agree; but, because lebanon was either unwilling or unable to stop these\n",
      "attacks from its territory should israel simply sit quietly and accept its\n",
      "situation? israel asked the lebanese government over and over to control\n",
      "this \"third party state\" within lebanese territory and the attacks kept\n",
      "occuring. at **what point** does israel (or any state) have the right to do\n",
      "something itself to stop such attacks? never?\n",
      "it is also the responsibility of *any* state to not allow *any* outside\n",
      "party to use its territory for attacks on a neighboring state. if 1) angola\n",
      "had the power, and 2) south africa refused (or couldn't) stop anti-angolan\n",
      "guerillas based on sa soil from attacking angola, and 3) south africa\n",
      "refused to have un troops stationed on its territory between it and angola,\n",
      "would angola be justified in entering sa? if not, are you saying that\n",
      "angola had to accept the situation, do nothing and absorb the attacks?\n",
      "i refered above *at all times* to the palestinian attacks on israel from\n",
      "lebanese soil, not to lebanese attacks on israel. \n",
      "\n",
      "one hopes that a lebanese government will be strong enough to patrol its \n",
      "border but there is no reason to believe it will be any stronger. what has \n",
      "changed is that the plo was largely *driven out* of lebanon (not by the \n",
      "lebanese, not by syria) and that is by far the most important making it \n",
      "easier to control future palestinian attacks from lebanese soil. that\n",
      "**change** was brought about by israeli action; the plo would *never*\n",
      "have been ejected by lebanese, arab state or un actions. \n",
      "i fully recognize that the lebanese do not want to be \"used\" by either side,\n",
      "and have been (and continue to be). but the most fundamental issue is that\n",
      "if a state cannot control its borders and make real efforts to do so, it\n",
      "should expect others to do it for them. hopefully that \"other\" will be\n",
      "the un but it is (as we see in its cowardice regarding bosnia) weak.\n",
      "_______________________________________________________________\n",
      "[snip]\n",
      "   in the first place the death of three soldiers on a patrol in occupied\n",
      "   lebanese terrritory is not an act of terrorism or murder.  it is \n",
      "   disingeneous to compare their death to that of athletes in munich\n",
      "   or any other act of terrorism or mrder.  this exercise is aimed \n",
      "   solely at diverting the issue and is far from the truth.\n",
      "\n",
      "i agree that the death of three soldiers on a patrol etc... is\n",
      "not terrorism.  that having been said, lets continue.\n",
      "\n",
      "   [snip]\n",
      "   imagine ????  it is not a \"terrorist camp\" as you and the israelis like \n",
      "   to view the villages they are small communities with kids playing soccer\n",
      "   in the streets, women preparing lunch, men playing cards, etc.....\n",
      "\n",
      "i would not argue that all or even most of the villages are \"terrorist\n",
      "camps\".  there are however some which come very close to serving that\n",
      "purpose and that is not to say that other did not function in that way\n",
      "prior to the invasion. \n",
      "\n",
      "   some young men, usually aged between 17 to 30 years are members of\n",
      "   the lebanese resistance.  even the inhabitants of the village do not \n",
      "   know who these are, they are secretive about it, but most people often\n",
      "   suspect who they are and what they are up to.  these young men are\n",
      "   supported financially by iran most of the time.  they sneak arms and\n",
      "   ammunitions into the occupied zone where they set up booby traps\n",
      "   for israeli patrols.  every time an israeli soldier is killed or injured\n",
      "   by these traps, israel retalliates by indiscriminately bombing villages\n",
      "   of their own choosing often killing only innocent civilians.  once they\n",
      "   are back they announce that they bombed a \"terrorist  hideout\" where\n",
      "   an 8 year old girl just happened to be.\n",
      "\n",
      "some of the villages, and yours might well be among them, are as you\n",
      "describe.  not all are.  there are a large number of groups in the area,\n",
      "backed by various organizations, with a wide range of purposes.  hizbollah\n",
      "and amal were two of the larger ones and may still be.  as to retaliation,\n",
      "while mistakes may be made, that is still a far cry from indiscriminate\n",
      "bombing, which would have produced major casualties.\n",
      "\n",
      "   israel's retalliation policy is cold hearted, but a reality that\n",
      "   we have come to accept and deal with, the lebanese resistance\n",
      "   on the other hand is not going to stop its attacks on occupying \n",
      "   israeli soldiers until they withdraw, this is the only real \n",
      "   leverage that they have to force israel to withdraw.\n",
      "\n",
      "well, here we disagree.  i think that israel would willingly withdraw if\n",
      "the lebanese gov't was able to field a reliable force in the area to police\n",
      "it and prevent further attacks.\n",
      "\n",
      "   this is the only realistic solution, it is time for israel to\n",
      "   realize that the concept of a \"buffer zone\" aimed at protecting\n",
      "   its northern cities has failed.  in fact it has caused much more\n",
      "   israeli deaths than the occasional shelling of northern israel\n",
      "   would have resulted in.  \n",
      "\n",
      "actually that is not clear at all.  i will agree that the death toll is no\n",
      "longer civilian and now primarily military though.\n",
      "\n",
      "   there seems to be very little incentive for the syrian and lebanese\n",
      "   goovernment to allow hizbollah to bomb israel proper under such \n",
      "   circumstances, and now the lebanese government has proven that it is\n",
      "   capable of controlling and disarming all militias as they did\n",
      "   in all other parts of lebanon.\n",
      "\n",
      "no, the syrian gov't is more than happy to have israel sink into another\n",
      "lebanese morass.  i could elaborate if necessary.\n",
      "\n",
      "   i agree, only in the case of the isareli soldiers their killing\n",
      "   cannot be qualified as murder, no matter what you say.\n",
      "\n",
      "no, but it is regretable, as is the whole situation.\n",
      "_______________________________________________________________\n",
      "is there any israeli a civilian, in your opinion ?\n",
      "\n",
      "now, i do not condone myself bombing villages, any kind of villages.\n",
      "but you claim these are villages with civilians, and iraelis claim they are \n",
      "camps filled with terrorists. you claim that israelis shell the villages with the\n",
      "'hope' of finding a terrorist or so. if they kill one, fine, if not, too bad, \n",
      "civilians die, right ? i am not so sure. \n",
      "\n",
      "as somebody wrote, saddam hussein had no problems using civilians in disgusting\n",
      "manner. and he also claimed 'civilians murdered'. let me ask you, isn't there \n",
      "at least a slight chance that you (not only, and the question is very general, \n",
      "no insult) are doing a similar type of propaganda in respect to civilians in\n",
      "southern lebanon ?\n",
      "\n",
      "now, a lot people who post here consider 'israeli soil' kind of mediteranean sea.\n",
      "how do you define israeli soil ? from what you say, if you do not clearly \n",
      "recognize the state of israel, you condone killing israelis anywhere.\n",
      "\n",
      "\n",
      "i do not know what was the pupose of the action you describe. if it was \n",
      "to kill civilians (i doubt), i certainly do not condone it. if civilians were \n",
      "killed, i do not condone it. \n",
      "\n",
      "\n",
      "\n",
      "\n",
      "\n",
      "mr. hernlem, it was you, not me, who was showing a huge satisfaction for 3 \n",
      "israelis (human beings by most standards, don't know about your standards) killed.\n",
      "\n",
      "if you ask me those questions, i will have no problem answering (not with a \n",
      "question, as you did) : no, nobody is qualified candidate for murder, nothing\n",
      "justifies murder. i have the feeling that you may be able yourself to make\n",
      "similar statements, maybe after eliminating all israelis, jews, ? am i wrong ?\n",
      "\n",
      "\n",
      "now tell me, did you also condone saddam's scuds on israeli 'soldiers' in, let's\n",
      "say, tel aviv ? from what i understand, a lot of palestineans cheered. what does\n",
      "it show? it does not qualify for freedom fighting to me ? but again, i may be \n",
      "wrong, and the jewish controlled media distorted the information, and i am just\n",
      "an ignorant victim of the media, like most of us.\n",
      "_______________________________________________________________\n",
      "ahhh, of course. israeli morality pales in the face of charming events \n",
      "like the string of plo-run skyjackings in the mid 80's (remember those \n",
      "twa jokes?), and not to forget the achille lauro and however many airline\n",
      "bombings they have committed, not to mention bombings on the streets of \n",
      "israel (it's gotten to a point where children are told not to go near any\n",
      "bags or containers whose origins they don't know, because they could be \n",
      "bombs), or last weeks katyusha rocket attack on northern israel by fatah,\n",
      "those wonderful \"mainstream moderates\" with whom israel is attempting\n",
      "to negotiate.\n",
      "\n",
      "let's not forget the fact that more palestinians are killed by palestinians\n",
      "than by israelis.  ahh yes, those charming humanitarian death squads.\n",
      "i've actually seen a videotape of an interrogation (dsee the documentary \n",
      "_deadly currents_--very neutral and balanced--seriously)--it was rather \n",
      "inquisition-esque. essentially, to prove his loyalty to \"the cause\" of\n",
      "whichever group it was that was interogating him, he had to turn in someone\n",
      "else, or else face death in one of the many fun-filled ways that the death-\n",
      "squads love so much--beatings, dismemberment, acid, pouring melted plastic\n",
      "on the face of the 'guilty party,' and of course beheading, always my \n",
      "favorite.  did you catch the photos in the washington post a while back \n",
      "the execution of a \"collaborator?\"  3 photos:\n",
      "1) one palestinian leading another at gunpoint.\n",
      "2) the \"collaborator\" on his knees, the gun pointed at his temple.\n",
      "3) the executioner standing on the corpse of the \"collaborator\n",
      "shouting about how this is what happens to collaborators.\n",
      "\n",
      "wonderful justice system, and lots of regard for human rights.\n",
      "remember black september?\n",
      "ok, so they just tried to take over jordan, big deal.\n",
      "\n",
      "i'm rambling now, but are you getting what i'm saying?\n",
      "_______________________________________________________________\n",
      "sorry guys for this long article, but in fact it is mostly quotings..\n",
      "\n",
      " \n",
      "\n",
      "well, if you just waited for 5 more lines you would have read my statement\n",
      "\"secondly, surely israeli have human rights, but ...\"\n",
      "\n",
      "\n",
      "because they belong to the human race, or do you disagree on that too ?\n",
      "\n",
      "\n",
      "i donot know about you, but it makes full sense to me.\n",
      "israelis are being killed because israel is occupying , let israel withdraw\n",
      "and israeli blood will be saved. it isnot the palestineans who undermined\n",
      "the right of life of israelis, but it is israel which occupied and exposed \n",
      "the life of its citizens to the the unconcluded war of 1967 !\n",
      "\n",
      "more generally, the violence in the occupied terretories is part of the intifada,\n",
      "and i had previously posted a \"long\" article about this issue, whom i finished\n",
      "by an open question:\n",
      "suppose the intifada stops, what is the motive for israel to withdraw ?\n",
      "donot tell hope for peace and this bullshit. everybody in the world looks\n",
      "and hopes for peace, so why isnot there any. hope of peace is necessary\n",
      "but not sufficient motive.\n",
      "\n",
      "\n",
      "\n",
      "as for the arabian countries, their problems are an arabian concern. \n",
      "the arabian people can deal with it themselves, if the west doesnot intervene.\n",
      "as for serbs, i donot think that those fucked up rapists (excuse my language\n",
      "but it really hurts as much if i was in bosnia itself) arenot humans. those\n",
      "surely came from outer space or something. no human can allow himself\n",
      "to see such attrocities than to participate in.\n",
      " \n",
      "\n",
      "ok.\n",
      "\n",
      "\n",
      "my definition is the same as yours, but one has to look into the world politics.\n",
      "in politics, a \"solution\" doesnot imply \"just solution\".\n",
      "\n",
      "\n",
      "it seems that it was problem in the definition of \"solution\".\n",
      "i think a solution must be just, because otherwise it would never be lasting.\n",
      "however, when politicians say a solution, they donot mean a just solution but \n",
      "just a solution.\n",
      "_______________________________________________________________\n"
     ]
    }
   ],
   "source": [
    "for i in check.recommend(text_sample=test_text, k=10):\n",
    "    print(i)\n",
    "    print('_______________________________________________________________')\n"
   ]
  },
  {
   "cell_type": "markdown",
   "metadata": {
    "collapsed": true
   },
   "source": [
    "### BBC news 2017\n",
    "#### текст про электрокары, будущее, строительство заводов, компания Faraday Fututre\n",
    "#### выдаёт научные тексты и про космос"
   ]
  },
  {
   "cell_type": "code",
   "execution_count": 141,
   "metadata": {
    "collapsed": true,
    "scrolled": true
   },
   "outputs": [],
   "source": [
    "bbc_text = \"The company broke ground on its enormous plant in the Nevada desert in April last year -  but work halted in October amid reports the company was in dire financial straits. Speaking on the record for the first time about the firm’s money woes, Faraday Future’s senior vice president of research and design, Nick Sampson, acknowledged the company was facing challenges.Clearly something like  requires funding and some resources, Mr Sampson told me. We are resource-limited at times. It's just a matter of keeping the cash flow balance between the different projects we’re trying to do. No date has been set for work on the site to recommence. Things like  have to take priority at this point in time. We’ll be starting again [on the factory] very shortly, he said. The company was spinning several financial plates, he argued. The challenge of building a new company is that it’s not just doing the engineering and R&D work, we’ve got manufacturing to keep aligned, we’ve also got the whole sales and marketing, branding and imaging. It’s a matter of keeping the whole programme aligned. Faraday Future’s launch was arguably the most extravagant press event at this year’s CES, taking place in a huge venue away from the famous Las Vegas strip. It was attended by the mayor of North Las Vegas, John Lee. The $1bn plant is being subsidised by around $320m of taxpayer’s money, a deal which has attracted intense criticism, though Mr Lee has insisted the public will not be left out of pocket should Faraday Future pull out of the project\""
>>>>>>> Stashed changes
   ]
  },
  {
   "cell_type": "code",
<<<<<<< Updated upstream
   "execution_count": 67,
   "metadata": {},
=======
   "execution_count": 142,
   "metadata": {
    "scrolled": true
   },
>>>>>>> Stashed changes
   "outputs": [
    {
     "name": "stdout",
     "output_type": "stream",
     "text": [
<<<<<<< Updated upstream
      "Read 1 raw text documents\n"
     ]
    }
   ],
   "source": []
  },
  {
   "cell_type": "code",
   "execution_count": null,
   "metadata": {
    "collapsed": true
   },
   "outputs": [],
   "source": []
=======
      "of course; sorry for the misunderstanding.  i was referring to the fact\n",
      "that far more aeronautical development took place in the '30's.  for much\n",
      "of the '20's, the super-abundance of jennies and ox-5 engines held down the\n",
      "industry.  by 1926, many of the obsolete wwi aircraft had been retired\n",
      "and whirlwind had their power/weight ratio and reliability up to the point\n",
      "where long-distance flights became practical.  it's important to note that\n",
      "the atlantic was flown not once but three times in 1927:  lindbergh,\n",
      "chamberlin and levine, and byrd's _america_.  \"when it's time to railroad,\n",
      "you railroad.\"\n",
      "\n",
      "\n",
      "  not off the top of my head; i'll have to dig out my reference books again.\n",
      "however, i will say that the most common arrangement in prince henry the\n",
      "navigator's portugal was for the prince to put up part of the money and\n",
      "merchants to put up the rest.  they profits from the voyage would then be\n",
      "shared.\n",
      "\n",
      "\n",
      "  the problem is that the amount of prize money required to inspire a\n",
      "moon base is much larger than any but a handful of individuals or corporations\n",
      "can even consider putting up.  the kremer prizes (human powered aircraft),\n",
      "orteig's prize, lord northcliffe's prize for crossing the atlantic (won in\n",
      "1919 by alcock and brown) were much smaller.  the technologies required were\n",
      "within the reach of individual inventors, and the prize amounts were well\n",
      "within the reach of a large number of wealthy individuals.  i think that only\n",
      "a gov't could afford to set up a $1b+ prize for any purpose whatsoever.\n",
      "  note that burt rutan suggested that nasp could be built most cheaply by\n",
      "taking out an ad in avweek stating that the first company to build a plane\n",
      "that could take off and fly the profile would be handed $3b, no questions\n",
      "asked.\n",
      "_______________________________________________________________\n",
      "ok, just for grins:\n",
      "- kekule hypothesized a resonant structure for the aromatic benzene\n",
      "ring after waking from a dream in which a snake was swallowing his tail.\n",
      "- archimedes formalized the principle of buoyancy while meditating in\n",
      "his bath.\n",
      "\n",
      "in neither case was there \"no connection to prior theories, concepts, etc.\"\n",
      "as you stipulated above. what there was was an intuitive leap beyond\n",
      "the current way of thinking, to develop ideas which subsequently proved\n",
      "to have predictive power (e.g., they stood the test of experimental\n",
      "verification).\n",
      "\n",
      "pardon my kibbutzing...\n",
      "_______________________________________________________________\n",
      "when the lunar society's $500m estimate of the cost of a lunar colony was\n",
      "mentioned at making orbit, somebody asked jerry pournelle \"have you talked\n",
      "to bill gates?\".  the answer:  \"yes.  he says that if he were going to\n",
      "sink that much money into it, he'd want to run it -- and he doesn't have\n",
      "the time.\"\n",
      "\n",
      "(somebody then asked him about perot.  answer:  \"having ross perot on your\n",
      "board may be a bigger problem than not having the money.\")\n",
      "_______________________________________________________________\n",
      "ether implodes 2 earth core, is gravity!!!\n",
      "\n",
      "  this paper both describes how heavenly bodys can be stationary, \n",
      "ether sucking structures, and why we observe \"orbital\" motion!!\n",
      "\n",
      "  ether, the theoretical propogation media of electro-magnetic \n",
      "waves, was concluded not to exist, based on the results of the \n",
      "michelson-moreley experiment conducted a century ago. \n",
      "\n",
      "  i propose that those conclusions are flawed, based on the fact \n",
      "that the experiment was designed to look for a flow parallel to the \n",
      "earth's surface, not perpindicular. (due to the prevailing assumption \n",
      "that the earth traveled through the ether as a ball through the wind)\n",
      "\n",
      "  the reversal of the that conclusion, a pivotal keystone in the \n",
      "development of modern scientific thought, could have ramifications \n",
      "of biblical proportions through out the world!!\n",
      "\n",
      "  remember: einstien said imagination is greater than knowledge!!\n",
      "\n",
      "  \n",
      "1\n",
      "  i dream like this: ether based reality\n",
      " \n",
      "  the ether is like a fluid out of phase with our reality. creations \n",
      "start as a lattice placed into the ether. given a spin, the lattices\n",
      "both drag the fluid, like a margarita blender, and ingest it, \n",
      "converting it, distilling localized mass, time and energy. \n",
      "(non-spinning lattice = \"dark matter\")\n",
      "\n",
      "  the earth isn't exactly spinning, around the sun. picture an image \n",
      "of a galaxy; we haven't any videos of them spinning. picture us \n",
      "being stationary, and the sun's image being dragged across the sky by \n",
      "the spinning ether field. (picture an onion, each layer of which is \n",
      "spinning a little faster than the next. a thread shot at the inner \n",
      "kernel would be stretched diagonally sideways, its head being in a \n",
      "faster shell than its tail, until it finally intersected the ground \n",
      "of the inner kernel, its direction vector being straight down, but \n",
      "its \"foot print\" being a line, not a point. [sunrise, sunset])\n",
      "  \n",
      "  the moon isn't exactly orbiting us. it is a parasite, (non self \n",
      "spin sustaining ) being dragged in the earth's ether field, which is \n",
      "itself in the sun's much more powerful field. our seasons are the \n",
      "wobble of earth's axis, like a top slowing down. the \"orbit\" of the\n",
      "earth around the sun is all of the stars' images being dragged around\n",
      "by the sun's ether feild.\n",
      "\n",
      "  the earth, moon and sun are about the same size and \"distance\" \n",
      "apart. its just that the time between them varies greatly, because \n",
      "the \"path\" is not the same. the moon's lattice in the ether is like \n",
      "sticking a fork in a plate of spaghetti and giving the plate a half \n",
      "turn. the sun's lattice has so much spin that its like the fork has \n",
      "got the whole plate of noodles wound up. the piece of light going to \n",
      "the moon can slide down the spaghetti and maybe make a \"j\" hook at \n",
      "the end. the piece of light going to the sun has to go around the \n",
      "whole plate, like a needle in a record, before it gets there. \n",
      "\n",
      "  with a pencil, compass, and rule, draw a diagram of how the moon \n",
      "can be about as big as \"earth's\" shadow upon it, and at other times \n",
      "totally eclipse the sun. look in the sky. except for your knowledge, \n",
      "would you guess that they are about the same size, just because they \n",
      "look about the same size?\n",
      "\n",
      "   o .     - -                 e     o   o   o   s\n",
      " e       /     \\            \n",
      "    m    |      |      or                m    \n",
      "         \\ _ _ /                         \n",
      "       s                           \n",
      "       \n",
      "  the full moon, quarter moon etc. is the difference between rate\n",
      "of ether spins. what we are looking at is a rotating \"turntable view\" \n",
      "of the moon, only half of which is facing the sun. ( i've seen a \n",
      "half moon within about 120 degrees (of sky) of the sun, during the \n",
      "day. try and draw that \"earth shadow.\") its only the moon's image \n",
      "which appears to orbit us. no matter where it is, the light part is \n",
      "the part facing the sun, and the dark part is the half facing away \n",
      "from the sun, even when it appears to be behind us.\n",
      "\n",
      "  \"light-years\" between galaxies is a misnomer. the distance is \n",
      "closer to zero, as time and matter are characteristics of this phase \n",
      "of reality, which dissipates outward with each layer of the onion. \n",
      "(defining edge = 0 ether spin) what we are seeing could be \n",
      "essentially happening now. the \"piece\" of light may have experienced \n",
      "many years, but the trip could be very quick, our time.\n",
      "\n",
      "  to time travel or warp space i might consider learning to \n",
      "de-spin myself. (phase out my mass) good luck trying to design \n",
      "a propulsion system to drag around a space-time locality. (its like \n",
      "trying to move a balloon by shooting a squirt gun from within)\n",
      "\n",
      "  to find out about all of this, i recommend studying history. i'd \n",
      "look in the book of life. (or holy grail etc.) brain waves just \n",
      "might carry decipherable data. i'd start looking on some part of the \n",
      "spectra said to be unusable, due to all the background noise. (4+ \n",
      "billion humans?) i'd totally isolate myself, record me thinking dog \n",
      "backwards, and learn to read what i got. (microsoft holy grail card \n",
      "for pentium!)\n",
      "\n",
      "  next, concluding that my thoughts were recorded on a non time-bound \n",
      "media, the ether, and that it is i who move forward (in time). i \n",
      "would try to temporarily locally reverse the flow, (of time, which \n",
      "i'd start looking for as flowing opposite magnetism, pole to pole. \n",
      "[why not?]) perhaps by passing a large, flat dc current through a \n",
      "two foot diameter. coil or choke or something, and seeing what i \n",
      "could get with my machine's receiver next to it.  \n",
      "\n",
      "  if you don't think you'll live to see it, consider this: quit \n",
      "putting the reproductive keys of other life in your body! all of \n",
      "life's data could be written on the wind, (ether) not just our \n",
      "thoughts. dna could be a little receiver or file access code. by \n",
      "eating seeds, we could be jamming our reception, or receiving plant \n",
      "instructions. try eating seed bearing fruit. maybe those greek or \n",
      "biblical guys did live hundreds of years. i'm curios to see what \n",
      "they did and ate. don't worry if your hair stops growing. (maybe we \n",
      "don't need to eat at all, the cosmos are formed from nothing, and \n",
      "that is creating matter! i only need enough to bounce around. where \n",
      "did the household concept 'immortal' come from? wheat is a weed, it \n",
      "is programmed to pull from the soil, reproduce like hell, and then \n",
      "die)\n",
      "\n",
      "  warning about writing to the past:\n",
      "i had a little dream of being in a world, in the near parallel \n",
      "future, lying along a path of history which we have diverged from. \n",
      "there were; twelve telepathic, glowing beings, who looked like an \n",
      "oscar award and who had always been, a dark one who looked like us, \n",
      "and then myself. the dark one was in the process of making the \n",
      "others into gods, (he had to teach them what that meant) by \n",
      "\"advising\" them in their past. basically, he manipulated them into \n",
      "reproducing, and raising their children on his seed. he said that \n",
      "the little ones who looked different were a sub-species, meant to \n",
      "provide service. he carefully combed through history, rewriting it \n",
      "in his favor, pulling like a weed anything that compromised his \n",
      "control. he enticed recruits by sending them his visions, saying \n",
      "that there was immortality at the end of the road for only twelve \n",
      "souls: kill or be killed. the amount of control he could exert was \n",
      "finite, though, as at every change he made, a void would appear in \n",
      "our reality. the universe one day ended 100 meters from us: it \n",
      "seemed odd, but we couldn't remember how else it should be. then \n",
      "some of the twelve were no more. finally, when he could prune no \n",
      "more, and reality stopped just beyond his fingertips, he stepped \n",
      "through his portal to the past, to bask, over and over, in all that \n",
      "he had created. i made a few more changes, and lost my body, \n",
      "existing only on the wind. \n",
      "\n",
      "  moral: its very possible to eliminate from your reality the souls \n",
      "whose will's are not in harmony with yours (golden rule - treat \n",
      "others as you wish to be treated) i.e., you could end up along a \n",
      "lonely thread of time with murderers or flowery brown-nosers for \n",
      "playmates. (its not eternal, there's more than one way back) \n",
      "\n",
      " accepting rides to the past:\n",
      "once here, the one who looks like us sells rides, he can make you a \n",
      "prince, or a queen, or you can live as a god in ancient greece. go \n",
      "ahead, repeat the third grade as often as you like, adam henry. \n",
      "i hope you like inspecting your socks. careful though, if he likes \n",
      "your work, but thinks you're getting wise, he can direct you to cross \n",
      "paths with your old self, and you'll vanish as you rewrite your own \n",
      "course of history, none the wiser.\n",
      "\n",
      "  as we pass the point along the parallel line where he stepped \n",
      "back in time, his hierarchy will lose its direction. he can still \n",
      "make changes while he's here, its just that that is work, and with \n",
      "every 'adjustment', this becomes less the world he cultivated, which \n",
      "loosens his grip, and his organization is suddenly one branch less. \n",
      "but he can't see the change. the basic nature of man is good. he had \n",
      "to apply his hand to achieve his world. as he now tightens his hand \n",
      "to retain what he built, the more sand slips through his fingers. \n",
      "\n",
      "  how about public computer access to the i.r.s. ? its our country, \n",
      "our money, and they're spending it on us, right? imagine this: \n",
      "washington marks the next cost at 8, irs collects 10, gives 5 to \n",
      "congress, and just absolutely buries 5. congress borrows 2. the banks \n",
      "are making, what, a 30% margin (interest) on our government? big \n",
      "corporations are ecstatic if they can do a 10% margin. what do the \n",
      "banks do with it? hold some on a carrot to the world, sure, but \n",
      "mostly, bury it. why? food production is 2% gnp?, construction 6% ? 14 \n",
      "hours to build your auto?  the people are spending all of their time \n",
      "to buy back a tenth of what they produce. have we been deceived? if \n",
      "we are more efficient, why is it getting harder to get by? what if \n",
      "the point is just to keep the people busy making widgets? \n",
      "\n",
      "  in that other reality, i shouted to the twelve, \"its chaos!\" they \n",
      "said, \"no, its order.\" he defined chaos as that which is he was not \n",
      "able to control.\n",
      "\n",
      "  rain forest: the problem could be that all the water in its canopy \n",
      "would hide the  location of an indigenous people who have no \n",
      "language. (telepathic; and 'vanishing' the closest knowledge of death)\n",
      "(think of the spine as a transceiver, if it is on the ground and \n",
      "pointed up, you can locate it from above) these people are probably \n",
      "naive as children, but very, very tough to kill. also, they should \n",
      "be able to tell you stories about the dark one that i talk about. \n",
      "they can hear him. i think that ham and world band radio old timers \n",
      "might have a story to tell on this. these people would be on a \n",
      "different frequency than us as they aren't eating seeds.\n",
      "\n",
      "  famine relief: when i make my diet almost all whole wheat, i get a \n",
      "huge belly, lose muscle mass, sleep a lot, and get sick. when i eat \n",
      "only fresh fruit, i get more energy, a hollywood-flat belly, and \n",
      "need a lot less sleep.\n",
      "\n",
      "  un. peace keeping; there is fighting and killing all over. the \n",
      "troops go in when there is no bread on the shelf. (its ok to kill \n",
      "each other, just make sure there is enough to eat.)\n",
      "\n",
      "  somalia: what is disturbing is energetic, gun carrying, three foot \n",
      "tall sixteen year-olds, who eat nothing but some roots that they \n",
      "suck on. it is not so much that their growth is stunted, it is that \n",
      "they aren't dying at a rate of 50 of 60 years per life. \n",
      "\n",
      "  women with children, babes in arms: historical references to women \n",
      "and children as a single unit could mean that infants were not cut \n",
      "from the umbilical cord. (and hence, were not breast fed) i think \n",
      "that there may be some very interesting results to this, such as \n",
      "mother-child telepathy, and blue blooded infants. there are examples \n",
      "of this practice in the aquatic mammal kingdom to investigate.\n",
      "\n",
      "  that guy is the master of illusion, and the ultimate liar. he \n",
      "tells it first, and then just follows the thread of time in which \n",
      "the people are willing to buy it. (in which he can make it so) he'll \n",
      "play a poker face up until he thinks he's cornered, and then he'll \n",
      "whine, beg and grovel. all it means to him is that you're willing to \n",
      "live on the ground work that he has laid, that is, that he was \n",
      "right, and he didn't over play his hand, and he won't need to go \n",
      "back and try another thread of time. you have ultimate control over \n",
      "your destiny, just don't live along a path that leads to a reality \n",
      "in which you don't want to be a part of.\n",
      "_______________________________________________________________\n",
      "heat shock proteins are those whose expression is induced in response to\n",
      "elevated temperature.  some are also made when organisms are subjected to\n",
      "other stress conditions, e.g. high salt.  they have no obvious connection\n",
      "to what happens when you burn proteins.\n",
      "_______________________________________________________________\n"
     ]
    }
   ],
   "source": [
    "for i in check.recommend(text_sample=bbc_text, k=5):\n",
    "    print(i)\n",
    "    print('_______________________________________________________________')\n",
    "\n"
   ]
>>>>>>> Stashed changes
  }
 ],
 "metadata": {
  "kernelspec": {
   "display_name": "Python 3",
   "language": "python",
   "name": "python3"
<<<<<<< Updated upstream
  },
  "language_info": {
   "codemirror_mode": {
    "name": "ipython",
    "version": 3
   },
   "file_extension": ".py",
   "mimetype": "text/x-python",
   "name": "python",
   "nbconvert_exporter": "python",
   "pygments_lexer": "ipython3",
   "version": "3.6.1"
=======
>>>>>>> Stashed changes
  }
 },
 "nbformat": 4,
 "nbformat_minor": 2
}
