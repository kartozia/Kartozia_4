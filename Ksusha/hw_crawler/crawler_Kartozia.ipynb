{
 "cells": [
  {
   "cell_type": "code",
   "execution_count": 1,
   "metadata": {
    "collapsed": true
   },
   "outputs": [],
   "source": [
    "import requests\n",
    "import time\n",
    "from bs4 import BeautifulSoup\n",
    "from IPython.display import HTML, display"
   ]
  },
  {
   "cell_type": "code",
   "execution_count": 2,
   "metadata": {
    "collapsed": true
   },
   "outputs": [],
   "source": [
    "def article_info_extraction(url):\n",
    "    req = requests.get(url) \n",
    "    soup = BeautifulSoup(req.text, 'lxml')\n",
    "    author = soup.find('a', attrs = {'class':'author-name font-open-s'})\n",
    "    if author is None:\n",
    "        author = 'Noname'\n",
    "    else:\n",
    "        author = author.string\n",
    "    title = soup.find('h1')\n",
    "    title = title.string.strip()\n",
    "    file = open(title + '.txt', 'w', encoding='utf-8')\n",
    "    date = soup.find('p', attrs = {'class': 'date font-open-s-light'})\n",
    "    file.write('@au ' + author + '\\n' + '@ti ' + title\n",
    "               + '\\n' + '@da ' + date.string + '\\n' + '@url ' + str(url) + '\\n')\n",
    "    description = soup.find('div', attrs = {'class': 'description font-open-s-light nm-b'})\n",
    "    paragraph = description.findAll('p', attrs={'class': None})\n",
    "    if len(paragraph) == 0:\n",
    "        text = description.get_text()\n",
    "        text = text.split('\\n\\n\\n\\n\\n\\n\\n\\n\\n')\n",
    "        file.write(text[0].strip())\n",
    "    else:\n",
    "        for part in paragraph:\n",
    "            file.write(str(part.string))\n",
    "    file.close()\n",
    "    return 'Done'\n",
    "    "
   ]
  },
  {
   "cell_type": "code",
   "execution_count": 3,
   "metadata": {
    "collapsed": true
   },
   "outputs": [],
   "source": [
    "def get_pages(n):\n",
    "    pages = []\n",
    "    headers = {'User-Agent':'Mozilla/5.0 (Macintosh; Intel Mac OS X 10_12_6) AppleWebKit/537.36 (KHTML, like Gecko) Chrome/61.0.3163.100 Safari/537.36'}\n",
    "    url = 'https://ks-yanao.ru/novosti/'\n",
    "    for i in range(1,n):\n",
    "        req = requests.get(url + '?PAGEN_2=' + str(i), headers = headers)\n",
    "        time.sleep(5)\n",
    "        pages.append(req)\n",
    "    return pages\n",
    "    "
   ]
  },
  {
   "cell_type": "code",
   "execution_count": 4,
   "metadata": {
    "collapsed": true
   },
   "outputs": [],
   "source": [
    "def get_news(arr):\n",
    "    news = []\n",
    "    for page in arr:\n",
    "        soup = BeautifulSoup(page.text, 'lxml')\n",
    "        news_per_page = soup.findAll('div', attrs = {'class':'content-body'})\n",
    "        news.append(str(news_per_page))\n",
    "    return news\n",
    "        "
   ]
  },
  {
   "cell_type": "code",
   "execution_count": 5,
   "metadata": {
    "collapsed": true
   },
   "outputs": [],
   "source": [
    "def rednorth_crawler(num):\n",
    "    pages = get_pages(504)\n",
    "    news = get_news(pages)\n",
    "    news = ' '.join(news[:num])\n",
    "    soup = BeautifulSoup(news, 'lxml')\n",
    "    for i, h in enumerate(soup.findAll('a', attrs = {'class':'news-link text-none'})):\n",
    "        if h:\n",
    "            h['href'] = 'https://ks-yanao.ru' + h['href'] \n",
    "            article_info_extraction(h['href'])\n",
    "    return 'Done'"
   ]
  },
  {
   "cell_type": "code",
   "execution_count": null,
   "metadata": {
    "scrolled": true
   },
   "outputs": [],
   "source": [
    "rednorth_crawler(1000)\n",
    "#get_pages('https://ks-yanao.ru/novosti/')\n",
    "#article_info_extraction('https://ks-yanao.ru/novosti/formula-khoroshikh-del-snova-sobiraet-poleznye-idei.html', '1')"
   ]
  },
  {
   "cell_type": "code",
   "execution_count": null,
   "metadata": {
    "collapsed": true
   },
   "outputs": [],
   "source": []
  }
 ],
 "metadata": {
  "kernelspec": {
   "display_name": "Python 3",
   "language": "python",
   "name": "python3"
  },
  "language_info": {
   "codemirror_mode": {
    "name": "ipython",
    "version": 3
   },
   "file_extension": ".py",
   "mimetype": "text/x-python",
   "name": "python",
   "nbconvert_exporter": "python",
   "pygments_lexer": "ipython3",
   "version": "3.6.1"
  }
 },
 "nbformat": 4,
 "nbformat_minor": 2
}
