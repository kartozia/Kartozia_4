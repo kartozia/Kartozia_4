{
 "cells": [
  {
   "cell_type": "markdown",
   "metadata": {},
   "source": [
    "**Задание по проекту.** \n",
    "Для его выполнения вам понадобится собранная коллекция документов и функция, составляющая обратный индекс по словам в коллекции.\n",
    "\n",
    "Напишите функцию (или несколько отдельных логичный функций), которая по запросу $Q = q_1,..., g_n$ и коллекции $D$ сортирует выдачу подходящих документов. Будем считать документ подходящим, если он содержит хотя бы одно слово из запроса (из которого удалены стоп-слова). В качестве метрики используйте *Okapi BM25*.\n",
    "\n",
    "Для проверки работы функции на вашем корпусе используйте запрос **каникулы на новый год и рождество**. Выведите ссылки в ipynb на первые десять докуменов в отсортированной выдаче(как во втором семинаре с помощью IPython.display) и их оценку BM25. Напомню, что ссылки на документы хрянятся в самих доках под тэгом @url."
   ]
  },
  {
   "cell_type": "markdown",
   "metadata": {},
   "source": [
    "Про что не забыть:\n",
    "1. Лемматизируем запрос, удаляем стоп-слова => запрос готов\n",
    "2. Лемматизируем слова в документах => документы готовы к подсчетам статистик по запросу"
   ]
  },
  {
   "cell_type": "code",
   "execution_count": 1,
   "metadata": {
    "collapsed": true
   },
   "outputs": [],
   "source": [
    "from collections import defaultdict\n",
    "import nltk\n",
    "import os\n",
    "import re\n",
    "import json\n",
    "from pymystem3 import Mystem\n",
    "from nltk import word_tokenize\n",
    "import string\n",
    "from nltk.corpus import stopwords\n",
    "from IPython.display import HTML, display"
   ]
  },
  {
   "cell_type": "code",
   "execution_count": 2,
   "metadata": {
    "collapsed": true
   },
   "outputs": [],
   "source": [
    "def reversed_index(list_of_lemmas):\n",
    "    reverse = defaultdict(list)\n",
    "    for key,value in list_of_lemmas.items():\n",
    "        for lemma in value:\n",
    "            reverse[lemma].append(key)\n",
    "    return reverse"
   ]
  },
  {
   "cell_type": "code",
   "execution_count": 3,
   "metadata": {
    "collapsed": true
   },
   "outputs": [],
   "source": [
    "def lemmatize_me(text):\n",
    "    m = Mystem()\n",
    "    lemma = m.lemmatize(text)\n",
    "\n",
    "    #let's delete punctuation symbols\n",
    "    lemma = [i for i in lemma if ( i not in string.punctuation )]\n",
    "\n",
    "    #deleting stop_words\n",
    "    stop_words = stopwords.words('russian')\n",
    "    stop_words.extend(['что', 'это', 'так', 'вот', 'быть', 'как', 'в', '–', 'к', 'на', '\\n', '\\t', ' '])\n",
    "    lemma = [i.strip() for i in lemma if ( i not in stop_words )]\n",
    "\n",
    "    #cleaning words\n",
    "    #tokens = [i.replace(\"«\", \"\").replace(\"»\", \"\") for i in tokens]\n",
    "\n",
    "    return lemma"
   ]
  },
  {
   "cell_type": "code",
   "execution_count": 10,
   "metadata": {},
   "outputs": [
    {
     "data": {
      "text/plain": [
       "289.2083333333333"
      ]
     },
     "execution_count": 10,
     "metadata": {},
     "output_type": "execute_result"
    }
   ],
   "source": [
    "list_of_lemmas = defaultdict(list)\n",
    "length = 0\n",
    "\n",
    "for root, dirs, files in os.walk('./text'):\n",
    "    for i in files:\n",
    "        if i[-4:] == '.txt':\n",
    "            file = open(root + '/' + i, 'r', encoding='utf-8')\n",
    "            file_name = i\n",
    "            f = file.read()\n",
    "            content = f.split(\"html\",1)[1] \n",
    "            length += len(content.split())\n",
    "            list_of_lemmas[file_name]=lemmatize_me(content)\n",
    "file.close()\n",
    "\n",
    "#json.dump(reversed_index(list_of_lemmas), open('reversed_index.json', 'w', encoding='utf-8'))\n",
    "#avdl = length/24"
   ]
  },
  {
   "cell_type": "code",
   "execution_count": 4,
   "metadata": {
    "collapsed": true
   },
   "outputs": [],
   "source": [
    "json_data=open('reversed_index.json', 'r', encoding='utf-8')\n",
    "j = json_data.read()\n",
    "data = json.loads(j)\n",
    "    \n",
    " # N- общее количество документов в коллекции, а  n(qi)— количество документов, содержащих  qi\n",
    "# dl длина конкретного текста\n",
    "# avdl средняя длина по всему корпусу\n",
    "# qf частота слова в документе"
   ]
  },
  {
   "cell_type": "code",
   "execution_count": 5,
   "metadata": {
    "collapsed": true
   },
   "outputs": [],
   "source": [
    "def compute_tf(word, text):\n",
    "    tf_text = 0\n",
    "    for i in text:\n",
    "        if i == word:\n",
    "            tf_text += 1\n",
    "    tf_text = tf_text/float(len(text))\n",
    "    return tf_text"
   ]
  },
  {
   "cell_type": "code",
   "execution_count": 6,
   "metadata": {
    "collapsed": true
   },
   "outputs": [],
   "source": [
    "from math import log\n",
    "\n",
    "N = 24\n",
    "avdl = 2791.125\n",
    "k1 = 2.0\n",
    "b = 0.75\n",
    "\n",
    "def score_BM25(n, qf, N, dl, avdl):\n",
    "    K = compute_K(dl, avdl)\n",
    "    IDF = log((N - n + 0.5) / (n + 0.5))\n",
    "    frac = ((k1 + 1) * qf) / (K + qf)\n",
    "    return IDF * frac\n",
    "#N=24, avdl=2791.125, k1=2.0, b=0,75\n",
    "\n",
    "def compute_K(dl, avdl):\n",
    "    return k1 * ((1-b) + b * (float(dl)/float(avdl)))"
   ]
  },
  {
   "cell_type": "code",
   "execution_count": 8,
   "metadata": {},
   "outputs": [
    {
     "data": {
      "text/html": [
       "<a href=\"https://ks-yanao.ru/novosti/burlak-dobralsya-do-belogo.html\">«Бурлак» добрался до Белого</a> — 0.020136382706970924"
      ],
      "text/plain": [
       "<IPython.core.display.HTML object>"
      ]
     },
     "metadata": {},
     "output_type": "display_data"
    },
    {
     "name": "stdout",
     "output_type": "stream",
     "text": [
      "None\n"
     ]
    },
    {
     "data": {
      "text/html": [
       "<a href=\"https://ks-yanao.ru/novosti/aeroflot-sovershil-pervyy-reys-iz-moskvy-v-salekhard.html\">«Аэрофлот» совершил первый рейс из Москвы в Салехард</a> — 0.018845648922326163"
      ],
      "text/plain": [
       "<IPython.core.display.HTML object>"
      ]
     },
     "metadata": {},
     "output_type": "display_data"
    },
    {
     "name": "stdout",
     "output_type": "stream",
     "text": [
      "None\n"
     ]
    },
    {
     "data": {
      "text/html": [
       "<a href=\"https://ks-yanao.ru/novosti/-vozdushnye-podushki-gotovyatsya-startovat-cherez-ob.html\">«Воздушные подушки» готовятся стартовать через Обь</a> — 0.011153148496720174"
      ],
      "text/plain": [
       "<IPython.core.display.HTML object>"
      ]
     },
     "metadata": {},
     "output_type": "display_data"
    },
    {
     "name": "stdout",
     "output_type": "stream",
     "text": [
      "None\n"
     ]
    },
    {
     "data": {
      "text/html": [
       "<a href=\"https://ks-yanao.ru/novosti/zazhigalki-ne-bylo-snyato-shutki-radi.html\">«Зажигалки не было, снято шутки ради»</a> — 0.006592161084126905"
      ],
      "text/plain": [
       "<IPython.core.display.HTML object>"
      ]
     },
     "metadata": {},
     "output_type": "display_data"
    },
    {
     "name": "stdout",
     "output_type": "stream",
     "text": [
      "None\n"
     ]
    },
    {
     "data": {
      "text/html": [
       "<a href=\"https://ks-yanao.ru/novosti/zabota-prishla-v-kommunalku.html\">«Забота» пришла в «коммуналку»</a> — 0.006537971945930091"
      ],
      "text/plain": [
       "<IPython.core.display.HTML object>"
      ]
     },
     "metadata": {},
     "output_type": "display_data"
    },
    {
     "name": "stdout",
     "output_type": "stream",
     "text": [
      "None\n"
     ]
    },
    {
     "data": {
      "text/html": [
       "<a href=\"https://ks-yanao.ru/novosti/mamontu-ostavili-chistyy-les.html\">«Мамонту» оставили чистый лес</a> — 0.005371662724176729"
      ],
      "text/plain": [
       "<IPython.core.display.HTML object>"
      ]
     },
     "metadata": {},
     "output_type": "display_data"
    },
    {
     "name": "stdout",
     "output_type": "stream",
     "text": [
      "None\n"
     ]
    },
    {
     "data": {
      "text/html": [
       "<a href=\"https://ks-yanao.ru/novosti/-my-protiv-terrora-zayavili-uchastniki-narodnogo-fleshmoba-v-noyabrske.html\">«Мы против террора!» – заявили участники народного флешмоба в Ноябрьске</a> — 0.004993711363709551"
      ],
      "text/plain": [
       "<IPython.core.display.HTML object>"
      ]
     },
     "metadata": {},
     "output_type": "display_data"
    },
    {
     "name": "stdout",
     "output_type": "stream",
     "text": [
      "None\n"
     ]
    },
    {
     "data": {
      "text/html": [
       "<a href=\"https://ks-yanao.ru/novosti/kakie-naruchniki-vsye-eto-polnyy-bred.html\">«Какие наручники? Всё это полный бред»</a> — 0.0040212825605196595"
      ],
      "text/plain": [
       "<IPython.core.display.HTML object>"
      ]
     },
     "metadata": {},
     "output_type": "display_data"
    },
    {
     "name": "stdout",
     "output_type": "stream",
     "text": [
      "None\n"
     ]
    },
    {
     "data": {
      "text/html": [
       "<a href=\"https://ks-yanao.ru/novosti/malitsu-dlya-spasateley-pokazali-v-noginske.html\">«Малицу» для спасателей показали в Ногинске</a> — 0.003664973479757748"
      ],
      "text/plain": [
       "<IPython.core.display.HTML object>"
      ]
     },
     "metadata": {},
     "output_type": "display_data"
    },
    {
     "name": "stdout",
     "output_type": "stream",
     "text": [
      "None\n"
     ]
    },
    {
     "data": {
      "text/html": [
       "<a href=\"https://ks-yanao.ru/novosti/bezopasnoe-koleso-dostavit-v-moskvu-salekhardtsev.html\">«Безопасное колесо» доставит в Москву салехардцев</a> — 0.0029160177453290185"
      ],
      "text/plain": [
       "<IPython.core.display.HTML object>"
      ]
     },
     "metadata": {},
     "output_type": "display_data"
    },
    {
     "name": "stdout",
     "output_type": "stream",
     "text": [
      "None\n"
     ]
    },
    {
     "data": {
      "text/html": [
       "<a href=\"https://ks-yanao.ru/novosti/za-vesnoy-v-pelvozh-sgonyali-na-snegokhode.html\">«За весной» в Пельвож сгоняли на снегоходе!</a> — 0.0016574241932842777"
      ],
      "text/plain": [
       "<IPython.core.display.HTML object>"
      ]
     },
     "metadata": {},
     "output_type": "display_data"
    },
    {
     "name": "stdout",
     "output_type": "stream",
     "text": [
      "None\n"
     ]
    },
    {
     "data": {
      "text/html": [
       "<a href=\"https://ks-yanao.ru/novosti/ks-izbavilsya-ot-serosti.html\">«КС» избавился от серости</a> — 0.0014249079071324494"
      ],
      "text/plain": [
       "<IPython.core.display.HTML object>"
      ]
     },
     "metadata": {},
     "output_type": "display_data"
    },
    {
     "name": "stdout",
     "output_type": "stream",
     "text": [
      "None\n"
     ]
    },
    {
     "data": {
      "text/html": [
       "<a href=\"https://ks-yanao.ru/novosti/nash-glavnyy-prioritet-podderzhivat-i-razvivat-zhilishchnoe-stroitelstvo.html\">«Наш главный приоритет – поддерживать и развивать жилищное строительство»</a> — 0.00012777308471734495"
      ],
      "text/plain": [
       "<IPython.core.display.HTML object>"
      ]
     },
     "metadata": {},
     "output_type": "display_data"
    },
    {
     "name": "stdout",
     "output_type": "stream",
     "text": [
      "None\n"
     ]
    }
   ],
   "source": [
    "def search(query, data):\n",
    "    lem_query = lemmatize_me(query)\n",
    "    result = defaultdict(set)\n",
    "    for key, value in data.items():\n",
    "        for word in lem_query:\n",
    "            if word == key:\n",
    "                result[word] = set(value)\n",
    "    return result\n",
    "\n",
    "query = 'из Москвы в Салехард'\n",
    "#print(search(query,data))\n",
    "\n",
    "def extract_info(text, key):\n",
    "    url = re.search('@url (.+)', text).group(1)\n",
    "    title = re.search('@ti (.+)', text).group(1)\n",
    "    content = text.split(\"html\",1)[1] \n",
    "    dl = len(content.split())\n",
    "    qf = compute_tf(key, lemmatize_me(content))\n",
    "    return url, title, content, dl, qf\n",
    "\n",
    "def metrics(result, N=24, avdl=289.2083333333333, k1=2.0, b=0.75):\n",
    "    output = {}\n",
    "    for key, value in result.items():\n",
    "        n = len(value)\n",
    "        for file in value:\n",
    "            f = open('./text/' + file, 'r', encoding='utf-8')\n",
    "            text = f.read()\n",
    "            url, title, content, dl, qf = extract_info(text, key)\n",
    "            metric = score_BM25(n, qf, N, dl, avdl)\n",
    "            link = '<a href=\"' + url + '\">' + title + '</a>'\n",
    "            if file not in output:\n",
    "                output[link] = metric\n",
    "            else:\n",
    "                output[link] += metric\n",
    "            f.close()\n",
    "            \n",
    "    for key in sorted(output, key=output.get, reverse=True):\n",
    "        link = '{} — {}'.format(key, output[key])\n",
    "        print(display(HTML(str(link))))\n",
    "     #   print(key,value)\n",
    "metrics(search(query,data)) "
   ]
  },
  {
   "cell_type": "code",
   "execution_count": null,
   "metadata": {
    "collapsed": true
   },
   "outputs": [],
   "source": []
  }
 ],
 "metadata": {
  "kernelspec": {
   "display_name": "Python 3",
   "language": "python",
   "name": "python3"
  },
  "language_info": {
   "codemirror_mode": {
    "name": "ipython",
    "version": 3
   },
   "file_extension": ".py",
   "mimetype": "text/x-python",
   "name": "python",
   "nbconvert_exporter": "python",
   "pygments_lexer": "ipython3",
   "version": "3.6.1"
  }
 },
 "nbformat": 4,
 "nbformat_minor": 2
}
