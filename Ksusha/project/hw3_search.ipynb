{
 "cells": [
  {
   "cell_type": "markdown",
   "metadata": {},
   "source": [
    "**Задание по проекту.** \n",
    "Для его выполнения вам понадобится собранная коллекция документов и функция, составляющая обратный индекс по словам в коллекции.\n",
    "\n",
    "Напишите функцию (или несколько отдельных логичный функций), которая по запросу $Q = q_1,..., g_n$ и коллекции $D$ сортирует выдачу подходящих документов. Будем считать документ подходящим, если он содержит хотя бы одно слово из запроса (из которого удалены стоп-слова). В качестве метрики используйте *Okapi BM25*.\n",
    "\n",
    "Для проверки работы функции на вашем корпусе используйте запрос **каникулы на новый год и рождество**. Выведите ссылки в ipynb на первые десять докуменов в отсортированной выдаче(как во втором семинаре с помощью IPython.display) и их оценку BM25. Напомню, что ссылки на документы хрянятся в самих доках под тэгом @url."
   ]
  },
  {
   "cell_type": "markdown",
   "metadata": {},
   "source": [
    "Про что не забыть:\n",
    "1. Лемматизируем запрос, удаляем стоп-слова => запрос готов\n",
    "2. Лемматизируем слова в документах => документы готовы к подсчетам статистик по запросу"
   ]
  },
  {
   "cell_type": "code",
   "execution_count": 1,
   "metadata": {
    "collapsed": true
   },
   "outputs": [],
   "source": [
    "from collections import defaultdict\n",
    "import nltk\n",
    "import os\n",
    "import re\n",
    "import json\n",
    "from pymystem3 import Mystem\n",
    "from nltk import word_tokenize\n",
    "import string\n",
    "from nltk.corpus import stopwords\n",
    "from IPython.display import HTML, display"
   ]
  },
  {
   "cell_type": "code",
   "execution_count": 7,
   "metadata": {
    "collapsed": true
   },
   "outputs": [],
   "source": [
    "def reversed_index(list_of_lemmas):\n",
    "    reverse = defaultdict(list)\n",
    "    for key,value in list_of_lemmas.items():\n",
    "        for lemma in value:\n",
    "            reverse[lemma].append(key)\n",
    "    return reverse"
   ]
  },
  {
   "cell_type": "code",
   "execution_count": 2,
   "metadata": {
    "collapsed": true
   },
   "outputs": [],
   "source": [
    "m = Mystem()\n",
    "\n",
    "def lemmatize_me(text):\n",
    "    lemma = m.lemmatize(text)\n",
    "\n",
    "    #let's delete punctuation symbols\n",
    "    lemma = [i for i in lemma if ( i not in string.punctuation )]\n",
    "\n",
    "    #deleting stop_words\n",
    "    stop_words = stopwords.words('russian')\n",
    "    stop_words.extend(['что', 'это', 'так', 'вот', 'быть', 'как', 'в', '–', 'к', 'на', '\\n', '\\t', ' '])\n",
    "    lemma = [i.strip() for i in lemma if ( i not in stop_words )]\n",
    "\n",
    "    #cleaning words\n",
    "    #tokens = [i.replace(\"«\", \"\").replace(\"»\", \"\") for i in tokens]\n",
    "\n",
    "    return lemma"
   ]
  },
  {
   "cell_type": "code",
   "execution_count": 10,
   "metadata": {},
   "outputs": [
    {
     "name": "stdout",
     "output_type": "stream",
     "text": [
      "235223\n"
     ]
    }
   ],
   "source": [
    "list_of_lemmas = defaultdict(list)\n",
    "length = 0\n",
    "\n",
    "for root, dirs, files in os.walk('./news'):\n",
    "    for i, file in enumerate(files[1:]):\n",
    "        #if file[-4:] == '.txt':\n",
    "        file_open = open(root + '/' + file, 'r', encoding='utf-8')\n",
    "        #file_name = file\n",
    "        f = file_open.read()\n",
    "        content = f.split(\"html\",1)[1] \n",
    "        length += len(content.split())\n",
    "        list_of_lemmas[file]=lemmatize_me(content)\n",
    "        file_open.close()\n",
    "\n",
    "print(length)\n",
    "json.dump(reversed_index(list_of_lemmas), open('reversed_index.json', 'w', encoding='utf-8'))\n",
    "#avdl = length/1000"
   ]
  },
  {
   "cell_type": "code",
   "execution_count": 3,
   "metadata": {
    "collapsed": true
   },
   "outputs": [],
   "source": [
    "avdl=253.233"
   ]
  },
  {
   "cell_type": "code",
   "execution_count": 3,
   "metadata": {
    "collapsed": true
   },
   "outputs": [],
   "source": [
    "json_data=open('reversed_index.json', 'r', encoding='utf-8')\n",
    "j = json_data.read()\n",
    "data = json.loads(j)\n",
    "    \n",
    " # N- общее количество документов в коллекции, а  n(qi)— количество документов, содержащих  qi\n",
    "# dl длина конкретного текста\n",
    "# avdl средняя длина по всему корпусу\n",
    "# qf частота слова в документе"
   ]
  },
  {
   "cell_type": "code",
   "execution_count": 4,
   "metadata": {
    "collapsed": true
   },
   "outputs": [],
   "source": [
    "def compute_tf(word, text):\n",
    "    tf_text = 0\n",
    "    for i in text:\n",
    "        if i == word:\n",
    "            tf_text += 1\n",
    "    tf_text = tf_text/float(len(text))\n",
    "    return tf_text"
   ]
  },
  {
   "cell_type": "code",
   "execution_count": 5,
   "metadata": {
    "collapsed": true
   },
   "outputs": [],
   "source": [
    "from math import log\n",
    "\n",
    "N = 1000\n",
    "avdl=253.233\n",
    "k1 = 2.0\n",
    "b = 0.75\n",
    "\n",
    "def score_BM25(n, qf, N, dl, avdl):\n",
    "    K = compute_K(dl, avdl)\n",
    "    IDF = log((N - n + 0.5) / (n + 0.5))\n",
    "    frac = ((k1 + 1) * qf) / (K + qf)\n",
    "    return IDF * frac\n",
    "#N=24, avdl=2791.125, k1=2.0, b=0,75\n",
    "\n",
    "def compute_K(dl, avdl):\n",
    "    return k1 * ((1-b) + b * (float(dl)/float(avdl)))"
   ]
  },
  {
   "cell_type": "code",
   "execution_count": 12,
   "metadata": {},
   "outputs": [
    {
     "data": {
      "text/html": [
       "<a href=\"https://ks-yanao.ru/novosti/predprinimatel-v-shchuchem-na-svoi-sredstva-postroila-khram.html\">Предприниматель в Щучьем на свои средства построила храм</a> — 0.11029023467986665"
      ],
      "text/plain": [
       "<IPython.core.display.HTML object>"
      ]
     },
     "metadata": {},
     "output_type": "display_data"
    },
    {
     "name": "stdout",
     "output_type": "stream",
     "text": [
      "None\n"
     ]
    },
    {
     "data": {
      "text/html": [
       "<a href=\"https://ks-yanao.ru/novosti/svetlyy-angel-prizemlilsya-v-verbnoe-voskresene.html\">«Светлый ангел» вновь помогает нуждающимся</a> — 0.10206564257250428"
      ],
      "text/plain": [
       "<IPython.core.display.HTML object>"
      ]
     },
     "metadata": {},
     "output_type": "display_data"
    },
    {
     "name": "stdout",
     "output_type": "stream",
     "text": [
      "None\n"
     ]
    },
    {
     "data": {
      "text/html": [
       "<a href=\"https://ks-yanao.ru/novosti/deti-napomnili-beregite-les.html\">Дети напомнили: берегите лес!</a> — 0.09157503162840225"
      ],
      "text/plain": [
       "<IPython.core.display.HTML object>"
      ]
     },
     "metadata": {},
     "output_type": "display_data"
    },
    {
     "name": "stdout",
     "output_type": "stream",
     "text": [
      "None\n"
     ]
    },
    {
     "data": {
      "text/html": [
       "<a href=\"https://ks-yanao.ru/novosti/nadymskiy-podrostok-upravlyaya-mototsiklom-serezno-postradal-v-dtp-.html\">Надымский подросток, управляя мотоциклом, серьезно пострадал в ДТП</a> — 0.07655880292449566"
      ],
      "text/plain": [
       "<IPython.core.display.HTML object>"
      ]
     },
     "metadata": {},
     "output_type": "display_data"
    },
    {
     "name": "stdout",
     "output_type": "stream",
     "text": [
      "None\n"
     ]
    },
    {
     "data": {
      "text/html": [
       "<a href=\"https://ks-yanao.ru/novosti/perepis-ulichnykh-opasnostey-startovala-na-yamale.html\">Перепись уличных опасностей стартовала на Ямале</a> — 0.0700773768596786"
      ],
      "text/plain": [
       "<IPython.core.display.HTML object>"
      ]
     },
     "metadata": {},
     "output_type": "display_data"
    },
    {
     "name": "stdout",
     "output_type": "stream",
     "text": [
      "None\n"
     ]
    },
    {
     "data": {
      "text/html": [
       "<a href=\"https://ks-yanao.ru/novosti/v-noyabrske-zhiteli-pridumyvayut-nazvaniya-ostanovkam.html\">В Ноябрьске жители придумывают названия остановкам</a> — 0.064511061994315"
      ],
      "text/plain": [
       "<IPython.core.display.HTML object>"
      ]
     },
     "metadata": {},
     "output_type": "display_data"
    },
    {
     "name": "stdout",
     "output_type": "stream",
     "text": [
      "None\n"
     ]
    },
    {
     "data": {
      "text/html": [
       "<a href=\"https://ks-yanao.ru/novosti/na-501-y-stroyke-obnovyat-poklonnye-kresty.html\">На 501-й стройке обновят поклонные кресты</a> — 0.05463882228743992"
      ],
      "text/plain": [
       "<IPython.core.display.HTML object>"
      ]
     },
     "metadata": {},
     "output_type": "display_data"
    },
    {
     "name": "stdout",
     "output_type": "stream",
     "text": [
      "None\n"
     ]
    },
    {
     "data": {
      "text/html": [
       "<a href=\"https://ks-yanao.ru/novosti/leto-v-tundre-zhivye-attraktsiony-snezhki-i-polnaya-svoboda.html\">Лето в тундре: «живые аттракционы», снежки и полная свобода</a> — 0.047277899038705135"
      ],
      "text/plain": [
       "<IPython.core.display.HTML object>"
      ]
     },
     "metadata": {},
     "output_type": "display_data"
    },
    {
     "name": "stdout",
     "output_type": "stream",
     "text": [
      "None\n"
     ]
    },
    {
     "data": {
      "text/html": [
       "<a href=\"https://ks-yanao.ru/novosti/v-novom-urengoy-opasnye-mesta-oboznachat-nakleykami.html\">В Новом Уренгое опасные места обозначат наклейками</a> — 0.04302706510965686"
      ],
      "text/plain": [
       "<IPython.core.display.HTML object>"
      ]
     },
     "metadata": {},
     "output_type": "display_data"
    },
    {
     "name": "stdout",
     "output_type": "stream",
     "text": [
      "None\n"
     ]
    },
    {
     "data": {
      "text/html": [
       "<a href=\"https://ks-yanao.ru/novosti/dlya-pyatidesyati-yamalskikh-podrostkov-otkrylas-perspektiva.html\">Для пятидесяти молодых ямальцев открылась «Перспектива»</a> — 0.038816425958216286"
      ],
      "text/plain": [
       "<IPython.core.display.HTML object>"
      ]
     },
     "metadata": {},
     "output_type": "display_data"
    },
    {
     "name": "stdout",
     "output_type": "stream",
     "text": [
      "None\n"
     ]
    },
    {
     "data": {
      "text/html": [
       "<a href=\"https://ks-yanao.ru/novosti/dostup-k-zabroshennomu-zavodu-v-nadyme-zakryt.html\">Доступ к заброшенному заводу в Надыме закрыт</a> — 0.03308298394760239"
      ],
      "text/plain": [
       "<IPython.core.display.HTML object>"
      ]
     },
     "metadata": {},
     "output_type": "display_data"
    },
    {
     "name": "stdout",
     "output_type": "stream",
     "text": [
      "None\n"
     ]
    },
    {
     "data": {
      "text/html": [
       "<a href=\"https://ks-yanao.ru/novosti/choknutye-professora-vskryvayut-talanty-na-yamalskoy-studvesne.html\">Чокнутые профессора «вскрывают» таланты на Ямальской студвесне</a> — 0.03163548652468165"
      ],
      "text/plain": [
       "<IPython.core.display.HTML object>"
      ]
     },
     "metadata": {},
     "output_type": "display_data"
    },
    {
     "name": "stdout",
     "output_type": "stream",
     "text": [
      "None\n"
     ]
    },
    {
     "data": {
      "text/html": [
       "<a href=\"https://ks-yanao.ru/novosti/dlya-mosta-cherez-ob-gotovyat-pochvu.html\">Для моста через Обь готовят почву</a> — 0.02963631405616284"
      ],
      "text/plain": [
       "<IPython.core.display.HTML object>"
      ]
     },
     "metadata": {},
     "output_type": "display_data"
    },
    {
     "name": "stdout",
     "output_type": "stream",
     "text": [
      "None\n"
     ]
    },
    {
     "data": {
      "text/html": [
       "<a href=\"https://ks-yanao.ru/novosti/v-myse-kamennom-otkryli-mnogofunktsionalnyy-detskiy-gorodok.html\">В Мысе Каменном открыли многофункциональный детский городок</a> — 0.029509039330915567"
      ],
      "text/plain": [
       "<IPython.core.display.HTML object>"
      ]
     },
     "metadata": {},
     "output_type": "display_data"
    },
    {
     "name": "stdout",
     "output_type": "stream",
     "text": [
      "None\n"
     ]
    },
    {
     "data": {
      "text/html": [
       "<a href=\"https://ks-yanao.ru/novosti/studenty-noyabrskogo-kolledzha-nachnut-osvaivat-mekhatroniku.html\">Студенты ноябрьского колледжа начнут осваивать мехатронику</a> — 0.027913940012080092"
      ],
      "text/plain": [
       "<IPython.core.display.HTML object>"
      ]
     },
     "metadata": {},
     "output_type": "display_data"
    },
    {
     "name": "stdout",
     "output_type": "stream",
     "text": [
      "None\n"
     ]
    },
    {
     "data": {
      "text/html": [
       "<a href=\"https://ks-yanao.ru/novosti/luchshikh-rybakov-zhdut-snegokhody-i-lodochnye-motory.html\">Лучших  рыбаков ждут  снегоходы и лодочные моторы</a> — 0.026891006825706568"
      ],
      "text/plain": [
       "<IPython.core.display.HTML object>"
      ]
     },
     "metadata": {},
     "output_type": "display_data"
    },
    {
     "name": "stdout",
     "output_type": "stream",
     "text": [
      "None\n"
     ]
    },
    {
     "data": {
      "text/html": [
       "<a href=\"https://ks-yanao.ru/novosti/v-labytnangi-lyudi-zastryali-na-podtoplennoy-doroge-s-kladbishcha.html\">В Лабытнанги люди застряли на подтопленной дороге с кладбища</a> — 0.026644802874161336"
      ],
      "text/plain": [
       "<IPython.core.display.HTML object>"
      ]
     },
     "metadata": {},
     "output_type": "display_data"
    },
    {
     "name": "stdout",
     "output_type": "stream",
     "text": [
      "None\n"
     ]
    },
    {
     "data": {
      "text/html": [
       "<a href=\"https://ks-yanao.ru/novosti/v-stolitse-yamala-naladili-vypusk-masla-salekhardskoe-.html\">﻿В столице Ямала наладили выпуск масла «Салехардское»</a> — 0.026639455340580254"
      ],
      "text/plain": [
       "<IPython.core.display.HTML object>"
      ]
     },
     "metadata": {},
     "output_type": "display_data"
    },
    {
     "name": "stdout",
     "output_type": "stream",
     "text": [
      "None\n"
     ]
    },
    {
     "data": {
      "text/html": [
       "<a href=\"https://ks-yanao.ru/novosti/v-pravitelstve-opredelyatsya-s-opasnymi-sobakami.html\">В правительстве определятся с опасными собаками</a> — 0.023853021182097946"
      ],
      "text/plain": [
       "<IPython.core.display.HTML object>"
      ]
     },
     "metadata": {},
     "output_type": "display_data"
    },
    {
     "name": "stdout",
     "output_type": "stream",
     "text": [
      "None\n"
     ]
    },
    {
     "data": {
      "text/html": [
       "<a href=\"https://ks-yanao.ru/novosti/vozle-pyatoy-shkoly-labytnangi-otkryli-sportivnuyu-ploshchadku.html\">Возле пятой школы Лабытнанги открыли спортивную площадку</a> — 0.0236787428342539"
      ],
      "text/plain": [
       "<IPython.core.display.HTML object>"
      ]
     },
     "metadata": {},
     "output_type": "display_data"
    },
    {
     "name": "stdout",
     "output_type": "stream",
     "text": [
      "None\n"
     ]
    },
    {
     "data": {
      "text/html": [
       "<a href=\"https://ks-yanao.ru/novosti/razbivshiysya-na-mototsikle-novourengoets-vpal-v-komu.html\">Разбившийся на мотоцикле новоуренгоец впал в кому</a> — 0.022903545559672157"
      ],
      "text/plain": [
       "<IPython.core.display.HTML object>"
      ]
     },
     "metadata": {},
     "output_type": "display_data"
    },
    {
     "name": "stdout",
     "output_type": "stream",
     "text": [
      "None\n"
     ]
    },
    {
     "data": {
      "text/html": [
       "<a href=\"https://ks-yanao.ru/novosti/fotofakt-ikony-petra-i-pavla-v-chest-prazdnika-pronesli-po-salekhardu-.html\">Фотофакт: в день памяти апостолов Петра и Павла в Салехарде прошли крестным ходом</a> — 0.022664860001962654"
      ],
      "text/plain": [
       "<IPython.core.display.HTML object>"
      ]
     },
     "metadata": {},
     "output_type": "display_data"
    },
    {
     "name": "stdout",
     "output_type": "stream",
     "text": [
      "None\n"
     ]
    },
    {
     "data": {
      "text/html": [
       "<a href=\"https://ks-yanao.ru/novosti/ledokhod-obeshchayut-no-eshchye-pozzhe.html\">Ледоход обещают… но ещё позже</a> — 0.022506073803595174"
      ],
      "text/plain": [
       "<IPython.core.display.HTML object>"
      ]
     },
     "metadata": {},
     "output_type": "display_data"
    },
    {
     "name": "stdout",
     "output_type": "stream",
     "text": [
      "None\n"
     ]
    },
    {
     "data": {
      "text/html": [
       "<a href=\"https://ks-yanao.ru/novosti/spetssvyaz-dostavila-blanki-dlya-vybora-regionalnykh-deputatov.html\">Спецсвязь доставила бланки для выбора региональных депутатов</a> — 0.021702845115532454"
      ],
      "text/plain": [
       "<IPython.core.display.HTML object>"
      ]
     },
     "metadata": {},
     "output_type": "display_data"
    },
    {
     "name": "stdout",
     "output_type": "stream",
     "text": [
      "None\n"
     ]
    },
    {
     "data": {
      "text/html": [
       "<a href=\"https://ks-yanao.ru/novosti/na-yamale-startovala-nedelya-motosporta.html\">На Ямале стартовала неделя мотоспорта</a> — 0.020970642276885252"
      ],
      "text/plain": [
       "<IPython.core.display.HTML object>"
      ]
     },
     "metadata": {},
     "output_type": "display_data"
    },
    {
     "name": "stdout",
     "output_type": "stream",
     "text": [
      "None\n"
     ]
    },
    {
     "data": {
      "text/html": [
       "<a href=\"https://ks-yanao.ru/novosti/muskusnykh-bykov-otpravyat-v-yakutiyu-na-samolyete.html\">Мускусных быков отправят в Якутию на самолёте</a> — 0.020414011802751576"
      ],
      "text/plain": [
       "<IPython.core.display.HTML object>"
      ]
     },
     "metadata": {},
     "output_type": "display_data"
    },
    {
     "name": "stdout",
     "output_type": "stream",
     "text": [
      "None\n"
     ]
    },
    {
     "data": {
      "text/html": [
       "<a href=\"https://ks-yanao.ru/novosti/u-poiskovogo-otryada-liza-alert-yamal-poyavilsya-sobstvennyy-shtab.html\">У поискового отряда «Лиза Алерт Ямал» появился собственный штаб</a> — 0.018550383693883142"
      ],
      "text/plain": [
       "<IPython.core.display.HTML object>"
      ]
     },
     "metadata": {},
     "output_type": "display_data"
    },
    {
     "name": "stdout",
     "output_type": "stream",
     "text": [
      "None\n"
     ]
    },
    {
     "data": {
      "text/html": [
       "<a href=\"https://ks-yanao.ru/novosti/v-yamalskoy-tundre-vnov-chto-to-grokhotalo.html\">В ямальской тундре вновь что-то грохотало?</a> — 0.018382920877645963"
      ],
      "text/plain": [
       "<IPython.core.display.HTML object>"
      ]
     },
     "metadata": {},
     "output_type": "display_data"
    },
    {
     "name": "stdout",
     "output_type": "stream",
     "text": [
      "None\n"
     ]
    },
    {
     "data": {
      "text/html": [
       "<a href=\"https://ks-yanao.ru/novosti/yamaltsev-vyveli-na-dorogu-predkov.html\">Ямальцев вывели на «Дорогу предков»</a> — 0.017156159249861032"
      ],
      "text/plain": [
       "<IPython.core.display.HTML object>"
      ]
     },
     "metadata": {},
     "output_type": "display_data"
    },
    {
     "name": "stdout",
     "output_type": "stream",
     "text": [
      "None\n"
     ]
    },
    {
     "data": {
      "text/html": [
       "<a href=\"https://ks-yanao.ru/novosti/u-zhiteley-noyabrska-voprosy-k-novoy-stroyke.html\">У жителей Ноябрьска вопросы к новой стройке</a> — 0.016111235228313495"
      ],
      "text/plain": [
       "<IPython.core.display.HTML object>"
      ]
     },
     "metadata": {},
     "output_type": "display_data"
    },
    {
     "name": "stdout",
     "output_type": "stream",
     "text": [
      "None\n"
     ]
    },
    {
     "data": {
      "text/html": [
       "<a href=\"https://ks-yanao.ru/novosti/v-snezhinke-zavershilas-poslednyaya-smena.html\">В «Снежинке» завершилась последняя смена</a> — 0.01568351156505794"
      ],
      "text/plain": [
       "<IPython.core.display.HTML object>"
      ]
     },
     "metadata": {},
     "output_type": "display_data"
    },
    {
     "name": "stdout",
     "output_type": "stream",
     "text": [
      "None\n"
     ]
    },
    {
     "data": {
      "text/html": [
       "<a href=\"https://ks-yanao.ru/novosti/gde-v-vodu-ni-nogoy.html\">Где в воду ни ногой?</a> — 0.015165846396420875"
      ],
      "text/plain": [
       "<IPython.core.display.HTML object>"
      ]
     },
     "metadata": {},
     "output_type": "display_data"
    },
    {
     "name": "stdout",
     "output_type": "stream",
     "text": [
      "None\n"
     ]
    },
    {
     "data": {
      "text/html": [
       "<a href=\"https://ks-yanao.ru/novosti/novyy-urengoy-perezhil-ataku-telefonnykh-terroristov.html\">Новый Уренгой пережил атаку телефонных террористов</a> — 0.015045597668565395"
      ],
      "text/plain": [
       "<IPython.core.display.HTML object>"
      ]
     },
     "metadata": {},
     "output_type": "display_data"
    },
    {
     "name": "stdout",
     "output_type": "stream",
     "text": [
      "None\n"
     ]
    },
    {
     "data": {
      "text/html": [
       "<a href=\"https://ks-yanao.ru/novosti/v-nadym-pribyl-samolet-mchs.html\">В Надым прибыл самолет МЧС</a> — 0.014994447862724332"
      ],
      "text/plain": [
       "<IPython.core.display.HTML object>"
      ]
     },
     "metadata": {},
     "output_type": "display_data"
    },
    {
     "name": "stdout",
     "output_type": "stream",
     "text": [
      "None\n"
     ]
    },
    {
     "data": {
      "text/html": [
       "<a href=\"https://ks-yanao.ru/novosti/stroitelyam-ostavivshim-yamal-bez-interneta-vystavyat-schyet.html\">Строителям, оставившим Ямал без Интернета, выставят счёт</a> — 0.014936712792956894"
      ],
      "text/plain": [
       "<IPython.core.display.HTML object>"
      ]
     },
     "metadata": {},
     "output_type": "display_data"
    },
    {
     "name": "stdout",
     "output_type": "stream",
     "text": [
      "None\n"
     ]
    },
    {
     "data": {
      "text/html": [
       "<a href=\"https://ks-yanao.ru/novosti/atomokhod-taymyr-provel-v-sabettu-karavan-iz-dvukh-sudov.html\">Атомоход «Таймыр» провел в Сабетту караван из двух судов</a> — 0.014024260893177593"
      ],
      "text/plain": [
       "<IPython.core.display.HTML object>"
      ]
     },
     "metadata": {},
     "output_type": "display_data"
    },
    {
     "name": "stdout",
     "output_type": "stream",
     "text": [
      "None\n"
     ]
    },
    {
     "data": {
      "text/html": [
       "<a href=\"https://ks-yanao.ru/novosti/v-den-vdv-v-noyabrske-otkryli-pamyatnik-generalu-margelovu.html\">В День ВДВ в Ноябрьске и Новом Уренгое открыли памятник генералу Маргелову</a> — 0.013797283586874863"
      ],
      "text/plain": [
       "<IPython.core.display.HTML object>"
      ]
     },
     "metadata": {},
     "output_type": "display_data"
    },
    {
     "name": "stdout",
     "output_type": "stream",
     "text": [
      "None\n"
     ]
    },
    {
     "data": {
      "text/html": [
       "<a href=\"https://ks-yanao.ru/novosti/salekhardskiy-erits-pereekhal.html\">Салехардский  ЕРИЦ переехал</a> — 0.013731545701755794"
      ],
      "text/plain": [
       "<IPython.core.display.HTML object>"
      ]
     },
     "metadata": {},
     "output_type": "display_data"
    },
    {
     "name": "stdout",
     "output_type": "stream",
     "text": [
      "None\n"
     ]
    },
    {
     "data": {
      "text/html": [
       "<a href=\"https://ks-yanao.ru/novosti/okrugu-podtverdili-reyting-po-maksimumu.html\">Округу подтвердили рейтинг по максимуму</a> — 0.013397422034269258"
      ],
      "text/plain": [
       "<IPython.core.display.HTML object>"
      ]
     },
     "metadata": {},
     "output_type": "display_data"
    },
    {
     "name": "stdout",
     "output_type": "stream",
     "text": [
      "None\n"
     ]
    },
    {
     "data": {
      "text/html": [
       "<a href=\"https://ks-yanao.ru/novosti/byt-li-pyatidnevke-v-shkolakh.html\">Быть ли пятидневке в школах?</a> — 0.013002603972633999"
      ],
      "text/plain": [
       "<IPython.core.display.HTML object>"
      ]
     },
     "metadata": {},
     "output_type": "display_data"
    },
    {
     "name": "stdout",
     "output_type": "stream",
     "text": [
      "None\n"
     ]
    },
    {
     "data": {
      "text/html": [
       "<a href=\"https://ks-yanao.ru/novosti/v-den-korennykh-narodov-mira-yamaltsy-poprivetstvuyut-mir-na-nenetskom.html\">В День коренных народов мира ямальцы поприветствуют мир на ненецком</a> — 0.012178104107671856"
      ],
      "text/plain": [
       "<IPython.core.display.HTML object>"
      ]
     },
     "metadata": {},
     "output_type": "display_data"
    },
    {
     "name": "stdout",
     "output_type": "stream",
     "text": [
      "None\n"
     ]
    },
    {
     "data": {
      "text/html": [
       "<a href=\"https://ks-yanao.ru/novosti/v-obdorskom-ostroge-v-chest-petrova-dnya-gulyal-narod.html\">В Обдорском остроге в честь Петрова дня гулял народ</a> — 0.012140788191645708"
      ],
      "text/plain": [
       "<IPython.core.display.HTML object>"
      ]
     },
     "metadata": {},
     "output_type": "display_data"
    },
    {
     "name": "stdout",
     "output_type": "stream",
     "text": [
      "None\n"
     ]
    },
    {
     "data": {
      "text/html": [
       "<a href=\"https://ks-yanao.ru/novosti/v-salekhard-pribyvaet-neobychnaya-ekspeditsiya.html\">В Салехард прибывает необычная экспедиция</a> — 0.011748711251733202"
      ],
      "text/plain": [
       "<IPython.core.display.HTML object>"
      ]
     },
     "metadata": {},
     "output_type": "display_data"
    },
    {
     "name": "stdout",
     "output_type": "stream",
     "text": [
      "None\n"
     ]
    },
    {
     "data": {
      "text/html": [
       "<a href=\"https://ks-yanao.ru/novosti/avtorov-nestandartnykh-poslaniy-roditelyam-nagradyat-za-originalnost.html\">Авторов нестандартных посланий родителям наградят за оригинальность</a> — 0.011686096316908368"
      ],
      "text/plain": [
       "<IPython.core.display.HTML object>"
      ]
     },
     "metadata": {},
     "output_type": "display_data"
    },
    {
     "name": "stdout",
     "output_type": "stream",
     "text": [
      "None\n"
     ]
    },
    {
     "data": {
      "text/html": [
       "<a href=\"https://ks-yanao.ru/novosti/ploshchad-pozharov-v-nadymskom-rayone-za-sutki-uvelichilas-pochti-na-150-gektarov.html\">Площадь пожаров в Надымском районе за сутки увеличилась почти на 150 гектаров</a> — 0.011184534056384048"
      ],
      "text/plain": [
       "<IPython.core.display.HTML object>"
      ]
     },
     "metadata": {},
     "output_type": "display_data"
    },
    {
     "name": "stdout",
     "output_type": "stream",
     "text": [
      "None\n"
     ]
    },
    {
     "data": {
      "text/html": [
       "<a href=\"https://ks-yanao.ru/novosti/v-novom-urengoe-otkrylsya-tsentr-zdorovya-detey.html\">В Новом Уренгое открылся Центр здоровья детей</a> — 0.01109947653009238"
      ],
      "text/plain": [
       "<IPython.core.display.HTML object>"
      ]
     },
     "metadata": {},
     "output_type": "display_data"
    },
    {
     "name": "stdout",
     "output_type": "stream",
     "text": [
      "None\n"
     ]
    },
    {
     "data": {
      "text/html": [
       "<a href=\"https://ks-yanao.ru/novosti/v-novom-urengoe-gotovy-k-chs.html\">В Новом Уренгое готовы к ЧС</a> — 0.010798656533225579"
      ],
      "text/plain": [
       "<IPython.core.display.HTML object>"
      ]
     },
     "metadata": {},
     "output_type": "display_data"
    },
    {
     "name": "stdout",
     "output_type": "stream",
     "text": [
      "None\n"
     ]
    },
    {
     "data": {
      "text/html": [
       "<a href=\"https://ks-yanao.ru/novosti/orlovskaya-biofabrika-razrabotala-vaktsinu-dlya-yamalskikh-oleney.html\">Орловская биофабрика разработала вакцину для ямальских оленей</a> — 0.010733756496380809"
      ],
      "text/plain": [
       "<IPython.core.display.HTML object>"
      ]
     },
     "metadata": {},
     "output_type": "display_data"
    },
    {
     "name": "stdout",
     "output_type": "stream",
     "text": [
      "None\n"
     ]
    },
    {
     "data": {
      "text/html": [
       "<a href=\"https://ks-yanao.ru/novosti/volontery-novogo-urengoya-vzyalis-za-uborku.html\">Волонтеры Нового Уренгоя взялись за уборку</a> — 0.010596693909397568"
      ],
      "text/plain": [
       "<IPython.core.display.HTML object>"
      ]
     },
     "metadata": {},
     "output_type": "display_data"
    },
    {
     "name": "stdout",
     "output_type": "stream",
     "text": [
      "None\n"
     ]
    },
    {
     "data": {
      "text/html": [
       "<a href=\"https://ks-yanao.ru/novosti/v-novourengoyskoy-novostroyke-treshchashchey-po-shvam-provoditsya-ekspertiza.html\">В новоуренгойской новостройке, трещащей по швам, проводится экспертиза</a> — 0.010415106222164662"
      ],
      "text/plain": [
       "<IPython.core.display.HTML object>"
      ]
     },
     "metadata": {},
     "output_type": "display_data"
    },
    {
     "name": "stdout",
     "output_type": "stream",
     "text": [
      "None\n"
     ]
    },
    {
     "data": {
      "text/html": [
       "<a href=\"https://ks-yanao.ru/novosti/zapolyarnoe-morozhenoe-budut-delat-v-yar-sale.html\">Заполярное мороженое будут делать в Яр-Сале</a> — 0.010304604994373245"
      ],
      "text/plain": [
       "<IPython.core.display.HTML object>"
      ]
     },
     "metadata": {},
     "output_type": "display_data"
    },
    {
     "name": "stdout",
     "output_type": "stream",
     "text": [
      "None\n"
     ]
    },
    {
     "data": {
      "text/html": [
       "<a href=\"https://ks-yanao.ru/novosti/kadastrovykh-inzhenerov-mozhno-zakazat-cherez-sayt.html\">Кадастровых инженеров можно «заказать» через сайт</a> — 0.010231107970088507"
      ],
      "text/plain": [
       "<IPython.core.display.HTML object>"
      ]
     },
     "metadata": {},
     "output_type": "display_data"
    },
    {
     "name": "stdout",
     "output_type": "stream",
     "text": [
      "None\n"
     ]
    },
    {
     "data": {
      "text/html": [
       "<a href=\"https://ks-yanao.ru/novosti/biblioteka-na-bolnichnoy-polke.html\">Библиотека – на больничной  полке</a> — 0.010077050233942583"
      ],
      "text/plain": [
       "<IPython.core.display.HTML object>"
      ]
     },
     "metadata": {},
     "output_type": "display_data"
    },
    {
     "name": "stdout",
     "output_type": "stream",
     "text": [
      "None\n"
     ]
    },
    {
     "data": {
      "text/html": [
       "<a href=\"https://ks-yanao.ru/novosti/svyazisty-rostelekoma-otsenili-nanesennyy-stroitelyami-ushcherb.html\">Связисты «Ростелекома» оценили нанесенный строителями ущерб</a> — 0.009708482799568853"
      ],
      "text/plain": [
       "<IPython.core.display.HTML object>"
      ]
     },
     "metadata": {},
     "output_type": "display_data"
    },
    {
     "name": "stdout",
     "output_type": "stream",
     "text": [
      "None\n"
     ]
    },
    {
     "data": {
      "text/html": [
       "<a href=\"https://ks-yanao.ru/novosti/dva-salekhardskikh-voditelya-otmetilis-nochnymi-podvigami.html\">Два салехардских водителя отметились ночными «подвигами»</a> — 0.009502004094300041"
      ],
      "text/plain": [
       "<IPython.core.display.HTML object>"
      ]
     },
     "metadata": {},
     "output_type": "display_data"
    },
    {
     "name": "stdout",
     "output_type": "stream",
     "text": [
      "None\n"
     ]
    },
    {
     "data": {
      "text/html": [
       "<a href=\"https://ks-yanao.ru/novosti/yamalskiy-podrostok-v-bolgarii-povredil-pozvonochnik.html\">Ямальский подросток в Болгарии повредил позвоночник</a> — 0.009454054413825172"
      ],
      "text/plain": [
       "<IPython.core.display.HTML object>"
      ]
     },
     "metadata": {},
     "output_type": "display_data"
    },
    {
     "name": "stdout",
     "output_type": "stream",
     "text": [
      "None\n"
     ]
    },
    {
     "data": {
      "text/html": [
       "<a href=\"https://ks-yanao.ru/novosti/vo-skolko-oboydyetsya-novomu-urengoyu-svoya-solnechnaya-sistema-.html\">Во сколько обойдётся Новому Уренгою своя «Солнечная система»?</a> — 0.009439674630006736"
      ],
      "text/plain": [
       "<IPython.core.display.HTML object>"
      ]
     },
     "metadata": {},
     "output_type": "display_data"
    },
    {
     "name": "stdout",
     "output_type": "stream",
     "text": [
      "None\n"
     ]
    },
    {
     "data": {
      "text/html": [
       "<a href=\"https://ks-yanao.ru/novosti/novyy-urengoy-otvoeval-u-nepogody-pochti-chas-dnya-rossii.html\">Новый Уренгой отвоевал у непогоды почти час Дня России</a> — 0.009357942515811448"
      ],
      "text/plain": [
       "<IPython.core.display.HTML object>"
      ]
     },
     "metadata": {},
     "output_type": "display_data"
    },
    {
     "name": "stdout",
     "output_type": "stream",
     "text": [
      "None\n"
     ]
    },
    {
     "data": {
      "text/html": [
       "<a href=\"https://ks-yanao.ru/novosti/do-otplytiya-pervogo-paroma-na-priobe-ostayutsya-schitannye-chasy.html\">До отплытия первого парома на Приобье остаются считанные часы</a> — 0.009309985112886172"
      ],
      "text/plain": [
       "<IPython.core.display.HTML object>"
      ]
     },
     "metadata": {},
     "output_type": "display_data"
    },
    {
     "name": "stdout",
     "output_type": "stream",
     "text": [
      "None\n"
     ]
    },
    {
     "data": {
      "text/html": [
       "<a href=\"https://ks-yanao.ru/novosti/okruzhnaya-bolnitsa-perekhodit-na-elektronnye-bolnichnye.html\">Окружная больница переходит  на электронные больничные</a> — 0.00886727780653688"
      ],
      "text/plain": [
       "<IPython.core.display.HTML object>"
      ]
     },
     "metadata": {},
     "output_type": "display_data"
    },
    {
     "name": "stdout",
     "output_type": "stream",
     "text": [
      "None\n"
     ]
    },
    {
     "data": {
      "text/html": [
       "<a href=\"https://ks-yanao.ru/novosti/otmetit-svoy-den-rossii-predlagayut-kheshtegom.html\">Отметить свой День России предлагают хэштегом</a> — 0.00878034033618472"
      ],
      "text/plain": [
       "<IPython.core.display.HTML object>"
      ]
     },
     "metadata": {},
     "output_type": "display_data"
    },
    {
     "name": "stdout",
     "output_type": "stream",
     "text": [
      "None\n"
     ]
    },
    {
     "data": {
      "text/html": [
       "<a href=\"https://ks-yanao.ru/novosti/fitnes-festival-v-noyabrske-soberyet-lyubiteley-byt-v-forme.html\">Фитнес-фестиваль в Ноябрьске соберёт любителей быть в форме</a> — 0.00850110491943265"
      ],
      "text/plain": [
       "<IPython.core.display.HTML object>"
      ]
     },
     "metadata": {},
     "output_type": "display_data"
    },
    {
     "name": "stdout",
     "output_type": "stream",
     "text": [
      "None\n"
     ]
    },
    {
     "data": {
      "text/html": [
       "<a href=\"https://ks-yanao.ru/novosti/sobralsya-v-dorogu-pozvoni-v-spravochnuyu.html\">Собрался в дорогу – позвони в справочную</a> — 0.008408369288037747"
      ],
      "text/plain": [
       "<IPython.core.display.HTML object>"
      ]
     },
     "metadata": {},
     "output_type": "display_data"
    },
    {
     "name": "stdout",
     "output_type": "stream",
     "text": [
      "None\n"
     ]
    },
    {
     "data": {
      "text/html": [
       "<a href=\"https://ks-yanao.ru/novosti/politseyskie-chetyre-dnya-iskali-malysha.html\">Полицейские четыре дня искали малыша</a> — 0.00837182275072447"
      ],
      "text/plain": [
       "<IPython.core.display.HTML object>"
      ]
     },
     "metadata": {},
     "output_type": "display_data"
    },
    {
     "name": "stdout",
     "output_type": "stream",
     "text": [
      "None\n"
     ]
    },
    {
     "data": {
      "text/html": [
       "<a href=\"https://ks-yanao.ru/novosti/aeroflot-sovershil-pervyy-reys-iz-moskvy-v-salekhard.html\">«Аэрофлот» совершил первый рейс из Москвы в Салехард</a> — 0.008230463424930919"
      ],
      "text/plain": [
       "<IPython.core.display.HTML object>"
      ]
     },
     "metadata": {},
     "output_type": "display_data"
    },
    {
     "name": "stdout",
     "output_type": "stream",
     "text": [
      "None\n"
     ]
    },
    {
     "data": {
      "text/html": [
       "<a href=\"https://ks-yanao.ru/novosti/voda-na-doroge-bolshe-ne-meshaet-nadymchanam.html\">Вода на дороге больше не мешает надымчанам</a> — 0.008206602862115222"
      ],
      "text/plain": [
       "<IPython.core.display.HTML object>"
      ]
     },
     "metadata": {},
     "output_type": "display_data"
    },
    {
     "name": "stdout",
     "output_type": "stream",
     "text": [
      "None\n"
     ]
    },
    {
     "data": {
      "text/html": [
       "<a href=\"https://ks-yanao.ru/novosti/pervyy-parom-na-priobe-iz-salekharda-uydyet-28-maya.html\">﻿Первый паром на Приобье из Салехарда уйдёт 28 мая</a> — 0.007734688628850842"
      ],
      "text/plain": [
       "<IPython.core.display.HTML object>"
      ]
     },
     "metadata": {},
     "output_type": "display_data"
    },
    {
     "name": "stdout",
     "output_type": "stream",
     "text": [
      "None\n"
     ]
    },
    {
     "data": {
      "text/html": [
       "<a href=\"https://ks-yanao.ru/novosti/v-novom-urengoe-zapustili-dobroe-delo.html\">В Новом Уренгое запустили «Доброе дело»</a> — 0.007699149173211883"
      ],
      "text/plain": [
       "<IPython.core.display.HTML object>"
      ]
     },
     "metadata": {},
     "output_type": "display_data"
    },
    {
     "name": "stdout",
     "output_type": "stream",
     "text": [
      "None\n"
     ]
    },
    {
     "data": {
      "text/html": [
       "<a href=\"https://ks-yanao.ru/novosti/iz-obshchestvennikov-lish-dve-nekommercheskie-organizatsii-okazyvayut-sotsuslugi.html\">Из общественников лишь две некоммерческие организации оказывают соцуслуги</a> — 0.007204315180365697"
      ],
      "text/plain": [
       "<IPython.core.display.HTML object>"
      ]
     },
     "metadata": {},
     "output_type": "display_data"
    },
    {
     "name": "stdout",
     "output_type": "stream",
     "text": [
      "None\n"
     ]
    },
    {
     "data": {
      "text/html": [
       "<a href=\"https://ks-yanao.ru/novosti/v-gazprome-zameryayut-uroven-schastya-rabotnikov.html\">﻿В «Газпроме» замеряют уровень счастья работников</a> — 0.007037708075805177"
      ],
      "text/plain": [
       "<IPython.core.display.HTML object>"
      ]
     },
     "metadata": {},
     "output_type": "display_data"
    },
    {
     "name": "stdout",
     "output_type": "stream",
     "text": [
      "None\n"
     ]
    },
    {
     "data": {
      "text/html": [
       "<a href=\"https://ks-yanao.ru/novosti/biznesu-predlozhili-orientirovatsya-po-navigatoru.html\">Бизнесу предложили ориентироваться по «навигатору»</a> — 0.00696677252233724"
      ],
      "text/plain": [
       "<IPython.core.display.HTML object>"
      ]
     },
     "metadata": {},
     "output_type": "display_data"
    },
    {
     "name": "stdout",
     "output_type": "stream",
     "text": [
      "None\n"
     ]
    },
    {
     "data": {
      "text/html": [
       "<a href=\"https://ks-yanao.ru/novosti/spiker-yamalskogo-parlamenta-predlagaet-sazhat-cheremukhu.html\">Спикер ямальского парламента предлагает сажать черёмуху</a> — 0.006924075694629973"
      ],
      "text/plain": [
       "<IPython.core.display.HTML object>"
      ]
     },
     "metadata": {},
     "output_type": "display_data"
    },
    {
     "name": "stdout",
     "output_type": "stream",
     "text": [
      "None\n"
     ]
    },
    {
     "data": {
      "text/html": [
       "<a href=\"https://ks-yanao.ru/novosti/sekrety-luchshikh-shashlychnikov-raskryli-v-novom-urengoe.html\">Секреты лучших шашлычников раскрыли в Новом Уренгое</a> — 0.006709454957170396"
      ],
      "text/plain": [
       "<IPython.core.display.HTML object>"
      ]
     },
     "metadata": {},
     "output_type": "display_data"
    },
    {
     "name": "stdout",
     "output_type": "stream",
     "text": [
      "None\n"
     ]
    },
    {
     "data": {
      "text/html": [
       "<a href=\"https://ks-yanao.ru/novosti/na-budke-gde-sgorel-salekhardets-nedoschitalis-zamka.html\">На будке, где сгорел салехардец, недосчитались замка</a> — 0.006378557222703294"
      ],
      "text/plain": [
       "<IPython.core.display.HTML object>"
      ]
     },
     "metadata": {},
     "output_type": "display_data"
    },
    {
     "name": "stdout",
     "output_type": "stream",
     "text": [
      "None\n"
     ]
    },
    {
     "data": {
      "text/html": [
       "<a href=\"https://ks-yanao.ru/novosti/v-krasnoselkupe-pod-azs-zagorelas-zemlya.html\">В Красноселькупе под АЗС загорелась земля</a> — 0.006131497165791416"
      ],
      "text/plain": [
       "<IPython.core.display.HTML object>"
      ]
     },
     "metadata": {},
     "output_type": "display_data"
    },
    {
     "name": "stdout",
     "output_type": "stream",
     "text": [
      "None\n"
     ]
    },
    {
     "data": {
      "text/html": [
       "<a href=\"https://ks-yanao.ru/novosti/v-registrature-salekhardskoy-polikliniki-bolshaya-perestroyka.html\">В регистратуре салехардской поликлиники большая перестройка</a> — 0.006115531737709638"
      ],
      "text/plain": [
       "<IPython.core.display.HTML object>"
      ]
     },
     "metadata": {},
     "output_type": "display_data"
    },
    {
     "name": "stdout",
     "output_type": "stream",
     "text": [
      "None\n"
     ]
    },
    {
     "data": {
      "text/html": [
       "<a href=\"https://ks-yanao.ru/novosti/na-yamale-snova-shtormit.html\">На Ямале снова штормит</a> — 0.005963167709068119"
      ],
      "text/plain": [
       "<IPython.core.display.HTML object>"
      ]
     },
     "metadata": {},
     "output_type": "display_data"
    },
    {
     "name": "stdout",
     "output_type": "stream",
     "text": [
      "None\n"
     ]
    },
    {
     "data": {
      "text/html": [
       "<a href=\"https://ks-yanao.ru/novosti/na-bovanenkovo-vpervye-zazvonil-tserkovnyy-kolokol.html\">На Бованенково впервые зазвонил церковный колокол</a> — 0.005924044129704002"
      ],
      "text/plain": [
       "<IPython.core.display.HTML object>"
      ]
     },
     "metadata": {},
     "output_type": "display_data"
    },
    {
     "name": "stdout",
     "output_type": "stream",
     "text": [
      "None\n"
     ]
    },
    {
     "data": {
      "text/html": [
       "<a href=\"https://ks-yanao.ru/novosti/granty-vzyali-za-pyat-minut.html\">Гранты «взяли» за пять минут</a> — 0.005908900800230455"
      ],
      "text/plain": [
       "<IPython.core.display.HTML object>"
      ]
     },
     "metadata": {},
     "output_type": "display_data"
    },
    {
     "name": "stdout",
     "output_type": "stream",
     "text": [
      "None\n"
     ]
    },
    {
     "data": {
      "text/html": [
       "<a href=\"https://ks-yanao.ru/novosti/kogda-na-yamale-potepleet.html\">Когда на Ямале потеплеет?</a> — 0.005669957375933552"
      ],
      "text/plain": [
       "<IPython.core.display.HTML object>"
      ]
     },
     "metadata": {},
     "output_type": "display_data"
    },
    {
     "name": "stdout",
     "output_type": "stream",
     "text": [
      "None\n"
     ]
    },
    {
     "data": {
      "text/html": [
       "<a href=\"https://ks-yanao.ru/novosti/v-noyabrske-sazhat-derevya-vyshli-dazhe-snegoviki.html\">В Ноябрьске сажать деревья вышли даже снеговики</a> — 0.005630423945839573"
      ],
      "text/plain": [
       "<IPython.core.display.HTML object>"
      ]
     },
     "metadata": {},
     "output_type": "display_data"
    },
    {
     "name": "stdout",
     "output_type": "stream",
     "text": [
      "None\n"
     ]
    },
    {
     "data": {
      "text/html": [
       "<a href=\"https://ks-yanao.ru/novosti/segodnya-v-labytnangi-torzhestvenno-otkryli-molodezhnyy-tsentr-.html\">Сегодня в Лабытнанги торжественно открыли молодежный центр</a> — 0.005052690623836066"
      ],
      "text/plain": [
       "<IPython.core.display.HTML object>"
      ]
     },
     "metadata": {},
     "output_type": "display_data"
    },
    {
     "name": "stdout",
     "output_type": "stream",
     "text": [
      "None\n"
     ]
    },
    {
     "data": {
      "text/html": [
       "<a href=\"https://ks-yanao.ru/novosti/dlya-assotsiatsii-sozdadut-planovoe-sistemnoe-finansirovanie.html\">Для ассоциации создадут плановое системное финансирование</a> — 0.005048951585758015"
      ],
      "text/plain": [
       "<IPython.core.display.HTML object>"
      ]
     },
     "metadata": {},
     "output_type": "display_data"
    },
    {
     "name": "stdout",
     "output_type": "stream",
     "text": [
      "None\n"
     ]
    },
    {
     "data": {
      "text/html": [
       "<a href=\"https://ks-yanao.ru/novosti/ogon-v-lesakh-razdulo-vetrom.html\">Огонь в лесах раздуло ветром</a> — 0.004932748470678798"
      ],
      "text/plain": [
       "<IPython.core.display.HTML object>"
      ]
     },
     "metadata": {},
     "output_type": "display_data"
    },
    {
     "name": "stdout",
     "output_type": "stream",
     "text": [
      "None\n"
     ]
    },
    {
     "data": {
      "text/html": [
       "<a href=\"https://ks-yanao.ru/novosti/zatyanuvshayasya-rasputitsa-ne-udarit-po-koshelkam-pokupateley.html\">﻿Затянувшаяся распутица не ударит по кошелькам покупателей</a> — 0.004539445212166732"
      ],
      "text/plain": [
       "<IPython.core.display.HTML object>"
      ]
     },
     "metadata": {},
     "output_type": "display_data"
    },
    {
     "name": "stdout",
     "output_type": "stream",
     "text": [
      "None\n"
     ]
    },
    {
     "data": {
      "text/html": [
       "<a href=\"https://ks-yanao.ru/novosti/pochemu-v-gyde-molodyezh-otbilas-ot-ruk-vyyasnila-prokuratura.html\">Почему в Гыде молодёжь отбилась от рук, выяснила прокуратура</a> — 0.0044986798211783694"
      ],
      "text/plain": [
       "<IPython.core.display.HTML object>"
      ]
     },
     "metadata": {},
     "output_type": "display_data"
    },
    {
     "name": "stdout",
     "output_type": "stream",
     "text": [
      "None\n"
     ]
    },
    {
     "data": {
      "text/html": [
       "<a href=\"https://ks-yanao.ru/novosti/na-yamale-vakhtovik-razboynik-obokral-semerykh-poputchikov.html\">﻿На Ямале вахтовик-разбойник обокрал семерых попутчиков</a> — 0.003969683631479818"
      ],
      "text/plain": [
       "<IPython.core.display.HTML object>"
      ]
     },
     "metadata": {},
     "output_type": "display_data"
    },
    {
     "name": "stdout",
     "output_type": "stream",
     "text": [
      "None\n"
     ]
    },
    {
     "data": {
      "text/html": [
       "<a href=\"https://ks-yanao.ru/novosti/okrug-ustoyal-pod-elektronnoy-atakoy.html\">﻿Округ устоял под электронной атакой</a> — 0.003965190366193889"
      ],
      "text/plain": [
       "<IPython.core.display.HTML object>"
      ]
     },
     "metadata": {},
     "output_type": "display_data"
    },
    {
     "name": "stdout",
     "output_type": "stream",
     "text": [
      "None\n"
     ]
    },
    {
     "data": {
      "text/html": [
       "<a href=\"https://ks-yanao.ru/novosti/vezdekhody-ne-khodyat-vertolyety-ne-letayut.html\">Вездеходы не ходят, вертолёты не летают</a> — 0.0039465288289614224"
      ],
      "text/plain": [
       "<IPython.core.display.HTML object>"
      ]
     },
     "metadata": {},
     "output_type": "display_data"
    },
    {
     "name": "stdout",
     "output_type": "stream",
     "text": [
      "None\n"
     ]
    },
    {
     "data": {
      "text/html": [
       "<a href=\"https://ks-yanao.ru/novosti/malitsu-dlya-spasateley-pokazali-v-noginske.html\">«Малицу» для спасателей показали в Ногинске</a> — 0.003932568678953482"
      ],
      "text/plain": [
       "<IPython.core.display.HTML object>"
      ]
     },
     "metadata": {},
     "output_type": "display_data"
    },
    {
     "name": "stdout",
     "output_type": "stream",
     "text": [
      "None\n"
     ]
    },
    {
     "data": {
      "text/html": [
       "<a href=\"https://ks-yanao.ru/novosti/yamal-spoyet-i-pokazhet-dzhiu-dzhitsu-v-sochi.html\">Ямал споёт и покажет джиу-джитсу в Сочи</a> — 0.0037889445367105196"
      ],
      "text/plain": [
       "<IPython.core.display.HTML object>"
      ]
     },
     "metadata": {},
     "output_type": "display_data"
    },
    {
     "name": "stdout",
     "output_type": "stream",
     "text": [
      "None\n"
     ]
    },
    {
     "data": {
      "text/html": [
       "<a href=\"https://ks-yanao.ru/novosti/v-arkticheskiy-zoopark-pristroili-malysha-s-bolot-.html\">В «арктический зоопарк» пристроили малыша с болот</a> — 0.0036588602083648023"
      ],
      "text/plain": [
       "<IPython.core.display.HTML object>"
      ]
     },
     "metadata": {},
     "output_type": "display_data"
    },
    {
     "name": "stdout",
     "output_type": "stream",
     "text": [
      "None\n"
     ]
    },
    {
     "data": {
      "text/html": [
       "<a href=\"https://ks-yanao.ru/novosti/dmitriy-rogozin-pogoryachilsya-v-sabette.html\">Дмитрий Рогозин погорячился в Сабетте</a> — 0.0033215177293913264"
      ],
      "text/plain": [
       "<IPython.core.display.HTML object>"
      ]
     },
     "metadata": {},
     "output_type": "display_data"
    },
    {
     "name": "stdout",
     "output_type": "stream",
     "text": [
      "None\n"
     ]
    },
    {
     "data": {
      "text/html": [
       "<a href=\"https://ks-yanao.ru/novosti/izbiratelnye-komissii-yamala-srabotali-pri-fors-mazhore.html\">Избирательные комиссии Ямала сработали при форс-мажоре</a> — 0.0032256385227842255"
      ],
      "text/plain": [
       "<IPython.core.display.HTML object>"
      ]
     },
     "metadata": {},
     "output_type": "display_data"
    },
    {
     "name": "stdout",
     "output_type": "stream",
     "text": [
      "None\n"
     ]
    },
    {
     "data": {
      "text/html": [
       "<a href=\"https://ks-yanao.ru/novosti/41-chelovek-ostalsya-bez-zhilya-posle-pozhara-v-salekharde.html\">41 человек остался без жилья после пожара в Салехарде</a> — 0.0031815135523462655"
      ],
      "text/plain": [
       "<IPython.core.display.HTML object>"
      ]
     },
     "metadata": {},
     "output_type": "display_data"
    },
    {
     "name": "stdout",
     "output_type": "stream",
     "text": [
      "None\n"
     ]
    },
    {
     "data": {
      "text/html": [
       "<a href=\"https://ks-yanao.ru/novosti/dorozhnye-bedy-udachnikov-ukatyvayut-v-dva-sloya.html\">Дорожные беды «удачников» укатывают в два слоя</a> — 0.0029636504980787804"
      ],
      "text/plain": [
       "<IPython.core.display.HTML object>"
      ]
     },
     "metadata": {},
     "output_type": "display_data"
    },
    {
     "name": "stdout",
     "output_type": "stream",
     "text": [
      "None\n"
     ]
    },
    {
     "data": {
      "text/html": [
       "<a href=\"https://ks-yanao.ru/novosti/onf-zovyet-yamaltsev-v-informatory.html\">ОНФ зовёт ямальцев в информаторы</a> — 0.0027956137895438085"
      ],
      "text/plain": [
       "<IPython.core.display.HTML object>"
      ]
     },
     "metadata": {},
     "output_type": "display_data"
    },
    {
     "name": "stdout",
     "output_type": "stream",
     "text": [
      "None\n"
     ]
    },
    {
     "data": {
      "text/html": [
       "<a href=\"https://ks-yanao.ru/novosti/v-salekharde-otkrylsya-forum-korennykh-narodov.html\">В Салехарде открылся форум коренных народов</a> — 0.0027227235202599664"
      ],
      "text/plain": [
       "<IPython.core.display.HTML object>"
      ]
     },
     "metadata": {},
     "output_type": "display_data"
    },
    {
     "name": "stdout",
     "output_type": "stream",
     "text": [
      "None\n"
     ]
    },
    {
     "data": {
      "text/html": [
       "<a href=\"https://ks-yanao.ru/novosti/v-salekharde-dvukhletnyaya-devochka-vypala-iz-avto-pod-kolesa.html\">В Салехарде двухлетняя девочка выпала из авто под колеса</a> — 0.002458214911673107"
      ],
      "text/plain": [
       "<IPython.core.display.HTML object>"
      ]
     },
     "metadata": {},
     "output_type": "display_data"
    },
    {
     "name": "stdout",
     "output_type": "stream",
     "text": [
      "None\n"
     ]
    },
    {
     "data": {
      "text/html": [
       "<a href=\"https://ks-yanao.ru/novosti/pod-tyumenyu-sorevnovalis-voennye-inzhenery-stran-sng.html\">Под Тюменью соревновались военные инженеры стран СНГ</a> — 0.002129621540738315"
      ],
      "text/plain": [
       "<IPython.core.display.HTML object>"
      ]
     },
     "metadata": {},
     "output_type": "display_data"
    },
    {
     "name": "stdout",
     "output_type": "stream",
     "text": [
      "None\n"
     ]
    },
    {
     "data": {
      "text/html": [
       "<a href=\"https://ks-yanao.ru/novosti/yamal-gotovitsya-k-uchastiyu-vo-vsemirnom-festivale-molodezhi-i-studentov.html\">Ямал готовится к участию во Всемирном фестивале молодежи и студентов</a> — 0.002056501624474581"
      ],
      "text/plain": [
       "<IPython.core.display.HTML object>"
      ]
     },
     "metadata": {},
     "output_type": "display_data"
    },
    {
     "name": "stdout",
     "output_type": "stream",
     "text": [
      "None\n"
     ]
    },
    {
     "data": {
      "text/html": [
       "<a href=\"https://ks-yanao.ru/novosti/tyumenskiy-muzey-zapovednik-ne-otdadut-dachnikam-tam-budet-etnopark.html\">Тюменский музей-заповедник  не отдадут дачникам, там будет этнопарк</a> — 0.0020109357755769826"
      ],
      "text/plain": [
       "<IPython.core.display.HTML object>"
      ]
     },
     "metadata": {},
     "output_type": "display_data"
    },
    {
     "name": "stdout",
     "output_type": "stream",
     "text": [
      "None\n"
     ]
    },
    {
     "data": {
      "text/html": [
       "<a href=\"https://ks-yanao.ru/novosti/vodnaya-blokada-nadyma-otstupaet.html\">Водная блокада Надыма отступает</a> — 0.001664521467544026"
      ],
      "text/plain": [
       "<IPython.core.display.HTML object>"
      ]
     },
     "metadata": {},
     "output_type": "display_data"
    },
    {
     "name": "stdout",
     "output_type": "stream",
     "text": [
      "None\n"
     ]
    },
    {
     "data": {
      "text/html": [
       "<a href=\"https://ks-yanao.ru/novosti/dorozhniki-uskoryayutsya.html\">Дорожники ускоряются</a> — 0.0013438992888701773"
      ],
      "text/plain": [
       "<IPython.core.display.HTML object>"
      ]
     },
     "metadata": {},
     "output_type": "display_data"
    },
    {
     "name": "stdout",
     "output_type": "stream",
     "text": [
      "None\n"
     ]
    },
    {
     "data": {
      "text/html": [
       "<a href=\"https://ks-yanao.ru/novosti/esli-s-vas-v-shkole-trebuyut-dengi-obratites-na-goryachuyu-liniyu.html\">Если с вас в школе требуют деньги - обратитесь на горячую линию</a> — 0.0006896331474522122"
      ],
      "text/plain": [
       "<IPython.core.display.HTML object>"
      ]
     },
     "metadata": {},
     "output_type": "display_data"
    },
    {
     "name": "stdout",
     "output_type": "stream",
     "text": [
      "None\n"
     ]
    },
    {
     "data": {
      "text/html": [
       "<a href=\"https://ks-yanao.ru/novosti/moshenniki-primerili-pogony-nalogovikov.html\">Мошенники «примерили» погоны налоговиков</a> — 0.0004658610935949706"
      ],
      "text/plain": [
       "<IPython.core.display.HTML object>"
      ]
     },
     "metadata": {},
     "output_type": "display_data"
    },
    {
     "name": "stdout",
     "output_type": "stream",
     "text": [
      "None\n"
     ]
    },
    {
     "data": {
      "text/html": [
       "<a href=\"https://ks-yanao.ru/novosti/nashikh-abiturientov-v-severnoy-stolitse-vstrechaet-molodyezhnoe-zemlyachestvo.html\">Наших абитуриентов в Северной столице встречает молодёжное землячество</a> — -0.0003007900313569377"
      ],
      "text/plain": [
       "<IPython.core.display.HTML object>"
      ]
     },
     "metadata": {},
     "output_type": "display_data"
    },
    {
     "name": "stdout",
     "output_type": "stream",
     "text": [
      "None\n"
     ]
    },
    {
     "data": {
      "text/html": [
       "<a href=\"https://ks-yanao.ru/novosti/krokodil-v-salekharde-zhdyet-prodolzheniya.html\">«Крокодил» в Салехарде ждёт продолжения</a> — -0.00036256659610658937"
      ],
      "text/plain": [
       "<IPython.core.display.HTML object>"
      ]
     },
     "metadata": {},
     "output_type": "display_data"
    },
    {
     "name": "stdout",
     "output_type": "stream",
     "text": [
      "None\n"
     ]
    },
    {
     "data": {
      "text/html": [
       "<a href=\"https://ks-yanao.ru/novosti/bolshe-sotni-shkolnikov-na-vykhodnykh-okazalis-v-politsii.html\">Больше сотни школьников на выходных оказались в полиции</a> — -0.0003691318575137422"
      ],
      "text/plain": [
       "<IPython.core.display.HTML object>"
      ]
     },
     "metadata": {},
     "output_type": "display_data"
    },
    {
     "name": "stdout",
     "output_type": "stream",
     "text": [
      "None\n"
     ]
    },
    {
     "data": {
      "text/html": [
       "<a href=\"https://ks-yanao.ru/novosti/nadymskaya-osen-2017-soberyet-molodykh-i-aktivnykh.html\">«Надымская осень-2017» соберёт молодых и активных</a> — -0.00041580124473363607"
      ],
      "text/plain": [
       "<IPython.core.display.HTML object>"
      ]
     },
     "metadata": {},
     "output_type": "display_data"
    },
    {
     "name": "stdout",
     "output_type": "stream",
     "text": [
      "None\n"
     ]
    },
    {
     "data": {
      "text/html": [
       "<a href=\"https://ks-yanao.ru/novosti/novourengoytsy-vybirayut-strategiyu-razvitiya-zdravookhraneniya.html\">От новоуренгойцев ждут предложений</a> — -0.0004228247689412126"
      ],
      "text/plain": [
       "<IPython.core.display.HTML object>"
      ]
     },
     "metadata": {},
     "output_type": "display_data"
    },
    {
     "name": "stdout",
     "output_type": "stream",
     "text": [
      "None\n"
     ]
    },
    {
     "data": {
      "text/html": [
       "<a href=\"https://ks-yanao.ru/novosti/zhiteli-sel-novyy-port-i-mys-kamennyy-pristupili-k-masshtabnoy-uborke-poberezhya-obskoy-guby.html\">Жители сел Новый Порт и Мыс Каменный приступили к масштабной уборке побережья Обской губы</a> — -0.0005514031173173897"
      ],
      "text/plain": [
       "<IPython.core.display.HTML object>"
      ]
     },
     "metadata": {},
     "output_type": "display_data"
    },
    {
     "name": "stdout",
     "output_type": "stream",
     "text": [
      "None\n"
     ]
    },
    {
     "data": {
      "text/html": [
       "<a href=\"https://ks-yanao.ru/novosti/v-aksarku-ne-pustili-uslovnyy-pozhar.html\">В Аксарку не пустили условный пожар</a> — -0.000613580869015704"
      ],
      "text/plain": [
       "<IPython.core.display.HTML object>"
      ]
     },
     "metadata": {},
     "output_type": "display_data"
    },
    {
     "name": "stdout",
     "output_type": "stream",
     "text": [
      "None\n"
     ]
    },
    {
     "data": {
      "text/html": [
       "<a href=\"https://ks-yanao.ru/novosti/novye-sportploshchadki-dlya-budushchikh-maradon-.html\">Новые спортплощадки для будущих Марадон</a> — -0.0006214317931447507"
      ],
      "text/plain": [
       "<IPython.core.display.HTML object>"
      ]
     },
     "metadata": {},
     "output_type": "display_data"
    },
    {
     "name": "stdout",
     "output_type": "stream",
     "text": [
      "None\n"
     ]
    },
    {
     "data": {
      "text/html": [
       "<a href=\"https://ks-yanao.ru/novosti/ekstremaly-proshli-na-samodelnom-katere-ot-yamala-do-diksona.html\">Экстремалы прошли на самодельном катере от Ямала до Диксона</a> — -0.0006573401202010853"
      ],
      "text/plain": [
       "<IPython.core.display.HTML object>"
      ]
     },
     "metadata": {},
     "output_type": "display_data"
    },
    {
     "name": "stdout",
     "output_type": "stream",
     "text": [
      "None\n"
     ]
    },
    {
     "data": {
      "text/html": [
       "<a href=\"https://ks-yanao.ru/novosti/vaktsinatsiya-ot-grippa-nachalas.html\">Вакцинация от гриппа началась</a> — -0.000657920830232964"
      ],
      "text/plain": [
       "<IPython.core.display.HTML object>"
      ]
     },
     "metadata": {},
     "output_type": "display_data"
    },
    {
     "name": "stdout",
     "output_type": "stream",
     "text": [
      "None\n"
     ]
    },
    {
     "data": {
      "text/html": [
       "<a href=\"https://ks-yanao.ru/novosti/nemtsy-speshat-na-shchuche-avstraliytsy-k-anne-nerkagi.html\">Немцы спешат на Щучье, австралийцы – к Анне Неркаги</a> — -0.0006635163342547734"
      ],
      "text/plain": [
       "<IPython.core.display.HTML object>"
      ]
     },
     "metadata": {},
     "output_type": "display_data"
    },
    {
     "name": "stdout",
     "output_type": "stream",
     "text": [
      "None\n"
     ]
    },
    {
     "data": {
      "text/html": [
       "<a href=\"https://ks-yanao.ru/novosti/vosem-dney-profilnoy-smeny-perspektiva-proleteli-kak-odin.html\">Восемь дней профильной смены «Перспектива» пролетели как один</a> — -0.0006940729073451165"
      ],
      "text/plain": [
       "<IPython.core.display.HTML object>"
      ]
     },
     "metadata": {},
     "output_type": "display_data"
    },
    {
     "name": "stdout",
     "output_type": "stream",
     "text": [
      "None\n"
     ]
    },
    {
     "data": {
      "text/html": [
       "<a href=\"https://ks-yanao.ru/novosti/yamalskie-rebyata-sdelali-selfi-s-gubernatorom.html\">Ямальские ребята сделали селфи с губернатором</a> — -0.0007093527806047449"
      ],
      "text/plain": [
       "<IPython.core.display.HTML object>"
      ]
     },
     "metadata": {},
     "output_type": "display_data"
    },
    {
     "name": "stdout",
     "output_type": "stream",
     "text": [
      "None\n"
     ]
    },
    {
     "data": {
      "text/html": [
       "<a href=\"https://ks-yanao.ru/novosti/rybak-provyezshiy-politseyskogo-na-kapote-uedet-v-koloniyu.html\">Рыбак, провёзший полицейского  на капоте, уедет в колонию</a> — -0.0007360344448047986"
      ],
      "text/plain": [
       "<IPython.core.display.HTML object>"
      ]
     },
     "metadata": {},
     "output_type": "display_data"
    },
    {
     "name": "stdout",
     "output_type": "stream",
     "text": [
      "None\n"
     ]
    },
    {
     "data": {
      "text/html": [
       "<a href=\"https://ks-yanao.ru/novosti/zhurnalistov-zovut-v-smirotvortsy.html\">Журналистов зовут в СМИротворцы</a> — -0.000737944244541857"
      ],
      "text/plain": [
       "<IPython.core.display.HTML object>"
      ]
     },
     "metadata": {},
     "output_type": "display_data"
    },
    {
     "name": "stdout",
     "output_type": "stream",
     "text": [
      "None\n"
     ]
    },
    {
     "data": {
      "text/html": [
       "<a href=\"https://ks-yanao.ru/novosti/v-labytnangskom-gorodskom-sude-nashli-bilyardnuyu.html\">Бильярдная в лабытнангском городском суде была не единственным нарушением</a> — -0.0007677754639481646"
      ],
      "text/plain": [
       "<IPython.core.display.HTML object>"
      ]
     },
     "metadata": {},
     "output_type": "display_data"
    },
    {
     "name": "stdout",
     "output_type": "stream",
     "text": [
      "None\n"
     ]
    },
    {
     "data": {
      "text/html": [
       "<a href=\"https://ks-yanao.ru/novosti/novourengoytsa-budut-sudit-po-obvineniyu-v-krazhe-pensionnykh-deneg.html\">Новоуренгойца будут судить по обвинению в краже пенсионных денег</a> — -0.0007971227272470091"
      ],
      "text/plain": [
       "<IPython.core.display.HTML object>"
      ]
     },
     "metadata": {},
     "output_type": "display_data"
    },
    {
     "name": "stdout",
     "output_type": "stream",
     "text": [
      "None\n"
     ]
    },
    {
     "data": {
      "text/html": [
       "<a href=\"https://ks-yanao.ru/novosti/mylnaya-ekvilibristika-v-deystvii.html\">Мыльная эквилибристика в действии</a> — -0.0008369237141630056"
      ],
      "text/plain": [
       "<IPython.core.display.HTML object>"
      ]
     },
     "metadata": {},
     "output_type": "display_data"
    },
    {
     "name": "stdout",
     "output_type": "stream",
     "text": [
      "None\n"
     ]
    },
    {
     "data": {
      "text/html": [
       "<a href=\"https://ks-yanao.ru/novosti/nedobrosovestnykh-zastroyshchikov-ozhidayut-shtrafy-i-sud.html\">Недобросовестных застройщиков ожидают штрафы и суд</a> — -0.0009020221201476184"
      ],
      "text/plain": [
       "<IPython.core.display.HTML object>"
      ]
     },
     "metadata": {},
     "output_type": "display_data"
    },
    {
     "name": "stdout",
     "output_type": "stream",
     "text": [
      "None\n"
     ]
    },
    {
     "data": {
      "text/html": [
       "<a href=\"https://ks-yanao.ru/novosti/yamalskogo-zhivtsa-podvergli-shokovoy-zamorozke.html\">Ямальского живца подвергли шоковой заморозке</a> — -0.0009443206772574772"
      ],
      "text/plain": [
       "<IPython.core.display.HTML object>"
      ]
     },
     "metadata": {},
     "output_type": "display_data"
    },
    {
     "name": "stdout",
     "output_type": "stream",
     "text": [
      "None\n"
     ]
    },
    {
     "data": {
      "text/html": [
       "<a href=\"https://ks-yanao.ru/novosti/zhitel-gubkinskogo-pogib-na-pozhare.html\">Житель Губкинского погиб на пожаре</a> — -0.0009828359939408214"
      ],
      "text/plain": [
       "<IPython.core.display.HTML object>"
      ]
     },
     "metadata": {},
     "output_type": "display_data"
    },
    {
     "name": "stdout",
     "output_type": "stream",
     "text": [
      "None\n"
     ]
    },
    {
     "data": {
      "text/html": [
       "<a href=\"https://ks-yanao.ru/novosti/s-yamala-na-altay-zapustyat-pryamoy-aviareys.html\">С Ямала на Алтай запустят прямой авиарейс</a> — -0.00105047125074929"
      ],
      "text/plain": [
       "<IPython.core.display.HTML object>"
      ]
     },
     "metadata": {},
     "output_type": "display_data"
    },
    {
     "name": "stdout",
     "output_type": "stream",
     "text": [
      "None\n"
     ]
    },
    {
     "data": {
      "text/html": [
       "<a href=\"https://ks-yanao.ru/novosti/prokuratura-nashla-na-yamale-17-semeynykh-podryadov.html\">Прокуратура нашла на Ямале 17 «семейных подрядов»</a> — -0.0010640022122753254"
      ],
      "text/plain": [
       "<IPython.core.display.HTML object>"
      ]
     },
     "metadata": {},
     "output_type": "display_data"
    },
    {
     "name": "stdout",
     "output_type": "stream",
     "text": [
      "None\n"
     ]
    },
    {
     "data": {
      "text/html": [
       "<a href=\"https://ks-yanao.ru/novosti/u-novourengoyskikh-podrostkov-nachalsya-trudovoy-sezon.html\">У новоуренгойских подростков начался трудовой сезон</a> — -0.0010651100310907148"
      ],
      "text/plain": [
       "<IPython.core.display.HTML object>"
      ]
     },
     "metadata": {},
     "output_type": "display_data"
    },
    {
     "name": "stdout",
     "output_type": "stream",
     "text": [
      "None\n"
     ]
    },
    {
     "data": {
      "text/html": [
       "<a href=\"https://ks-yanao.ru/novosti/otkuda-u-rebyenka-sinyaki-i-ushiby-vyyasnyaet-mama-i-politsiya.html\">Откуда у ребёнка синяки и ушибы, выясняют мама и полиция</a> — -0.001075803619982832"
      ],
      "text/plain": [
       "<IPython.core.display.HTML object>"
      ]
     },
     "metadata": {},
     "output_type": "display_data"
    },
    {
     "name": "stdout",
     "output_type": "stream",
     "text": [
      "None\n"
     ]
    },
    {
     "data": {
      "text/html": [
       "<a href=\"https://ks-yanao.ru/novosti/metel-gonshchiku-ne-pomekha.html\">Метель гонщику не помеха</a> — -0.0011134117843467318"
      ],
      "text/plain": [
       "<IPython.core.display.HTML object>"
      ]
     },
     "metadata": {},
     "output_type": "display_data"
    },
    {
     "name": "stdout",
     "output_type": "stream",
     "text": [
      "None\n"
     ]
    },
    {
     "data": {
      "text/html": [
       "<a href=\"https://ks-yanao.ru/novosti/cherez-tri-dnya-neplatelshchikam-ndfl-vklyuchat-schetchik.html\">Через три дня неплательщикам НДФЛ включат «счетчик»</a> — -0.001118983124115127"
      ],
      "text/plain": [
       "<IPython.core.display.HTML object>"
      ]
     },
     "metadata": {},
     "output_type": "display_data"
    },
    {
     "name": "stdout",
     "output_type": "stream",
     "text": [
      "None\n"
     ]
    },
    {
     "data": {
      "text/html": [
       "<a href=\"https://ks-yanao.ru/novosti/trassa-purovsk-korotchaevo-menyaet-pokrytie.html\">Трасса Пуровск – Коротчаево меняет покрытие</a> — -0.0011398721897291906"
      ],
      "text/plain": [
       "<IPython.core.display.HTML object>"
      ]
     },
     "metadata": {},
     "output_type": "display_data"
    },
    {
     "name": "stdout",
     "output_type": "stream",
     "text": [
      "None\n"
     ]
    },
    {
     "data": {
      "text/html": [
       "<a href=\"https://ks-yanao.ru/novosti/sto-desyat-tysyach-pomogut-v-spasenii-lyudey.html\">Сто десять тысяч помогут в спасении людей</a> — -0.0011405807371206403"
      ],
      "text/plain": [
       "<IPython.core.display.HTML object>"
      ]
     },
     "metadata": {},
     "output_type": "display_data"
    },
    {
     "name": "stdout",
     "output_type": "stream",
     "text": [
      "None\n"
     ]
    },
    {
     "data": {
      "text/html": [
       "<a href=\"https://ks-yanao.ru/novosti/kak-menyaetsya-privokzalnaya-ploshchad-v-noyabrske-.html\">Как меняется привокзальная площадь в Ноябрьске</a> — -0.001153383289721956"
      ],
      "text/plain": [
       "<IPython.core.display.HTML object>"
      ]
     },
     "metadata": {},
     "output_type": "display_data"
    },
    {
     "name": "stdout",
     "output_type": "stream",
     "text": [
      "None\n"
     ]
    },
    {
     "data": {
      "text/html": [
       "<a href=\"https://ks-yanao.ru/novosti/salekhardtsam-obustroyat-mesto-dlya-sdachi-gto-a-labytnangtsev-priglasyat-na-start.html\">Салехардцам обустроят место для сдачи ГТО, а лабытнангцев пригласят на «Старт»</a> — -0.0011540948108509392"
      ],
      "text/plain": [
       "<IPython.core.display.HTML object>"
      ]
     },
     "metadata": {},
     "output_type": "display_data"
    },
    {
     "name": "stdout",
     "output_type": "stream",
     "text": [
      "None\n"
     ]
    },
    {
     "data": {
      "text/html": [
       "<a href=\"https://ks-yanao.ru/novosti/zabote-ispolnyaetsya-dva-goda.html\">«Заботе» исполняется два года</a> — -0.0011820851422869908"
      ],
      "text/plain": [
       "<IPython.core.display.HTML object>"
      ]
     },
     "metadata": {},
     "output_type": "display_data"
    },
    {
     "name": "stdout",
     "output_type": "stream",
     "text": [
      "None\n"
     ]
    },
    {
     "data": {
      "text/html": [
       "<a href=\"https://ks-yanao.ru/novosti/yamalskaya-zdravnitsa-tak-nravitsya-detyam-chto-oni-uzhe-stroyat-plany-na-sleduyushchee-leto.html\">Ямальская здравница так нравится детям, что они уже строят планы на следующее лето</a> — -0.0012065922882873684"
      ],
      "text/plain": [
       "<IPython.core.display.HTML object>"
      ]
     },
     "metadata": {},
     "output_type": "display_data"
    },
    {
     "name": "stdout",
     "output_type": "stream",
     "text": [
      "None\n"
     ]
    },
    {
     "data": {
      "text/html": [
       "<a href=\"https://ks-yanao.ru/novosti/v-salekharde-otkazalis-ot-pozhara-na-pereprave.html\">В Салехарде отказались от пожара на переправе</a> — -0.001217336738525134"
      ],
      "text/plain": [
       "<IPython.core.display.HTML object>"
      ]
     },
     "metadata": {},
     "output_type": "display_data"
    },
    {
     "name": "stdout",
     "output_type": "stream",
     "text": [
      "None\n"
     ]
    },
    {
     "data": {
      "text/html": [
       "<a href=\"https://ks-yanao.ru/novosti/znatoki-rabotayut-v-komandirovkakh-mesyatsami.html\">Знатоки работают в командировках месяцами</a> — -0.001230901385569305"
      ],
      "text/plain": [
       "<IPython.core.display.HTML object>"
      ]
     },
     "metadata": {},
     "output_type": "display_data"
    },
    {
     "name": "stdout",
     "output_type": "stream",
     "text": [
      "None\n"
     ]
    },
    {
     "data": {
      "text/html": [
       "<a href=\"https://ks-yanao.ru/novosti/pesochnye-zamki-lechat-nadymchan.html\">Песочные замки лечат надымчан</a> — -0.0012378018345039021"
      ],
      "text/plain": [
       "<IPython.core.display.HTML object>"
      ]
     },
     "metadata": {},
     "output_type": "display_data"
    },
    {
     "name": "stdout",
     "output_type": "stream",
     "text": [
      "None\n"
     ]
    },
    {
     "data": {
      "text/html": [
       "<a href=\"https://ks-yanao.ru/novosti/yamalskie-mediki-soobshchili-o-novom-napadenii-v-den-pobedy.html\">﻿Ямальские медики сообщили о новом нападении в День Победы</a> — -0.0012588021576011152"
      ],
      "text/plain": [
       "<IPython.core.display.HTML object>"
      ]
     },
     "metadata": {},
     "output_type": "display_data"
    },
    {
     "name": "stdout",
     "output_type": "stream",
     "text": [
      "None\n"
     ]
    },
    {
     "data": {
      "text/html": [
       "<a href=\"https://ks-yanao.ru/novosti/chyernaya-metka-po-noyabrski-shutka-ili-zloy-umysel.html\">Чёрная метка по-ноябрьски: шутка или злой умысел?</a> — -0.0012668454666058305"
      ],
      "text/plain": [
       "<IPython.core.display.HTML object>"
      ]
     },
     "metadata": {},
     "output_type": "display_data"
    },
    {
     "name": "stdout",
     "output_type": "stream",
     "text": [
      "None\n"
     ]
    },
    {
     "data": {
      "text/html": [
       "<a href=\"https://ks-yanao.ru/novosti/barometr-rossiyskoy-zhurnalistiki-pokazyvaet-na-yamal.html\">Барометр российской журналистики показывает на Ямал</a> — -0.0012765927125616612"
      ],
      "text/plain": [
       "<IPython.core.display.HTML object>"
      ]
     },
     "metadata": {},
     "output_type": "display_data"
    },
    {
     "name": "stdout",
     "output_type": "stream",
     "text": [
      "None\n"
     ]
    },
    {
     "data": {
      "text/html": [
       "<a href=\"https://ks-yanao.ru/novosti/yamal-posle-sibirki-chto-izmenilos-god-spustya.html\">Ямал после «сибирки»: что изменилось год спустя</a> — -0.001341068943426556"
      ],
      "text/plain": [
       "<IPython.core.display.HTML object>"
      ]
     },
     "metadata": {},
     "output_type": "display_data"
    },
    {
     "name": "stdout",
     "output_type": "stream",
     "text": [
      "None\n"
     ]
    },
    {
     "data": {
      "text/html": [
       "<a href=\"https://ks-yanao.ru/novosti/mashiny-na-parom-zatyagivali-trosami.html\">Машины на паром затягивали тросами</a> — -0.0013466596430586513"
      ],
      "text/plain": [
       "<IPython.core.display.HTML object>"
      ]
     },
     "metadata": {},
     "output_type": "display_data"
    },
    {
     "name": "stdout",
     "output_type": "stream",
     "text": [
      "None\n"
     ]
    },
    {
     "data": {
      "text/html": [
       "<a href=\"https://ks-yanao.ru/novosti/-my-protiv-terrora-zayavili-uchastniki-narodnogo-fleshmoba-v-noyabrske.html\">«Мы против террора!» – заявили участники народного флешмоба в Ноябрьске</a> — -0.0013485683039837634"
      ],
      "text/plain": [
       "<IPython.core.display.HTML object>"
      ]
     },
     "metadata": {},
     "output_type": "display_data"
    },
    {
     "name": "stdout",
     "output_type": "stream",
     "text": [
      "None\n"
     ]
    },
    {
     "data": {
      "text/html": [
       "<a href=\"https://ks-yanao.ru/novosti/izbirkomy-okruga-otseivayut-byvshikh-sideltsev.html\">Избиркомы округа отсеивают бывших сидельцев</a> — -0.0013609701677454293"
      ],
      "text/plain": [
       "<IPython.core.display.HTML object>"
      ]
     },
     "metadata": {},
     "output_type": "display_data"
    },
    {
     "name": "stdout",
     "output_type": "stream",
     "text": [
      "None\n"
     ]
    },
    {
     "data": {
      "text/html": [
       "<a href=\"https://ks-yanao.ru/novosti/gazovaya-stolitsa-gulyala-dva-dnya.html\">Газовая столица гуляла два дня</a> — -0.0013697243166520677"
      ],
      "text/plain": [
       "<IPython.core.display.HTML object>"
      ]
     },
     "metadata": {},
     "output_type": "display_data"
    },
    {
     "name": "stdout",
     "output_type": "stream",
     "text": [
      "None\n"
     ]
    },
    {
     "data": {
      "text/html": [
       "<a href=\"https://ks-yanao.ru/novosti/v-krasnoselkupe-snosyat-starye-garazhi-i-remontiruyut-dorogi.html\">В Красноселькупе сносят старые гаражи и ремонтируют дороги</a> — -0.0013862133213145436"
      ],
      "text/plain": [
       "<IPython.core.display.HTML object>"
      ]
     },
     "metadata": {},
     "output_type": "display_data"
    },
    {
     "name": "stdout",
     "output_type": "stream",
     "text": [
      "None\n"
     ]
    },
    {
     "data": {
      "text/html": [
       "<a href=\"https://ks-yanao.ru/novosti/mnogodetnaya-mat-rasskazala-ks-o-posledstviyakh-opozdaniya-na-aviareys.html\">Многодетная мать рассказала «КС» о последствиях опоздания на авиарейс</a> — -0.0013890130390999313"
      ],
      "text/plain": [
       "<IPython.core.display.HTML object>"
      ]
     },
     "metadata": {},
     "output_type": "display_data"
    },
    {
     "name": "stdout",
     "output_type": "stream",
     "text": [
      "None\n"
     ]
    },
    {
     "data": {
      "text/html": [
       "<a href=\"https://ks-yanao.ru/novosti/na-den-rozhdeniya-goroda-nadymchanam-gotovyat-syurpriz.html\">На день рождения города надымчанам готовят сюрприз</a> — -0.0014180590323602587"
      ],
      "text/plain": [
       "<IPython.core.display.HTML object>"
      ]
     },
     "metadata": {},
     "output_type": "display_data"
    },
    {
     "name": "stdout",
     "output_type": "stream",
     "text": [
      "None\n"
     ]
    },
    {
     "data": {
      "text/html": [
       "<a href=\"https://ks-yanao.ru/novosti/pugat-statistikoy-o-dvoechnikakh-na-totalnom-diktante-ne-budut.html\">Пугать статистикой о двоечниках на «Тотальном диктанте» не будут</a> — -0.0014192027255602688"
      ],
      "text/plain": [
       "<IPython.core.display.HTML object>"
      ]
     },
     "metadata": {},
     "output_type": "display_data"
    },
    {
     "name": "stdout",
     "output_type": "stream",
     "text": [
      "None\n"
     ]
    },
    {
     "data": {
      "text/html": [
       "<a href=\"https://ks-yanao.ru/novosti/v-nadyme-nachato-rasselenie-poplyvshey-mnogoetazhki.html\">В Надыме начато расселение «поплывшей» многоэтажки</a> — -0.0014236317764849472"
      ],
      "text/plain": [
       "<IPython.core.display.HTML object>"
      ]
     },
     "metadata": {},
     "output_type": "display_data"
    },
    {
     "name": "stdout",
     "output_type": "stream",
     "text": [
      "None\n"
     ]
    },
    {
     "data": {
      "text/html": [
       "<a href=\"https://ks-yanao.ru/novosti/v-shkolakh-yamala-testiruyut-znaniya-uchenikov-no-otsenki-ne-stavyat-.html\">В школах Ямала тестируют знания учеников, но оценки не ставят</a> — -0.00142608022629774"
      ],
      "text/plain": [
       "<IPython.core.display.HTML object>"
      ]
     },
     "metadata": {},
     "output_type": "display_data"
    },
    {
     "name": "stdout",
     "output_type": "stream",
     "text": [
      "None\n"
     ]
    },
    {
     "data": {
      "text/html": [
       "<a href=\"https://ks-yanao.ru/novosti/byvshemu-bankovskomu-rabotniku-podtverdili-prigovor.html\">Бывшему банковскому работнику подтвердили приговор</a> — -0.0014311801060845582"
      ],
      "text/plain": [
       "<IPython.core.display.HTML object>"
      ]
     },
     "metadata": {},
     "output_type": "display_data"
    },
    {
     "name": "stdout",
     "output_type": "stream",
     "text": [
      "None\n"
     ]
    },
    {
     "data": {
      "text/html": [
       "<a href=\"https://ks-yanao.ru/novosti/pogoreltsam-iz-noyabrska-nuzhna-pomoshch.html\">Погорельцам из Ноябрьска нужна помощь</a> — -0.0014340545302690376"
      ],
      "text/plain": [
       "<IPython.core.display.HTML object>"
      ]
     },
     "metadata": {},
     "output_type": "display_data"
    },
    {
     "name": "stdout",
     "output_type": "stream",
     "text": [
      "None\n"
     ]
    },
    {
     "data": {
      "text/html": [
       "<a href=\"https://ks-yanao.ru/novosti/v-den-znaniy-glavnyy-muzey-yamala-perevoplotitsya-v-muzey-chudakov-i-chudes-.html\">В День знаний главный музей Ямала перевоплотится в музей чудаков и чудес</a> — -0.0014444579544956452"
      ],
      "text/plain": [
       "<IPython.core.display.HTML object>"
      ]
     },
     "metadata": {},
     "output_type": "display_data"
    },
    {
     "name": "stdout",
     "output_type": "stream",
     "text": [
      "None\n"
     ]
    },
    {
     "data": {
      "text/html": [
       "<a href=\"https://ks-yanao.ru/novosti/v-novom-urengoe-proydyet-blagotvoritelnyy-marafon.html\">В Новом Уренгое пройдёт благотворительный марафон</a> — -0.0014452948373700788"
      ],
      "text/plain": [
       "<IPython.core.display.HTML object>"
      ]
     },
     "metadata": {},
     "output_type": "display_data"
    },
    {
     "name": "stdout",
     "output_type": "stream",
     "text": [
      "None\n"
     ]
    },
    {
     "data": {
      "text/html": [
       "<a href=\"https://ks-yanao.ru/novosti/salekhardtsy-vstretili-chetyre-parada.html\">Салехардцы встретили четыре парада</a> — -0.0014595054293533754"
      ],
      "text/plain": [
       "<IPython.core.display.HTML object>"
      ]
     },
     "metadata": {},
     "output_type": "display_data"
    },
    {
     "name": "stdout",
     "output_type": "stream",
     "text": [
      "None\n"
     ]
    },
    {
     "data": {
      "text/html": [
       "<a href=\"https://ks-yanao.ru/novosti/v-salekharde-vyyasnyayut-obstoyatelstva-gibeli-cheloveka-na-polyabte-podrobnosti.html\">В Салехарде выясняют обстоятельства гибели человека на Полябте: подробности</a> — -0.0014604190249020454"
      ],
      "text/plain": [
       "<IPython.core.display.HTML object>"
      ]
     },
     "metadata": {},
     "output_type": "display_data"
    },
    {
     "name": "stdout",
     "output_type": "stream",
     "text": [
      "None\n"
     ]
    },
    {
     "data": {
      "text/html": [
       "<a href=\"https://ks-yanao.ru/novosti/v-tarko-sale-podrostok-na-ottsovskoy-mashine-popal-v-dtp-so-smertelnym-iskhodom.html\">В Тарко-Сале подросток на отцовской машине попал в ДТП со смертельным исходом</a> — -0.001475340361069981"
      ],
      "text/plain": [
       "<IPython.core.display.HTML object>"
      ]
     },
     "metadata": {},
     "output_type": "display_data"
    },
    {
     "name": "stdout",
     "output_type": "stream",
     "text": [
      "None\n"
     ]
    },
    {
     "data": {
      "text/html": [
       "<a href=\"https://ks-yanao.ru/novosti/bez-nadezhdy-dogovorit.html\">Без Надежды договорить…</a> — -0.0014821874318019755"
      ],
      "text/plain": [
       "<IPython.core.display.HTML object>"
      ]
     },
     "metadata": {},
     "output_type": "display_data"
    },
    {
     "name": "stdout",
     "output_type": "stream",
     "text": [
      "None\n"
     ]
    },
    {
     "data": {
      "text/html": [
       "<a href=\"https://ks-yanao.ru/novosti/yarsalintsev-vystavili-za-dver-radi-iskusstva.html\">Ярсалинцев выставили за дверь ради искусства</a> — -0.0014875332882695789"
      ],
      "text/plain": [
       "<IPython.core.display.HTML object>"
      ]
     },
     "metadata": {},
     "output_type": "display_data"
    },
    {
     "name": "stdout",
     "output_type": "stream",
     "text": [
      "None\n"
     ]
    },
    {
     "data": {
      "text/html": [
       "<a href=\"https://ks-yanao.ru/novosti/yamaltsy-ukazyvayut-na-gryaznye-mesta.html\">Ямальцы указывают на грязные места</a> — -0.0014891636910841382"
      ],
      "text/plain": [
       "<IPython.core.display.HTML object>"
      ]
     },
     "metadata": {},
     "output_type": "display_data"
    },
    {
     "name": "stdout",
     "output_type": "stream",
     "text": [
      "None\n"
     ]
    },
    {
     "data": {
      "text/html": [
       "<a href=\"https://ks-yanao.ru/novosti/yamalskaya-vtoroklashka-poluchit-rol-v-eralashe.html\">Ямальская второклашка получит роль в «Ералаше»</a> — -0.0014931414900446653"
      ],
      "text/plain": [
       "<IPython.core.display.HTML object>"
      ]
     },
     "metadata": {},
     "output_type": "display_data"
    },
    {
     "name": "stdout",
     "output_type": "stream",
     "text": [
      "None\n"
     ]
    },
    {
     "data": {
      "text/html": [
       "<a href=\"https://ks-yanao.ru/novosti/mezhkontinentalnye-sorevnovaniya-priurochili-k-professionalnomu-prazdniku.html\">Строители двух ямальских микрорайонов устроили в Тюмени пятую открытую спартакиаду</a> — -0.0014969445443993228"
      ],
      "text/plain": [
       "<IPython.core.display.HTML object>"
      ]
     },
     "metadata": {},
     "output_type": "display_data"
    },
    {
     "name": "stdout",
     "output_type": "stream",
     "text": [
      "None\n"
     ]
    },
    {
     "data": {
      "text/html": [
       "<a href=\"https://ks-yanao.ru/novosti/nadymskaya-nadezhda-poluchila-prezidentskuyu-podderzhku.html\">Надымская «Надежда» получила  президентскую поддержку</a> — -0.0014979209139526696"
      ],
      "text/plain": [
       "<IPython.core.display.HTML object>"
      ]
     },
     "metadata": {},
     "output_type": "display_data"
    },
    {
     "name": "stdout",
     "output_type": "stream",
     "text": [
      "None\n"
     ]
    },
    {
     "data": {
      "text/html": [
       "<a href=\"https://ks-yanao.ru/novosti/ks-izbavilsya-ot-serosti.html\">«КС» избавился от серости</a> — -0.0015124445482126258"
      ],
      "text/plain": [
       "<IPython.core.display.HTML object>"
      ]
     },
     "metadata": {},
     "output_type": "display_data"
    },
    {
     "name": "stdout",
     "output_type": "stream",
     "text": [
      "None\n"
     ]
    },
    {
     "data": {
      "text/html": [
       "<a href=\"https://ks-yanao.ru/novosti/sobaku-prezidentskoy-porody-pokazali-pozharnye-i-spasateli-noyabrska.html\">Собаку «президентской» породы показали пожарные и спасатели Ноябрьска</a> — -0.001524452634006356"
      ],
      "text/plain": [
       "<IPython.core.display.HTML object>"
      ]
     },
     "metadata": {},
     "output_type": "display_data"
    },
    {
     "name": "stdout",
     "output_type": "stream",
     "text": [
      "None\n"
     ]
    },
    {
     "data": {
      "text/html": [
       "<a href=\"https://ks-yanao.ru/novosti/kommunalnye-syurprizy-dovodyat-severyan-do-suda.html\">Коммунальные «сюрпризы» доводят северян до суда</a> — -0.0015345800236780142"
      ],
      "text/plain": [
       "<IPython.core.display.HTML object>"
      ]
     },
     "metadata": {},
     "output_type": "display_data"
    },
    {
     "name": "stdout",
     "output_type": "stream",
     "text": [
      "None\n"
     ]
    },
    {
     "data": {
      "text/html": [
       "<a href=\"https://ks-yanao.ru/novosti/na-den-rossii-nadymchanam-podarili-ulichnye-trenazhyery.html\">На День России надымчанам подарили уличные тренажёры</a> — -0.0015875903257455257"
      ],
      "text/plain": [
       "<IPython.core.display.HTML object>"
      ]
     },
     "metadata": {},
     "output_type": "display_data"
    },
    {
     "name": "stdout",
     "output_type": "stream",
     "text": [
      "None\n"
     ]
    },
    {
     "data": {
      "text/html": [
       "<a href=\"https://ks-yanao.ru/novosti/mediki-sovetuyut-ne-teryat-onkologicheskuyu-nastorozhennost.html\">Медики советуют не терять онкологическую настороженность</a> — -0.0016203706059514115"
      ],
      "text/plain": [
       "<IPython.core.display.HTML object>"
      ]
     },
     "metadata": {},
     "output_type": "display_data"
    },
    {
     "name": "stdout",
     "output_type": "stream",
     "text": [
      "None\n"
     ]
    },
    {
     "data": {
      "text/html": [
       "<a href=\"https://ks-yanao.ru/novosti/yamaltsy-vypustili-na-ulitse-bolgarii-belogo-medvedya.html\">Ямальцы выпустили на улице Болгарии белого медведя</a> — -0.001628215536287554"
      ],
      "text/plain": [
       "<IPython.core.display.HTML object>"
      ]
     },
     "metadata": {},
     "output_type": "display_data"
    },
    {
     "name": "stdout",
     "output_type": "stream",
     "text": [
      "None\n"
     ]
    },
    {
     "data": {
      "text/html": [
       "<a href=\"https://ks-yanao.ru/novosti/ploshchad-pozharov-sokrashchaetsya-privlechenie-dopolnitelnykh-sil-provedeno-svoevremenno.html\">Площадь пожаров сокращается</a> — -0.0016507816380885996"
      ],
      "text/plain": [
       "<IPython.core.display.HTML object>"
      ]
     },
     "metadata": {},
     "output_type": "display_data"
    },
    {
     "name": "stdout",
     "output_type": "stream",
     "text": [
      "None\n"
     ]
    },
    {
     "data": {
      "text/html": [
       "<a href=\"https://ks-yanao.ru/novosti/zhitel-labytnangi-zaminiroval-most-cherez-khanmey.html\">Житель Лабытнанги «заминировал» мост через Ханмей</a> — -0.0016812652676707115"
      ],
      "text/plain": [
       "<IPython.core.display.HTML object>"
      ]
     },
     "metadata": {},
     "output_type": "display_data"
    },
    {
     "name": "stdout",
     "output_type": "stream",
     "text": [
      "None\n"
     ]
    },
    {
     "data": {
      "text/html": [
       "<a href=\"https://ks-yanao.ru/novosti/letniy-lager-yasavey-v-tazovskom-zavershil-rabotu.html\">Летний лагерь «Ясавэй» в Тазовском районе завершил сезон</a> — -0.001700440550564542"
      ],
      "text/plain": [
       "<IPython.core.display.HTML object>"
      ]
     },
     "metadata": {},
     "output_type": "display_data"
    },
    {
     "name": "stdout",
     "output_type": "stream",
     "text": [
      "None\n"
     ]
    },
    {
     "data": {
      "text/html": [
       "<a href=\"https://ks-yanao.ru/novosti/tundra-teper-i-vozle-kremlya.html\">Тундра теперь и возле Кремля</a> — -0.001737947400944079"
      ],
      "text/plain": [
       "<IPython.core.display.HTML object>"
      ]
     },
     "metadata": {},
     "output_type": "display_data"
    },
    {
     "name": "stdout",
     "output_type": "stream",
     "text": [
      "None\n"
     ]
    },
    {
     "data": {
      "text/html": [
       "<a href=\"https://ks-yanao.ru/novosti/v-glavnom-muzee-yamala-otkrylas-vystavka-posvyashchennaya-traditsiyam-korennykh-narodov.html\">В главном музее Ямала открылась выставка, посвященная традициям коренных народов</a> — -0.0017567345376004104"
      ],
      "text/plain": [
       "<IPython.core.display.HTML object>"
      ]
     },
     "metadata": {},
     "output_type": "display_data"
    },
    {
     "name": "stdout",
     "output_type": "stream",
     "text": [
      "None\n"
     ]
    },
    {
     "data": {
      "text/html": [
       "<a href=\"https://ks-yanao.ru/novosti/v-72-yu-godovshchinu-velikoy-pobedy-noyabryane-otzhalis-72-tysyachi-raz.html\">В 72-ю годовщину Великой Победы ноябряне отжались 72 тысячи раз</a> — -0.0017830230750328514"
      ],
      "text/plain": [
       "<IPython.core.display.HTML object>"
      ]
     },
     "metadata": {},
     "output_type": "display_data"
    },
    {
     "name": "stdout",
     "output_type": "stream",
     "text": [
      "None\n"
     ]
    },
    {
     "data": {
      "text/html": [
       "<a href=\"https://ks-yanao.ru/novosti/na-yamale-poyavilis-sportivnye-druzhinniki-.html\">На Ямале появились «спортивные дружинники»</a> — -0.001795002961789023"
      ],
      "text/plain": [
       "<IPython.core.display.HTML object>"
      ]
     },
     "metadata": {},
     "output_type": "display_data"
    },
    {
     "name": "stdout",
     "output_type": "stream",
     "text": [
      "None\n"
     ]
    },
    {
     "data": {
      "text/html": [
       "<a href=\"https://ks-yanao.ru/novosti/yamaltsy-zasuchili-rukava.html\">Ямальцы засучили рукава</a> — -0.0017989078437028695"
      ],
      "text/plain": [
       "<IPython.core.display.HTML object>"
      ]
     },
     "metadata": {},
     "output_type": "display_data"
    },
    {
     "name": "stdout",
     "output_type": "stream",
     "text": [
      "None\n"
     ]
    },
    {
     "data": {
      "text/html": [
       "<a href=\"https://ks-yanao.ru/novosti/vladimir-pushkaryev-vstretilsya-s-volontyerami-proekta-budushchee-arktiki.html\">Владимир Пушкарёв встретился с волонтёрами проекта «Будущее Арктики»</a> — -0.0018241566170470074"
      ],
      "text/plain": [
       "<IPython.core.display.HTML object>"
      ]
     },
     "metadata": {},
     "output_type": "display_data"
    },
    {
     "name": "stdout",
     "output_type": "stream",
     "text": [
      "None\n"
     ]
    },
    {
     "data": {
      "text/html": [
       "<a href=\"https://ks-yanao.ru/novosti/uvideli-muskusnogo-byka-zvonite-na-goryachuyu-liniyu-.html\">Увидели мускусного быка – звоните на «горячую линию»!</a> — -0.0018254741976496786"
      ],
      "text/plain": [
       "<IPython.core.display.HTML object>"
      ]
     },
     "metadata": {},
     "output_type": "display_data"
    },
    {
     "name": "stdout",
     "output_type": "stream",
     "text": [
      "None\n"
     ]
    },
    {
     "data": {
      "text/html": [
       "<a href=\"https://ks-yanao.ru/novosti/likvidatory-sibirskoy-yazvy-poluchili-gosnagrady.html\">Ликвидаторы сибирской язвы получили госнаграды</a> — -0.0018488151745871754"
      ],
      "text/plain": [
       "<IPython.core.display.HTML object>"
      ]
     },
     "metadata": {},
     "output_type": "display_data"
    },
    {
     "name": "stdout",
     "output_type": "stream",
     "text": [
      "None\n"
     ]
    },
    {
     "data": {
      "text/html": [
       "<a href=\"https://ks-yanao.ru/novosti/nash-glavnyy-prioritet-podderzhivat-i-razvivat-zhilishchnoe-stroitelstvo.html\">«Наш главный приоритет – поддерживать и развивать жилищное строительство»</a> — -0.0018628493736242647"
      ],
      "text/plain": [
       "<IPython.core.display.HTML object>"
      ]
     },
     "metadata": {},
     "output_type": "display_data"
    },
    {
     "name": "stdout",
     "output_type": "stream",
     "text": [
      "None\n"
     ]
    },
    {
     "data": {
      "text/html": [
       "<a href=\"https://ks-yanao.ru/novosti/v-pervyy-festivalnyy-den-uchastnikov-nakryla-stikhiya-vody.html\">В Болгарии в первый фестивальный день участников накрыла стихия воды</a> — -0.0018790436170956484"
      ],
      "text/plain": [
       "<IPython.core.display.HTML object>"
      ]
     },
     "metadata": {},
     "output_type": "display_data"
    },
    {
     "name": "stdout",
     "output_type": "stream",
     "text": [
      "None\n"
     ]
    },
    {
     "data": {
      "text/html": [
       "<a href=\"https://ks-yanao.ru/novosti/teplye-malitsy-ne-dali-zamerznut-rossiyskim-i-inostrannym-gostyam.html\">Теплые малицы не дали замерзнуть российским и иностранным гостям</a> — -0.0018878075344463442"
      ],
      "text/plain": [
       "<IPython.core.display.HTML object>"
      ]
     },
     "metadata": {},
     "output_type": "display_data"
    },
    {
     "name": "stdout",
     "output_type": "stream",
     "text": [
      "None\n"
     ]
    },
    {
     "data": {
      "text/html": [
       "<a href=\"https://ks-yanao.ru/novosti/luchshiy-v-mire-svarshchik-zhivyet-na-yamale.html\">Лучший в мире сварщик живёт на Ямале</a> — -0.0018890444401686132"
      ],
      "text/plain": [
       "<IPython.core.display.HTML object>"
      ]
     },
     "metadata": {},
     "output_type": "display_data"
    },
    {
     "name": "stdout",
     "output_type": "stream",
     "text": [
      "None\n"
     ]
    },
    {
     "data": {
      "text/html": [
       "<a href=\"https://ks-yanao.ru/novosti/iz-salekharda-vyshel-v-reys-pervyy-meteor.html\">Из Салехарда вышел в рейс первый «Метеор»</a> — -0.0018954247053141362"
      ],
      "text/plain": [
       "<IPython.core.display.HTML object>"
      ]
     },
     "metadata": {},
     "output_type": "display_data"
    },
    {
     "name": "stdout",
     "output_type": "stream",
     "text": [
      "None\n"
     ]
    },
    {
     "data": {
      "text/html": [
       "<a href=\"https://ks-yanao.ru/novosti/urengoytsev-gotovyat-k-evakuatsii.html\">Уренгойцев готовят к эвакуации</a> — -0.0019046102597093692"
      ],
      "text/plain": [
       "<IPython.core.display.HTML object>"
      ]
     },
     "metadata": {},
     "output_type": "display_data"
    },
    {
     "name": "stdout",
     "output_type": "stream",
     "text": [
      "None\n"
     ]
    },
    {
     "data": {
      "text/html": [
       "<a href=\"https://ks-yanao.ru/novosti/v-yamalskom-rayone-budut-sudit-byvshego-strazha-poryadka.html\">В Ямальском районе будут судить бывшего стража порядка</a> — -0.0019110524781597552"
      ],
      "text/plain": [
       "<IPython.core.display.HTML object>"
      ]
     },
     "metadata": {},
     "output_type": "display_data"
    },
    {
     "name": "stdout",
     "output_type": "stream",
     "text": [
      "None\n"
     ]
    },
    {
     "data": {
      "text/html": [
       "<a href=\"https://ks-yanao.ru/novosti/prazdnik-sporta-proshyel-v-noyabrske.html\">Праздник спорта прошёл в Ноябрьске</a> — -0.0019218083227518785"
      ],
      "text/plain": [
       "<IPython.core.display.HTML object>"
      ]
     },
     "metadata": {},
     "output_type": "display_data"
    },
    {
     "name": "stdout",
     "output_type": "stream",
     "text": [
      "None\n"
     ]
    },
    {
     "data": {
      "text/html": [
       "<a href=\"https://ks-yanao.ru/novosti/novyy-urengoy-otmetil-pervomay-pod-krasnymi-styagami-i-s-khoroshim-nastroeniem.html\">Новый Уренгой отметил Первомай под красными стягами и с хорошим настроением</a> — -0.00196329782266991"
      ],
      "text/plain": [
       "<IPython.core.display.HTML object>"
      ]
     },
     "metadata": {},
     "output_type": "display_data"
    },
    {
     "name": "stdout",
     "output_type": "stream",
     "text": [
      "None\n"
     ]
    },
    {
     "data": {
      "text/html": [
       "<a href=\"https://ks-yanao.ru/novosti/shpionov-v-tekhnike-otlovyat-na-tamozhne.html\">Что следует знать, покупая электронику за границей</a> — -0.0019735369453212706"
      ],
      "text/plain": [
       "<IPython.core.display.HTML object>"
      ]
     },
     "metadata": {},
     "output_type": "display_data"
    },
    {
     "name": "stdout",
     "output_type": "stream",
     "text": [
      "None\n"
     ]
    },
    {
     "data": {
      "text/html": [
       "<a href=\"https://ks-yanao.ru/novosti/esli-vechnaya-merzlota-rastaet-vsye-poydyet-vverkh-dnom.html\">Если вечная мерзлота растает, всё пойдёт вверх дном</a> — -0.0019751720769828635"
      ],
      "text/plain": [
       "<IPython.core.display.HTML object>"
      ]
     },
     "metadata": {},
     "output_type": "display_data"
    },
    {
     "name": "stdout",
     "output_type": "stream",
     "text": [
      "None\n"
     ]
    },
    {
     "data": {
      "text/html": [
       "<a href=\"https://ks-yanao.ru/novosti/gryadyet-perepis-besprizornykh-velosipedov.html\">Грядёт «перепись» беспризорных велосипедов</a> — -0.001997197843431095"
      ],
      "text/plain": [
       "<IPython.core.display.HTML object>"
      ]
     },
     "metadata": {},
     "output_type": "display_data"
    },
    {
     "name": "stdout",
     "output_type": "stream",
     "text": [
      "None\n"
     ]
    },
    {
     "data": {
      "text/html": [
       "<a href=\"https://ks-yanao.ru/novosti/seriynyy-podzhigatel-ne-smog-razzhalobit-sud.html\">Серийный поджигатель не смог разжалобить суд</a> — -0.0020207141554617614"
      ],
      "text/plain": [
       "<IPython.core.display.HTML object>"
      ]
     },
     "metadata": {},
     "output_type": "display_data"
    },
    {
     "name": "stdout",
     "output_type": "stream",
     "text": [
      "None\n"
     ]
    },
    {
     "data": {
      "text/html": [
       "<a href=\"https://ks-yanao.ru/novosti/veteran-mvd-otlichno-otstrelyalsya-v-ssha.html\">Ветеран МВД отлично отстрелялся в США</a> — -0.002070328206696153"
      ],
      "text/plain": [
       "<IPython.core.display.HTML object>"
      ]
     },
     "metadata": {},
     "output_type": "display_data"
    },
    {
     "name": "stdout",
     "output_type": "stream",
     "text": [
      "None\n"
     ]
    },
    {
     "data": {
      "text/html": [
       "<a href=\"https://ks-yanao.ru/novosti/v-gubkinskom-vozbudili-tri-dela-o-pokushenii-na-podzhog.html\">В Губкинском возбудили три дела о покушении на поджог</a> — -0.0020818325658855164"
      ],
      "text/plain": [
       "<IPython.core.display.HTML object>"
      ]
     },
     "metadata": {},
     "output_type": "display_data"
    },
    {
     "name": "stdout",
     "output_type": "stream",
     "text": [
      "None\n"
     ]
    },
    {
     "data": {
      "text/html": [
       "<a href=\"https://ks-yanao.ru/novosti/zemlyachestva-yamala-naveshchayut-frontovikov.html\">Землячества Ямала навещают фронтовиков</a> — -0.002086317959258651"
      ],
      "text/plain": [
       "<IPython.core.display.HTML object>"
      ]
     },
     "metadata": {},
     "output_type": "display_data"
    },
    {
     "name": "stdout",
     "output_type": "stream",
     "text": [
      "None\n"
     ]
    },
    {
     "data": {
      "text/html": [
       "<a href=\"https://ks-yanao.ru/novosti/podrobnosti-yugre-vveli-vremennuyu-administratsiyu.html\">Подробности: «Югре» ввели временную администрацию</a> — -0.0020921445580370725"
      ],
      "text/plain": [
       "<IPython.core.display.HTML object>"
      ]
     },
     "metadata": {},
     "output_type": "display_data"
    },
    {
     "name": "stdout",
     "output_type": "stream",
     "text": [
      "None\n"
     ]
    },
    {
     "data": {
      "text/html": [
       "<a href=\"https://ks-yanao.ru/novosti/stikhiya-perekryla-nadymchanam-dorogu-v-otpusk.html\">Стихия перекрыла надымчанам дорогу в отпуск</a> — -0.002100301946476099"
      ],
      "text/plain": [
       "<IPython.core.display.HTML object>"
      ]
     },
     "metadata": {},
     "output_type": "display_data"
    },
    {
     "name": "stdout",
     "output_type": "stream",
     "text": [
      "None\n"
     ]
    },
    {
     "data": {
      "text/html": [
       "<a href=\"https://ks-yanao.ru/novosti/novourengoets-eldar-akhadov-stal-vtorym-v-mezhdunarodnom-konkurse-stikhov-i-pesen-krymskiy-most.html\">Новоуренгоец Эльдар Ахадов стал вторым в международном конкурсе стихов</a> — -0.0021023934034292615"
      ],
      "text/plain": [
       "<IPython.core.display.HTML object>"
      ]
     },
     "metadata": {},
     "output_type": "display_data"
    },
    {
     "name": "stdout",
     "output_type": "stream",
     "text": [
      "None\n"
     ]
    },
    {
     "data": {
      "text/html": [
       "<a href=\"https://ks-yanao.ru/novosti/regionalnyy-apk-ishchet-spetsov-po-biotekhnologii-zhivotnykh.html\">Региональный АПК ищет спецов по биотехнологии животных</a> — -0.002202285531727862"
      ],
      "text/plain": [
       "<IPython.core.display.HTML object>"
      ]
     },
     "metadata": {},
     "output_type": "display_data"
    },
    {
     "name": "stdout",
     "output_type": "stream",
     "text": [
      "None\n"
     ]
    },
    {
     "data": {
      "text/html": [
       "<a href=\"https://ks-yanao.ru/novosti/meriya-snova-zaplatit-tridtsat-tysyach-za-ukus.html\">Мэрия снова заплатит тридцать тысяч за укус</a> — -0.0022183810913103423"
      ],
      "text/plain": [
       "<IPython.core.display.HTML object>"
      ]
     },
     "metadata": {},
     "output_type": "display_data"
    },
    {
     "name": "stdout",
     "output_type": "stream",
     "text": [
      "None\n"
     ]
    },
    {
     "data": {
      "text/html": [
       "<a href=\"https://ks-yanao.ru/novosti/delo-nadymchanki-izbivavshey-rebyenka-peredano-v-sud.html\">Дело надымчанки, избивавшей ребёнка, передано в суд</a> — -0.0022194415208306307"
      ],
      "text/plain": [
       "<IPython.core.display.HTML object>"
      ]
     },
     "metadata": {},
     "output_type": "display_data"
    },
    {
     "name": "stdout",
     "output_type": "stream",
     "text": [
      "None\n"
     ]
    },
    {
     "data": {
      "text/html": [
       "<a href=\"https://ks-yanao.ru/novosti/v-komfortnuyu-sredu-investiruyut-408-millionov.html\">В «комфортную среду» инвестируют 408 миллионов</a> — -0.0022238165058189835"
      ],
      "text/plain": [
       "<IPython.core.display.HTML object>"
      ]
     },
     "metadata": {},
     "output_type": "display_data"
    },
    {
     "name": "stdout",
     "output_type": "stream",
     "text": [
      "None\n"
     ]
    },
    {
     "data": {
      "text/html": [
       "<a href=\"https://ks-yanao.ru/ekonomika/na-yamale-otkryli-pervyy-musoropererabatyvayushchiy-zavod.html\">На Ямале открыли первый мусороперерабатывающий завод</a> — -0.002225173786499469"
      ],
      "text/plain": [
       "<IPython.core.display.HTML object>"
      ]
     },
     "metadata": {},
     "output_type": "display_data"
    },
    {
     "name": "stdout",
     "output_type": "stream",
     "text": [
      "None\n"
     ]
    },
    {
     "data": {
      "text/html": [
       "<a href=\"https://ks-yanao.ru/novosti/prichinoy-smerti-shkolnitsy-v-salekharde-mog-stat-neschastnyy-sluchay.html\">Причиной смерти школьницы в Салехарде мог стать несчастный случай</a> — -0.002234962411072306"
      ],
      "text/plain": [
       "<IPython.core.display.HTML object>"
      ]
     },
     "metadata": {},
     "output_type": "display_data"
    },
    {
     "name": "stdout",
     "output_type": "stream",
     "text": [
      "None\n"
     ]
    },
    {
     "data": {
      "text/html": [
       "<a href=\"https://ks-yanao.ru/novosti/dve-s-polovinoy-tysyachi-yamalskikh-pensionerov-poluchat-kompensatsiyu-za-otdykh.html\">Две с половиной тысячи ямальских пенсионеров получат компенсацию за отдых</a> — -0.002272515167046426"
      ],
      "text/plain": [
       "<IPython.core.display.HTML object>"
      ]
     },
     "metadata": {},
     "output_type": "display_data"
    },
    {
     "name": "stdout",
     "output_type": "stream",
     "text": [
      "None\n"
     ]
    },
    {
     "data": {
      "text/html": [
       "<a href=\"https://ks-yanao.ru/novosti/na-yamale-pogibli-dva-peshekhoda.html\">На Ямале погибли два пешехода</a> — -0.0022812517529867005"
      ],
      "text/plain": [
       "<IPython.core.display.HTML object>"
      ]
     },
     "metadata": {},
     "output_type": "display_data"
    },
    {
     "name": "stdout",
     "output_type": "stream",
     "text": [
      "None\n"
     ]
    },
    {
     "data": {
      "text/html": [
       "<a href=\"https://ks-yanao.ru/novosti/pavodkovaya-situatsiya-v-ovgorte-normalizuetsya.html\">Паводковая ситуация в Овгорте нормализуется</a> — -0.0022962373899144666"
      ],
      "text/plain": [
       "<IPython.core.display.HTML object>"
      ]
     },
     "metadata": {},
     "output_type": "display_data"
    },
    {
     "name": "stdout",
     "output_type": "stream",
     "text": [
      "None\n"
     ]
    },
    {
     "data": {
      "text/html": [
       "<a href=\"https://ks-yanao.ru/novosti/na-yamale-realizovan-bespretsedentnyy-proekt-dve-sistemy-ekstrennogo-opoveshcheniya-obedili-na-odin-.html\">На Ямале реализован беспрецедентный проект: две системы экстренного оповещения объедили на один пульт</a> — -0.002304342606238431"
      ],
      "text/plain": [
       "<IPython.core.display.HTML object>"
      ]
     },
     "metadata": {},
     "output_type": "display_data"
    },
    {
     "name": "stdout",
     "output_type": "stream",
     "text": [
      "None\n"
     ]
    },
    {
     "data": {
      "text/html": [
       "<a href=\"https://ks-yanao.ru/novosti/sibirskoy-yazve-sozdadut-barer.html\">Ветеринары призвали оленеводов на помощь</a> — -0.0023069971089692888"
      ],
      "text/plain": [
       "<IPython.core.display.HTML object>"
      ]
     },
     "metadata": {},
     "output_type": "display_data"
    },
    {
     "name": "stdout",
     "output_type": "stream",
     "text": [
      "None\n"
     ]
    },
    {
     "data": {
      "text/html": [
       "<a href=\"https://ks-yanao.ru/novosti/na-turisticheskoy-trope-soshlis-indeytsy-kazaki-i-peshchernye-lyudi.html\">На туристической тропе сошлись индейцы, казаки  и пещерные люди</a> — -0.00231229147663579"
      ],
      "text/plain": [
       "<IPython.core.display.HTML object>"
      ]
     },
     "metadata": {},
     "output_type": "display_data"
    },
    {
     "name": "stdout",
     "output_type": "stream",
     "text": [
      "None\n"
     ]
    },
    {
     "data": {
      "text/html": [
       "<a href=\"https://ks-yanao.ru/novosti/uchastniki-foruma-korennykh-narodov-obsudili-dostup-k-ugodyam-i-uzhestochenie-ekologicheskogo-zakono.html\">Участники форума коренных народов обсудили доступ к угодьям и ужесточение экологического законодательства</a> — -0.002346520717668315"
      ],
      "text/plain": [
       "<IPython.core.display.HTML object>"
      ]
     },
     "metadata": {},
     "output_type": "display_data"
    },
    {
     "name": "stdout",
     "output_type": "stream",
     "text": [
      "None\n"
     ]
    },
    {
     "data": {
      "text/html": [
       "<a href=\"https://ks-yanao.ru/novosti/v-novom-urengoe-otkroetsya-tsentr-zdorovya-detey.html\">В Новом Уренгое откроется Центр здоровья детей</a> — -0.0023637388364192544"
      ],
      "text/plain": [
       "<IPython.core.display.HTML object>"
      ]
     },
     "metadata": {},
     "output_type": "display_data"
    },
    {
     "name": "stdout",
     "output_type": "stream",
     "text": [
      "None\n"
     ]
    },
    {
     "data": {
      "text/html": [
       "<a href=\"https://ks-yanao.ru/novosti/pervye-desyat-otaplivaemykh-ostanovok-na-yamale-poyavyatsya-v-noyabrske.html\">Первые десять отапливаемых остановок на Ямале появятся в Ноябрьске</a> — -0.002377015464475757"
      ],
      "text/plain": [
       "<IPython.core.display.HTML object>"
      ]
     },
     "metadata": {},
     "output_type": "display_data"
    },
    {
     "name": "stdout",
     "output_type": "stream",
     "text": [
      "None\n"
     ]
    },
    {
     "data": {
      "text/html": [
       "<a href=\"https://ks-yanao.ru/novosti/obladateley-gosta-proveryat-na-chestnost.html\">Обладателей ГОСТа проверят на честность</a> — -0.0023795871638780616"
      ],
      "text/plain": [
       "<IPython.core.display.HTML object>"
      ]
     },
     "metadata": {},
     "output_type": "display_data"
    },
    {
     "name": "stdout",
     "output_type": "stream",
     "text": [
      "None\n"
     ]
    },
    {
     "data": {
      "text/html": [
       "<a href=\"https://ks-yanao.ru/novosti/yamal-otpravit-v-artek-sotnyu-sootechestvennikov.html\">Ямал отправит в «Артек» сотню соотечественников</a> — -0.002388300498186505"
      ],
      "text/plain": [
       "<IPython.core.display.HTML object>"
      ]
     },
     "metadata": {},
     "output_type": "display_data"
    },
    {
     "name": "stdout",
     "output_type": "stream",
     "text": [
      "None\n"
     ]
    },
    {
     "data": {
      "text/html": [
       "<a href=\"https://ks-yanao.ru/novosti/medvedya-vernut-na-dom-s-chasami.html\">Медведя вернут на «дом с часами»</a> — -0.00239851588990341"
      ],
      "text/plain": [
       "<IPython.core.display.HTML object>"
      ]
     },
     "metadata": {},
     "output_type": "display_data"
    },
    {
     "name": "stdout",
     "output_type": "stream",
     "text": [
      "None\n"
     ]
    },
    {
     "data": {
      "text/html": [
       "<a href=\"https://ks-yanao.ru/novosti/v-novom-urengoe-prazdnuyut-den-molodyezhi.html\">В Новом Уренгое празднуют День молодёжи</a> — -0.0024189852564708686"
      ],
      "text/plain": [
       "<IPython.core.display.HTML object>"
      ]
     },
     "metadata": {},
     "output_type": "display_data"
    },
    {
     "name": "stdout",
     "output_type": "stream",
     "text": [
      "None\n"
     ]
    },
    {
     "data": {
      "text/html": [
       "<a href=\"https://ks-yanao.ru/novosti/v-den-rybaka-kutopyugantsy-khodili-na-veslakh.html\">В День рыбака кутопьюганцы «ходили» на веслах</a> — -0.002476154017727556"
      ],
      "text/plain": [
       "<IPython.core.display.HTML object>"
      ]
     },
     "metadata": {},
     "output_type": "display_data"
    },
    {
     "name": "stdout",
     "output_type": "stream",
     "text": [
      "None\n"
     ]
    },
    {
     "data": {
      "text/html": [
       "<a href=\"https://ks-yanao.ru/novosti/veterany-yamala-zalozhili-sobstvennuyu-alleyu-v-tyumeni.html\">Ветераны Ямала заложили собственную аллею в Тюмени</a> — -0.002478267386812454"
      ],
      "text/plain": [
       "<IPython.core.display.HTML object>"
      ]
     },
     "metadata": {},
     "output_type": "display_data"
    },
    {
     "name": "stdout",
     "output_type": "stream",
     "text": [
      "None\n"
     ]
    },
    {
     "data": {
      "text/html": [
       "<a href=\"https://ks-yanao.ru/novosti/rabotu-sotsialnogo-taksi-v-noyabrske-priostanovili.html\">Работу социального такси в Ноябрьске приостановили</a> — -0.002481636349718455"
      ],
      "text/plain": [
       "<IPython.core.display.HTML object>"
      ]
     },
     "metadata": {},
     "output_type": "display_data"
    },
    {
     "name": "stdout",
     "output_type": "stream",
     "text": [
      "None\n"
     ]
    },
    {
     "data": {
      "text/html": [
       "<a href=\"https://ks-yanao.ru/novosti/yamal-na-vykhodnye-osnovatelno-produet.html\">Ямал на выходные основательно продует</a> — -0.0025060647972232285"
      ],
      "text/plain": [
       "<IPython.core.display.HTML object>"
      ]
     },
     "metadata": {},
     "output_type": "display_data"
    },
    {
     "name": "stdout",
     "output_type": "stream",
     "text": [
      "None\n"
     ]
    },
    {
     "data": {
      "text/html": [
       "<a href=\"https://ks-yanao.ru/novosti/na-ostrove-belyy-vysadili-ivy.html\">На острове Белый высадили ивы</a> — -0.0025081233903996645"
      ],
      "text/plain": [
       "<IPython.core.display.HTML object>"
      ]
     },
     "metadata": {},
     "output_type": "display_data"
    },
    {
     "name": "stdout",
     "output_type": "stream",
     "text": [
      "None\n"
     ]
    },
    {
     "data": {
      "text/html": [
       "<a href=\"https://ks-yanao.ru/novosti/noyabrske-vrachi-proveli-dve-mnogochasovye-operatsii-rebyenku-pervogo-dnya-zhizni.html\">Ноябрьске врачи провели две многочасовые операции ребёнку первого дня жизни</a> — -0.0025147639937860796"
      ],
      "text/plain": [
       "<IPython.core.display.HTML object>"
      ]
     },
     "metadata": {},
     "output_type": "display_data"
    },
    {
     "name": "stdout",
     "output_type": "stream",
     "text": [
      "None\n"
     ]
    },
    {
     "data": {
      "text/html": [
       "<a href=\"https://ks-yanao.ru/novosti/salekhard-prazdnuet-den-pobedy.html\">Под залпы салюта запустили «белых голубей»</a> — -0.0025534117250798492"
      ],
      "text/plain": [
       "<IPython.core.display.HTML object>"
      ]
     },
     "metadata": {},
     "output_type": "display_data"
    },
    {
     "name": "stdout",
     "output_type": "stream",
     "text": [
      "None\n"
     ]
    },
    {
     "data": {
      "text/html": [
       "<a href=\"https://ks-yanao.ru/novosti/v-salekharde-otkrylas-pervaya-besplatnaya-sotsialnaya-polka.html\">В Салехарде открылась первая бесплатная социальная полка</a> — -0.0025576560629093537"
      ],
      "text/plain": [
       "<IPython.core.display.HTML object>"
      ]
     },
     "metadata": {},
     "output_type": "display_data"
    },
    {
     "name": "stdout",
     "output_type": "stream",
     "text": [
      "None\n"
     ]
    },
    {
     "data": {
      "text/html": [
       "<a href=\"https://ks-yanao.ru/novosti/zavtra-krasnoselkup-otmechaet-80-letie.html\">Завтра Красноселькуп отмечает 80-летие</a> — -0.0025616138192552677"
      ],
      "text/plain": [
       "<IPython.core.display.HTML object>"
      ]
     },
     "metadata": {},
     "output_type": "display_data"
    },
    {
     "name": "stdout",
     "output_type": "stream",
     "text": [
      "None\n"
     ]
    },
    {
     "data": {
      "text/html": [
       "<a href=\"https://ks-yanao.ru/novosti/yamal-arenu-v-okruzhnoy-stolitse-obezopasili-ot-zemletryaseniy-.html\">«Ямал-Арену» в окружной столице обезопасили от землетрясений</a> — -0.002599126853939984"
      ],
      "text/plain": [
       "<IPython.core.display.HTML object>"
      ]
     },
     "metadata": {},
     "output_type": "display_data"
    },
    {
     "name": "stdout",
     "output_type": "stream",
     "text": [
      "None\n"
     ]
    },
    {
     "data": {
      "text/html": [
       "<a href=\"https://ks-yanao.ru/novosti/khmelnoy-salekhardets-bez-prav-povez-rebenka-v-sadik.html\">Хмельной салехардец без прав повез ребенка в садик</a> — -0.002618224611001096"
      ],
      "text/plain": [
       "<IPython.core.display.HTML object>"
      ]
     },
     "metadata": {},
     "output_type": "display_data"
    },
    {
     "name": "stdout",
     "output_type": "stream",
     "text": [
      "None\n"
     ]
    },
    {
     "data": {
      "text/html": [
       "<a href=\"https://ks-yanao.ru/novosti/v-salekhardskom-dvore-uchat-driblingu.html\">В салехардском дворе учат дриблингу</a> — -0.0026225619290488945"
      ],
      "text/plain": [
       "<IPython.core.display.HTML object>"
      ]
     },
     "metadata": {},
     "output_type": "display_data"
    },
    {
     "name": "stdout",
     "output_type": "stream",
     "text": [
      "None\n"
     ]
    },
    {
     "data": {
      "text/html": [
       "<a href=\"https://ks-yanao.ru/novosti/mediki-regiona-gotovy-k-rabote-s-elektronnymi-bolnichnymi.html\">Медики региона готовы к работе с электронными больничными</a> — -0.0026225942716672475"
      ],
      "text/plain": [
       "<IPython.core.display.HTML object>"
      ]
     },
     "metadata": {},
     "output_type": "display_data"
    },
    {
     "name": "stdout",
     "output_type": "stream",
     "text": [
      "None\n"
     ]
    },
    {
     "data": {
      "text/html": [
       "<a href=\"https://ks-yanao.ru/novosti/samolyet-aeroflota-prizemlilsya-i-uletel-sledovateli-spokoyny.html\">Самолёт «Аэрофлота» приземлился и улетел – следователи спокойны</a> — -0.002650707517235804"
      ],
      "text/plain": [
       "<IPython.core.display.HTML object>"
      ]
     },
     "metadata": {},
     "output_type": "display_data"
    },
    {
     "name": "stdout",
     "output_type": "stream",
     "text": [
      "None\n"
     ]
    },
    {
     "data": {
      "text/html": [
       "<a href=\"https://ks-yanao.ru/novosti/gazoviki-podarili-pangodintsam-mechtu-i-atlanta.html\">Газовики подарили пангодинцам «Мечту» и «Атланта»</a> — -0.002654125442535878"
      ],
      "text/plain": [
       "<IPython.core.display.HTML object>"
      ]
     },
     "metadata": {},
     "output_type": "display_data"
    },
    {
     "name": "stdout",
     "output_type": "stream",
     "text": [
      "None\n"
     ]
    },
    {
     "data": {
      "text/html": [
       "<a href=\"https://ks-yanao.ru/novosti/k-bessmertnomu-polku-dobavilsya-batalon-sovremennikov.html\">К «Бессмертному полку» добавился «батальон» современников</a> — -0.0026845331521665908"
      ],
      "text/plain": [
       "<IPython.core.display.HTML object>"
      ]
     },
     "metadata": {},
     "output_type": "display_data"
    },
    {
     "name": "stdout",
     "output_type": "stream",
     "text": [
      "None\n"
     ]
    },
    {
     "data": {
      "text/html": [
       "<a href=\"https://ks-yanao.ru/novosti/segodnya-nazovut-pobediteley-konkursa-svoye-delo.html\">Сегодня назовут победителей конкурса «Своё дело»</a> — -0.0026901426168947384"
      ],
      "text/plain": [
       "<IPython.core.display.HTML object>"
      ]
     },
     "metadata": {},
     "output_type": "display_data"
    },
    {
     "name": "stdout",
     "output_type": "stream",
     "text": [
      "None\n"
     ]
    },
    {
     "data": {
      "text/html": [
       "<a href=\"https://ks-yanao.ru/novosti/kosolapye-vyspalis-i-progolodalis.html\">﻿Косолапые выспались и проголодались</a> — -0.0026912611468608723"
      ],
      "text/plain": [
       "<IPython.core.display.HTML object>"
      ]
     },
     "metadata": {},
     "output_type": "display_data"
    },
    {
     "name": "stdout",
     "output_type": "stream",
     "text": [
      "None\n"
     ]
    },
    {
     "data": {
      "text/html": [
       "<a href=\"https://ks-yanao.ru/novosti/opasnye-raboty-obsudili-v-noyabrske.html\">Опасные работы обсудили в Ноябрьске</a> — -0.0027433958159686794"
      ],
      "text/plain": [
       "<IPython.core.display.HTML object>"
      ]
     },
     "metadata": {},
     "output_type": "display_data"
    },
    {
     "name": "stdout",
     "output_type": "stream",
     "text": [
      "None\n"
     ]
    },
    {
     "data": {
      "text/html": [
       "<a href=\"https://ks-yanao.ru/novosti/v-noyabrske-buldozerom-raskatali-25-kg-polskikh-grush.html\">В Ноябрьске бульдозером раскатали 25 кг польских груш</a> — -0.0027451995284656972"
      ],
      "text/plain": [
       "<IPython.core.display.HTML object>"
      ]
     },
     "metadata": {},
     "output_type": "display_data"
    },
    {
     "name": "stdout",
     "output_type": "stream",
     "text": [
      "None\n"
     ]
    },
    {
     "data": {
      "text/html": [
       "<a href=\"https://ks-yanao.ru/novosti/delegatsiya-noyabrska-posetila-podshefnyy-korabl-v-dagestane.html\">Делегация Ноябрьска посетила подшефный корабль в Дагестане</a> — -0.002751053236982916"
      ],
      "text/plain": [
       "<IPython.core.display.HTML object>"
      ]
     },
     "metadata": {},
     "output_type": "display_data"
    },
    {
     "name": "stdout",
     "output_type": "stream",
     "text": [
      "None\n"
     ]
    },
    {
     "data": {
      "text/html": [
       "<a href=\"https://ks-yanao.ru/novosti/sakralnyy-yamal-nadezhda-v-ogne-ne-gorit-foto.html\">Сакральный Ямал: Надежда в огне не горит (фото)</a> — -0.0027678467571718075"
      ],
      "text/plain": [
       "<IPython.core.display.HTML object>"
      ]
     },
     "metadata": {},
     "output_type": "display_data"
    },
    {
     "name": "stdout",
     "output_type": "stream",
     "text": [
      "None\n"
     ]
    },
    {
     "data": {
      "text/html": [
       "<a href=\"https://ks-yanao.ru/novosti/sytye-oleni-sulyat-tundrovikam-pribyl.html\">Сытые олени сулят тундровикам прибыль</a> — -0.002777497868611312"
      ],
      "text/plain": [
       "<IPython.core.display.HTML object>"
      ]
     },
     "metadata": {},
     "output_type": "display_data"
    },
    {
     "name": "stdout",
     "output_type": "stream",
     "text": [
      "None\n"
     ]
    },
    {
     "data": {
      "text/html": [
       "<a href=\"https://ks-yanao.ru/novosti/student-iz-noyabrska-reshil-proslavit-yamal.html\">Студент из Ноябрьска решил прославить Ямал</a> — -0.0027922290249083204"
      ],
      "text/plain": [
       "<IPython.core.display.HTML object>"
      ]
     },
     "metadata": {},
     "output_type": "display_data"
    },
    {
     "name": "stdout",
     "output_type": "stream",
     "text": [
      "None\n"
     ]
    },
    {
     "data": {
      "text/html": [
       "<a href=\"https://ks-yanao.ru/novosti/golubye-berety-gotovyat-smenu.html\">«Голубые береты» готовят смену</a> — -0.0028040591951421882"
      ],
      "text/plain": [
       "<IPython.core.display.HTML object>"
      ]
     },
     "metadata": {},
     "output_type": "display_data"
    },
    {
     "name": "stdout",
     "output_type": "stream",
     "text": [
      "None\n"
     ]
    },
    {
     "data": {
      "text/html": [
       "<a href=\"https://ks-yanao.ru/novosti/na-yamale-i-v-blizhayshie-sto-let-budet-chto-stroit.html\">На Ямале и в ближайшие сто лет будет что строить</a> — -0.0028069209265275054"
      ],
      "text/plain": [
       "<IPython.core.display.HTML object>"
      ]
     },
     "metadata": {},
     "output_type": "display_data"
    },
    {
     "name": "stdout",
     "output_type": "stream",
     "text": [
      "None\n"
     ]
    },
    {
     "data": {
      "text/html": [
       "<a href=\"https://ks-yanao.ru/novosti/na-yamale-prizyvayut-nko-okazyvat-sotsialnye-uslugi.html\">На Ямале призывают НКО оказывать социальные услуги</a> — -0.0028086089166063123"
      ],
      "text/plain": [
       "<IPython.core.display.HTML object>"
      ]
     },
     "metadata": {},
     "output_type": "display_data"
    },
    {
     "name": "stdout",
     "output_type": "stream",
     "text": [
      "None\n"
     ]
    },
    {
     "data": {
      "text/html": [
       "<a href=\"https://ks-yanao.ru/novosti/v-pitsundu-i-gagru-po-edinomu-biletu-teper-zaprosto.html\">В Пицунду и Гагру по единому билету – теперь запросто!</a> — -0.0028109148141816577"
      ],
      "text/plain": [
       "<IPython.core.display.HTML object>"
      ]
     },
     "metadata": {},
     "output_type": "display_data"
    },
    {
     "name": "stdout",
     "output_type": "stream",
     "text": [
      "None\n"
     ]
    },
    {
     "data": {
      "text/html": [
       "<a href=\"https://ks-yanao.ru/novosti/voda-prishla-v-ovgort-otkuda-ne-ozhidali.html\">Вода пришла в Овгорт, откуда не ожидали</a> — -0.0028140395654921457"
      ],
      "text/plain": [
       "<IPython.core.display.HTML object>"
      ]
     },
     "metadata": {},
     "output_type": "display_data"
    },
    {
     "name": "stdout",
     "output_type": "stream",
     "text": [
      "None\n"
     ]
    },
    {
     "data": {
      "text/html": [
       "<a href=\"https://ks-yanao.ru/obrazovanie/pedagogicheskiy-oskar-otpravilsya-v-glubinku.html\">Педагогический «Оскар» отправился в глубинку</a> — -0.0028278766023845684"
      ],
      "text/plain": [
       "<IPython.core.display.HTML object>"
      ]
     },
     "metadata": {},
     "output_type": "display_data"
    },
    {
     "name": "stdout",
     "output_type": "stream",
     "text": [
      "None\n"
     ]
    },
    {
     "data": {
      "text/html": [
       "<a href=\"https://ks-yanao.ru/novosti/nadymchane-podarili-gorodu-vesenniy-natyurmort.html\">Надымчане подарили городу весенний «натюрморт»</a> — -0.0028316711939574387"
      ],
      "text/plain": [
       "<IPython.core.display.HTML object>"
      ]
     },
     "metadata": {},
     "output_type": "display_data"
    },
    {
     "name": "stdout",
     "output_type": "stream",
     "text": [
      "None\n"
     ]
    },
    {
     "data": {
      "text/html": [
       "<a href=\"https://ks-yanao.ru/novosti/shtorm-ostavil-yarsalintsev-bez-sveta.html\">Шторм оставил ярсалинцев без света</a> — -0.002834194568173621"
      ],
      "text/plain": [
       "<IPython.core.display.HTML object>"
      ]
     },
     "metadata": {},
     "output_type": "display_data"
    },
    {
     "name": "stdout",
     "output_type": "stream",
     "text": [
      "None\n"
     ]
    },
    {
     "data": {
      "text/html": [
       "<a href=\"https://ks-yanao.ru/novosti/krymchane-pokupayut-yamalskikh-soboley.html\">Крымчане покупают ямальских соболей</a> — -0.002840724540973178"
      ],
      "text/plain": [
       "<IPython.core.display.HTML object>"
      ]
     },
     "metadata": {},
     "output_type": "display_data"
    },
    {
     "name": "stdout",
     "output_type": "stream",
     "text": [
      "None\n"
     ]
    },
    {
     "data": {
      "text/html": [
       "<a href=\"https://ks-yanao.ru/novosti/okruzhnuyu-stolitsu-po-vode-soedinyat-s-tazovskim-rayonom.html\">Салехард по воде соединят с Тазовским районом</a> — -0.0028471630024946904"
      ],
      "text/plain": [
       "<IPython.core.display.HTML object>"
      ]
     },
     "metadata": {},
     "output_type": "display_data"
    },
    {
     "name": "stdout",
     "output_type": "stream",
     "text": [
      "None\n"
     ]
    },
    {
     "data": {
      "text/html": [
       "<a href=\"https://ks-yanao.ru/novosti/nadym-otmechaet-yubiley.html\">Надым отмечает юбилей</a> — -0.00286839479293067"
      ],
      "text/plain": [
       "<IPython.core.display.HTML object>"
      ]
     },
     "metadata": {},
     "output_type": "display_data"
    },
    {
     "name": "stdout",
     "output_type": "stream",
     "text": [
      "None\n"
     ]
    },
    {
     "data": {
      "text/html": [
       "<a href=\"https://ks-yanao.ru/novosti/sberbank-i-google-zapuskayut-besplatnyy-biznes-klass.html\">Сбербанк и Google запускают бесплатный «Бизнес класс»</a> — -0.0028764667510676103"
      ],
      "text/plain": [
       "<IPython.core.display.HTML object>"
      ]
     },
     "metadata": {},
     "output_type": "display_data"
    },
    {
     "name": "stdout",
     "output_type": "stream",
     "text": [
      "None\n"
     ]
    },
    {
     "data": {
      "text/html": [
       "<a href=\"https://ks-yanao.ru/novosti/obratnaya-svyaz-totalnyy-oblov-zhivtsa-setyami-spasut-ot-dushegubki.html\">Обратная связь: тотальный облов – живца сетями спасут от «душегубки»</a> — -0.002877296044932878"
      ],
      "text/plain": [
       "<IPython.core.display.HTML object>"
      ]
     },
     "metadata": {},
     "output_type": "display_data"
    },
    {
     "name": "stdout",
     "output_type": "stream",
     "text": [
      "None\n"
     ]
    },
    {
     "data": {
      "text/html": [
       "<a href=\"https://ks-yanao.ru/novosti/v-salekhardskuyu-tipografiyu-prishli-izbirkom-s-politsiey.html\">В салехардскую типографию пришли избирком с полицией</a> — -0.002877483240613369"
      ],
      "text/plain": [
       "<IPython.core.display.HTML object>"
      ]
     },
     "metadata": {},
     "output_type": "display_data"
    },
    {
     "name": "stdout",
     "output_type": "stream",
     "text": [
      "None\n"
     ]
    },
    {
     "data": {
      "text/html": [
       "<a href=\"https://ks-yanao.ru/novosti/na-ozere-khanto-imitirovali-pozhar.html\">На озере Ханто имитировали пожар</a> — -0.0029181292026054227"
      ],
      "text/plain": [
       "<IPython.core.display.HTML object>"
      ]
     },
     "metadata": {},
     "output_type": "display_data"
    },
    {
     "name": "stdout",
     "output_type": "stream",
     "text": [
      "None\n"
     ]
    },
    {
     "data": {
      "text/html": [
       "<a href=\"https://ks-yanao.ru/novosti/na-yamale-naydena-neobychnaya-osob-.html\">На Ямале найдена необычная особь!</a> — -0.002936845776163729"
      ],
      "text/plain": [
       "<IPython.core.display.HTML object>"
      ]
     },
     "metadata": {},
     "output_type": "display_data"
    },
    {
     "name": "stdout",
     "output_type": "stream",
     "text": [
      "None\n"
     ]
    },
    {
     "data": {
      "text/html": [
       "<a href=\"https://ks-yanao.ru/novosti/gruppa-8-mikrorayon-g-noyabrsk-shkolnik-obgonyaet-smi.html\">Группа «8 микрорайон Г.Ноябрьск!»: школьник обгоняет СМИ</a> — -0.00298227468691684"
      ],
      "text/plain": [
       "<IPython.core.display.HTML object>"
      ]
     },
     "metadata": {},
     "output_type": "display_data"
    },
    {
     "name": "stdout",
     "output_type": "stream",
     "text": [
      "None\n"
     ]
    },
    {
     "data": {
      "text/html": [
       "<a href=\"https://ks-yanao.ru/novosti/novourengoyskie-mototsiklisty-dobralis-do-kasselya.html\">Новоуренгойские мотоциклисты добрались до Касселя</a> — -0.0030029603893742076"
      ],
      "text/plain": [
       "<IPython.core.display.HTML object>"
      ]
     },
     "metadata": {},
     "output_type": "display_data"
    },
    {
     "name": "stdout",
     "output_type": "stream",
     "text": [
      "None\n"
     ]
    },
    {
     "data": {
      "text/html": [
       "<a href=\"https://ks-yanao.ru/novosti/v-posyelkakh-napitki-s-gradusom-stavyat-pod-internet-otchet.html\">В посёлках напитки с градусом ставят под интернет-отчет</a> — -0.0030121181423982215"
      ],
      "text/plain": [
       "<IPython.core.display.HTML object>"
      ]
     },
     "metadata": {},
     "output_type": "display_data"
    },
    {
     "name": "stdout",
     "output_type": "stream",
     "text": [
      "None\n"
     ]
    },
    {
     "data": {
      "text/html": [
       "<a href=\"https://ks-yanao.ru/novosti/s-fabriki-zvyezd-v-kremlyevskiy-dvorets.html\">С «фабрики звёзд» – в Кремлёвский дворец</a> — -0.003012566205373996"
      ],
      "text/plain": [
       "<IPython.core.display.HTML object>"
      ]
     },
     "metadata": {},
     "output_type": "display_data"
    },
    {
     "name": "stdout",
     "output_type": "stream",
     "text": [
      "None\n"
     ]
    },
    {
     "data": {
      "text/html": [
       "<a href=\"https://ks-yanao.ru/novosti/vlast-prizvali-blagoustraivat-dvory-po-zhelaniyu-zhiteley.html\">Власть призвали благоустраивать дворы по желанию жителей</a> — -0.003018068198174687"
      ],
      "text/plain": [
       "<IPython.core.display.HTML object>"
      ]
     },
     "metadata": {},
     "output_type": "display_data"
    },
    {
     "name": "stdout",
     "output_type": "stream",
     "text": [
      "None\n"
     ]
    },
    {
     "data": {
      "text/html": [
       "<a href=\"https://ks-yanao.ru/novosti/so-snegokhodov-nadymchane-pereseli-na-veliki-i-katamarany.html\">Со снегоходов надымчане пересели на велики и катамараны</a> — -0.003030456912663139"
      ],
      "text/plain": [
       "<IPython.core.display.HTML object>"
      ]
     },
     "metadata": {},
     "output_type": "display_data"
    },
    {
     "name": "stdout",
     "output_type": "stream",
     "text": [
      "None\n"
     ]
    },
    {
     "data": {
      "text/html": [
       "<a href=\"https://ks-yanao.ru/novosti/na-yamal-idut-pokhodom.html\">На Ямал идут походом!</a> — -0.0030321265983049377"
      ],
      "text/plain": [
       "<IPython.core.display.HTML object>"
      ]
     },
     "metadata": {},
     "output_type": "display_data"
    },
    {
     "name": "stdout",
     "output_type": "stream",
     "text": [
      "None\n"
     ]
    },
    {
     "data": {
      "text/html": [
       "<a href=\"https://ks-yanao.ru/novosti/noyabrskie-khirurgi-vpervye-udalili-u-rebyenka-kamen-iz-pochki-bez-razrezov.html\">Ноябрьские хирурги впервые удалили у ребёнка камень из почки без разрезов</a> — -0.0030322613644409267"
      ],
      "text/plain": [
       "<IPython.core.display.HTML object>"
      ]
     },
     "metadata": {},
     "output_type": "display_data"
    },
    {
     "name": "stdout",
     "output_type": "stream",
     "text": [
      "None\n"
     ]
    },
    {
     "data": {
      "text/html": [
       "<a href=\"https://ks-yanao.ru/novosti/salekhardskaya-medveditsa-mashka-prinimaet-gostintsy-posle-dolgoy-spyachki.html\">Салехардская медведица Машка принимает гостинцы после долгой спячки</a> — -0.0030446667696358834"
      ],
      "text/plain": [
       "<IPython.core.display.HTML object>"
      ]
     },
     "metadata": {},
     "output_type": "display_data"
    },
    {
     "name": "stdout",
     "output_type": "stream",
     "text": [
      "None\n"
     ]
    },
    {
     "data": {
      "text/html": [
       "<a href=\"https://ks-yanao.ru/novosti/ploshchadka-foruma-korennykh-narodov-uzhe-ne-vmeshchaet-vsekh-zhelayushchikh.html\">Площадка Форума коренных народов уже не вмещает всех желающих</a> — -0.0030856478286087905"
      ],
      "text/plain": [
       "<IPython.core.display.HTML object>"
      ]
     },
     "metadata": {},
     "output_type": "display_data"
    },
    {
     "name": "stdout",
     "output_type": "stream",
     "text": [
      "None\n"
     ]
    },
    {
     "data": {
      "text/html": [
       "<a href=\"https://ks-yanao.ru/novosti/kuda-priveli-dorogi-sikhirtya.html\">Куда привели «Дороги сихиртя»</a> — -0.0030936612623355636"
      ],
      "text/plain": [
       "<IPython.core.display.HTML object>"
      ]
     },
     "metadata": {},
     "output_type": "display_data"
    },
    {
     "name": "stdout",
     "output_type": "stream",
     "text": [
      "None\n"
     ]
    },
    {
     "data": {
      "text/html": [
       "<a href=\"https://ks-yanao.ru/novosti/v-noyabrske-nachnut-vyvodit-matritsu-uspekha.html\">В Ноябрьске начнут выводить «Матрицу успеха»</a> — -0.0030993290740347346"
      ],
      "text/plain": [
       "<IPython.core.display.HTML object>"
      ]
     },
     "metadata": {},
     "output_type": "display_data"
    },
    {
     "name": "stdout",
     "output_type": "stream",
     "text": [
      "None\n"
     ]
    },
    {
     "data": {
      "text/html": [
       "<a href=\"https://ks-yanao.ru/novosti/zabotu-o-pikhtakh-poruchat-shkolnikam.html\">Заботу о пихтах поручат школьникам</a> — -0.0031020284236630232"
      ],
      "text/plain": [
       "<IPython.core.display.HTML object>"
      ]
     },
     "metadata": {},
     "output_type": "display_data"
    },
    {
     "name": "stdout",
     "output_type": "stream",
     "text": [
      "None\n"
     ]
    },
    {
     "data": {
      "text/html": [
       "<a href=\"https://ks-yanao.ru/novosti/yamalskie-arkhivisty-delyatsya-opytom-s-urfo.html\">Ямальские архивисты  делятся опытом с УрФО</a> — -0.0031039521691986942"
      ],
      "text/plain": [
       "<IPython.core.display.HTML object>"
      ]
     },
     "metadata": {},
     "output_type": "display_data"
    },
    {
     "name": "stdout",
     "output_type": "stream",
     "text": [
      "None\n"
     ]
    },
    {
     "data": {
      "text/html": [
       "<a href=\"https://ks-yanao.ru/novosti/v-gazovoy-stolitse-prokhodit-seminar-dlya-korennykh-zhiteley-severa.html\">В газовой столице проходит семинар для коренных жителей Севера</a> — -0.003113892334519719"
      ],
      "text/plain": [
       "<IPython.core.display.HTML object>"
      ]
     },
     "metadata": {},
     "output_type": "display_data"
    },
    {
     "name": "stdout",
     "output_type": "stream",
     "text": [
      "None\n"
     ]
    },
    {
     "data": {
      "text/html": [
       "<a href=\"https://ks-yanao.ru/novosti/v-noyabrske-neftyaniki-razdali-tri-milliona-rubley.html\">В Ноябрьске нефтяники раздали три миллиона рублей</a> — -0.003141635952195025"
      ],
      "text/plain": [
       "<IPython.core.display.HTML object>"
      ]
     },
     "metadata": {},
     "output_type": "display_data"
    },
    {
     "name": "stdout",
     "output_type": "stream",
     "text": [
      "None\n"
     ]
    },
    {
     "data": {
      "text/html": [
       "<a href=\"https://ks-yanao.ru/novosti/pochemu-okrugu-nevygodno-perevodit-shkoly-na-odnu-smenu.html\">Почему округу невыгодно переводить школы на одну смену</a> — -0.003176091813755983"
      ],
      "text/plain": [
       "<IPython.core.display.HTML object>"
      ]
     },
     "metadata": {},
     "output_type": "display_data"
    },
    {
     "name": "stdout",
     "output_type": "stream",
     "text": [
      "None\n"
     ]
    },
    {
     "data": {
      "text/html": [
       "<a href=\"https://ks-yanao.ru/novosti/budet-li-obeshchannaya-zhara-na-yamale.html\">Будет ли  обещанная жара на Ямале?</a> — -0.0031849995847188866"
      ],
      "text/plain": [
       "<IPython.core.display.HTML object>"
      ]
     },
     "metadata": {},
     "output_type": "display_data"
    },
    {
     "name": "stdout",
     "output_type": "stream",
     "text": [
      "None\n"
     ]
    },
    {
     "data": {
      "text/html": [
       "<a href=\"https://ks-yanao.ru/novosti/batareyki-mozhno-sdat-v-ks-i-bank.html\">Батарейки можно сдать в «КС» и банк</a> — -0.003216759741164521"
      ],
      "text/plain": [
       "<IPython.core.display.HTML object>"
      ]
     },
     "metadata": {},
     "output_type": "display_data"
    },
    {
     "name": "stdout",
     "output_type": "stream",
     "text": [
      "None\n"
     ]
    },
    {
     "data": {
      "text/html": [
       "<a href=\"https://ks-yanao.ru/novosti/desant-izuchivshiy-mesto-vzryva-v-seyakhe-nashyel-novuyu-voronku.html\">Десант, изучивший место взрыва в Сеяхе, нашёл новую воронку</a> — -0.0032266309994028355"
      ],
      "text/plain": [
       "<IPython.core.display.HTML object>"
      ]
     },
     "metadata": {},
     "output_type": "display_data"
    },
    {
     "name": "stdout",
     "output_type": "stream",
     "text": [
      "None\n"
     ]
    },
    {
     "data": {
      "text/html": [
       "<a href=\"https://ks-yanao.ru/novosti/v-salekharde-poyavitsya-eshche-odin-istochnik-energii.html\">В Салехарде появится еще один источник энергии</a> — -0.003228149926702558"
      ],
      "text/plain": [
       "<IPython.core.display.HTML object>"
      ]
     },
     "metadata": {},
     "output_type": "display_data"
    },
    {
     "name": "stdout",
     "output_type": "stream",
     "text": [
      "None\n"
     ]
    },
    {
     "data": {
      "text/html": [
       "<a href=\"https://ks-yanao.ru/novosti/estafetu-vmeste-protiv-vich-peredali-priuralyu.html\">Эстафету «Вместе против ВИЧ» передали Приуралью</a> — -0.0032409687415277445"
      ],
      "text/plain": [
       "<IPython.core.display.HTML object>"
      ]
     },
     "metadata": {},
     "output_type": "display_data"
    },
    {
     "name": "stdout",
     "output_type": "stream",
     "text": [
      "None\n"
     ]
    },
    {
     "data": {
      "text/html": [
       "<a href=\"https://ks-yanao.ru/novosti/eksperty-podtverdili-podzhog-vsekh-pyati-domov-v-gubkinskom.html\">Эксперты подтвердили поджог пяти домов в Губкинском</a> — -0.0032447916054079455"
      ],
      "text/plain": [
       "<IPython.core.display.HTML object>"
      ]
     },
     "metadata": {},
     "output_type": "display_data"
    },
    {
     "name": "stdout",
     "output_type": "stream",
     "text": [
      "None\n"
     ]
    },
    {
     "data": {
      "text/html": [
       "<a href=\"https://ks-yanao.ru/novosti/salekhardets-voshel-v-istoriyu-yunosheskogo-gandbola-strany.html\">Салехардец вошел в историю юношеского гандбола страны</a> — -0.0033281572971752367"
      ],
      "text/plain": [
       "<IPython.core.display.HTML object>"
      ]
     },
     "metadata": {},
     "output_type": "display_data"
    },
    {
     "name": "stdout",
     "output_type": "stream",
     "text": [
      "None\n"
     ]
    },
    {
     "data": {
      "text/html": [
       "<a href=\"https://ks-yanao.ru/novosti/pervaya-volna-v-salekhard-prishla-vovremya.html\">«Первая волна» в Салехард пришла вовремя (ВИДЕО)</a> — -0.003332523044567978"
      ],
      "text/plain": [
       "<IPython.core.display.HTML object>"
      ]
     },
     "metadata": {},
     "output_type": "display_data"
    },
    {
     "name": "stdout",
     "output_type": "stream",
     "text": [
      "None\n"
     ]
    },
    {
     "data": {
      "text/html": [
       "<a href=\"https://ks-yanao.ru/novosti/obskaya-yarmarka-v-muzhakh-nachalas-razmashisto.html\">Обская ярмарка в Мужах началась размашисто</a> — -0.0033353164292925365"
      ],
      "text/plain": [
       "<IPython.core.display.HTML object>"
      ]
     },
     "metadata": {},
     "output_type": "display_data"
    },
    {
     "name": "stdout",
     "output_type": "stream",
     "text": [
      "None\n"
     ]
    },
    {
     "data": {
      "text/html": [
       "<a href=\"https://ks-yanao.ru/novosti/pyatnadtsat-yamaltsev-zabrosyat-na-neobitaemyy-ostrov.html\">Пятнадцать ямальцев забросят на необитаемый остров</a> — -0.0033689044679425257"
      ],
      "text/plain": [
       "<IPython.core.display.HTML object>"
      ]
     },
     "metadata": {},
     "output_type": "display_data"
    },
    {
     "name": "stdout",
     "output_type": "stream",
     "text": [
      "None\n"
     ]
    },
    {
     "data": {
      "text/html": [
       "<a href=\"https://ks-yanao.ru/novosti/gerb-okruga-zhdal-vdokhnoveniya-poltora-goda.html\">Герб округа ждал вдохновения полтора года</a> — -0.0033811394607610496"
      ],
      "text/plain": [
       "<IPython.core.display.HTML object>"
      ]
     },
     "metadata": {},
     "output_type": "display_data"
    },
    {
     "name": "stdout",
     "output_type": "stream",
     "text": [
      "None\n"
     ]
    },
    {
     "data": {
      "text/html": [
       "<a href=\"https://ks-yanao.ru/novosti/gerefordy-pobaluyut-otbornoy-govyadinoy.html\">Герефорды побалуют отборной говядиной</a> — -0.00338961020254386"
      ],
      "text/plain": [
       "<IPython.core.display.HTML object>"
      ]
     },
     "metadata": {},
     "output_type": "display_data"
    },
    {
     "name": "stdout",
     "output_type": "stream",
     "text": [
      "None\n"
     ]
    },
    {
     "data": {
      "text/html": [
       "<a href=\"https://ks-yanao.ru/novosti/na-razboynitsu-v-begakh-politseyskikh-vyvela-ee-doch.html\">На разбойницу в бегах полицейских вывела ее дочь</a> — -0.0034030097199783046"
      ],
      "text/plain": [
       "<IPython.core.display.HTML object>"
      ]
     },
     "metadata": {},
     "output_type": "display_data"
    },
    {
     "name": "stdout",
     "output_type": "stream",
     "text": [
      "None\n"
     ]
    },
    {
     "data": {
      "text/html": [
       "<a href=\"https://ks-yanao.ru/novosti/lyubiteli-skorosti-soshlis-na-avtokrosse-v-nadyme.html\">Любители скорости сошлись на автокроссе в Надыме</a> — -0.003403473376967467"
      ],
      "text/plain": [
       "<IPython.core.display.HTML object>"
      ]
     },
     "metadata": {},
     "output_type": "display_data"
    },
    {
     "name": "stdout",
     "output_type": "stream",
     "text": [
      "None\n"
     ]
    },
    {
     "data": {
      "text/html": [
       "<a href=\"https://ks-yanao.ru/novosti/budut-li-sledit-za-oborotom-palyenki-v-otdalyennykh-rayonakh-yamala.html\">Будут ли следить за оборотом «палёнки» в отдалённых районах Ямала?</a> — -0.0034097891071542302"
      ],
      "text/plain": [
       "<IPython.core.display.HTML object>"
      ]
     },
     "metadata": {},
     "output_type": "display_data"
    },
    {
     "name": "stdout",
     "output_type": "stream",
     "text": [
      "None\n"
     ]
    },
    {
     "data": {
      "text/html": [
       "<a href=\"https://ks-yanao.ru/novosti/prodazha-biletov-po-rechnym-marshrutam-yamala-startovala.html\">Продажа билетов по речным маршрутам Ямала стартовала</a> — -0.003437878531812067"
      ],
      "text/plain": [
       "<IPython.core.display.HTML object>"
      ]
     },
     "metadata": {},
     "output_type": "display_data"
    },
    {
     "name": "stdout",
     "output_type": "stream",
     "text": [
      "None\n"
     ]
    },
    {
     "data": {
      "text/html": [
       "<a href=\"https://ks-yanao.ru/novosti/labytnangi-prirastaet-listvennitsami.html\">Лабытнанги прирастает лиственницами</a> — -0.003439775885904695"
      ],
      "text/plain": [
       "<IPython.core.display.HTML object>"
      ]
     },
     "metadata": {},
     "output_type": "display_data"
    },
    {
     "name": "stdout",
     "output_type": "stream",
     "text": [
      "None\n"
     ]
    },
    {
     "data": {
      "text/html": [
       "<a href=\"https://ks-yanao.ru/novosti/v-labytnangi-osuzhden-organizator-podpolnogo-igrovogo-kluba.html\">В Лабытнанги осужден организатор подпольного игрового клуба</a> — -0.0034485427412382077"
      ],
      "text/plain": [
       "<IPython.core.display.HTML object>"
      ]
     },
     "metadata": {},
     "output_type": "display_data"
    },
    {
     "name": "stdout",
     "output_type": "stream",
     "text": [
      "None\n"
     ]
    },
    {
     "data": {
      "text/html": [
       "<a href=\"https://ks-yanao.ru/novosti/glava-goroda-novyy-urengoy-otsenil-khod-stroitelstva-zhilykh-domov.html\">Какие новостройки будут сданы в ближайшее время в Новом Уренгое (адреса)</a> — -0.0034660096450820723"
      ],
      "text/plain": [
       "<IPython.core.display.HTML object>"
      ]
     },
     "metadata": {},
     "output_type": "display_data"
    },
    {
     "name": "stdout",
     "output_type": "stream",
     "text": [
      "None\n"
     ]
    },
    {
     "data": {
      "text/html": [
       "<a href=\"https://ks-yanao.ru/novosti/den-rossii-prochuvstvovali-s-detstva.html\">День России  прочувствовали с детства</a> — -0.0034679273374179104"
      ],
      "text/plain": [
       "<IPython.core.display.HTML object>"
      ]
     },
     "metadata": {},
     "output_type": "display_data"
    },
    {
     "name": "stdout",
     "output_type": "stream",
     "text": [
      "None\n"
     ]
    },
    {
     "data": {
      "text/html": [
       "<a href=\"https://ks-yanao.ru/novosti/kak-v-noyabrske-dvor-na-dvor-poshel.html\">Как в Ноябрске двор на двор пошел</a> — -0.0034683162789782432"
      ],
      "text/plain": [
       "<IPython.core.display.HTML object>"
      ]
     },
     "metadata": {},
     "output_type": "display_data"
    },
    {
     "name": "stdout",
     "output_type": "stream",
     "text": [
      "None\n"
     ]
    },
    {
     "data": {
      "text/html": [
       "<a href=\"https://ks-yanao.ru/novosti/krasavitsa-iz-tarko-sale-pokoryaet-mir-svoey-ulybkoy.html\">Красавица из Тарко-Сале покоряет мир своей улыбкой</a> — -0.0034863008318796"
      ],
      "text/plain": [
       "<IPython.core.display.HTML object>"
      ]
     },
     "metadata": {},
     "output_type": "display_data"
    },
    {
     "name": "stdout",
     "output_type": "stream",
     "text": [
      "None\n"
     ]
    },
    {
     "data": {
      "text/html": [
       "<a href=\"https://ks-yanao.ru/novosti/vrachi-yamala-zhdut-zapreta-organizatsiy-vich-dissidentov.html\">Врачи Ямала  ждут запрета организаций ВИЧ-диссидентов</a> — -0.0035135916095668704"
      ],
      "text/plain": [
       "<IPython.core.display.HTML object>"
      ]
     },
     "metadata": {},
     "output_type": "display_data"
    },
    {
     "name": "stdout",
     "output_type": "stream",
     "text": [
      "None\n"
     ]
    },
    {
     "data": {
      "text/html": [
       "<a href=\"https://ks-yanao.ru/novosti/salekhardskikh-styuardess-uchili-ne-grubit-passazhiram.html\">Салехардских стюардесс учили не грубить пассажирам</a> — -0.003526444447506115"
      ],
      "text/plain": [
       "<IPython.core.display.HTML object>"
      ]
     },
     "metadata": {},
     "output_type": "display_data"
    },
    {
     "name": "stdout",
     "output_type": "stream",
     "text": [
      "None\n"
     ]
    },
    {
     "data": {
      "text/html": [
       "<a href=\"https://ks-yanao.ru/novosti/na-yamale-prokhodit-edinyy-den-proekta-karskie-ekspeditsii.html\">На Ямале проходит Единый день проекта «Карские экспедиции»</a> — -0.0035411523332778668"
      ],
      "text/plain": [
       "<IPython.core.display.HTML object>"
      ]
     },
     "metadata": {},
     "output_type": "display_data"
    },
    {
     "name": "stdout",
     "output_type": "stream",
     "text": [
      "None\n"
     ]
    },
    {
     "data": {
      "text/html": [
       "<a href=\"https://ks-yanao.ru/novosti/v-salekharde-pishut-knigu-dobrykh-del.html\">В Салехарде пишут книгу добрых дел</a> — -0.00357070374828149"
      ],
      "text/plain": [
       "<IPython.core.display.HTML object>"
      ]
     },
     "metadata": {},
     "output_type": "display_data"
    },
    {
     "name": "stdout",
     "output_type": "stream",
     "text": [
      "None\n"
     ]
    },
    {
     "data": {
      "text/html": [
       "<a href=\"https://ks-yanao.ru/novosti/trudovye-otryady-glavy-novogo-urengoya-vchera-zakonchili-rabotu.html\">Трудовые отряды главы Нового Уренгоя вчера закончили работу</a> — -0.003570945085978385"
      ],
      "text/plain": [
       "<IPython.core.display.HTML object>"
      ]
     },
     "metadata": {},
     "output_type": "display_data"
    },
    {
     "name": "stdout",
     "output_type": "stream",
     "text": [
      "None\n"
     ]
    },
    {
     "data": {
      "text/html": [
       "<a href=\"https://ks-yanao.ru/novosti/yamal-spg-ishchet-dizaynerov.html\">«Ямал СПГ»  ищет дизайнеров</a> — -0.003589446005747138"
      ],
      "text/plain": [
       "<IPython.core.display.HTML object>"
      ]
     },
     "metadata": {},
     "output_type": "display_data"
    },
    {
     "name": "stdout",
     "output_type": "stream",
     "text": [
      "None\n"
     ]
    },
    {
     "data": {
      "text/html": [
       "<a href=\"https://ks-yanao.ru/novosti/skoro-vtoroy-bolshoy-etnograficheskiy-diktant-kakim-byl-sredniy-ball-u-yamaltsev.html\">Скоро второй «Большой этнографический диктант».  Каким был средний балл у ямальцев?</a> — -0.003613739550841423"
      ],
      "text/plain": [
       "<IPython.core.display.HTML object>"
      ]
     },
     "metadata": {},
     "output_type": "display_data"
    },
    {
     "name": "stdout",
     "output_type": "stream",
     "text": [
      "None\n"
     ]
    },
    {
     "data": {
      "text/html": [
       "<a href=\"https://ks-yanao.ru/novosti/na-ege-u-shkolnika-vypali-shpargalki.html\">На ЕГЭ у школьника выпали шпаргалки</a> — -0.0036236139205109035"
      ],
      "text/plain": [
       "<IPython.core.display.HTML object>"
      ]
     },
     "metadata": {},
     "output_type": "display_data"
    },
    {
     "name": "stdout",
     "output_type": "stream",
     "text": [
      "None\n"
     ]
    },
    {
     "data": {
      "text/html": [
       "<a href=\"https://ks-yanao.ru/novosti/v-tyumeni-vspyshka-seroznogo-meningita.html\">В Тюмени вспышка серозного менингита</a> — -0.003632209195306912"
      ],
      "text/plain": [
       "<IPython.core.display.HTML object>"
      ]
     },
     "metadata": {},
     "output_type": "display_data"
    },
    {
     "name": "stdout",
     "output_type": "stream",
     "text": [
      "None\n"
     ]
    },
    {
     "data": {
      "text/html": [
       "<a href=\"https://ks-yanao.ru/novosti/dve-kompanii-pretenduyut-na-modernizatsiyu-aeroporta-v-novom-urengoe.html\">Две компании претендуют на модернизацию аэропорта в Новом Уренгое</a> — -0.0036359957515693974"
      ],
      "text/plain": [
       "<IPython.core.display.HTML object>"
      ]
     },
     "metadata": {},
     "output_type": "display_data"
    },
    {
     "name": "stdout",
     "output_type": "stream",
     "text": [
      "None\n"
     ]
    },
    {
     "data": {
      "text/html": [
       "<a href=\"https://ks-yanao.ru/novosti/klyuchi-pod-kovrikami-ne-pryachut-no-druzhat.html\">Ключи под ковриками не прячут, но дружат</a> — -0.00365786249526708"
      ],
      "text/plain": [
       "<IPython.core.display.HTML object>"
      ]
     },
     "metadata": {},
     "output_type": "display_data"
    },
    {
     "name": "stdout",
     "output_type": "stream",
     "text": [
      "None\n"
     ]
    },
    {
     "data": {
      "text/html": [
       "<a href=\"https://ks-yanao.ru/novosti/obshchestvenniki-progulyalis-po-pandusam.html\">﻿Общественники прогулялись по пандусам</a> — -0.0036602068716109254"
      ],
      "text/plain": [
       "<IPython.core.display.HTML object>"
      ]
     },
     "metadata": {},
     "output_type": "display_data"
    },
    {
     "name": "stdout",
     "output_type": "stream",
     "text": [
      "None\n"
     ]
    },
    {
     "data": {
      "text/html": [
       "<a href=\"https://ks-yanao.ru/novosti/dlya-vystavki-gotovyat-oleninu-khalyal.html\">Для выставки готовят оленину халяль</a> — -0.0036744490328676368"
      ],
      "text/plain": [
       "<IPython.core.display.HTML object>"
      ]
     },
     "metadata": {},
     "output_type": "display_data"
    },
    {
     "name": "stdout",
     "output_type": "stream",
     "text": [
      "None\n"
     ]
    },
    {
     "data": {
      "text/html": [
       "<a href=\"https://ks-yanao.ru/novosti/okhota-na-okhotu.html\">Охота на охоту</a> — -0.003722272394236338"
      ],
      "text/plain": [
       "<IPython.core.display.HTML object>"
      ]
     },
     "metadata": {},
     "output_type": "display_data"
    },
    {
     "name": "stdout",
     "output_type": "stream",
     "text": [
      "None\n"
     ]
    },
    {
     "data": {
      "text/html": [
       "<a href=\"https://ks-yanao.ru/novosti/pevtsu-yamala-ustanovili-pamyatnuyu-dosku-v-salekharde.html\">Певцу Ямала установили памятную доску в Салехарде</a> — -0.003748990221881738"
      ],
      "text/plain": [
       "<IPython.core.display.HTML object>"
      ]
     },
     "metadata": {},
     "output_type": "display_data"
    },
    {
     "name": "stdout",
     "output_type": "stream",
     "text": [
      "None\n"
     ]
    },
    {
     "data": {
      "text/html": [
       "<a href=\"https://ks-yanao.ru/novosti/il-76-dostavil-v-salekhard-iz-petrozavodska-rezerv-avialesookhrany-91-desantnika-pozharnogo.html\">ИЛ-76 доставил в Салехард из Петрозаводска резерв Авиалесоохраны – 91 десантника-пожарного</a> — -0.003754785756140102"
      ],
      "text/plain": [
       "<IPython.core.display.HTML object>"
      ]
     },
     "metadata": {},
     "output_type": "display_data"
    },
    {
     "name": "stdout",
     "output_type": "stream",
     "text": [
      "None\n"
     ]
    },
    {
     "data": {
      "text/html": [
       "<a href=\"https://ks-yanao.ru/novosti/desantniki-khotyat-chashche-govorit-s-molodezhyu-.html\">Десантники хотят чаще говорить с молодежью</a> — -0.0037692330213994407"
      ],
      "text/plain": [
       "<IPython.core.display.HTML object>"
      ]
     },
     "metadata": {},
     "output_type": "display_data"
    },
    {
     "name": "stdout",
     "output_type": "stream",
     "text": [
      "None\n"
     ]
    },
    {
     "data": {
      "text/html": [
       "<a href=\"https://ks-yanao.ru/novosti/v-novom-urengoe-dvukh-vakhtovikov-s-altaya-budut-sudit-za-razboy-i-ubiystvo.html\">В Новом Уренгое двух вахтовиков с Алтая будут судить за разбой и убийство</a> — -0.003775992282676448"
      ],
      "text/plain": [
       "<IPython.core.display.HTML object>"
      ]
     },
     "metadata": {},
     "output_type": "display_data"
    },
    {
     "name": "stdout",
     "output_type": "stream",
     "text": [
      "None\n"
     ]
    },
    {
     "data": {
      "text/html": [
       "<a href=\"https://ks-yanao.ru/novosti/vo-frantsuzskom-litsee-na-peremenu-pozvali-pesney-na-kholodnom-yamale-.html\">Во французском лицее на перемену позвали песней «На холодном Ямале»!</a> — -0.003781319262436751"
      ],
      "text/plain": [
       "<IPython.core.display.HTML object>"
      ]
     },
     "metadata": {},
     "output_type": "display_data"
    },
    {
     "name": "stdout",
     "output_type": "stream",
     "text": [
      "None\n"
     ]
    },
    {
     "data": {
      "text/html": [
       "<a href=\"https://ks-yanao.ru/novosti/neftegaz-kachaet-gigabaytami.html\">Нефтегаз качает гигабайтами</a> — -0.0037824884395405048"
      ],
      "text/plain": [
       "<IPython.core.display.HTML object>"
      ]
     },
     "metadata": {},
     "output_type": "display_data"
    },
    {
     "name": "stdout",
     "output_type": "stream",
     "text": [
      "None\n"
     ]
    },
    {
     "data": {
      "text/html": [
       "<a href=\"https://ks-yanao.ru/novosti/salekhardtsy-na-vkus-predpochitayut-galu.html\">Салехардцы на вкус предпочитают Галу</a> — -0.0037893284453388533"
      ],
      "text/plain": [
       "<IPython.core.display.HTML object>"
      ]
     },
     "metadata": {},
     "output_type": "display_data"
    },
    {
     "name": "stdout",
     "output_type": "stream",
     "text": [
      "None\n"
     ]
    },
    {
     "data": {
      "text/html": [
       "<a href=\"https://ks-yanao.ru/novosti/moskvu-dostroyat-chumami-s-yamala.html\">Москву «достроят» чумами с Ямала</a> — -0.003793386768901199"
      ],
      "text/plain": [
       "<IPython.core.display.HTML object>"
      ]
     },
     "metadata": {},
     "output_type": "display_data"
    },
    {
     "name": "stdout",
     "output_type": "stream",
     "text": [
      "None\n"
     ]
    },
    {
     "data": {
      "text/html": [
       "<a href=\"https://ks-yanao.ru/novosti/novye-paziki-budut-vozit-noyabryan.html\">Новые «ПАЗики» будут возить ноябрян</a> — -0.0037934707058968585"
      ],
      "text/plain": [
       "<IPython.core.display.HTML object>"
      ]
     },
     "metadata": {},
     "output_type": "display_data"
    },
    {
     "name": "stdout",
     "output_type": "stream",
     "text": [
      "None\n"
     ]
    },
    {
     "data": {
      "text/html": [
       "<a href=\"https://ks-yanao.ru/novosti/tekhniku-ruchnoy-raboty-razobrali-po-domashnim-fotoarkhivam.html\">Технику ручной работы надымчане разобрали по домашним фотоархивам</a> — -0.0038002422413976"
      ],
      "text/plain": [
       "<IPython.core.display.HTML object>"
      ]
     },
     "metadata": {},
     "output_type": "display_data"
    },
    {
     "name": "stdout",
     "output_type": "stream",
     "text": [
      "None\n"
     ]
    },
    {
     "data": {
      "text/html": [
       "<a href=\"https://ks-yanao.ru/novosti/zhurnalistov-otmetili-za-materialy-v-zashchitu-ponaekhavshikh.html\">Журналистов отметили за материалы в защиту понаехавших</a> — -0.003828870913700315"
      ],
      "text/plain": [
       "<IPython.core.display.HTML object>"
      ]
     },
     "metadata": {},
     "output_type": "display_data"
    },
    {
     "name": "stdout",
     "output_type": "stream",
     "text": [
      "None\n"
     ]
    },
    {
     "data": {
      "text/html": [
       "<a href=\"https://ks-yanao.ru/novosti/ledovaya-pereprava-cherez-ob-rabotaet-poslednie-dni.html\">Ледовая переправа через Обь работает последние дни</a> — -0.0038426265668166032"
      ],
      "text/plain": [
       "<IPython.core.display.HTML object>"
      ]
     },
     "metadata": {},
     "output_type": "display_data"
    },
    {
     "name": "stdout",
     "output_type": "stream",
     "text": [
      "None\n"
     ]
    },
    {
     "data": {
      "text/html": [
       "<a href=\"https://ks-yanao.ru/novosti/proshchalnyy-vals-vypusknikov-zastavil-plakat-.html\">Прощальный вальс выпускников заставил плакать</a> — -0.003857750129183248"
      ],
      "text/plain": [
       "<IPython.core.display.HTML object>"
      ]
     },
     "metadata": {},
     "output_type": "display_data"
    },
    {
     "name": "stdout",
     "output_type": "stream",
     "text": [
      "None\n"
     ]
    },
    {
     "data": {
      "text/html": [
       "<a href=\"https://ks-yanao.ru/novosti/pozharnyy-v-tazovskom-slepil-avtomobil.html\">Пожарный в Тазовском слепил… автомобиль</a> — -0.0038919852885945004"
      ],
      "text/plain": [
       "<IPython.core.display.HTML object>"
      ]
     },
     "metadata": {},
     "output_type": "display_data"
    },
    {
     "name": "stdout",
     "output_type": "stream",
     "text": [
      "None\n"
     ]
    },
    {
     "data": {
      "text/html": [
       "<a href=\"https://ks-yanao.ru/novosti/konkurs-ne-dlya-nervnykh-startoval-na-yamale.html\">Конкурс не для нервных стартовал на Ямале</a> — -0.00396369942005021"
      ],
      "text/plain": [
       "<IPython.core.display.HTML object>"
      ]
     },
     "metadata": {},
     "output_type": "display_data"
    },
    {
     "name": "stdout",
     "output_type": "stream",
     "text": [
      "None\n"
     ]
    },
    {
     "data": {
      "text/html": [
       "<a href=\"https://ks-yanao.ru/novosti/labytnangtsa-obvinyayut-v-ubiystve-i-krazhe-veshchey-zhertvy.html\">Лабытнангца обвиняют в убийстве и краже вещей жертвы</a> — -0.003963770988014746"
      ],
      "text/plain": [
       "<IPython.core.display.HTML object>"
      ]
     },
     "metadata": {},
     "output_type": "display_data"
    },
    {
     "name": "stdout",
     "output_type": "stream",
     "text": [
      "None\n"
     ]
    },
    {
     "data": {
      "text/html": [
       "<a href=\"https://ks-yanao.ru/novosti/rybe-v-obskoy-gube-skoree-vsego-ne-khvatilo-kisloroda.html\">Рыбе в Обской губе, скорее всего, не хватило кислорода</a> — -0.003982850106752705"
      ],
      "text/plain": [
       "<IPython.core.display.HTML object>"
      ]
     },
     "metadata": {},
     "output_type": "display_data"
    },
    {
     "name": "stdout",
     "output_type": "stream",
     "text": [
      "None\n"
     ]
    },
    {
     "data": {
      "text/html": [
       "<a href=\"https://ks-yanao.ru/novosti/osenyu-v-kutopyugane-otkroetsya-khram.html\">Осенью в Кутопьюгане откроется храм</a> — -0.0040055018373156125"
      ],
      "text/plain": [
       "<IPython.core.display.HTML object>"
      ]
     },
     "metadata": {},
     "output_type": "display_data"
    },
    {
     "name": "stdout",
     "output_type": "stream",
     "text": [
      "None\n"
     ]
    },
    {
     "data": {
      "text/html": [
       "<a href=\"https://ks-yanao.ru/novosti/noyabrsk-otmetil-den-rozhdeniya.html\">Ноябрьск отметил день рождения</a> — -0.004023155198350068"
      ],
      "text/plain": [
       "<IPython.core.display.HTML object>"
      ]
     },
     "metadata": {},
     "output_type": "display_data"
    },
    {
     "name": "stdout",
     "output_type": "stream",
     "text": [
      "None\n"
     ]
    },
    {
     "data": {
      "text/html": [
       "<a href=\"https://ks-yanao.ru/novosti/v-salekharde-k-pamyatniku-znamenitogo-geologa-vozlozhili-tsvety.html\">В Салехарде к памятнику знаменитого геолога возложили цветы</a> — -0.004045932936424253"
      ],
      "text/plain": [
       "<IPython.core.display.HTML object>"
      ]
     },
     "metadata": {},
     "output_type": "display_data"
    },
    {
     "name": "stdout",
     "output_type": "stream",
     "text": [
      "None\n"
     ]
    },
    {
     "data": {
      "text/html": [
       "<a href=\"https://ks-yanao.ru/novosti/eshche-odnogo-uchashchegosya-iz-gydy-otpravili-za-reshetku.html\">Еще одного учащегося из Гыды отправили за решетку</a> — -0.004049175840257256"
      ],
      "text/plain": [
       "<IPython.core.display.HTML object>"
      ]
     },
     "metadata": {},
     "output_type": "display_data"
    },
    {
     "name": "stdout",
     "output_type": "stream",
     "text": [
      "None\n"
     ]
    },
    {
     "data": {
      "text/html": [
       "<a href=\"https://ks-yanao.ru/novosti/novyy-urengoy-s-potepleniem-poshyel-atakovat-musor.html\">Новый Уренгой с потеплением пошёл атаковать мусор</a> — -0.004058442381478919"
      ],
      "text/plain": [
       "<IPython.core.display.HTML object>"
      ]
     },
     "metadata": {},
     "output_type": "display_data"
    },
    {
     "name": "stdout",
     "output_type": "stream",
     "text": [
      "None\n"
     ]
    },
    {
     "data": {
      "text/html": [
       "<a href=\"https://ks-yanao.ru/novosti/u-nadymchanki-izyali-konfety-s-narkoticheskoy-nachinkoy.html\">У надымчанки изъяли «конфеты» с наркотической начинкой</a> — -0.004071961097456088"
      ],
      "text/plain": [
       "<IPython.core.display.HTML object>"
      ]
     },
     "metadata": {},
     "output_type": "display_data"
    },
    {
     "name": "stdout",
     "output_type": "stream",
     "text": [
      "None\n"
     ]
    },
    {
     "data": {
      "text/html": [
       "<a href=\"https://ks-yanao.ru/novosti/na-yamale-nachinaetsya-predvybornaya-agitatsiya.html\">На Ямале начинается предвыборная агитация</a> — -0.00410137810950335"
      ],
      "text/plain": [
       "<IPython.core.display.HTML object>"
      ]
     },
     "metadata": {},
     "output_type": "display_data"
    },
    {
     "name": "stdout",
     "output_type": "stream",
     "text": [
      "None\n"
     ]
    },
    {
     "data": {
      "text/html": [
       "<a href=\"https://ks-yanao.ru/novosti/na-yamale-podschitali-sredniy-razmer-vzyatki.html\">На Ямале подсчитали средний размер взятки</a> — -0.00410566480440576"
      ],
      "text/plain": [
       "<IPython.core.display.HTML object>"
      ]
     },
     "metadata": {},
     "output_type": "display_data"
    },
    {
     "name": "stdout",
     "output_type": "stream",
     "text": [
      "None\n"
     ]
    },
    {
     "data": {
      "text/html": [
       "<a href=\"https://ks-yanao.ru/novosti/s-utra-na-pereprave-salekhard-labytnangi-kursiruyut-dva-paroma.html\">С утра на переправе Салехард – Лабытнанги курсируют два парома</a> — -0.00411462458671908"
      ],
      "text/plain": [
       "<IPython.core.display.HTML object>"
      ]
     },
     "metadata": {},
     "output_type": "display_data"
    },
    {
     "name": "stdout",
     "output_type": "stream",
     "text": [
      "None\n"
     ]
    },
    {
     "data": {
      "text/html": [
       "<a href=\"https://ks-yanao.ru/novosti/aleksandra-goryachkina-namerena-vyigrat-shakhmatnuyu-olimpiadu.html\">Александра Горячкина намерена выиграть шахматную олимпиаду</a> — -0.0041385883466010034"
      ],
      "text/plain": [
       "<IPython.core.display.HTML object>"
      ]
     },
     "metadata": {},
     "output_type": "display_data"
    },
    {
     "name": "stdout",
     "output_type": "stream",
     "text": [
      "None\n"
     ]
    },
    {
     "data": {
      "text/html": [
       "<a href=\"https://ks-yanao.ru/novosti/prosvetilis-sami-i-prosvetili-ostalnykh-.html\">Просветились сами и просветили остальных</a> — -0.004179445646215772"
      ],
      "text/plain": [
       "<IPython.core.display.HTML object>"
      ]
     },
     "metadata": {},
     "output_type": "display_data"
    },
    {
     "name": "stdout",
     "output_type": "stream",
     "text": [
      "None\n"
     ]
    },
    {
     "data": {
      "text/html": [
       "<a href=\"https://ks-yanao.ru/novosti/cherez-ob-puskayut-tolko-na-podushke.html\">Через Обь пускают только на «подушке»</a> — -0.004185768817681591"
      ],
      "text/plain": [
       "<IPython.core.display.HTML object>"
      ]
     },
     "metadata": {},
     "output_type": "display_data"
    },
    {
     "name": "stdout",
     "output_type": "stream",
     "text": [
      "None\n"
     ]
    },
    {
     "data": {
      "text/html": [
       "<a href=\"https://ks-yanao.ru/novosti/pestsy-plodyatsya-na-mestorozhdenii.html\">Песцы плодятся на месторождении</a> — -0.00420924536458065"
      ],
      "text/plain": [
       "<IPython.core.display.HTML object>"
      ]
     },
     "metadata": {},
     "output_type": "display_data"
    },
    {
     "name": "stdout",
     "output_type": "stream",
     "text": [
      "None\n"
     ]
    },
    {
     "data": {
      "text/html": [
       "<a href=\"https://ks-yanao.ru/novosti/v-labytnangi-dostraivayut-skazochnuyu-snezhinku.html\">В Лабытнанги достраивают сказочную «Снежинку»</a> — -0.004278957764082192"
      ],
      "text/plain": [
       "<IPython.core.display.HTML object>"
      ]
     },
     "metadata": {},
     "output_type": "display_data"
    },
    {
     "name": "stdout",
     "output_type": "stream",
     "text": [
      "None\n"
     ]
    },
    {
     "data": {
      "text/html": [
       "<a href=\"https://ks-yanao.ru/novosti/kakie-naruchniki-vsye-eto-polnyy-bred.html\">«Какие наручники? Всё это полный бред»</a> — -0.004288044725804042"
      ],
      "text/plain": [
       "<IPython.core.display.HTML object>"
      ]
     },
     "metadata": {},
     "output_type": "display_data"
    },
    {
     "name": "stdout",
     "output_type": "stream",
     "text": [
      "None\n"
     ]
    },
    {
     "data": {
      "text/html": [
       "<a href=\"https://ks-yanao.ru/novosti/v-novom-urengoe-malenkie-tantsory-vyvodili-pa-radi-pobedy.html\">В Новом Уренгое маленькие танцоры выводили па ради победы</a> — -0.004288519679542241"
      ],
      "text/plain": [
       "<IPython.core.display.HTML object>"
      ]
     },
     "metadata": {},
     "output_type": "display_data"
    },
    {
     "name": "stdout",
     "output_type": "stream",
     "text": [
      "None\n"
     ]
    },
    {
     "data": {
      "text/html": [
       "<a href=\"https://ks-yanao.ru/novosti/novourengoytsy-sdali-starye-mobilniki.html\">Новоуренгойцы сдали старые мобильники</a> — -0.004315594045868327"
      ],
      "text/plain": [
       "<IPython.core.display.HTML object>"
      ]
     },
     "metadata": {},
     "output_type": "display_data"
    },
    {
     "name": "stdout",
     "output_type": "stream",
     "text": [
      "None\n"
     ]
    },
    {
     "data": {
      "text/html": [
       "<a href=\"https://ks-yanao.ru/novosti/starye-remontiruyut-novye-oboruduyut.html\">Старые – ремонтируют, новые – оборудуют</a> — -0.004320701780638403"
      ],
      "text/plain": [
       "<IPython.core.display.HTML object>"
      ]
     },
     "metadata": {},
     "output_type": "display_data"
    },
    {
     "name": "stdout",
     "output_type": "stream",
     "text": [
      "None\n"
     ]
    },
    {
     "data": {
      "text/html": [
       "<a href=\"https://ks-yanao.ru/novosti/posle-zharkogo-sezona-yamalskiy-pozharnyy-edet-na-konkurs-profmasterstva.html\">После жаркого сезона ямальский пожарный едет на конкурс профмастерства</a> — -0.004334007155628941"
      ],
      "text/plain": [
       "<IPython.core.display.HTML object>"
      ]
     },
     "metadata": {},
     "output_type": "display_data"
    },
    {
     "name": "stdout",
     "output_type": "stream",
     "text": [
      "None\n"
     ]
    },
    {
     "data": {
      "text/html": [
       "<a href=\"https://ks-yanao.ru/novosti/v-salekharde-retsidivista-osudili-za-pyat-ugonov-.html\">В Салехарде рецидивиста осудили за пять угонов</a> — -0.004388714220027939"
      ],
      "text/plain": [
       "<IPython.core.display.HTML object>"
      ]
     },
     "metadata": {},
     "output_type": "display_data"
    },
    {
     "name": "stdout",
     "output_type": "stream",
     "text": [
      "None\n"
     ]
    },
    {
     "data": {
      "text/html": [
       "<a href=\"https://ks-yanao.ru/novosti/vladimir-pushkaryev-pobyval-v-novom-urengoe.html\">Владимир Пушкарёв побывал в Новом Уренгое</a> — -0.00438918707168458"
      ],
      "text/plain": [
       "<IPython.core.display.HTML object>"
      ]
     },
     "metadata": {},
     "output_type": "display_data"
    },
    {
     "name": "stdout",
     "output_type": "stream",
     "text": [
      "None\n"
     ]
    },
    {
     "data": {
      "text/html": [
       "<a href=\"https://ks-yanao.ru/novosti/fotofakt-mafiya-prosnulas.html\">Фотофакт: мафия проснулась!</a> — -0.004400615545535381"
      ],
      "text/plain": [
       "<IPython.core.display.HTML object>"
      ]
     },
     "metadata": {},
     "output_type": "display_data"
    },
    {
     "name": "stdout",
     "output_type": "stream",
     "text": [
      "None\n"
     ]
    },
    {
     "data": {
      "text/html": [
       "<a href=\"https://ks-yanao.ru/novosti/v-purovskom-rayone-podrostka-nasmert-pridavilo-kvadrotsiklom.html\">В Пуровском районе подростка насмерть придавило квадроциклом</a> — -0.0044051341693877415"
      ],
      "text/plain": [
       "<IPython.core.display.HTML object>"
      ]
     },
     "metadata": {},
     "output_type": "display_data"
    },
    {
     "name": "stdout",
     "output_type": "stream",
     "text": [
      "None\n"
     ]
    },
    {
     "data": {
      "text/html": [
       "<a href=\"https://ks-yanao.ru/novosti/v-noyabrske-osudili-makhinatorshu-pokhitivshuyu-pochti-49-millionov.html\">В Ноябрьске осудили махинаторшу, похитившую почти 49 миллионов</a> — -0.004422015942645234"
      ],
      "text/plain": [
       "<IPython.core.display.HTML object>"
      ]
     },
     "metadata": {},
     "output_type": "display_data"
    },
    {
     "name": "stdout",
     "output_type": "stream",
     "text": [
      "None\n"
     ]
    },
    {
     "data": {
      "text/html": [
       "<a href=\"https://ks-yanao.ru/novosti/salekhardets-obvaril-sozhitelnitsu-kipyatkom.html\">Салехардец обварил сожительницу кипятком</a> — -0.004441746996229411"
      ],
      "text/plain": [
       "<IPython.core.display.HTML object>"
      ]
     },
     "metadata": {},
     "output_type": "display_data"
    },
    {
     "name": "stdout",
     "output_type": "stream",
     "text": [
      "None\n"
     ]
    },
    {
     "data": {
      "text/html": [
       "<a href=\"https://ks-yanao.ru/novosti/uchenye-vyyasnili-otchego-pogibla-yamalskaya-ryba.html\">Ученые выяснили, отчего погибла ямальская рыба</a> — -0.00446545234558716"
      ],
      "text/plain": [
       "<IPython.core.display.HTML object>"
      ]
     },
     "metadata": {},
     "output_type": "display_data"
    },
    {
     "name": "stdout",
     "output_type": "stream",
     "text": [
      "None\n"
     ]
    },
    {
     "data": {
      "text/html": [
       "<a href=\"https://ks-yanao.ru/novosti/torgovyy-tsentr-v-salekharde-vtisnut-mezhdu-starym-kaprizom-i-novym-virazhom.html\">Торговый центр в Салехарде втиснут между старым «Капризом» и новым «Виражом»</a> — -0.004493371959305753"
      ],
      "text/plain": [
       "<IPython.core.display.HTML object>"
      ]
     },
     "metadata": {},
     "output_type": "display_data"
    },
    {
     "name": "stdout",
     "output_type": "stream",
     "text": [
      "None\n"
     ]
    },
    {
     "data": {
      "text/html": [
       "<a href=\"https://ks-yanao.ru/novosti/tsentr-salekharda-rastsvyel-na-sabantuy.html\">Центр Салехарда расцвёл на Сабантуй</a> — -0.004509917403847073"
      ],
      "text/plain": [
       "<IPython.core.display.HTML object>"
      ]
     },
     "metadata": {},
     "output_type": "display_data"
    },
    {
     "name": "stdout",
     "output_type": "stream",
     "text": [
      "None\n"
     ]
    },
    {
     "data": {
      "text/html": [
       "<a href=\"https://ks-yanao.ru/novosti/sootechestvennitsa-iz-norvegii-zapuskaet-aktsiyu-ko-dnyu-mira.html\">Соотечественница из Норвегии запускает акцию ко Дню мира</a> — -0.004521758731251997"
      ],
      "text/plain": [
       "<IPython.core.display.HTML object>"
      ]
     },
     "metadata": {},
     "output_type": "display_data"
    },
    {
     "name": "stdout",
     "output_type": "stream",
     "text": [
      "None\n"
     ]
    },
    {
     "data": {
      "text/html": [
       "<a href=\"https://ks-yanao.ru/novosti/salekhard-proshchaetsya-s-legendoy-.html\">Салехард прощается с  «Легендой»…</a> — -0.004595753828816641"
      ],
      "text/plain": [
       "<IPython.core.display.HTML object>"
      ]
     },
     "metadata": {},
     "output_type": "display_data"
    },
    {
     "name": "stdout",
     "output_type": "stream",
     "text": [
      "None\n"
     ]
    },
    {
     "data": {
      "text/html": [
       "<a href=\"https://ks-yanao.ru/novosti/volontyery-na-ostrove-vilkitskogo-nashli-poslanie-ot-brakonerov.html\">Волонтёры на острове Вилькицкого нашли послание от браконьеров</a> — -0.004614553970154275"
      ],
      "text/plain": [
       "<IPython.core.display.HTML object>"
      ]
     },
     "metadata": {},
     "output_type": "display_data"
    },
    {
     "name": "stdout",
     "output_type": "stream",
     "text": [
      "None\n"
     ]
    },
    {
     "data": {
      "text/html": [
       "<a href=\"https://ks-yanao.ru/novosti/v-labytnangi-gotovyatsya-k-zavozu-chistoy-pitevoy-vody.html\">В Лабытнанги готовятся к завозу чистой питьевой воды</a> — -0.004632020767983315"
      ],
      "text/plain": [
       "<IPython.core.display.HTML object>"
      ]
     },
     "metadata": {},
     "output_type": "display_data"
    },
    {
     "name": "stdout",
     "output_type": "stream",
     "text": [
      "None\n"
     ]
    },
    {
     "data": {
      "text/html": [
       "<a href=\"https://ks-yanao.ru/novosti/nord-rasstavil-vsye-po-polochkam.html\">«Норд» расставил всё по полочкам</a> — -0.0046503697355940055"
      ],
      "text/plain": [
       "<IPython.core.display.HTML object>"
      ]
     },
     "metadata": {},
     "output_type": "display_data"
    },
    {
     "name": "stdout",
     "output_type": "stream",
     "text": [
      "None\n"
     ]
    },
    {
     "data": {
      "text/html": [
       "<a href=\"https://ks-yanao.ru/novosti/na-meste-likvidirovannoy-vspyshki-sibirki-sdelayut-zakhoronenie.html\">На месте ликвидированной вспышки «сибирки» сделают захоронение</a> — -0.004670869607821172"
      ],
      "text/plain": [
       "<IPython.core.display.HTML object>"
      ]
     },
     "metadata": {},
     "output_type": "display_data"
    },
    {
     "name": "stdout",
     "output_type": "stream",
     "text": [
      "None\n"
     ]
    },
    {
     "data": {
      "text/html": [
       "<a href=\"https://ks-yanao.ru/novosti/na-novoportovskom-mestorozhdenii-opredelili-luchshikh-v-professii.html\">На Новопортовском месторождении определили лучших в профессии</a> — -0.004671118074408804"
      ],
      "text/plain": [
       "<IPython.core.display.HTML object>"
      ]
     },
     "metadata": {},
     "output_type": "display_data"
    },
    {
     "name": "stdout",
     "output_type": "stream",
     "text": [
      "None\n"
     ]
    },
    {
     "data": {
      "text/html": [
       "<a href=\"https://ks-yanao.ru/novosti/v-noyabrske-rok-ispolniteli-podarili-poklonnikam-dvukhchasovoy-kontsert.html\">﻿В Ноябрьске рок-исполнители подарили поклонникам двухчасовой концерт</a> — -0.004680208160702521"
      ],
      "text/plain": [
       "<IPython.core.display.HTML object>"
      ]
     },
     "metadata": {},
     "output_type": "display_data"
    },
    {
     "name": "stdout",
     "output_type": "stream",
     "text": [
      "None\n"
     ]
    },
    {
     "data": {
      "text/html": [
       "<a href=\"https://ks-yanao.ru/novosti/v-pionery-prinimayut-s-razresheniya-roditeley.html\">В пионеры принимают с разрешения родителей</a> — -0.0046969545916844884"
      ],
      "text/plain": [
       "<IPython.core.display.HTML object>"
      ]
     },
     "metadata": {},
     "output_type": "display_data"
    },
    {
     "name": "stdout",
     "output_type": "stream",
     "text": [
      "None\n"
     ]
    },
    {
     "data": {
      "text/html": [
       "<a href=\"https://ks-yanao.ru/novosti/tyumenskie-vrachi-obeshchayut-vylechit-neftyu-70-zabolevaniy.html\">Тюменские врачи обещают вылечить нефтью 70 заболеваний</a> — -0.004707544714504423"
      ],
      "text/plain": [
       "<IPython.core.display.HTML object>"
      ]
     },
     "metadata": {},
     "output_type": "display_data"
    },
    {
     "name": "stdout",
     "output_type": "stream",
     "text": [
      "None\n"
     ]
    },
    {
     "data": {
      "text/html": [
       "<a href=\"https://ks-yanao.ru/novosti/optovolokno-na-yamale-prolozhat-v-17-poseleniyakh-gde-zhdat-novykh-liniy-.html\">Оптоволокно на Ямале проложат в 17 поселениях.﻿ ﻿Где ждать новых линий?</a> — -0.0047531708453000645"
      ],
      "text/plain": [
       "<IPython.core.display.HTML object>"
      ]
     },
     "metadata": {},
     "output_type": "display_data"
    },
    {
     "name": "stdout",
     "output_type": "stream",
     "text": [
      "None\n"
     ]
    },
    {
     "data": {
      "text/html": [
       "<a href=\"https://ks-yanao.ru/novosti/territoriya-vypuska-2017-davay-do-svidaniya.html\">«Территория выпуска-2017»: давай, до свидания…</a> — -0.004799604388176153"
      ],
      "text/plain": [
       "<IPython.core.display.HTML object>"
      ]
     },
     "metadata": {},
     "output_type": "display_data"
    },
    {
     "name": "stdout",
     "output_type": "stream",
     "text": [
      "None\n"
     ]
    },
    {
     "data": {
      "text/html": [
       "<a href=\"https://ks-yanao.ru/novosti/plyazh-prinyat-gotov-a-voda-net.html\">Пляж принять готов, а вода нет</a> — -0.004843326335508465"
      ],
      "text/plain": [
       "<IPython.core.display.HTML object>"
      ]
     },
     "metadata": {},
     "output_type": "display_data"
    },
    {
     "name": "stdout",
     "output_type": "stream",
     "text": [
      "None\n"
     ]
    },
    {
     "data": {
      "text/html": [
       "<a href=\"https://ks-yanao.ru/novosti/salekhardtsy-nachali-pervyy-subbotniy-den-iyunya-s-zaryadki-i-probezhki.html\">Салехардцы начали первый субботний день июня с зарядки и пробежки</a> — -0.004914640753518102"
      ],
      "text/plain": [
       "<IPython.core.display.HTML object>"
      ]
     },
     "metadata": {},
     "output_type": "display_data"
    },
    {
     "name": "stdout",
     "output_type": "stream",
     "text": [
      "None\n"
     ]
    },
    {
     "data": {
      "text/html": [
       "<a href=\"https://ks-yanao.ru/novosti/nerpy-potyanulis-k-vorotam-arktiki.html\">Нерпы потянулись к «Воротам Арктики»</a> — -0.004928875516879345"
      ],
      "text/plain": [
       "<IPython.core.display.HTML object>"
      ]
     },
     "metadata": {},
     "output_type": "display_data"
    },
    {
     "name": "stdout",
     "output_type": "stream",
     "text": [
      "None\n"
     ]
    },
    {
     "data": {
      "text/html": [
       "<a href=\"https://ks-yanao.ru/novosti/v-tsentre-salekharda-poyavitsya-severnoe-lego.html\">В центре Салехарда появится северное «Лего»</a> — -0.004949937670489043"
      ],
      "text/plain": [
       "<IPython.core.display.HTML object>"
      ]
     },
     "metadata": {},
     "output_type": "display_data"
    },
    {
     "name": "stdout",
     "output_type": "stream",
     "text": [
      "None\n"
     ]
    },
    {
     "data": {
      "text/html": [
       "<a href=\"https://ks-yanao.ru/novosti/trudovye-profsoyuzy-povedut-za-soboy.html\">Трудовые профсоюзы поведут за собой</a> — -0.004964763976673291"
      ],
      "text/plain": [
       "<IPython.core.display.HTML object>"
      ]
     },
     "metadata": {},
     "output_type": "display_data"
    },
    {
     "name": "stdout",
     "output_type": "stream",
     "text": [
      "None\n"
     ]
    },
    {
     "data": {
      "text/html": [
       "<a href=\"https://ks-yanao.ru/novosti/yamaltsy-uchatsya-vypisyvat-cheki-za-sotsuslugi.html\">Ямальцы учатся выписывать «чеки» за соцуслуги</a> — -0.00497540787234226"
      ],
      "text/plain": [
       "<IPython.core.display.HTML object>"
      ]
     },
     "metadata": {},
     "output_type": "display_data"
    },
    {
     "name": "stdout",
     "output_type": "stream",
     "text": [
      "None\n"
     ]
    },
    {
     "data": {
      "text/html": [
       "<a href=\"https://ks-yanao.ru/novosti/ultramarafon-transural-dobralsya-do-stantsii-sob.html\">Ультрамарафон «ТрансУрал» добрался до станции Собь</a> — -0.0050076051997615155"
      ],
      "text/plain": [
       "<IPython.core.display.HTML object>"
      ]
     },
     "metadata": {},
     "output_type": "display_data"
    },
    {
     "name": "stdout",
     "output_type": "stream",
     "text": [
      "None\n"
     ]
    },
    {
     "data": {
      "text/html": [
       "<a href=\"https://ks-yanao.ru/novosti/kakim-dolzhen-byt-pamyatnik-leonidu-laptsuyu-opredelyayut-zemlyaki-poeta.html\">Каким должен быть памятник Леониду Лапцую, определяют земляки поэта</a> — -0.005020979619586563"
      ],
      "text/plain": [
       "<IPython.core.display.HTML object>"
      ]
     },
     "metadata": {},
     "output_type": "display_data"
    },
    {
     "name": "stdout",
     "output_type": "stream",
     "text": [
      "None\n"
     ]
    },
    {
     "data": {
      "text/html": [
       "<a href=\"https://ks-yanao.ru/novosti/bolee-sotni-yamaltsev-pozhelali-uchastvovat-v-festivale-molodyezhi-v-sochi.html\">Более сотни ямальцев пожелали участвовать в фестивале молодёжи  в Сочи</a> — -0.005080556582220739"
      ],
      "text/plain": [
       "<IPython.core.display.HTML object>"
      ]
     },
     "metadata": {},
     "output_type": "display_data"
    },
    {
     "name": "stdout",
     "output_type": "stream",
     "text": [
      "None\n"
     ]
    },
    {
     "data": {
      "text/html": [
       "<a href=\"https://ks-yanao.ru/novosti/nadymchane-ne-khotyat-propustit-okruzhnoy-sbor-batareek.html\">Надымчане не хотят пропустить окружной сбор батареек</a> — -0.005087332467340879"
      ],
      "text/plain": [
       "<IPython.core.display.HTML object>"
      ]
     },
     "metadata": {},
     "output_type": "display_data"
    },
    {
     "name": "stdout",
     "output_type": "stream",
     "text": [
      "None\n"
     ]
    },
    {
     "data": {
      "text/html": [
       "<a href=\"https://ks-yanao.ru/novosti/udarnoy-rabote-yamalskie-studenty-predpochitayut-yuzhnyy-otdykh.html\">Ударной работе ямальские студенты предпочитают южный отдых</a> — -0.0050962477411731644"
      ],
      "text/plain": [
       "<IPython.core.display.HTML object>"
      ]
     },
     "metadata": {},
     "output_type": "display_data"
    },
    {
     "name": "stdout",
     "output_type": "stream",
     "text": [
      "None\n"
     ]
    },
    {
     "data": {
      "text/html": [
       "<a href=\"https://ks-yanao.ru/novosti/v-salekharde-eshchye-odin-operator-zapustil-4g.html\">В Салехарде ещё один оператор запустил 4G</a> — -0.005117027623864539"
      ],
      "text/plain": [
       "<IPython.core.display.HTML object>"
      ]
     },
     "metadata": {},
     "output_type": "display_data"
    },
    {
     "name": "stdout",
     "output_type": "stream",
     "text": [
      "None\n"
     ]
    },
    {
     "data": {
      "text/html": [
       "<a href=\"https://ks-yanao.ru/novosti/na-yamale-vyvodyat-formulu-khoroshikh-del.html\">На Ямале выводят «Формулу  хороших дел»</a> — -0.005131041692782886"
      ],
      "text/plain": [
       "<IPython.core.display.HTML object>"
      ]
     },
     "metadata": {},
     "output_type": "display_data"
    },
    {
     "name": "stdout",
     "output_type": "stream",
     "text": [
      "None\n"
     ]
    },
    {
     "data": {
      "text/html": [
       "<a href=\"https://ks-yanao.ru/novosti/piterskie-uchyenye-neokrepshim-derevtsam-nuzhny-kuratory.html\">﻿Питерские учёные: неокрепшим деревцам нужны кураторы</a> — -0.005148828455220673"
      ],
      "text/plain": [
       "<IPython.core.display.HTML object>"
      ]
     },
     "metadata": {},
     "output_type": "display_data"
    },
    {
     "name": "stdout",
     "output_type": "stream",
     "text": [
      "None\n"
     ]
    },
    {
     "data": {
      "text/html": [
       "<a href=\"https://ks-yanao.ru/novosti/bez-voennogo-bileta-mantiyu-ne-dayut.html\">Без военного билета мантию не дают</a> — -0.005171988055797977"
      ],
      "text/plain": [
       "<IPython.core.display.HTML object>"
      ]
     },
     "metadata": {},
     "output_type": "display_data"
    },
    {
     "name": "stdout",
     "output_type": "stream",
     "text": [
      "None\n"
     ]
    },
    {
     "data": {
      "text/html": [
       "<a href=\"https://ks-yanao.ru/novosti/yamal-na-forume-tavrida-predstavit-molodezhnyy-teatr-krylya-.html\">Ямал на форуме «Таврида» представит молодежный театр «Крылья»</a> — -0.005184468139673771"
      ],
      "text/plain": [
       "<IPython.core.display.HTML object>"
      ]
     },
     "metadata": {},
     "output_type": "display_data"
    },
    {
     "name": "stdout",
     "output_type": "stream",
     "text": [
      "None\n"
     ]
    },
    {
     "data": {
      "text/html": [
       "<a href=\"https://ks-yanao.ru/novosti/futbolisty-razygrali-rubinovyy-kubok.html\">Оранжевый мяч взлетал над газовой столицей</a> — -0.005211578244711468"
      ],
      "text/plain": [
       "<IPython.core.display.HTML object>"
      ]
     },
     "metadata": {},
     "output_type": "display_data"
    },
    {
     "name": "stdout",
     "output_type": "stream",
     "text": [
      "None\n"
     ]
    },
    {
     "data": {
      "text/html": [
       "<a href=\"https://ks-yanao.ru/novosti/nepogoda-ne-pomeshala-nadymchanam-priyti-na-prazdnik.html\">Непогода не помешала надымчанам прийти на праздник</a> — -0.005242923486267546"
      ],
      "text/plain": [
       "<IPython.core.display.HTML object>"
      ]
     },
     "metadata": {},
     "output_type": "display_data"
    },
    {
     "name": "stdout",
     "output_type": "stream",
     "text": [
      "None\n"
     ]
    },
    {
     "data": {
      "text/html": [
       "<a href=\"https://ks-yanao.ru/novosti/v-salekharde-unichtozhili-grushi-i-pomidory.html\">В Салехарде уничтожили груши  и помидоры</a> — -0.005262287132718441"
      ],
      "text/plain": [
       "<IPython.core.display.HTML object>"
      ]
     },
     "metadata": {},
     "output_type": "display_data"
    },
    {
     "name": "stdout",
     "output_type": "stream",
     "text": [
      "None\n"
     ]
    },
    {
     "data": {
      "text/html": [
       "<a href=\"https://ks-yanao.ru/novosti/strelyat-razresheno-po-gusyam-i-voronam.html\">Стрелять разрешено по гусям и… воронам</a> — -0.005264911165479087"
      ],
      "text/plain": [
       "<IPython.core.display.HTML object>"
      ]
     },
     "metadata": {},
     "output_type": "display_data"
    },
    {
     "name": "stdout",
     "output_type": "stream",
     "text": [
      "None\n"
     ]
    },
    {
     "data": {
      "text/html": [
       "<a href=\"https://ks-yanao.ru/novosti/na-yamale-startuet-aktsiya-protiv-depressii-i-stressa.html\">На Ямале стартует акция против депрессии и стресса</a> — -0.005278905861345667"
      ],
      "text/plain": [
       "<IPython.core.display.HTML object>"
      ]
     },
     "metadata": {},
     "output_type": "display_data"
    },
    {
     "name": "stdout",
     "output_type": "stream",
     "text": [
      "None\n"
     ]
    },
    {
     "data": {
      "text/html": [
       "<a href=\"https://ks-yanao.ru/novosti/elektronnye-medkarty-zamenyat-bumazhnye-uzhe-v-2018-godu.html\">Электронные медкарты заменят бумажные уже в 2018 году</a> — -0.005305299341110087"
      ],
      "text/plain": [
       "<IPython.core.display.HTML object>"
      ]
     },
     "metadata": {},
     "output_type": "display_data"
    },
    {
     "name": "stdout",
     "output_type": "stream",
     "text": [
      "None\n"
     ]
    },
    {
     "data": {
      "text/html": [
       "<a href=\"https://ks-yanao.ru/novosti/posle-pervoy-ryby-vstretyat-komarov.html\">После первой рыбы встретят комаров</a> — -0.005315154081937357"
      ],
      "text/plain": [
       "<IPython.core.display.HTML object>"
      ]
     },
     "metadata": {},
     "output_type": "display_data"
    },
    {
     "name": "stdout",
     "output_type": "stream",
     "text": [
      "None\n"
     ]
    },
    {
     "data": {
      "text/html": [
       "<a href=\"https://ks-yanao.ru/novosti/yamaltsy-pogruzilis-na-chas-vo-tmu.html\">Ямальцы погрузились на час во тьму</a> — -0.005319340769365677"
      ],
      "text/plain": [
       "<IPython.core.display.HTML object>"
      ]
     },
     "metadata": {},
     "output_type": "display_data"
    },
    {
     "name": "stdout",
     "output_type": "stream",
     "text": [
      "None\n"
     ]
    },
    {
     "data": {
      "text/html": [
       "<a href=\"https://ks-yanao.ru/novosti/biznesmen-vernul-strane-svyshe-80-millionov-rubley.html\">Бизнесмен «вернул» стране свыше 80 миллионов рублей</a> — -0.005320217950877403"
      ],
      "text/plain": [
       "<IPython.core.display.HTML object>"
      ]
     },
     "metadata": {},
     "output_type": "display_data"
    },
    {
     "name": "stdout",
     "output_type": "stream",
     "text": [
      "None\n"
     ]
    },
    {
     "data": {
      "text/html": [
       "<a href=\"https://ks-yanao.ru/novosti/most-pamyati-osvetyat-svechami.html\">«Мост памяти» осветят свечами</a> — -0.005349431278739761"
      ],
      "text/plain": [
       "<IPython.core.display.HTML object>"
      ]
     },
     "metadata": {},
     "output_type": "display_data"
    },
    {
     "name": "stdout",
     "output_type": "stream",
     "text": [
      "None\n"
     ]
    },
    {
     "data": {
      "text/html": [
       "<a href=\"https://ks-yanao.ru/novosti/sledstvie-nazvalo-vinovnykh-v-pozhare-na-obskoy.html\">Следствие назвало виновных в пожаре на Обской</a> — -0.005361994250560988"
      ],
      "text/plain": [
       "<IPython.core.display.HTML object>"
      ]
     },
     "metadata": {},
     "output_type": "display_data"
    },
    {
     "name": "stdout",
     "output_type": "stream",
     "text": [
      "None\n"
     ]
    },
    {
     "data": {
      "text/html": [
       "<a href=\"https://ks-yanao.ru/novosti/yamalskiy-detsad-proslavilsya-na-vsyu-rossiyu.html\">Ямальский детсад прославился на всю Россию</a> — -0.005363650741339675"
      ],
      "text/plain": [
       "<IPython.core.display.HTML object>"
      ]
     },
     "metadata": {},
     "output_type": "display_data"
    },
    {
     "name": "stdout",
     "output_type": "stream",
     "text": [
      "None\n"
     ]
    },
    {
     "data": {
      "text/html": [
       "<a href=\"https://ks-yanao.ru/novosti/salekhardskikh-bomzhey-nachnut-kormit-goryachim.html\">Салехардских бомжей начнут кормить горячим</a> — -0.005370714633145895"
      ],
      "text/plain": [
       "<IPython.core.display.HTML object>"
      ]
     },
     "metadata": {},
     "output_type": "display_data"
    },
    {
     "name": "stdout",
     "output_type": "stream",
     "text": [
      "None\n"
     ]
    },
    {
     "data": {
      "text/html": [
       "<a href=\"https://ks-yanao.ru/novosti/26-avgusta-rayon-novogo-urengoya-otprazdnuet-svoy-sorokovoy-den-rozhdeniya.html\">26 августа Коротчаево отпразднует сороковой день рождения</a> — -0.005392823530565567"
      ],
      "text/plain": [
       "<IPython.core.display.HTML object>"
      ]
     },
     "metadata": {},
     "output_type": "display_data"
    },
    {
     "name": "stdout",
     "output_type": "stream",
     "text": [
      "None\n"
     ]
    },
    {
     "data": {
      "text/html": [
       "<a href=\"https://ks-yanao.ru/novosti/frontoviki-poprosili-regionalnuyu-vlast-prokontrolirovat-likvidatsiyu-svalok-i-ukhabov.html\">«Фронтовики» попросили региональную власть проконтролировать ликвидацию свалок и ухабов</a> — -0.0054152905190302985"
      ],
      "text/plain": [
       "<IPython.core.display.HTML object>"
      ]
     },
     "metadata": {},
     "output_type": "display_data"
    },
    {
     "name": "stdout",
     "output_type": "stream",
     "text": [
      "None\n"
     ]
    },
    {
     "data": {
      "text/html": [
       "<a href=\"https://ks-yanao.ru/novosti/veloprobegom-udaryat-po-zatyanuvsheysya-vesne.html\">Велопробегом ударят по затянувшейся весне</a> — -0.005440381369023059"
      ],
      "text/plain": [
       "<IPython.core.display.HTML object>"
      ]
     },
     "metadata": {},
     "output_type": "display_data"
    },
    {
     "name": "stdout",
     "output_type": "stream",
     "text": [
      "None\n"
     ]
    },
    {
     "data": {
      "text/html": [
       "<a href=\"https://ks-yanao.ru/novosti/v-gubkinskom-predpolagaemomu-piromanu-predyavili-obvineniya.html\">В Губкинском предполагаемому пироману предъявили обвинения</a> — -0.005499423745117916"
      ],
      "text/plain": [
       "<IPython.core.display.HTML object>"
      ]
     },
     "metadata": {},
     "output_type": "display_data"
    },
    {
     "name": "stdout",
     "output_type": "stream",
     "text": [
      "None\n"
     ]
    },
    {
     "data": {
      "text/html": [
       "<a href=\"https://ks-yanao.ru/novosti/aktivisty-onf-poschitali-ubitye-dorogi-na-yamale.html\">Активисты ОНФ посчитали убитые дороги на Ямале</a> — -0.005514738858430671"
      ],
      "text/plain": [
       "<IPython.core.display.HTML object>"
      ]
     },
     "metadata": {},
     "output_type": "display_data"
    },
    {
     "name": "stdout",
     "output_type": "stream",
     "text": [
      "None\n"
     ]
    },
    {
     "data": {
      "text/html": [
       "<a href=\"https://ks-yanao.ru/novosti/dvoe-muravlenkovtsev-pogibli-pri-stolknovenii-kvadrotsikla-s-velosipedom.html\">Двое муравленковцев погибли при столкновении квадроцикла с велосипедом</a> — -0.005531355389487474"
      ],
      "text/plain": [
       "<IPython.core.display.HTML object>"
      ]
     },
     "metadata": {},
     "output_type": "display_data"
    },
    {
     "name": "stdout",
     "output_type": "stream",
     "text": [
      "None\n"
     ]
    },
    {
     "data": {
      "text/html": [
       "<a href=\"https://ks-yanao.ru/novosti/burlak-dobralsya-do-belogo.html\">«Бурлак» добрался до Белого</a> — -0.0055654044825104165"
      ],
      "text/plain": [
       "<IPython.core.display.HTML object>"
      ]
     },
     "metadata": {},
     "output_type": "display_data"
    },
    {
     "name": "stdout",
     "output_type": "stream",
     "text": [
      "None\n"
     ]
    },
    {
     "data": {
      "text/html": [
       "<a href=\"https://ks-yanao.ru/novosti/vyyavlen-silneyshiy-velosipedist-sredi-novourengoytsev.html\">Выявлен сильнейший велосипедист среди новоуренгойцев</a> — -0.005597415820130605"
      ],
      "text/plain": [
       "<IPython.core.display.HTML object>"
      ]
     },
     "metadata": {},
     "output_type": "display_data"
    },
    {
     "name": "stdout",
     "output_type": "stream",
     "text": [
      "None\n"
     ]
    },
    {
     "data": {
      "text/html": [
       "<a href=\"https://ks-yanao.ru/novosti/v-krasnoselkupe-stroitsya-novaya-elektrostantsiya.html\">В Красноселькупе строится новая электростанция</a> — -0.005626214508928146"
      ],
      "text/plain": [
       "<IPython.core.display.HTML object>"
      ]
     },
     "metadata": {},
     "output_type": "display_data"
    },
    {
     "name": "stdout",
     "output_type": "stream",
     "text": [
      "None\n"
     ]
    },
    {
     "data": {
      "text/html": [
       "<a href=\"https://ks-yanao.ru/novosti/v-salekharde-za-leto-poyavyatsya-25-komfortnykh-mest.html\">В Салехарде за лето появятся 25 комфортных мест</a> — -0.00563516233476606"
      ],
      "text/plain": [
       "<IPython.core.display.HTML object>"
      ]
     },
     "metadata": {},
     "output_type": "display_data"
    },
    {
     "name": "stdout",
     "output_type": "stream",
     "text": [
      "None\n"
     ]
    },
    {
     "data": {
      "text/html": [
       "<a href=\"https://ks-yanao.ru/novosti/segodnya-v-noyabrske-v-okruzhnom-perinatalnom-tsentre-nachala-rabotu-goryachaya-liniya.html\">Сегодня в Ноябрьске в окружном перинатальном центре начала работу горячая линия</a> — -0.00563516233476606"
      ],
      "text/plain": [
       "<IPython.core.display.HTML object>"
      ]
     },
     "metadata": {},
     "output_type": "display_data"
    },
    {
     "name": "stdout",
     "output_type": "stream",
     "text": [
      "None\n"
     ]
    },
    {
     "data": {
      "text/html": [
       "<a href=\"https://ks-yanao.ru/novosti/v-noyabrske-podrostki-zastupili-na-trudovuyu-vakhtu.html\">В Ноябрьске подростки заступили на трудовую вахту</a> — -0.005657299120198917"
      ],
      "text/plain": [
       "<IPython.core.display.HTML object>"
      ]
     },
     "metadata": {},
     "output_type": "display_data"
    },
    {
     "name": "stdout",
     "output_type": "stream",
     "text": [
      "None\n"
     ]
    },
    {
     "data": {
      "text/html": [
       "<a href=\"https://ks-yanao.ru/novosti/steny-pokrasheny-signalizatsiya-ustanovlena.html\">Стены покрашены, сигнализация установлена</a> — -0.0057488060181296406"
      ],
      "text/plain": [
       "<IPython.core.display.HTML object>"
      ]
     },
     "metadata": {},
     "output_type": "display_data"
    },
    {
     "name": "stdout",
     "output_type": "stream",
     "text": [
      "None\n"
     ]
    },
    {
     "data": {
      "text/html": [
       "<a href=\"https://ks-yanao.ru/novosti/na-obskoy-gube-proshla-litaniya-po-pogibshim-na-dorogakh.html\">На Обской губе прошла литания по погибшим на дорогах</a> — -0.005754754122325318"
      ],
      "text/plain": [
       "<IPython.core.display.HTML object>"
      ]
     },
     "metadata": {},
     "output_type": "display_data"
    },
    {
     "name": "stdout",
     "output_type": "stream",
     "text": [
      "None\n"
     ]
    },
    {
     "data": {
      "text/html": [
       "<a href=\"https://ks-yanao.ru/novosti/na-yamale-pochtili-pamyat-uchastnikov-konvoya-bd-5.html\">На Ямале почтили память участников конвоя БД-5</a> — -0.005767812572987821"
      ],
      "text/plain": [
       "<IPython.core.display.HTML object>"
      ]
     },
     "metadata": {},
     "output_type": "display_data"
    },
    {
     "name": "stdout",
     "output_type": "stream",
     "text": [
      "None\n"
     ]
    },
    {
     "data": {
      "text/html": [
       "<a href=\"https://ks-yanao.ru/novosti/s7-sokrashchaet-reysy-iz-salekharda.html\">S7 сокращает рейсы из Салехарда</a> — -0.005773676420809261"
      ],
      "text/plain": [
       "<IPython.core.display.HTML object>"
      ]
     },
     "metadata": {},
     "output_type": "display_data"
    },
    {
     "name": "stdout",
     "output_type": "stream",
     "text": [
      "None\n"
     ]
    },
    {
     "data": {
      "text/html": [
       "<a href=\"https://ks-yanao.ru/novosti/podushki-na-pereprave-salekhard-labytnangi-vremenno-zamenyat-na-vertolyety.html\">«Подушки» на переправе Салехард – Лабытнанги временно заменят вертолёты</a> — -0.0057850980961866106"
      ],
      "text/plain": [
       "<IPython.core.display.HTML object>"
      ]
     },
     "metadata": {},
     "output_type": "display_data"
    },
    {
     "name": "stdout",
     "output_type": "stream",
     "text": [
      "None\n"
     ]
    },
    {
     "data": {
      "text/html": [
       "<a href=\"https://ks-yanao.ru/novosti/nadymchane-zapustili-masshtabnyy-proekt-ekogorod.html\">Надымчане запустили масштабный проект «Экогород»</a> — -0.005785709486637252"
      ],
      "text/plain": [
       "<IPython.core.display.HTML object>"
      ]
     },
     "metadata": {},
     "output_type": "display_data"
    },
    {
     "name": "stdout",
     "output_type": "stream",
     "text": [
      "None\n"
     ]
    },
    {
     "data": {
      "text/html": [
       "<a href=\"https://ks-yanao.ru/novosti/kuda-devat-batareyki-i-ochistyat-li-ozero-yantarnoe.html\">Куда девать батарейки и очистят ли озеро Янтарное?</a> — -0.005792174906989152"
      ],
      "text/plain": [
       "<IPython.core.display.HTML object>"
      ]
     },
     "metadata": {},
     "output_type": "display_data"
    },
    {
     "name": "stdout",
     "output_type": "stream",
     "text": [
      "None\n"
     ]
    },
    {
     "data": {
      "text/html": [
       "<a href=\"https://ks-yanao.ru/novosti/glavnye-yamalskie-zimniki-zakroyut-na-sleduyushchey-nedele.html\">Главные ямальские зимники закроют на следующей неделе</a> — -0.005796202153942703"
      ],
      "text/plain": [
       "<IPython.core.display.HTML object>"
      ]
     },
     "metadata": {},
     "output_type": "display_data"
    },
    {
     "name": "stdout",
     "output_type": "stream",
     "text": [
      "None\n"
     ]
    },
    {
     "data": {
      "text/html": [
       "<a href=\"https://ks-yanao.ru/novosti/yunykh-yamaltsev-zovut-risovat-i-fotografirovat.html\">Юных ямальцев зовут рисовать и фотографировать</a> — -0.0058044150397506405"
      ],
      "text/plain": [
       "<IPython.core.display.HTML object>"
      ]
     },
     "metadata": {},
     "output_type": "display_data"
    },
    {
     "name": "stdout",
     "output_type": "stream",
     "text": [
      "None\n"
     ]
    },
    {
     "data": {
      "text/html": [
       "<a href=\"https://ks-yanao.ru/novosti/v-novom-urengoe-nachato-stroitelstvo-inklyuzivnogo-detskogo-sada-viniklyuziya.html\">В Новом Уренгое начато строительство детского сада «Виниклюзия»</a> — -0.005809875771699421"
      ],
      "text/plain": [
       "<IPython.core.display.HTML object>"
      ]
     },
     "metadata": {},
     "output_type": "display_data"
    },
    {
     "name": "stdout",
     "output_type": "stream",
     "text": [
      "None\n"
     ]
    },
    {
     "data": {
      "text/html": [
       "<a href=\"https://ks-yanao.ru/novosti/salekhardtsy-otlichilis-na-vserossiyskom-bezopasnom-kolese.html\">Салехардцы отличились на всероссийском «Безопасном колесе»</a> — -0.005817338726949614"
      ],
      "text/plain": [
       "<IPython.core.display.HTML object>"
      ]
     },
     "metadata": {},
     "output_type": "display_data"
    },
    {
     "name": "stdout",
     "output_type": "stream",
     "text": [
      "None\n"
     ]
    },
    {
     "data": {
      "text/html": [
       "<a href=\"https://ks-yanao.ru/novosti/prityagivali-fotozony-i-raritety.html\">Притягивали фотозоны и раритеты</a> — -0.0058628591834186325"
      ],
      "text/plain": [
       "<IPython.core.display.HTML object>"
      ]
     },
     "metadata": {},
     "output_type": "display_data"
    },
    {
     "name": "stdout",
     "output_type": "stream",
     "text": [
      "None\n"
     ]
    },
    {
     "data": {
      "text/html": [
       "<a href=\"https://ks-yanao.ru/novosti/yaponskaya-mashina-pechataet-blanki-dlya-vyborov-na-yamale.html\">Японская машина печатает бланки для выборов на Ямале</a> — -0.005913493110438333"
      ],
      "text/plain": [
       "<IPython.core.display.HTML object>"
      ]
     },
     "metadata": {},
     "output_type": "display_data"
    },
    {
     "name": "stdout",
     "output_type": "stream",
     "text": [
      "None\n"
     ]
    },
    {
     "data": {
      "text/html": [
       "<a href=\"https://ks-yanao.ru/novosti/pedagogi-iz-nadyma-progulyali-uroki-v-stalinskikh-lageryakh.html\">Педагоги из Надыма «прогуляли» уроки в сталинских  лагерях</a> — -0.005923313894548375"
      ],
      "text/plain": [
       "<IPython.core.display.HTML object>"
      ]
     },
     "metadata": {},
     "output_type": "display_data"
    },
    {
     "name": "stdout",
     "output_type": "stream",
     "text": [
      "None\n"
     ]
    },
    {
     "data": {
      "text/html": [
       "<a href=\"https://ks-yanao.ru/novosti/serebryanyy-zaplyv-yamalskoy-plovchikhi-.html\">Серебряный заплыв ямальской пловчихи</a> — -0.0059317876205829565"
      ],
      "text/plain": [
       "<IPython.core.display.HTML object>"
      ]
     },
     "metadata": {},
     "output_type": "display_data"
    },
    {
     "name": "stdout",
     "output_type": "stream",
     "text": [
      "None\n"
     ]
    },
    {
     "data": {
      "text/html": [
       "<a href=\"https://ks-yanao.ru/novosti/glavam-vruchili-miniatyury-simvolov-yamala.html\">Главам вручили миниатюры символов Ямала</a> — -0.005938095701445913"
      ],
      "text/plain": [
       "<IPython.core.display.HTML object>"
      ]
     },
     "metadata": {},
     "output_type": "display_data"
    },
    {
     "name": "stdout",
     "output_type": "stream",
     "text": [
      "None\n"
     ]
    },
    {
     "data": {
      "text/html": [
       "<a href=\"https://ks-yanao.ru/novosti/na-vezde-v-labytnangi-sooruzhayut-stelu-vorota-yamala.html\">На въезде в Лабытнанги сооружают стелу «Ворота Ямала»</a> — -0.005942683275416372"
      ],
      "text/plain": [
       "<IPython.core.display.HTML object>"
      ]
     },
     "metadata": {},
     "output_type": "display_data"
    },
    {
     "name": "stdout",
     "output_type": "stream",
     "text": [
      "None\n"
     ]
    },
    {
     "data": {
      "text/html": [
       "<a href=\"https://ks-yanao.ru/novosti/ubitye-dorogi-v-labytnangi-reanimirovali.html\">«Убитые» дороги в Лабытнанги реанимировали</a> — -0.005959884486603074"
      ],
      "text/plain": [
       "<IPython.core.display.HTML object>"
      ]
     },
     "metadata": {},
     "output_type": "display_data"
    },
    {
     "name": "stdout",
     "output_type": "stream",
     "text": [
      "None\n"
     ]
    },
    {
     "data": {
      "text/html": [
       "<a href=\"https://ks-yanao.ru/novosti/na-pochtovykh-markakh-mogut-poyavitsya-yamalskie-simvoly.html\">На почтовых марках могут появиться ямальские символы</a> — -0.005963086148794095"
      ],
      "text/plain": [
       "<IPython.core.display.HTML object>"
      ]
     },
     "metadata": {},
     "output_type": "display_data"
    },
    {
     "name": "stdout",
     "output_type": "stream",
     "text": [
      "None\n"
     ]
    },
    {
     "data": {
      "text/html": [
       "<a href=\"https://ks-yanao.ru/novosti/yamal-zashlyet-ovtsebykov-v-yakutiyu.html\">Ямал зашлёт овцебыков в Якутию</a> — -0.005963422956693404"
      ],
      "text/plain": [
       "<IPython.core.display.HTML object>"
      ]
     },
     "metadata": {},
     "output_type": "display_data"
    },
    {
     "name": "stdout",
     "output_type": "stream",
     "text": [
      "None\n"
     ]
    },
    {
     "data": {
      "text/html": [
       "<a href=\"https://ks-yanao.ru/novosti/nadymskiy-rayon-gotovitsya-k-novoselyam.html\">Надымский район готовится к новоселью</a> — -0.005982302416863954"
      ],
      "text/plain": [
       "<IPython.core.display.HTML object>"
      ]
     },
     "metadata": {},
     "output_type": "display_data"
    },
    {
     "name": "stdout",
     "output_type": "stream",
     "text": [
      "None\n"
     ]
    },
    {
     "data": {
      "text/html": [
       "<a href=\"https://ks-yanao.ru/novosti/predprinimateley-podklyuchat-k-toku-onlayn.html\">Предпринимателей подключат к «току» онлайн</a> — -0.006000646080966869"
      ],
      "text/plain": [
       "<IPython.core.display.HTML object>"
      ]
     },
     "metadata": {},
     "output_type": "display_data"
    },
    {
     "name": "stdout",
     "output_type": "stream",
     "text": [
      "None\n"
     ]
    },
    {
     "data": {
      "text/html": [
       "<a href=\"https://ks-yanao.ru/novosti/v-trudovykh-otryadakh-glavy-novogo-urengoya-letom-rabotali-pochti-200-chelovek.html\">В трудовых отрядах главы Нового Уренгоя летом работали почти 200 человек</a> — -0.006020807918225263"
      ],
      "text/plain": [
       "<IPython.core.display.HTML object>"
      ]
     },
     "metadata": {},
     "output_type": "display_data"
    },
    {
     "name": "stdout",
     "output_type": "stream",
     "text": [
      "None\n"
     ]
    },
    {
     "data": {
      "text/html": [
       "<a href=\"https://ks-yanao.ru/novosti/svezhaya-olenina-na-dnyakh-poyavitsya-v-prodazhe.html\">Свежая оленина на днях появится в продаже</a> — -0.006041439954610742"
      ],
      "text/plain": [
       "<IPython.core.display.HTML object>"
      ]
     },
     "metadata": {},
     "output_type": "display_data"
    },
    {
     "name": "stdout",
     "output_type": "stream",
     "text": [
      "None\n"
     ]
    },
    {
     "data": {
      "text/html": [
       "<a href=\"https://ks-yanao.ru/novosti/v-salekhard-priekhal-trener-po-kikboksingu.html\">В Салехард приехал тренер по кикбоксингу</a> — -0.006057917119095262"
      ],
      "text/plain": [
       "<IPython.core.display.HTML object>"
      ]
     },
     "metadata": {},
     "output_type": "display_data"
    },
    {
     "name": "stdout",
     "output_type": "stream",
     "text": [
      "None\n"
     ]
    },
    {
     "data": {
      "text/html": [
       "<a href=\"https://ks-yanao.ru/novosti/arkticheskie-figuristy-vykhodyat-na-led-i-letom.html\">Арктические фигуристы выходят на лед и летом</a> — -0.006090392717619941"
      ],
      "text/plain": [
       "<IPython.core.display.HTML object>"
      ]
     },
     "metadata": {},
     "output_type": "display_data"
    },
    {
     "name": "stdout",
     "output_type": "stream",
     "text": [
      "None\n"
     ]
    },
    {
     "data": {
      "text/html": [
       "<a href=\"https://ks-yanao.ru/novosti/raznyes-v-pukh-i-perya.html\">Разнёс в пух и перья</a> — -0.00609861977628992"
      ],
      "text/plain": [
       "<IPython.core.display.HTML object>"
      ]
     },
     "metadata": {},
     "output_type": "display_data"
    },
    {
     "name": "stdout",
     "output_type": "stream",
     "text": [
      "None\n"
     ]
    },
    {
     "data": {
      "text/html": [
       "<a href=\"https://ks-yanao.ru/novosti/za-karuseli-na-vyborakh-grozyat-ugolovkoy.html\">За «карусели» на выборах грозят «уголовкой»</a> — -0.006113124893321589"
      ],
      "text/plain": [
       "<IPython.core.display.HTML object>"
      ]
     },
     "metadata": {},
     "output_type": "display_data"
    },
    {
     "name": "stdout",
     "output_type": "stream",
     "text": [
      "None\n"
     ]
    },
    {
     "data": {
      "text/html": [
       "<a href=\"https://ks-yanao.ru/novosti/gulnaz-gubaydullina-chempionka-mira-po-pyatiboryu.html\">Гульназ Губайдуллина стала чемпионкой мира по пятиборью</a> — -0.006121136088107112"
      ],
      "text/plain": [
       "<IPython.core.display.HTML object>"
      ]
     },
     "metadata": {},
     "output_type": "display_data"
    },
    {
     "name": "stdout",
     "output_type": "stream",
     "text": [
      "None\n"
     ]
    },
    {
     "data": {
      "text/html": [
       "<a href=\"https://ks-yanao.ru/novosti/spasateli-okhotyatsya-na-tekh-kto-bez-zhiletov.html\">Спасатели охотятся на тех, кто без жилетов</a> — -0.006171224938629625"
      ],
      "text/plain": [
       "<IPython.core.display.HTML object>"
      ]
     },
     "metadata": {},
     "output_type": "display_data"
    },
    {
     "name": "stdout",
     "output_type": "stream",
     "text": [
      "None\n"
     ]
    },
    {
     "data": {
      "text/html": [
       "<a href=\"https://ks-yanao.ru/novosti/bezopasnoe-koleso-dostavit-v-moskvu-salekhardtsev.html\">«Безопасное колесо» доставит в Москву салехардцев</a> — -0.0061724097630163075"
      ],
      "text/plain": [
       "<IPython.core.display.HTML object>"
      ]
     },
     "metadata": {},
     "output_type": "display_data"
    },
    {
     "name": "stdout",
     "output_type": "stream",
     "text": [
      "None\n"
     ]
    },
    {
     "data": {
      "text/html": [
       "<a href=\"https://ks-yanao.ru/novosti/kogda-kurilshchiku-ne-pomogli-allen-karr-i-zhvachki-on-poshyel-za-doskoy.html\">Когда курильщику не помогли Аллен Карр и жвачки, он пошёл за доской</a> — -0.006221094307639565"
      ],
      "text/plain": [
       "<IPython.core.display.HTML object>"
      ]
     },
     "metadata": {},
     "output_type": "display_data"
    },
    {
     "name": "stdout",
     "output_type": "stream",
     "text": [
      "None\n"
     ]
    },
    {
     "data": {
      "text/html": [
       "<a href=\"https://ks-yanao.ru/novosti/raznosoly-dlya-prazdnichnogo-stola-noyabryan-vezut-iz-tyumeni.html\">Разносолы для праздничного стола ноябрян везут из Тюмени</a> — -0.006290403218688716"
      ],
      "text/plain": [
       "<IPython.core.display.HTML object>"
      ]
     },
     "metadata": {},
     "output_type": "display_data"
    },
    {
     "name": "stdout",
     "output_type": "stream",
     "text": [
      "None\n"
     ]
    },
    {
     "data": {
      "text/html": [
       "<a href=\"https://ks-yanao.ru/novosti/zhitel-labytnangi-prolomil-taksistu-golovu-molotkom.html\">Житель Лабытнанги проломил таксисту голову молотком</a> — -0.006309236084202648"
      ],
      "text/plain": [
       "<IPython.core.display.HTML object>"
      ]
     },
     "metadata": {},
     "output_type": "display_data"
    },
    {
     "name": "stdout",
     "output_type": "stream",
     "text": [
      "None\n"
     ]
    },
    {
     "data": {
      "text/html": [
       "<a href=\"https://ks-yanao.ru/novosti/yamaltsy-perekachali-vsekh-sosedey.html\">Ямальцы перекачали всех соседей</a> — -0.006336803408685835"
      ],
      "text/plain": [
       "<IPython.core.display.HTML object>"
      ]
     },
     "metadata": {},
     "output_type": "display_data"
    },
    {
     "name": "stdout",
     "output_type": "stream",
     "text": [
      "None\n"
     ]
    },
    {
     "data": {
      "text/html": [
       "<a href=\"https://ks-yanao.ru/novosti/na-yamale-nakopilos-nenuzhnoe.html\">На Ямале накопилось «ненужное»</a> — -0.0063473153966983"
      ],
      "text/plain": [
       "<IPython.core.display.HTML object>"
      ]
     },
     "metadata": {},
     "output_type": "display_data"
    },
    {
     "name": "stdout",
     "output_type": "stream",
     "text": [
      "None\n"
     ]
    },
    {
     "data": {
      "text/html": [
       "<a href=\"https://ks-yanao.ru/novosti/salekhardtsy-otrepetirovali-totalnyy-diktant-2017.html\">Салехардцы отрепетировали «Тотальный диктант-2017»</a> — -0.006371212114419115"
      ],
      "text/plain": [
       "<IPython.core.display.HTML object>"
      ]
     },
     "metadata": {},
     "output_type": "display_data"
    },
    {
     "name": "stdout",
     "output_type": "stream",
     "text": [
      "None\n"
     ]
    },
    {
     "data": {
      "text/html": [
       "<a href=\"https://ks-yanao.ru/novosti/na-novost-pro-akvapark-v-novom-urengoe-klyunul-seryeznyy-biznes.html\">На новость про аквапарк в Новом Уренгое клюнул серьёзный бизнес</a> — -0.006419997207505217"
      ],
      "text/plain": [
       "<IPython.core.display.HTML object>"
      ]
     },
     "metadata": {},
     "output_type": "display_data"
    },
    {
     "name": "stdout",
     "output_type": "stream",
     "text": [
      "None\n"
     ]
    },
    {
     "data": {
      "text/html": [
       "<a href=\"https://ks-yanao.ru/novosti/na-yamale-vnedryayut-elektronnye-bolnichnye-i-telemeditsinu.html\">На Ямале внедряют электронные больничные  и телемедицину</a> — -0.0064513803925578895"
      ],
      "text/plain": [
       "<IPython.core.display.HTML object>"
      ]
     },
     "metadata": {},
     "output_type": "display_data"
    },
    {
     "name": "stdout",
     "output_type": "stream",
     "text": [
      "None\n"
     ]
    },
    {
     "data": {
      "text/html": [
       "<a href=\"https://ks-yanao.ru/novosti/park-pobedy-a-salekharde-osvezhili-pikhtami-i-dekorativnymi-kustarnikami.html\">Парк Победы в Салехарде освежили пихтами и декоративными кустарниками</a> — -0.006468682140832995"
      ],
      "text/plain": [
       "<IPython.core.display.HTML object>"
      ]
     },
     "metadata": {},
     "output_type": "display_data"
    },
    {
     "name": "stdout",
     "output_type": "stream",
     "text": [
      "None\n"
     ]
    },
    {
     "data": {
      "text/html": [
       "<a href=\"https://ks-yanao.ru/novosti/shkolnikam-razreshili-povlastvovat-v-labytnangi.html\">Школьникам разрешили повластвовать в Лабытнанги</a> — -0.006481518721892644"
      ],
      "text/plain": [
       "<IPython.core.display.HTML object>"
      ]
     },
     "metadata": {},
     "output_type": "display_data"
    },
    {
     "name": "stdout",
     "output_type": "stream",
     "text": [
      "None\n"
     ]
    },
    {
     "data": {
      "text/html": [
       "<a href=\"https://ks-yanao.ru/novosti/s-nachala-goda-brodyachie-sobaki-pokusali-23-labytnangtsa-.html\">С начала года бродячие собаки покусали 23 лабытнангца</a> — -0.00654559900306843"
      ],
      "text/plain": [
       "<IPython.core.display.HTML object>"
      ]
     },
     "metadata": {},
     "output_type": "display_data"
    },
    {
     "name": "stdout",
     "output_type": "stream",
     "text": [
      "None\n"
     ]
    },
    {
     "data": {
      "text/html": [
       "<a href=\"https://ks-yanao.ru/novosti/v-germanii-stalo-modnym-izuchat-russkiy-yazyk.html\">В Германии стало модным изучать русский язык</a> — -0.006562816492371969"
      ],
      "text/plain": [
       "<IPython.core.display.HTML object>"
      ]
     },
     "metadata": {},
     "output_type": "display_data"
    },
    {
     "name": "stdout",
     "output_type": "stream",
     "text": [
      "None\n"
     ]
    },
    {
     "data": {
      "text/html": [
       "<a href=\"https://ks-yanao.ru/novosti/surgutskie-ekstremaly-proshli-na-samodelnom-katere-ot-yamala-do-diksona.html\">Сургутские экстремалы прошли на самодельном катере от Ямала до Диксона</a> — -0.006589422670608096"
      ],
      "text/plain": [
       "<IPython.core.display.HTML object>"
      ]
     },
     "metadata": {},
     "output_type": "display_data"
    },
    {
     "name": "stdout",
     "output_type": "stream",
     "text": [
      "None\n"
     ]
    },
    {
     "data": {
      "text/html": [
       "<a href=\"https://ks-yanao.ru/novosti/vyzhivshiy-v-medvezhikh-lapakh-teper-v-rukakh-vorkutinskikh-vrachey.html\">Выживший в медвежьих лапах теперь в руках воркутинских врачей</a> — -0.006671081730393179"
      ],
      "text/plain": [
       "<IPython.core.display.HTML object>"
      ]
     },
     "metadata": {},
     "output_type": "display_data"
    },
    {
     "name": "stdout",
     "output_type": "stream",
     "text": [
      "None\n"
     ]
    },
    {
     "data": {
      "text/html": [
       "<a href=\"https://ks-yanao.ru/novosti/yamalskie-bolota-i-torfyaniki-issleduyut-uchyenye.html\">Ямальские болота и торфяники исследуют учёные</a> — -0.006703499110877409"
      ],
      "text/plain": [
       "<IPython.core.display.HTML object>"
      ]
     },
     "metadata": {},
     "output_type": "display_data"
    },
    {
     "name": "stdout",
     "output_type": "stream",
     "text": [
      "None\n"
     ]
    },
    {
     "data": {
      "text/html": [
       "<a href=\"https://ks-yanao.ru/novosti/shkolniki-khotyat-ubirat-ostrova.html\">Школьники хотят убирать острова</a> — -0.006738516129289357"
      ],
      "text/plain": [
       "<IPython.core.display.HTML object>"
      ]
     },
     "metadata": {},
     "output_type": "display_data"
    },
    {
     "name": "stdout",
     "output_type": "stream",
     "text": [
      "None\n"
     ]
    },
    {
     "data": {
      "text/html": [
       "<a href=\"https://ks-yanao.ru/novosti/zorkoe-ege.html\">Зоркое ЕГЭ</a> — -0.006840003734562477"
      ],
      "text/plain": [
       "<IPython.core.display.HTML object>"
      ]
     },
     "metadata": {},
     "output_type": "display_data"
    },
    {
     "name": "stdout",
     "output_type": "stream",
     "text": [
      "None\n"
     ]
    },
    {
     "data": {
      "text/html": [
       "<a href=\"https://ks-yanao.ru/novosti/pochta-rossii-vnedryaet-novoe-programmnoe-obespechenie.html\">Почта России внедряет новое программное обеспечение</a> — -0.0068422513347281095"
      ],
      "text/plain": [
       "<IPython.core.display.HTML object>"
      ]
     },
     "metadata": {},
     "output_type": "display_data"
    },
    {
     "name": "stdout",
     "output_type": "stream",
     "text": [
      "None\n"
     ]
    },
    {
     "data": {
      "text/html": [
       "<a href=\"https://ks-yanao.ru/novosti/partiytsy-kontroliruyut-blagoustroystvo-.html\">Партийцы контролируют благоустройство</a> — -0.0069230606985930115"
      ],
      "text/plain": [
       "<IPython.core.display.HTML object>"
      ]
     },
     "metadata": {},
     "output_type": "display_data"
    },
    {
     "name": "stdout",
     "output_type": "stream",
     "text": [
      "None\n"
     ]
    },
    {
     "data": {
      "text/html": [
       "<a href=\"https://ks-yanao.ru/novosti/problemami-obmanutykh-dolshchikov-zaymetsya-gosduma.html\">Проблемами обманутых дольщиков займется Госдума</a> — -0.006989022748102189"
      ],
      "text/plain": [
       "<IPython.core.display.HTML object>"
      ]
     },
     "metadata": {},
     "output_type": "display_data"
    },
    {
     "name": "stdout",
     "output_type": "stream",
     "text": [
      "None\n"
     ]
    },
    {
     "data": {
      "text/html": [
       "<a href=\"https://ks-yanao.ru/novosti/yamalskaya-delegatsiya-voshla-v-pyatyerku-luchshikh-na-rossiyskoy-studencheskoy-vesne-v-tule.html\">﻿Ямальская делегация вошла в пятёрку лучших на Российской студенческой весне в Туле</a> — -0.006990919704044695"
      ],
      "text/plain": [
       "<IPython.core.display.HTML object>"
      ]
     },
     "metadata": {},
     "output_type": "display_data"
    },
    {
     "name": "stdout",
     "output_type": "stream",
     "text": [
      "None\n"
     ]
    },
    {
     "data": {
      "text/html": [
       "<a href=\"https://ks-yanao.ru/novosti/za-vesnoy-v-pelvozh-sgonyali-na-snegokhode.html\">«За весной» в Пельвож сгоняли на снегоходе!</a> — -0.007011162775332849"
      ],
      "text/plain": [
       "<IPython.core.display.HTML object>"
      ]
     },
     "metadata": {},
     "output_type": "display_data"
    },
    {
     "name": "stdout",
     "output_type": "stream",
     "text": [
      "None\n"
     ]
    },
    {
     "data": {
      "text/html": [
       "<a href=\"https://ks-yanao.ru/novosti/v-noyabrske-totalnyy-diktant-napisali-120-chelovek.html\">В Ноябрьске Тотальный диктант написали 120 человек</a> — -0.007020887753300601"
      ],
      "text/plain": [
       "<IPython.core.display.HTML object>"
      ]
     },
     "metadata": {},
     "output_type": "display_data"
    },
    {
     "name": "stdout",
     "output_type": "stream",
     "text": [
      "None\n"
     ]
    },
    {
     "data": {
      "text/html": [
       "<a href=\"https://ks-yanao.ru/novosti/v-munitsipalitetakh-provedut-audit-dvorov-i-obshchestvennykh-mest.html\">В муниципалитетах проведут аудит дворов и общественных мест</a> — -0.007057558553849168"
      ],
      "text/plain": [
       "<IPython.core.display.HTML object>"
      ]
     },
     "metadata": {},
     "output_type": "display_data"
    },
    {
     "name": "stdout",
     "output_type": "stream",
     "text": [
      "None\n"
     ]
    },
    {
     "data": {
      "text/html": [
       "<a href=\"https://ks-yanao.ru/novosti/v-krasnoselkupe-narastyat-megavatty.html\">В Красноселькупе нарастят мегаватты</a> — -0.007084767668809458"
      ],
      "text/plain": [
       "<IPython.core.display.HTML object>"
      ]
     },
     "metadata": {},
     "output_type": "display_data"
    },
    {
     "name": "stdout",
     "output_type": "stream",
     "text": [
      "None\n"
     ]
    },
    {
     "data": {
      "text/html": [
       "<a href=\"https://ks-yanao.ru/novosti/yamal-prodvigaet-posobiya-dlya-izucheniya-nenetskogo-i-khantyyskogo-yazykov.html\">Ямал продвигает пособия для изучения ненецкого и хантыйского языков</a> — -0.007089741959136328"
      ],
      "text/plain": [
       "<IPython.core.display.HTML object>"
      ]
     },
     "metadata": {},
     "output_type": "display_data"
    },
    {
     "name": "stdout",
     "output_type": "stream",
     "text": [
      "None\n"
     ]
    },
    {
     "data": {
      "text/html": [
       "<a href=\"https://ks-yanao.ru/novosti/rodina-otpravilas-iz-salekharda-v-tobolsk-s-polnymi-kayutami.html\">«Родина» отправилась из Салехарда в Тобольск с полными каютами</a> — -0.007130156389295463"
      ],
      "text/plain": [
       "<IPython.core.display.HTML object>"
      ]
     },
     "metadata": {},
     "output_type": "display_data"
    },
    {
     "name": "stdout",
     "output_type": "stream",
     "text": [
      "None\n"
     ]
    },
    {
     "data": {
      "text/html": [
       "<a href=\"https://ks-yanao.ru/novosti/zazhigalki-ne-bylo-snyato-shutki-radi.html\">«Зажигалки не было, снято шутки ради»</a> — -0.00716826793294756"
      ],
      "text/plain": [
       "<IPython.core.display.HTML object>"
      ]
     },
     "metadata": {},
     "output_type": "display_data"
    },
    {
     "name": "stdout",
     "output_type": "stream",
     "text": [
      "None\n"
     ]
    },
    {
     "data": {
      "text/html": [
       "<a href=\"https://ks-yanao.ru/novosti/prezidentskaya-biblioteka-rasshiryaet-vzaimodeystvie-s-yamalom.html\">Президентская библиотека расширяет взаимодействие с Ямалом</a> — -0.00717911506726407"
      ],
      "text/plain": [
       "<IPython.core.display.HTML object>"
      ]
     },
     "metadata": {},
     "output_type": "display_data"
    },
    {
     "name": "stdout",
     "output_type": "stream",
     "text": [
      "None\n"
     ]
    },
    {
     "data": {
      "text/html": [
       "<a href=\"https://ks-yanao.ru/novosti/ak-yamal-gotova-dostavit-izbirkomy-v-tundru.html\">Авиакомпания «Ямал» готова доставить избиркомы в тундру</a> — -0.007192589995455357"
      ],
      "text/plain": [
       "<IPython.core.display.HTML object>"
      ]
     },
     "metadata": {},
     "output_type": "display_data"
    },
    {
     "name": "stdout",
     "output_type": "stream",
     "text": [
      "None\n"
     ]
    },
    {
     "data": {
      "text/html": [
       "<a href=\"https://ks-yanao.ru/novosti/v-noyabrske-proydyet-nochnoy-veloprobeg.html\">В Ноябрьске пройдёт ночной велопробег</a> — -0.007228123682325521"
      ],
      "text/plain": [
       "<IPython.core.display.HTML object>"
      ]
     },
     "metadata": {},
     "output_type": "display_data"
    },
    {
     "name": "stdout",
     "output_type": "stream",
     "text": [
      "None\n"
     ]
    },
    {
     "data": {
      "text/html": [
       "<a href=\"https://ks-yanao.ru/novosti/falk-tishendorf-proplyl-22-kilometra-po-obi-.html\">Фальк Тишендорф проплыл 22 километра по Оби</a> — -0.007293291913503932"
      ],
      "text/plain": [
       "<IPython.core.display.HTML object>"
      ]
     },
     "metadata": {},
     "output_type": "display_data"
    },
    {
     "name": "stdout",
     "output_type": "stream",
     "text": [
      "None\n"
     ]
    },
    {
     "data": {
      "text/html": [
       "<a href=\"https://ks-yanao.ru/novosti/na-dorogakh-okruga-nashli-chetyrekh-ugolovnikov.html\">На дорогах округа нашли четырех уголовников</a> — -0.007319024377117577"
      ],
      "text/plain": [
       "<IPython.core.display.HTML object>"
      ]
     },
     "metadata": {},
     "output_type": "display_data"
    },
    {
     "name": "stdout",
     "output_type": "stream",
     "text": [
      "None\n"
     ]
    },
    {
     "data": {
      "text/html": [
       "<a href=\"https://ks-yanao.ru/novosti/pensionerka-iz-salekharda-razdarila-knizhnyy-fond.html\">Пенсионерка из Салехарда раздарила книжный фонд</a> — -0.007319428400761589"
      ],
      "text/plain": [
       "<IPython.core.display.HTML object>"
      ]
     },
     "metadata": {},
     "output_type": "display_data"
    },
    {
     "name": "stdout",
     "output_type": "stream",
     "text": [
      "None\n"
     ]
    },
    {
     "data": {
      "text/html": [
       "<a href=\"https://ks-yanao.ru/novosti/v-novom-urengoe-proshyel-festival-sporta.html\">﻿В Новом Уренгое прошёл фестиваль спорта</a> — -0.007321681399757639"
      ],
      "text/plain": [
       "<IPython.core.display.HTML object>"
      ]
     },
     "metadata": {},
     "output_type": "display_data"
    },
    {
     "name": "stdout",
     "output_type": "stream",
     "text": [
      "None\n"
     ]
    },
    {
     "data": {
      "text/html": [
       "<a href=\"https://ks-yanao.ru/novosti/nadymskie-gazodobytchiki-ustroili-bumazhnyy-perepolokh.html\">Надымские газодобытчики устроили «Бумажный переполох»</a> — -0.00735045847456077"
      ],
      "text/plain": [
       "<IPython.core.display.HTML object>"
      ]
     },
     "metadata": {},
     "output_type": "display_data"
    },
    {
     "name": "stdout",
     "output_type": "stream",
     "text": [
      "None\n"
     ]
    },
    {
     "data": {
      "text/html": [
       "<a href=\"https://ks-yanao.ru/novosti/skidki-na-zagranpasport-i-prava-zavyazli-na-federalnom-urovne.html\">Скидки на загранпаспорт и права «завязли» на федеральном уровне</a> — -0.007391442892082261"
      ],
      "text/plain": [
       "<IPython.core.display.HTML object>"
      ]
     },
     "metadata": {},
     "output_type": "display_data"
    },
    {
     "name": "stdout",
     "output_type": "stream",
     "text": [
      "None\n"
     ]
    },
    {
     "data": {
      "text/html": [
       "<a href=\"https://ks-yanao.ru/novosti/yamalskie-kaveenshchiki-otmetili-den-smekha.html\">Ямальские кавээнщики отметили День смеха</a> — -0.007391670199771873"
      ],
      "text/plain": [
       "<IPython.core.display.HTML object>"
      ]
     },
     "metadata": {},
     "output_type": "display_data"
    },
    {
     "name": "stdout",
     "output_type": "stream",
     "text": [
      "None\n"
     ]
    },
    {
     "data": {
      "text/html": [
       "<a href=\"https://ks-yanao.ru/novosti/v-noyabrske-vybirayut-luchshego-lesnogo-pozharnogo-yamala.html\">В Ноябрьске выбирают лучшего лесного пожарного  Ямала</a> — -0.007401504765461011"
      ],
      "text/plain": [
       "<IPython.core.display.HTML object>"
      ]
     },
     "metadata": {},
     "output_type": "display_data"
    },
    {
     "name": "stdout",
     "output_type": "stream",
     "text": [
      "None\n"
     ]
    },
    {
     "data": {
      "text/html": [
       "<a href=\"https://ks-yanao.ru/novosti/o-vakhte-pamyati-rasskazhut-virtualno.html\">О «Вахте Памяти» расскажут виртуально</a> — -0.007409202477075619"
      ],
      "text/plain": [
       "<IPython.core.display.HTML object>"
      ]
     },
     "metadata": {},
     "output_type": "display_data"
    },
    {
     "name": "stdout",
     "output_type": "stream",
     "text": [
      "None\n"
     ]
    },
    {
     "data": {
      "text/html": [
       "<a href=\"https://ks-yanao.ru/novosti/na-yamale-sostavili-reyting-denezhnykh-vakansiy.html\">На Ямале составили рейтинг денежных вакансий</a> — -0.007469426122720006"
      ],
      "text/plain": [
       "<IPython.core.display.HTML object>"
      ]
     },
     "metadata": {},
     "output_type": "display_data"
    },
    {
     "name": "stdout",
     "output_type": "stream",
     "text": [
      "None\n"
     ]
    },
    {
     "data": {
      "text/html": [
       "<a href=\"https://ks-yanao.ru/novosti/kolyaski-tyuninguyut-prisutstvie-rebyenka-obyazatelno.html\">Коляски тюнингуют. Присутствие ребёнка обязательно</a> — -0.007485415373651765"
      ],
      "text/plain": [
       "<IPython.core.display.HTML object>"
      ]
     },
     "metadata": {},
     "output_type": "display_data"
    },
    {
     "name": "stdout",
     "output_type": "stream",
     "text": [
      "None\n"
     ]
    },
    {
     "data": {
      "text/html": [
       "<a href=\"https://ks-yanao.ru/novosti/zhiteli-noyabrska-potyanulis-v-bolnitsu-vnyav-prizyvam-vrachey.html\">Жители Ноябрьска  потянулись в больницу, вняв призывам врачей</a> — -0.007487479509220407"
      ],
      "text/plain": [
       "<IPython.core.display.HTML object>"
      ]
     },
     "metadata": {},
     "output_type": "display_data"
    },
    {
     "name": "stdout",
     "output_type": "stream",
     "text": [
      "None\n"
     ]
    },
    {
     "data": {
      "text/html": [
       "<a href=\"https://ks-yanao.ru/novosti/spetsnaz-otmechaet-yubiley-.html\">Спецназ отмечает юбилей</a> — -0.007512086288482058"
      ],
      "text/plain": [
       "<IPython.core.display.HTML object>"
      ]
     },
     "metadata": {},
     "output_type": "display_data"
    },
    {
     "name": "stdout",
     "output_type": "stream",
     "text": [
      "None\n"
     ]
    },
    {
     "data": {
      "text/html": [
       "<a href=\"https://ks-yanao.ru/novosti/gubernator-nagrazhdaet-zasluzhennykh-yamaltsev-.html\">Губернатор награждает заслуженных ямальцев</a> — -0.007512296894069128"
      ],
      "text/plain": [
       "<IPython.core.display.HTML object>"
      ]
     },
     "metadata": {},
     "output_type": "display_data"
    },
    {
     "name": "stdout",
     "output_type": "stream",
     "text": [
      "None\n"
     ]
    },
    {
     "data": {
      "text/html": [
       "<a href=\"https://ks-yanao.ru/novosti/pernatye-oblyubovali-mostovye-perekhody.html\">Пернатые облюбовали мостовые переходы</a> — -0.007538777019767218"
      ],
      "text/plain": [
       "<IPython.core.display.HTML object>"
      ]
     },
     "metadata": {},
     "output_type": "display_data"
    },
    {
     "name": "stdout",
     "output_type": "stream",
     "text": [
      "None\n"
     ]
    },
    {
     "data": {
      "text/html": [
       "<a href=\"https://ks-yanao.ru/novosti/yamalskiy-rosreestr-luchshiy-v-rossii.html\">Ямальский Росреестр – лучший в России</a> — -0.007570223299944976"
      ],
      "text/plain": [
       "<IPython.core.display.HTML object>"
      ]
     },
     "metadata": {},
     "output_type": "display_data"
    },
    {
     "name": "stdout",
     "output_type": "stream",
     "text": [
      "None\n"
     ]
    },
    {
     "data": {
      "text/html": [
       "<a href=\"https://ks-yanao.ru/novosti/samaya-deshyevaya-ipoteka-dlya-mnogodetnykh.html\">Самая дешёвая ипотека –  для многодетных</a> — -0.007592107428051394"
      ],
      "text/plain": [
       "<IPython.core.display.HTML object>"
      ]
     },
     "metadata": {},
     "output_type": "display_data"
    },
    {
     "name": "stdout",
     "output_type": "stream",
     "text": [
      "None\n"
     ]
    },
    {
     "data": {
      "text/html": [
       "<a href=\"https://ks-yanao.ru/novosti/soznatelnykh-sobstvennikov-pooshchryayut-kapremontom.html\">Сознательных собственников поощряют капремонтом</a> — -0.007597141231493018"
      ],
      "text/plain": [
       "<IPython.core.display.HTML object>"
      ]
     },
     "metadata": {},
     "output_type": "display_data"
    },
    {
     "name": "stdout",
     "output_type": "stream",
     "text": [
      "None\n"
     ]
    },
    {
     "data": {
      "text/html": [
       "<a href=\"https://ks-yanao.ru/novosti/pervomay-prishyel-na-yamal.html\">Первомай пришёл на Ямал!</a> — -0.007609357003973991"
      ],
      "text/plain": [
       "<IPython.core.display.HTML object>"
      ]
     },
     "metadata": {},
     "output_type": "display_data"
    },
    {
     "name": "stdout",
     "output_type": "stream",
     "text": [
      "None\n"
     ]
    },
    {
     "data": {
      "text/html": [
       "<a href=\"https://ks-yanao.ru/novosti/strakhovshchiki-proveryat-lechenie-ne-otkhodya-ot-koyki.html\">Страховщики проверят лечение, не отходя от койки</a> — -0.007637591738707146"
      ],
      "text/plain": [
       "<IPython.core.display.HTML object>"
      ]
     },
     "metadata": {},
     "output_type": "display_data"
    },
    {
     "name": "stdout",
     "output_type": "stream",
     "text": [
      "None\n"
     ]
    },
    {
     "data": {
      "text/html": [
       "<a href=\"https://ks-yanao.ru/novosti/novourengoyskaya-skandalistka-ugrozhavshaya-vzorvat-aeroport-raskaivaetsya.html\">Новоуренгойская скандалистка, угрожавшая взорвать аэропорт, раскаивается</a> — -0.00773076861295759"
      ],
      "text/plain": [
       "<IPython.core.display.HTML object>"
      ]
     },
     "metadata": {},
     "output_type": "display_data"
    },
    {
     "name": "stdout",
     "output_type": "stream",
     "text": [
      "None\n"
     ]
    },
    {
     "data": {
      "text/html": [
       "<a href=\"https://ks-yanao.ru/novosti/blagotvoritelnyy-marafon-v-novom-urengoe-pobil-rekord-.html\">Благотворительный марафон в Новом Уренгое побил рекорд</a> — -0.00773840917023263"
      ],
      "text/plain": [
       "<IPython.core.display.HTML object>"
      ]
     },
     "metadata": {},
     "output_type": "display_data"
    },
    {
     "name": "stdout",
     "output_type": "stream",
     "text": [
      "None\n"
     ]
    },
    {
     "data": {
      "text/html": [
       "<a href=\"https://ks-yanao.ru/novosti/noyabryane-pokhvastalis-detskimi-kolyaskami.html\">В Ноябрьске детей возили в цветах и на ледоколах</a> — -0.007747311660053463"
      ],
      "text/plain": [
       "<IPython.core.display.HTML object>"
      ]
     },
     "metadata": {},
     "output_type": "display_data"
    },
    {
     "name": "stdout",
     "output_type": "stream",
     "text": [
      "None\n"
     ]
    },
    {
     "data": {
      "text/html": [
       "<a href=\"https://ks-yanao.ru/novosti/yamaltsy-ekhali-otdykhat-iz-sosednikh-regionov.html\">Ямальцы ехали отдыхать из соседних регионов</a> — -0.007818630416572676"
      ],
      "text/plain": [
       "<IPython.core.display.HTML object>"
      ]
     },
     "metadata": {},
     "output_type": "display_data"
    },
    {
     "name": "stdout",
     "output_type": "stream",
     "text": [
      "None\n"
     ]
    },
    {
     "data": {
      "text/html": [
       "<a href=\"https://ks-yanao.ru/novosti/po-sanktsiyam-motoprobegom.html\">По санкциям – мотопробегом!</a> — -0.007854732636809211"
      ],
      "text/plain": [
       "<IPython.core.display.HTML object>"
      ]
     },
     "metadata": {},
     "output_type": "display_data"
    },
    {
     "name": "stdout",
     "output_type": "stream",
     "text": [
      "None\n"
     ]
    },
    {
     "data": {
      "text/html": [
       "<a href=\"https://ks-yanao.ru/novosti/v-noyabrske-chast-shkolnikov-pereshla-na-pyatidnevku.html\">В Ноябрьске часть школьников перешла на «пятидневку»</a> — -0.007906741236829924"
      ],
      "text/plain": [
       "<IPython.core.display.HTML object>"
      ]
     },
     "metadata": {},
     "output_type": "display_data"
    },
    {
     "name": "stdout",
     "output_type": "stream",
     "text": [
      "None\n"
     ]
    },
    {
     "data": {
      "text/html": [
       "<a href=\"https://ks-yanao.ru/novosti/novyy-urengoy-tam-gde-byla-svalka-teper-budet-tsvetushchiy-lug.html\">На месте новоуренгойской свалки выросли цветы</a> — -0.00790865428196445"
      ],
      "text/plain": [
       "<IPython.core.display.HTML object>"
      ]
     },
     "metadata": {},
     "output_type": "display_data"
    },
    {
     "name": "stdout",
     "output_type": "stream",
     "text": [
      "None\n"
     ]
    },
    {
     "data": {
      "text/html": [
       "<a href=\"https://ks-yanao.ru/novosti/opticheskie-seti-zakapyvayut-v-zemlyu.html\">Оптические сети закапывают в землю</a> — -0.007989302773024879"
      ],
      "text/plain": [
       "<IPython.core.display.HTML object>"
      ]
     },
     "metadata": {},
     "output_type": "display_data"
    },
    {
     "name": "stdout",
     "output_type": "stream",
     "text": [
      "None\n"
     ]
    },
    {
     "data": {
      "text/html": [
       "<a href=\"https://ks-yanao.ru/novosti/na-yamale-zafiksirovano-kriticheskoe-chislo-razvodov.html\">На Ямале зафиксировано критическое число разводов</a> — -0.008004149033777958"
      ],
      "text/plain": [
       "<IPython.core.display.HTML object>"
      ]
     },
     "metadata": {},
     "output_type": "display_data"
    },
    {
     "name": "stdout",
     "output_type": "stream",
     "text": [
      "None\n"
     ]
    },
    {
     "data": {
      "text/html": [
       "<a href=\"https://ks-yanao.ru/novosti/v-novom-urengoe-prazdnichnyy-ostrovok-ustroili-v-sadko.html\">В Новом Уренгое праздничный островок устроили в «Садко»</a> — -0.008043609111436659"
      ],
      "text/plain": [
       "<IPython.core.display.HTML object>"
      ]
     },
     "metadata": {},
     "output_type": "display_data"
    },
    {
     "name": "stdout",
     "output_type": "stream",
     "text": [
      "None\n"
     ]
    },
    {
     "data": {
      "text/html": [
       "<a href=\"https://ks-yanao.ru/novosti/do-12-noyabrya-podavayte-raboty-na-fotokonkurs-otdykhaem-v-rossii.html\">До 12 ноября подавайте работы на фотоконкурс «Отдыхаем в России»</a> — -0.008079232023149521"
      ],
      "text/plain": [
       "<IPython.core.display.HTML object>"
      ]
     },
     "metadata": {},
     "output_type": "display_data"
    },
    {
     "name": "stdout",
     "output_type": "stream",
     "text": [
      "None\n"
     ]
    },
    {
     "data": {
      "text/html": [
       "<a href=\"https://ks-yanao.ru/novosti/energetiki-toporami-otgonyayut-pozhary.html\">Энергетики топорами «отгоняют» пожары</a> — -0.008088675798777182"
      ],
      "text/plain": [
       "<IPython.core.display.HTML object>"
      ]
     },
     "metadata": {},
     "output_type": "display_data"
    },
    {
     "name": "stdout",
     "output_type": "stream",
     "text": [
      "None\n"
     ]
    },
    {
     "data": {
      "text/html": [
       "<a href=\"https://ks-yanao.ru/novosti/v-noyabrske-politsiya-razyskivaet-patsienta-psikhonevrologicheskogo-dispansera.html\">В Ноябрьске полиция разыскивает пациента психоневрологического диспансера</a> — -0.008096219118084242"
      ],
      "text/plain": [
       "<IPython.core.display.HTML object>"
      ]
     },
     "metadata": {},
     "output_type": "display_data"
    },
    {
     "name": "stdout",
     "output_type": "stream",
     "text": [
      "None\n"
     ]
    },
    {
     "data": {
      "text/html": [
       "<a href=\"https://ks-yanao.ru/novosti/orden-krasnoy-zvezdy-sarry-simanovskoy-vernulsya-k-ee-naslednikam.html\">Орден Красной Звезды Сарры Симановской вернулся к ее наследникам</a> — -0.008109007287700223"
      ],
      "text/plain": [
       "<IPython.core.display.HTML object>"
      ]
     },
     "metadata": {},
     "output_type": "display_data"
    },
    {
     "name": "stdout",
     "output_type": "stream",
     "text": [
      "None\n"
     ]
    },
    {
     "data": {
      "text/html": [
       "<a href=\"https://ks-yanao.ru/novosti/v-noyabrske-proshel-tretiy-okruzhnoy-fitnes-festival-bud-v-forme-.html\">В Ноябрьске прошел третий окружной фитнес-фестиваль «Будь в форме!»</a> — -0.008111868889239952"
      ],
      "text/plain": [
       "<IPython.core.display.HTML object>"
      ]
     },
     "metadata": {},
     "output_type": "display_data"
    },
    {
     "name": "stdout",
     "output_type": "stream",
     "text": [
      "None\n"
     ]
    },
    {
     "data": {
      "text/html": [
       "<a href=\"https://ks-yanao.ru/novosti/podozrevaemykh-v-brakonerstve-vzyali-za-shkuru.html\">Подозреваемых в браконьерстве взяли за шкуру</a> — -0.00816285096247197"
      ],
      "text/plain": [
       "<IPython.core.display.HTML object>"
      ]
     },
     "metadata": {},
     "output_type": "display_data"
    },
    {
     "name": "stdout",
     "output_type": "stream",
     "text": [
      "None\n"
     ]
    },
    {
     "data": {
      "text/html": [
       "<a href=\"https://ks-yanao.ru/novosti/salekhardtsy-proshestvovali-v-bessmertnom-polku.html\">Салехардцы прошествовали в «Бессмертном полку»</a> — -0.00830119592159449"
      ],
      "text/plain": [
       "<IPython.core.display.HTML object>"
      ]
     },
     "metadata": {},
     "output_type": "display_data"
    },
    {
     "name": "stdout",
     "output_type": "stream",
     "text": [
      "None\n"
     ]
    },
    {
     "data": {
      "text/html": [
       "<a href=\"https://ks-yanao.ru/novosti/v-detskikh-sadakh-novogo-urengoya-kormyat-vkusnee.html\">В детских садах Нового Уренгоя кормят вкуснее</a> — -0.00833754004406499"
      ],
      "text/plain": [
       "<IPython.core.display.HTML object>"
      ]
     },
     "metadata": {},
     "output_type": "display_data"
    },
    {
     "name": "stdout",
     "output_type": "stream",
     "text": [
      "None\n"
     ]
    },
    {
     "data": {
      "text/html": [
       "<a href=\"https://ks-yanao.ru/novosti/nash-okrug-v-troyke-liderov-po-zarplate-i-urovnyu-zhizni.html\">Наш округ – в тройке лидеров  по зарплате и уровню жизни</a> — -0.008347898227910214"
      ],
      "text/plain": [
       "<IPython.core.display.HTML object>"
      ]
     },
     "metadata": {},
     "output_type": "display_data"
    },
    {
     "name": "stdout",
     "output_type": "stream",
     "text": [
      "None\n"
     ]
    },
    {
     "data": {
      "text/html": [
       "<a href=\"https://ks-yanao.ru/novosti/v-salekharde-trudnye-podrostki-vozvodyat-besedku.html\">В Салехарде трудные подростки возводят беседку</a> — -0.008356043274956112"
      ],
      "text/plain": [
       "<IPython.core.display.HTML object>"
      ]
     },
     "metadata": {},
     "output_type": "display_data"
    },
    {
     "name": "stdout",
     "output_type": "stream",
     "text": [
      "None\n"
     ]
    },
    {
     "data": {
      "text/html": [
       "<a href=\"https://ks-yanao.ru/novosti/zimniki-mogut-zakrytsya-v-lyuboy-moment.html\">Зимники могут закрыться в любой момент</a> — -0.008387199541653378"
      ],
      "text/plain": [
       "<IPython.core.display.HTML object>"
      ]
     },
     "metadata": {},
     "output_type": "display_data"
    },
    {
     "name": "stdout",
     "output_type": "stream",
     "text": [
      "None\n"
     ]
    },
    {
     "data": {
      "text/html": [
       "<a href=\"https://ks-yanao.ru/novosti/v-gubkinskom-muzhchina-zabil-sobutylnika-nasmert-golymi-rukami.html\">В Губкинском мужчина забил собутыльника голыми руками</a> — -0.008401202470198012"
      ],
      "text/plain": [
       "<IPython.core.display.HTML object>"
      ]
     },
     "metadata": {},
     "output_type": "display_data"
    },
    {
     "name": "stdout",
     "output_type": "stream",
     "text": [
      "None\n"
     ]
    },
    {
     "data": {
      "text/html": [
       "<a href=\"https://ks-yanao.ru/novosti/yamaltsy-stali-khuzhe-sledit-za-stvolami.html\">﻿Ямальцы стали хуже следить за «стволами»</a> — -0.008428047150483986"
      ],
      "text/plain": [
       "<IPython.core.display.HTML object>"
      ]
     },
     "metadata": {},
     "output_type": "display_data"
    },
    {
     "name": "stdout",
     "output_type": "stream",
     "text": [
      "None\n"
     ]
    },
    {
     "data": {
      "text/html": [
       "<a href=\"https://ks-yanao.ru/novosti/gazodobytchiki-podderzhat-detskiy-sport-i-tvorchestvo.html\">Газодобытчики поддержат детский спорт и творчество</a> — -0.008451228089965557"
      ],
      "text/plain": [
       "<IPython.core.display.HTML object>"
      ]
     },
     "metadata": {},
     "output_type": "display_data"
    },
    {
     "name": "stdout",
     "output_type": "stream",
     "text": [
      "None\n"
     ]
    },
    {
     "data": {
      "text/html": [
       "<a href=\"https://ks-yanao.ru/novosti/v-nadyme-prodvigayut-brend-myasnykh-delikatesov.html\">В Надыме продвигают бренд мясных деликатесов</a> — -0.008494413141654663"
      ],
      "text/plain": [
       "<IPython.core.display.HTML object>"
      ]
     },
     "metadata": {},
     "output_type": "display_data"
    },
    {
     "name": "stdout",
     "output_type": "stream",
     "text": [
      "None\n"
     ]
    },
    {
     "data": {
      "text/html": [
       "<a href=\"https://ks-yanao.ru/novosti/studenty-yamalskogo-mnogoprofilnogo-kolledzha-vzyali-pernatykh-pod-opeku.html\">Студенты Ямальского многопрофильного колледжа взяли пернатых под опеку</a> — -0.00866792845589601"
      ],
      "text/plain": [
       "<IPython.core.display.HTML object>"
      ]
     },
     "metadata": {},
     "output_type": "display_data"
    },
    {
     "name": "stdout",
     "output_type": "stream",
     "text": [
      "None\n"
     ]
    },
    {
     "data": {
      "text/html": [
       "<a href=\"https://ks-yanao.ru/novosti/podpiska-za-pravilnyy-otvet.html\">Подписка – за правильный ответ</a> — -0.008713212841216539"
      ],
      "text/plain": [
       "<IPython.core.display.HTML object>"
      ]
     },
     "metadata": {},
     "output_type": "display_data"
    },
    {
     "name": "stdout",
     "output_type": "stream",
     "text": [
      "None\n"
     ]
    },
    {
     "data": {
      "text/html": [
       "<a href=\"https://ks-yanao.ru/novosti/na-yamale-razdayut-granty-na-razvitie-turizma.html\">На Ямале раздают гранты на развитие туризма</a> — -0.008745783260152977"
      ],
      "text/plain": [
       "<IPython.core.display.HTML object>"
      ]
     },
     "metadata": {},
     "output_type": "display_data"
    },
    {
     "name": "stdout",
     "output_type": "stream",
     "text": [
      "None\n"
     ]
    },
    {
     "data": {
      "text/html": [
       "<a href=\"https://ks-yanao.ru/novosti/v-salekharde-poyavitsya-novyy-simvol.html\">В Салехарде появится новый символ</a> — -0.008811063663148402"
      ],
      "text/plain": [
       "<IPython.core.display.HTML object>"
      ]
     },
     "metadata": {},
     "output_type": "display_data"
    },
    {
     "name": "stdout",
     "output_type": "stream",
     "text": [
      "None\n"
     ]
    },
    {
     "data": {
      "text/html": [
       "<a href=\"https://ks-yanao.ru/novosti/yamaltsy-poboryutsya-za-zvanie-luchshego-gida-rossii.html\">Ямальцы поборются за звание лучшего гида России</a> — -0.008864699080509022"
      ],
      "text/plain": [
       "<IPython.core.display.HTML object>"
      ]
     },
     "metadata": {},
     "output_type": "display_data"
    },
    {
     "name": "stdout",
     "output_type": "stream",
     "text": [
      "None\n"
     ]
    },
    {
     "data": {
      "text/html": [
       "<a href=\"https://ks-yanao.ru/novosti/v-noyabrske-otmetili-den-letnego-solntsestoyaniya.html\">В Ноябрьске отметили День летнего солнцестояния</a> — -0.008870052767844774"
      ],
      "text/plain": [
       "<IPython.core.display.HTML object>"
      ]
     },
     "metadata": {},
     "output_type": "display_data"
    },
    {
     "name": "stdout",
     "output_type": "stream",
     "text": [
      "None\n"
     ]
    },
    {
     "data": {
      "text/html": [
       "<a href=\"https://ks-yanao.ru/novosti/na-yamale-vvedyen-protivopozharnyy-rezhim.html\">На Ямале введён противопожарный режим</a> — -0.008900081487565933"
      ],
      "text/plain": [
       "<IPython.core.display.HTML object>"
      ]
     },
     "metadata": {},
     "output_type": "display_data"
    },
    {
     "name": "stdout",
     "output_type": "stream",
     "text": [
      "None\n"
     ]
    },
    {
     "data": {
      "text/html": [
       "<a href=\"https://ks-yanao.ru/novosti/v-salekharde-prezentovali-novyy-sportkompleks-pod-otkrytym-nebom.html\">В Салехарде презентовали новый спорткомплекс под открытым небом</a> — -0.008907978926614364"
      ],
      "text/plain": [
       "<IPython.core.display.HTML object>"
      ]
     },
     "metadata": {},
     "output_type": "display_data"
    },
    {
     "name": "stdout",
     "output_type": "stream",
     "text": [
      "None\n"
     ]
    },
    {
     "data": {
      "text/html": [
       "<a href=\"https://ks-yanao.ru/novosti/olenevodam-mira-rasskazhut-o-yamalskom-opyte.html\">Оленеводам мира расскажут о ямальском опыте</a> — -0.008933115024665109"
      ],
      "text/plain": [
       "<IPython.core.display.HTML object>"
      ]
     },
     "metadata": {},
     "output_type": "display_data"
    },
    {
     "name": "stdout",
     "output_type": "stream",
     "text": [
      "None\n"
     ]
    },
    {
     "data": {
      "text/html": [
       "<a href=\"https://ks-yanao.ru/novosti/ne-sezon-a-serye-norki-popadayutsya.html\">Не сезон, а «серые» норки попадаются</a> — -0.008959210600908643"
      ],
      "text/plain": [
       "<IPython.core.display.HTML object>"
      ]
     },
     "metadata": {},
     "output_type": "display_data"
    },
    {
     "name": "stdout",
     "output_type": "stream",
     "text": [
      "None\n"
     ]
    },
    {
     "data": {
      "text/html": [
       "<a href=\"https://ks-yanao.ru/novosti/dmitriy-zayakin-vnov-vozglavil-obshchestvennuyu-palatu-yanao.html\">Дмитрий Заякин вновь возглавил Общественную палату ЯНАО</a> — -0.00896563217376323"
      ],
      "text/plain": [
       "<IPython.core.display.HTML object>"
      ]
     },
     "metadata": {},
     "output_type": "display_data"
    },
    {
     "name": "stdout",
     "output_type": "stream",
     "text": [
      "None\n"
     ]
    },
    {
     "data": {
      "text/html": [
       "<a href=\"https://ks-yanao.ru/novosti/v-salekharde-sostoyalsya-vtoroy-parad-sudov.html\">В Салехарде состоялся второй парад судов (ФОТО, ВИДЕО)</a> — -0.008978085746055221"
      ],
      "text/plain": [
       "<IPython.core.display.HTML object>"
      ]
     },
     "metadata": {},
     "output_type": "display_data"
    },
    {
     "name": "stdout",
     "output_type": "stream",
     "text": [
      "None\n"
     ]
    },
    {
     "data": {
      "text/html": [
       "<a href=\"https://ks-yanao.ru/novosti/yamalskaya-trassa-stanet-federalnoy.html\">Ямальская трасса станет федеральной</a> — -0.008995843322982072"
      ],
      "text/plain": [
       "<IPython.core.display.HTML object>"
      ]
     },
     "metadata": {},
     "output_type": "display_data"
    },
    {
     "name": "stdout",
     "output_type": "stream",
     "text": [
      "None\n"
     ]
    },
    {
     "data": {
      "text/html": [
       "<a href=\"https://ks-yanao.ru/novosti/na-perepravu-pustili-shest-paromov.html\">На переправу пустили шесть паромов</a> — -0.009003231275008116"
      ],
      "text/plain": [
       "<IPython.core.display.HTML object>"
      ]
     },
     "metadata": {},
     "output_type": "display_data"
    },
    {
     "name": "stdout",
     "output_type": "stream",
     "text": [
      "None\n"
     ]
    },
    {
     "data": {
      "text/html": [
       "<a href=\"https://ks-yanao.ru/novosti/iz-krasnoselkupa-ushla-pervaya-barzha-s-otpusknikami.html\">Из Красноселькупа ушла первая баржа с отпускниками</a> — -0.009132225463991788"
      ],
      "text/plain": [
       "<IPython.core.display.HTML object>"
      ]
     },
     "metadata": {},
     "output_type": "display_data"
    },
    {
     "name": "stdout",
     "output_type": "stream",
     "text": [
      "None\n"
     ]
    },
    {
     "data": {
      "text/html": [
       "<a href=\"https://ks-yanao.ru/novosti/kitaytsy-predlagayut-svoi-osheyniki-dlya-yamalskikh-pernatykh.html\">Китайцы предлагают свои ошейники для ямальских пернатых</a> — -0.009177409067171013"
      ],
      "text/plain": [
       "<IPython.core.display.HTML object>"
      ]
     },
     "metadata": {},
     "output_type": "display_data"
    },
    {
     "name": "stdout",
     "output_type": "stream",
     "text": [
      "None\n"
     ]
    },
    {
     "data": {
      "text/html": [
       "<a href=\"https://ks-yanao.ru/novosti/rebenok-popal-v-reanimatsiyu-v-rezultate-avarii-v-yamalskom-rayone.html\">Ребенок попал в реанимацию в результате аварии в Ямальском районе</a> — -0.009239874473796499"
      ],
      "text/plain": [
       "<IPython.core.display.HTML object>"
      ]
     },
     "metadata": {},
     "output_type": "display_data"
    },
    {
     "name": "stdout",
     "output_type": "stream",
     "text": [
      "None\n"
     ]
    },
    {
     "data": {
      "text/html": [
       "<a href=\"https://ks-yanao.ru/novosti/vintokryluyu-trudyagu-pochtili-za-stazh.html\">Винтокрылого трудягу почтили за стаж</a> — -0.009249573078325666"
      ],
      "text/plain": [
       "<IPython.core.display.HTML object>"
      ]
     },
     "metadata": {},
     "output_type": "display_data"
    },
    {
     "name": "stdout",
     "output_type": "stream",
     "text": [
      "None\n"
     ]
    },
    {
     "data": {
      "text/html": [
       "<a href=\"https://ks-yanao.ru/novosti/yamalskaya-sportsmenka-vyigrala-chempionat-strany.html\">Ямальская спортсменка выиграла чемпионат страны</a> — -0.009249701061146278"
      ],
      "text/plain": [
       "<IPython.core.display.HTML object>"
      ]
     },
     "metadata": {},
     "output_type": "display_data"
    },
    {
     "name": "stdout",
     "output_type": "stream",
     "text": [
      "None\n"
     ]
    },
    {
     "data": {
      "text/html": [
       "<a href=\"https://ks-yanao.ru/novosti/yamaltsy-provedut-sutki-na-brone.html\">Ямальцы проведут «сутки на броне»</a> — -0.009295178784322405"
      ],
      "text/plain": [
       "<IPython.core.display.HTML object>"
      ]
     },
     "metadata": {},
     "output_type": "display_data"
    },
    {
     "name": "stdout",
     "output_type": "stream",
     "text": [
      "None\n"
     ]
    },
    {
     "data": {
      "text/html": [
       "<a href=\"https://ks-yanao.ru/novosti/permyaka-podozrevayut-v-razvrashchenii-yunykh-severyanok.html\">Пермяка подозревают в развращении юных северянок</a> — -0.009309019056417702"
      ],
      "text/plain": [
       "<IPython.core.display.HTML object>"
      ]
     },
     "metadata": {},
     "output_type": "display_data"
    },
    {
     "name": "stdout",
     "output_type": "stream",
     "text": [
      "None\n"
     ]
    },
    {
     "data": {
      "text/html": [
       "<a href=\"https://ks-yanao.ru/novosti/na-yamal-vernulis-lebedi.html\">На Ямал вернулись лебеди</a> — -0.009343601542291335"
      ],
      "text/plain": [
       "<IPython.core.display.HTML object>"
      ]
     },
     "metadata": {},
     "output_type": "display_data"
    },
    {
     "name": "stdout",
     "output_type": "stream",
     "text": [
      "None\n"
     ]
    },
    {
     "data": {
      "text/html": [
       "<a href=\"https://ks-yanao.ru/novosti/sluzhivym-po-kontraktu-predlagayut-neplokhie-perspektivy.html\">Служивым по контракту предлагают  неплохие перспективы</a> — -0.009500878749811712"
      ],
      "text/plain": [
       "<IPython.core.display.HTML object>"
      ]
     },
     "metadata": {},
     "output_type": "display_data"
    },
    {
     "name": "stdout",
     "output_type": "stream",
     "text": [
      "None\n"
     ]
    },
    {
     "data": {
      "text/html": [
       "<a href=\"https://ks-yanao.ru/novosti/sledovateli-vyyasnili-kak-pogibla-11-letnyaya-devochka.html\">Следователи выяснили, как погибла 11-летняя девочка</a> — -0.009519629353110928"
      ],
      "text/plain": [
       "<IPython.core.display.HTML object>"
      ]
     },
     "metadata": {},
     "output_type": "display_data"
    },
    {
     "name": "stdout",
     "output_type": "stream",
     "text": [
      "None\n"
     ]
    },
    {
     "data": {
      "text/html": [
       "<a href=\"https://ks-yanao.ru/novosti/fotograf-ks-uchastvuet-v-natsionalnom-proekte-odin-den-iz-zhizni-rossii.html\">Фотограф «КС» участвует в национальном проекте «Один день из жизни России»</a> — -0.009540659003129802"
      ],
      "text/plain": [
       "<IPython.core.display.HTML object>"
      ]
     },
     "metadata": {},
     "output_type": "display_data"
    },
    {
     "name": "stdout",
     "output_type": "stream",
     "text": [
      "None\n"
     ]
    },
    {
     "data": {
      "text/html": [
       "<a href=\"https://ks-yanao.ru/novosti/gvardeytsy-na-yamale-vstretili-novyy-prazdnik.html\">Гвардейцы на Ямале встретили новый праздник</a> — -0.009559361505051807"
      ],
      "text/plain": [
       "<IPython.core.display.HTML object>"
      ]
     },
     "metadata": {},
     "output_type": "display_data"
    },
    {
     "name": "stdout",
     "output_type": "stream",
     "text": [
      "None\n"
     ]
    },
    {
     "data": {
      "text/html": [
       "<a href=\"https://ks-yanao.ru/novosti/sud-obyazal-gazovuyu-stolitsu-navesti-marafet.html\">Суд обязал газовую столицу навести марафет</a> — -0.009569772746386708"
      ],
      "text/plain": [
       "<IPython.core.display.HTML object>"
      ]
     },
     "metadata": {},
     "output_type": "display_data"
    },
    {
     "name": "stdout",
     "output_type": "stream",
     "text": [
      "None\n"
     ]
    },
    {
     "data": {
      "text/html": [
       "<a href=\"https://ks-yanao.ru/novosti/smi-pomogli-politsii-nayti-zhenshchinu-lishyennuyu-roditelskikh-prav.html\">СМИ помогли полиции найти женщину, лишённую родительских прав</a> — -0.009621544653554972"
      ],
      "text/plain": [
       "<IPython.core.display.HTML object>"
      ]
     },
     "metadata": {},
     "output_type": "display_data"
    },
    {
     "name": "stdout",
     "output_type": "stream",
     "text": [
      "None\n"
     ]
    },
    {
     "data": {
      "text/html": [
       "<a href=\"https://ks-yanao.ru/novosti/v-gazovoy-stolitse-proshyel-vtoroy-yamalskiy-marafon.html\">В газовой столице прошёл второй Ямальский марафон</a> — -0.009634514344504758"
      ],
      "text/plain": [
       "<IPython.core.display.HTML object>"
      ]
     },
     "metadata": {},
     "output_type": "display_data"
    },
    {
     "name": "stdout",
     "output_type": "stream",
     "text": [
      "None\n"
     ]
    },
    {
     "data": {
      "text/html": [
       "<a href=\"https://ks-yanao.ru/novosti/v-noyabrske-narod-zazyvayut-na-voroniy-den.html\">В Ноябрьске народ зазывают на Вороний день</a> — -0.009672099333236577"
      ],
      "text/plain": [
       "<IPython.core.display.HTML object>"
      ]
     },
     "metadata": {},
     "output_type": "display_data"
    },
    {
     "name": "stdout",
     "output_type": "stream",
     "text": [
      "None\n"
     ]
    },
    {
     "data": {
      "text/html": [
       "<a href=\"https://ks-yanao.ru/novosti/uchyenye-ustanovili-khanto-obmelelo-v-tri-raza.html\">Учёные установили: Ханто обмелело в три раза</a> — -0.009709116764166576"
      ],
      "text/plain": [
       "<IPython.core.display.HTML object>"
      ]
     },
     "metadata": {},
     "output_type": "display_data"
    },
    {
     "name": "stdout",
     "output_type": "stream",
     "text": [
      "None\n"
     ]
    },
    {
     "data": {
      "text/html": [
       "<a href=\"https://ks-yanao.ru/novosti/dlya-zhiteley-yamala-dorozhaet-elektroenergiya.html\">Для жителей Ямала дорожает электроэнергия</a> — -0.00972142601506206"
      ],
      "text/plain": [
       "<IPython.core.display.HTML object>"
      ]
     },
     "metadata": {},
     "output_type": "display_data"
    },
    {
     "name": "stdout",
     "output_type": "stream",
     "text": [
      "None\n"
     ]
    },
    {
     "data": {
      "text/html": [
       "<a href=\"https://ks-yanao.ru/novosti/salekhardtsam-ne-nuzhno-pryatat-konki-letom.html\">Салехардцам не нужно прятать коньки летом</a> — -0.009767991879275425"
      ],
      "text/plain": [
       "<IPython.core.display.HTML object>"
      ]
     },
     "metadata": {},
     "output_type": "display_data"
    },
    {
     "name": "stdout",
     "output_type": "stream",
     "text": [
      "None\n"
     ]
    },
    {
     "data": {
      "text/html": [
       "<a href=\"https://ks-yanao.ru/novosti/tyumenskaya-oblast-otmetila-73-yu-godovshchinu.html\">Тюменская область отметила 73-ю годовщину</a> — -0.009769681753416876"
      ],
      "text/plain": [
       "<IPython.core.display.HTML object>"
      ]
     },
     "metadata": {},
     "output_type": "display_data"
    },
    {
     "name": "stdout",
     "output_type": "stream",
     "text": [
      "None\n"
     ]
    },
    {
     "data": {
      "text/html": [
       "<a href=\"https://ks-yanao.ru/novosti/uraltsy-budut-gotovit-yastva-iz-chuma.html\">Уральцы будут готовить яства из чума</a> — -0.009878848941581461"
      ],
      "text/plain": [
       "<IPython.core.display.HTML object>"
      ]
     },
     "metadata": {},
     "output_type": "display_data"
    },
    {
     "name": "stdout",
     "output_type": "stream",
     "text": [
      "None\n"
     ]
    },
    {
     "data": {
      "text/html": [
       "<a href=\"https://ks-yanao.ru/novosti/so-stranits-ks-v-entsiklopediyu.html\">Со страниц «КС» – в энциклопедию</a> — -0.009939842911946958"
      ],
      "text/plain": [
       "<IPython.core.display.HTML object>"
      ]
     },
     "metadata": {},
     "output_type": "display_data"
    },
    {
     "name": "stdout",
     "output_type": "stream",
     "text": [
      "None\n"
     ]
    },
    {
     "data": {
      "text/html": [
       "<a href=\"https://ks-yanao.ru/novosti/v-krasnoselkupe-poyavilsya-novyy-artobekt.html\">В Красноселькупе появился новый артобъект</a> — -0.009983350467973651"
      ],
      "text/plain": [
       "<IPython.core.display.HTML object>"
      ]
     },
     "metadata": {},
     "output_type": "display_data"
    },
    {
     "name": "stdout",
     "output_type": "stream",
     "text": [
      "None\n"
     ]
    },
    {
     "data": {
      "text/html": [
       "<a href=\"https://ks-yanao.ru/novosti/yamalskie-mototsiklisty-napomnyat-o-chelovechnosti.html\">Ямальские мотоциклисты напомнят о человечности</a> — -0.010067427787450008"
      ],
      "text/plain": [
       "<IPython.core.display.HTML object>"
      ]
     },
     "metadata": {},
     "output_type": "display_data"
    },
    {
     "name": "stdout",
     "output_type": "stream",
     "text": [
      "None\n"
     ]
    },
    {
     "data": {
      "text/html": [
       "<a href=\"https://ks-yanao.ru/novosti/enterovirus-otstupaet-v-noyabrske-pangodakh-i-gubkinskom.html\">Энтеровирус отступает в Ноябрьске, Пангодах и Губкинском</a> — -0.010120034938364128"
      ],
      "text/plain": [
       "<IPython.core.display.HTML object>"
      ]
     },
     "metadata": {},
     "output_type": "display_data"
    },
    {
     "name": "stdout",
     "output_type": "stream",
     "text": [
      "None\n"
     ]
    },
    {
     "data": {
      "text/html": [
       "<a href=\"https://ks-yanao.ru/novosti/molodezhnyy-teatr-krylya-predstavit-yamal-v-krymskoy-tavride.html\">Молодежный театр «Крылья» представит Ямал в крымской «Тавриде»</a> — -0.010149837200649678"
      ],
      "text/plain": [
       "<IPython.core.display.HTML object>"
      ]
     },
     "metadata": {},
     "output_type": "display_data"
    },
    {
     "name": "stdout",
     "output_type": "stream",
     "text": [
      "None\n"
     ]
    },
    {
     "data": {
      "text/html": [
       "<a href=\"https://ks-yanao.ru/novosti/chto-nuzhno-uspet-do-leta.html\">Что нужно успеть до лета?</a> — -0.010165094330626042"
      ],
      "text/plain": [
       "<IPython.core.display.HTML object>"
      ]
     },
     "metadata": {},
     "output_type": "display_data"
    },
    {
     "name": "stdout",
     "output_type": "stream",
     "text": [
      "None\n"
     ]
    },
    {
     "data": {
      "text/html": [
       "<a href=\"https://ks-yanao.ru/novosti/pochtalon-iz-glubinki-shyet-luchshe-shveynykh-mashinok.html\">Почтальон из глубинки шьёт лучше швейных машинок</a> — -0.010175536910031237"
      ],
      "text/plain": [
       "<IPython.core.display.HTML object>"
      ]
     },
     "metadata": {},
     "output_type": "display_data"
    },
    {
     "name": "stdout",
     "output_type": "stream",
     "text": [
      "None\n"
     ]
    },
    {
     "data": {
      "text/html": [
       "<a href=\"https://ks-yanao.ru/novosti/dosrochnye-ekzameny-proshli-bez-narusheniy.html\">Досрочные экзамены прошли без нарушений</a> — -0.010229849346752919"
      ],
      "text/plain": [
       "<IPython.core.display.HTML object>"
      ]
     },
     "metadata": {},
     "output_type": "display_data"
    },
    {
     "name": "stdout",
     "output_type": "stream",
     "text": [
      "None\n"
     ]
    },
    {
     "data": {
      "text/html": [
       "<a href=\"https://ks-yanao.ru/novosti/17-avgusta-yubiley-pokoreniya-severnogo-polyusa.html\">Почему ледоколы не принято называть именем человека?</a> — -0.010233216728043495"
      ],
      "text/plain": [
       "<IPython.core.display.HTML object>"
      ]
     },
     "metadata": {},
     "output_type": "display_data"
    },
    {
     "name": "stdout",
     "output_type": "stream",
     "text": [
      "None\n"
     ]
    },
    {
     "data": {
      "text/html": [
       "<a href=\"https://ks-yanao.ru/novosti/gosduma-zashchitit-vrachey-ot-napadeniy.html\">Госдума защитит врачей от нападений</a> — -0.010234943553954925"
      ],
      "text/plain": [
       "<IPython.core.display.HTML object>"
      ]
     },
     "metadata": {},
     "output_type": "display_data"
    },
    {
     "name": "stdout",
     "output_type": "stream",
     "text": [
      "None\n"
     ]
    },
    {
     "data": {
      "text/html": [
       "<a href=\"https://ks-yanao.ru/novosti/nalogoplatelshchikov-priglashayut-v-mfts.html\">Налогоплательщиков приглашают в МФЦ</a> — -0.010278433089202026"
      ],
      "text/plain": [
       "<IPython.core.display.HTML object>"
      ]
     },
     "metadata": {},
     "output_type": "display_data"
    },
    {
     "name": "stdout",
     "output_type": "stream",
     "text": [
      "None\n"
     ]
    },
    {
     "data": {
      "text/html": [
       "<a href=\"https://ks-yanao.ru/novosti/v-muravlenko-zhdut-ekstremalnogo-zrelishcha.html\">В Муравленко ждут экстремального зрелища</a> — -0.0102863327265042"
      ],
      "text/plain": [
       "<IPython.core.display.HTML object>"
      ]
     },
     "metadata": {},
     "output_type": "display_data"
    },
    {
     "name": "stdout",
     "output_type": "stream",
     "text": [
      "None\n"
     ]
    },
    {
     "data": {
      "text/html": [
       "<a href=\"https://ks-yanao.ru/novosti/v-dtp-pod-tarko-sale-pogibla-34-letnyaya-zhenshchina.html\">В ДТП под Тарко-Сале погибла 34-летняя женщина</a> — -0.010296984989567482"
      ],
      "text/plain": [
       "<IPython.core.display.HTML object>"
      ]
     },
     "metadata": {},
     "output_type": "display_data"
    },
    {
     "name": "stdout",
     "output_type": "stream",
     "text": [
      "None\n"
     ]
    },
    {
     "data": {
      "text/html": [
       "<a href=\"https://ks-yanao.ru/novosti/elitnym-sportsmenam-razdali-zvyezdy.html\">Элитным спортсменам раздали звёзды</a> — -0.010376351361438049"
      ],
      "text/plain": [
       "<IPython.core.display.HTML object>"
      ]
     },
     "metadata": {},
     "output_type": "display_data"
    },
    {
     "name": "stdout",
     "output_type": "stream",
     "text": [
      "None\n"
     ]
    },
    {
     "data": {
      "text/html": [
       "<a href=\"https://ks-yanao.ru/novosti/semya-iz-novogo-urengoya-vyigrali-v-lotereyu-poltora-milliona-rubley.html\">Семья из Нового Уренгоя выиграла в лотерею полтора миллиона рублей</a> — -0.010406531749841014"
      ],
      "text/plain": [
       "<IPython.core.display.HTML object>"
      ]
     },
     "metadata": {},
     "output_type": "display_data"
    },
    {
     "name": "stdout",
     "output_type": "stream",
     "text": [
      "None\n"
     ]
    },
    {
     "data": {
      "text/html": [
       "<a href=\"https://ks-yanao.ru/novosti/piterskie-uchyenye-na-yamale-mogut-yabloni-tsvesti-no-bez-plodov.html\">Питерские учёные: на Ямале могут яблони цвести, но без плодов</a> — -0.01045300660335439"
      ],
      "text/plain": [
       "<IPython.core.display.HTML object>"
      ]
     },
     "metadata": {},
     "output_type": "display_data"
    },
    {
     "name": "stdout",
     "output_type": "stream",
     "text": [
      "None\n"
     ]
    },
    {
     "data": {
      "text/html": [
       "<a href=\"https://ks-yanao.ru/novosti/noyabrsk-pozdravil-svoego-50-tysyachnogo-novorozhdyennogo.html\">Ноябрьск поздравил своего 50-тысячного новорождённого</a> — -0.010497626690896707"
      ],
      "text/plain": [
       "<IPython.core.display.HTML object>"
      ]
     },
     "metadata": {},
     "output_type": "display_data"
    },
    {
     "name": "stdout",
     "output_type": "stream",
     "text": [
      "None\n"
     ]
    },
    {
     "data": {
      "text/html": [
       "<a href=\"https://ks-yanao.ru/novosti/porabotat-letom-priglashayut-noyabrskikh-podrostkov.html\">Поработать летом приглашают ноябрьских подростков</a> — -0.010554536625376322"
      ],
      "text/plain": [
       "<IPython.core.display.HTML object>"
      ]
     },
     "metadata": {},
     "output_type": "display_data"
    },
    {
     "name": "stdout",
     "output_type": "stream",
     "text": [
      "None\n"
     ]
    },
    {
     "data": {
      "text/html": [
       "<a href=\"https://ks-yanao.ru/novosti/v-voskresnoy-shkole-v-salekharde-prozvenel-posledniy-zvonok.html\">В воскресной школе в Салехарде прозвенел последний звонок</a> — -0.010568958849869997"
      ],
      "text/plain": [
       "<IPython.core.display.HTML object>"
      ]
     },
     "metadata": {},
     "output_type": "display_data"
    },
    {
     "name": "stdout",
     "output_type": "stream",
     "text": [
      "None\n"
     ]
    },
    {
     "data": {
      "text/html": [
       "<a href=\"https://ks-yanao.ru/novosti/kto-naberyet-bolshe-laykov-tot-pobeditel.html\">Кто наберёт больше лайков – тот победитель</a> — -0.010714791814616405"
      ],
      "text/plain": [
       "<IPython.core.display.HTML object>"
      ]
     },
     "metadata": {},
     "output_type": "display_data"
    },
    {
     "name": "stdout",
     "output_type": "stream",
     "text": [
      "None\n"
     ]
    },
    {
     "data": {
      "text/html": [
       "<a href=\"https://ks-yanao.ru/novosti/na-yamale-pogasyat-svet.html\">На Ямале погасят свет</a> — -0.010738118733751752"
      ],
      "text/plain": [
       "<IPython.core.display.HTML object>"
      ]
     },
     "metadata": {},
     "output_type": "display_data"
    },
    {
     "name": "stdout",
     "output_type": "stream",
     "text": [
      "None\n"
     ]
    },
    {
     "data": {
      "text/html": [
       "<a href=\"https://ks-yanao.ru/novosti/avtomatiku-na-dorogakh-privodyat-v-chuvstvo.html\">Автоматику на дорогах приводят в чувство</a> — -0.010838490476876399"
      ],
      "text/plain": [
       "<IPython.core.display.HTML object>"
      ]
     },
     "metadata": {},
     "output_type": "display_data"
    },
    {
     "name": "stdout",
     "output_type": "stream",
     "text": [
      "None\n"
     ]
    },
    {
     "data": {
      "text/html": [
       "<a href=\"https://ks-yanao.ru/novosti/salekhardtsam-bolshe-ne-pridetsya-prygat-po-dorozhnym-barashkam.html\">Салехардцам больше не придется прыгать по дорожным «барашкам»</a> — -0.01090938462837809"
      ],
      "text/plain": [
       "<IPython.core.display.HTML object>"
      ]
     },
     "metadata": {},
     "output_type": "display_data"
    },
    {
     "name": "stdout",
     "output_type": "stream",
     "text": [
      "None\n"
     ]
    },
    {
     "data": {
      "text/html": [
       "<a href=\"https://ks-yanao.ru/novosti/na-yamale-nachali-rasprostranyat-simvoly-pobedy.html\">На Ямале начали распространять «символы Победы»</a> — -0.01094057902671568"
      ],
      "text/plain": [
       "<IPython.core.display.HTML object>"
      ]
     },
     "metadata": {},
     "output_type": "display_data"
    },
    {
     "name": "stdout",
     "output_type": "stream",
     "text": [
      "None\n"
     ]
    },
    {
     "data": {
      "text/html": [
       "<a href=\"https://ks-yanao.ru/novosti/na-rybalku-i-okhotu-yamaltsa-dostavit-amerikanets.html\">На рыбалку и охоту ямальца доставит «американец»</a> — -0.010948847223593364"
      ],
      "text/plain": [
       "<IPython.core.display.HTML object>"
      ]
     },
     "metadata": {},
     "output_type": "display_data"
    },
    {
     "name": "stdout",
     "output_type": "stream",
     "text": [
      "None\n"
     ]
    },
    {
     "data": {
      "text/html": [
       "<a href=\"https://ks-yanao.ru/novosti/paskhalnye-otkrytki-raspechatali-na-zdorove.html\">Пасхальные открытки распечатали на здоровье</a> — -0.011077464027891826"
      ],
      "text/plain": [
       "<IPython.core.display.HTML object>"
      ]
     },
     "metadata": {},
     "output_type": "display_data"
    },
    {
     "name": "stdout",
     "output_type": "stream",
     "text": [
      "None\n"
     ]
    },
    {
     "data": {
      "text/html": [
       "<a href=\"https://ks-yanao.ru/novosti/yamal-uchastvuet-vo-vserossiyskoy-aktsii-krasnaya-gvozdika.html\">Ямал участвует во всероссийской акции «Красная гвоздика»</a> — -0.011085526014627362"
      ],
      "text/plain": [
       "<IPython.core.display.HTML object>"
      ]
     },
     "metadata": {},
     "output_type": "display_data"
    },
    {
     "name": "stdout",
     "output_type": "stream",
     "text": [
      "None\n"
     ]
    },
    {
     "data": {
      "text/html": [
       "<a href=\"https://ks-yanao.ru/novosti/na-nesovershennoletnego-barygu-vozbudili-12-ugolovnykh-del.html\">На несовершеннолетнего «барыгу» возбудили 12 уголовных дел</a> — -0.011168715891112912"
      ],
      "text/plain": [
       "<IPython.core.display.HTML object>"
      ]
     },
     "metadata": {},
     "output_type": "display_data"
    },
    {
     "name": "stdout",
     "output_type": "stream",
     "text": [
      "None\n"
     ]
    },
    {
     "data": {
      "text/html": [
       "<a href=\"https://ks-yanao.ru/novosti/na-ostrov-vilkitskogo-otpravyatsya-byvalye.html\">На остров Вилькицкого отправятся «бывалые»</a> — -0.011180888515445866"
      ],
      "text/plain": [
       "<IPython.core.display.HTML object>"
      ]
     },
     "metadata": {},
     "output_type": "display_data"
    },
    {
     "name": "stdout",
     "output_type": "stream",
     "text": [
      "None\n"
     ]
    },
    {
     "data": {
      "text/html": [
       "<a href=\"https://ks-yanao.ru/novosti/za-pravo-nazyvatsya-luchshim-borolis-vsego-dva-biznesmena.html\">За право называться лучшим боролись всего два бизнесмена</a> — -0.011192086558382407"
      ],
      "text/plain": [
       "<IPython.core.display.HTML object>"
      ]
     },
     "metadata": {},
     "output_type": "display_data"
    },
    {
     "name": "stdout",
     "output_type": "stream",
     "text": [
      "None\n"
     ]
    },
    {
     "data": {
      "text/html": [
       "<a href=\"https://ks-yanao.ru/novosti/minoborony-vydelilo-nadymskomu-rayonu-dva-tanka.html\">Минобороны выделило Надымскому району два танка</a> — -0.011217118745679024"
      ],
      "text/plain": [
       "<IPython.core.display.HTML object>"
      ]
     },
     "metadata": {},
     "output_type": "display_data"
    },
    {
     "name": "stdout",
     "output_type": "stream",
     "text": [
      "None\n"
     ]
    },
    {
     "data": {
      "text/html": [
       "<a href=\"https://ks-yanao.ru/novosti/u-raypon-prezhniy-lider.html\">Григорию Ледкову продлили президентские полномочия</a> — -0.011237675229720745"
      ],
      "text/plain": [
       "<IPython.core.display.HTML object>"
      ]
     },
     "metadata": {},
     "output_type": "display_data"
    },
    {
     "name": "stdout",
     "output_type": "stream",
     "text": [
      "None\n"
     ]
    },
    {
     "data": {
      "text/html": [
       "<a href=\"https://ks-yanao.ru/novosti/v-labytnangi-skonchalsya-podrostok-vpavshiy-v-komu-posle-ulichnoy-potasovki.html\">В Лабытнанги скончался подросток, впавший в кому после уличной потасовки</a> — -0.011329423718879513"
      ],
      "text/plain": [
       "<IPython.core.display.HTML object>"
      ]
     },
     "metadata": {},
     "output_type": "display_data"
    },
    {
     "name": "stdout",
     "output_type": "stream",
     "text": [
      "None\n"
     ]
    },
    {
     "data": {
      "text/html": [
       "<a href=\"https://ks-yanao.ru/novosti/v-salekharde-otkrylos-traditsionnoe-regionalnoe-soveshchanie-pedagogov.html\">В Салехарде открылось традиционное региональное совещание педагогов</a> — -0.01136806091796647"
      ],
      "text/plain": [
       "<IPython.core.display.HTML object>"
      ]
     },
     "metadata": {},
     "output_type": "display_data"
    },
    {
     "name": "stdout",
     "output_type": "stream",
     "text": [
      "None\n"
     ]
    },
    {
     "data": {
      "text/html": [
       "<a href=\"https://ks-yanao.ru/novosti/v-novom-urengoe-proveryat-pyatnadtsat-tysyach-schetchikov.html\">Пять причин, по которым специалисты могут потребовать заменить счетчик</a> — -0.011428003848374418"
      ],
      "text/plain": [
       "<IPython.core.display.HTML object>"
      ]
     },
     "metadata": {},
     "output_type": "display_data"
    },
    {
     "name": "stdout",
     "output_type": "stream",
     "text": [
      "None\n"
     ]
    },
    {
     "data": {
      "text/html": [
       "<a href=\"https://ks-yanao.ru/novosti/krechety-oblyubovali-iskusstvennye-gnyezda.html\">Кречеты облюбовали искусственные гнёзда</a> — -0.011551652293857684"
      ],
      "text/plain": [
       "<IPython.core.display.HTML object>"
      ]
     },
     "metadata": {},
     "output_type": "display_data"
    },
    {
     "name": "stdout",
     "output_type": "stream",
     "text": [
      "None\n"
     ]
    },
    {
     "data": {
      "text/html": [
       "<a href=\"https://ks-yanao.ru/novosti/v-yamalskom-rayone-pogibli-chetyre-vakhtovika.html\">В Ямальском районе погибли четыре вахтовика</a> — -0.011598402027517829"
      ],
      "text/plain": [
       "<IPython.core.display.HTML object>"
      ]
     },
     "metadata": {},
     "output_type": "display_data"
    },
    {
     "name": "stdout",
     "output_type": "stream",
     "text": [
      "None\n"
     ]
    },
    {
     "data": {
      "text/html": [
       "<a href=\"https://ks-yanao.ru/novosti/salekhardskie-aktivisty-pribralis-na-starom-kladbishche.html\">Салехардские активисты прибрались на старом кладбище</a> — -0.011633954533911028"
      ],
      "text/plain": [
       "<IPython.core.display.HTML object>"
      ]
     },
     "metadata": {},
     "output_type": "display_data"
    },
    {
     "name": "stdout",
     "output_type": "stream",
     "text": [
      "None\n"
     ]
    },
    {
     "data": {
      "text/html": [
       "<a href=\"https://ks-yanao.ru/novosti/uchyenye-ekaterinburga-issleduyut-radioaktivnyy-fon-v-zhilykh-domakh.html\">Учёные Екатеринбурга исследуют радиоактивный фон в жилых домах</a> — -0.011647167573543355"
      ],
      "text/plain": [
       "<IPython.core.display.HTML object>"
      ]
     },
     "metadata": {},
     "output_type": "display_data"
    },
    {
     "name": "stdout",
     "output_type": "stream",
     "text": [
      "None\n"
     ]
    },
    {
     "data": {
      "text/html": [
       "<a href=\"https://ks-yanao.ru/novosti/yamalskiy-plovets-vystupaet-na-universiade-2017.html\">Ямальский пловец выступает на Универсиаде-2017</a> — -0.01167122649295179"
      ],
      "text/plain": [
       "<IPython.core.display.HTML object>"
      ]
     },
     "metadata": {},
     "output_type": "display_data"
    },
    {
     "name": "stdout",
     "output_type": "stream",
     "text": [
      "None\n"
     ]
    },
    {
     "data": {
      "text/html": [
       "<a href=\"https://ks-yanao.ru/novosti/ognebortsy-v-aksarke-pilyat-dver-za-dveryu.html\">Огнеборцы в Аксарке пилят дверь за дверью</a> — -0.011681587504994456"
      ],
      "text/plain": [
       "<IPython.core.display.HTML object>"
      ]
     },
     "metadata": {},
     "output_type": "display_data"
    },
    {
     "name": "stdout",
     "output_type": "stream",
     "text": [
      "None\n"
     ]
    },
    {
     "data": {
      "text/html": [
       "<a href=\"https://ks-yanao.ru/novosti/ne-zimnik-a-asfalt-ni-kochki-ni-yamki.html\">Не зимник, а асфальт: ни кочки, ни ямки</a> — -0.011691081571940197"
      ],
      "text/plain": [
       "<IPython.core.display.HTML object>"
      ]
     },
     "metadata": {},
     "output_type": "display_data"
    },
    {
     "name": "stdout",
     "output_type": "stream",
     "text": [
      "None\n"
     ]
    },
    {
     "data": {
      "text/html": [
       "<a href=\"https://ks-yanao.ru/novosti/prokuratura-nagradit-za-propagandu-borby-s-korruptsiey.html\">Прокуратура наградит за пропаганду борьбы с коррупцией</a> — -0.011736978083822498"
      ],
      "text/plain": [
       "<IPython.core.display.HTML object>"
      ]
     },
     "metadata": {},
     "output_type": "display_data"
    },
    {
     "name": "stdout",
     "output_type": "stream",
     "text": [
      "None\n"
     ]
    },
    {
     "data": {
      "text/html": [
       "<a href=\"https://ks-yanao.ru/novosti/v-nadyme-malchik-pogib-pri-padenii-s-zabroshennogo-angara.html\">В Надыме мальчик погиб при падении с заброшенного ангара</a> — -0.011941371244745246"
      ],
      "text/plain": [
       "<IPython.core.display.HTML object>"
      ]
     },
     "metadata": {},
     "output_type": "display_data"
    },
    {
     "name": "stdout",
     "output_type": "stream",
     "text": [
      "None\n"
     ]
    },
    {
     "data": {
      "text/html": [
       "<a href=\"https://ks-yanao.ru/novosti/podrostkam-v-salekharde-publichno-obyavili-o-novykh-obyazannostyakh.html\">Подросткам в Салехарде публично объявили о новых обязанностях</a> — -0.012135610912659708"
      ],
      "text/plain": [
       "<IPython.core.display.HTML object>"
      ]
     },
     "metadata": {},
     "output_type": "display_data"
    },
    {
     "name": "stdout",
     "output_type": "stream",
     "text": [
      "None\n"
     ]
    },
    {
     "data": {
      "text/html": [
       "<a href=\"https://ks-yanao.ru/novosti/raskryt-sekret-ozera-khanto-poprosyat-uchenykh.html\">Раскрыть секрет озера Ханто попросят ученых</a> — -0.012135610912659708"
      ],
      "text/plain": [
       "<IPython.core.display.HTML object>"
      ]
     },
     "metadata": {},
     "output_type": "display_data"
    },
    {
     "name": "stdout",
     "output_type": "stream",
     "text": [
      "None\n"
     ]
    },
    {
     "data": {
      "text/html": [
       "<a href=\"https://ks-yanao.ru/novosti/obdorskie-ikony-vernulis-domoy.html\">Обдорские иконы вернулись домой</a> — -0.012146587538780685"
      ],
      "text/plain": [
       "<IPython.core.display.HTML object>"
      ]
     },
     "metadata": {},
     "output_type": "display_data"
    },
    {
     "name": "stdout",
     "output_type": "stream",
     "text": [
      "None\n"
     ]
    },
    {
     "data": {
      "text/html": [
       "<a href=\"https://ks-yanao.ru/novosti/samye-dostupnye-magaziny-nakhodyatsya-v-krasnoselkupskom-rayone.html\">Самые доступные магазины  находятся в Красноселькупском районе</a> — -0.01224600503576804"
      ],
      "text/plain": [
       "<IPython.core.display.HTML object>"
      ]
     },
     "metadata": {},
     "output_type": "display_data"
    },
    {
     "name": "stdout",
     "output_type": "stream",
     "text": [
      "None\n"
     ]
    },
    {
     "data": {
      "text/html": [
       "<a href=\"https://ks-yanao.ru/novosti/v-aksarke-prinimali-normy-gto-u-shkolnikov.html\">В Аксарке принимали нормы ГТО у школьников</a> — -0.012314440900320928"
      ],
      "text/plain": [
       "<IPython.core.display.HTML object>"
      ]
     },
     "metadata": {},
     "output_type": "display_data"
    },
    {
     "name": "stdout",
     "output_type": "stream",
     "text": [
      "None\n"
     ]
    },
    {
     "data": {
      "text/html": [
       "<a href=\"https://ks-yanao.ru/novosti/na-perepravu-salekhard-labytnangi-gotovyat-shest-paromov.html\">На переправу Салехард – Лабытнанги готовят шесть паромов</a> — -0.012337126812133612"
      ],
      "text/plain": [
       "<IPython.core.display.HTML object>"
      ]
     },
     "metadata": {},
     "output_type": "display_data"
    },
    {
     "name": "stdout",
     "output_type": "stream",
     "text": [
      "None\n"
     ]
    },
    {
     "data": {
      "text/html": [
       "<a href=\"https://ks-yanao.ru/novosti/v-odin-den-dva-rebenka-na-yamale-vypali-iz-okon.html\">В один день два ребенка на Ямале выпали из окон</a> — -0.012360968291629094"
      ],
      "text/plain": [
       "<IPython.core.display.HTML object>"
      ]
     },
     "metadata": {},
     "output_type": "display_data"
    },
    {
     "name": "stdout",
     "output_type": "stream",
     "text": [
      "None\n"
     ]
    },
    {
     "data": {
      "text/html": [
       "<a href=\"https://ks-yanao.ru/novosti/v-novom-urengoe-sobirayut-meloch-vyedrami.html\">В Новом Уренгое собирают мелочь вёдрами</a> — -0.012375635577025777"
      ],
      "text/plain": [
       "<IPython.core.display.HTML object>"
      ]
     },
     "metadata": {},
     "output_type": "display_data"
    },
    {
     "name": "stdout",
     "output_type": "stream",
     "text": [
      "None\n"
     ]
    },
    {
     "data": {
      "text/html": [
       "<a href=\"https://ks-yanao.ru/novosti/v-salekharde-uzhe-vovsyu-rastut-ogurtsy-severnye-balkonnye-.html\">В Салехарде уже вовсю растут огурцы – северные балконные</a> — -0.012703527721317085"
      ],
      "text/plain": [
       "<IPython.core.display.HTML object>"
      ]
     },
     "metadata": {},
     "output_type": "display_data"
    },
    {
     "name": "stdout",
     "output_type": "stream",
     "text": [
      "None\n"
     ]
    },
    {
     "data": {
      "text/html": [
       "<a href=\"https://ks-yanao.ru/novosti/pervyy-den-utra-2017-nachali-po-olimpiyski.html\">Первый день «УТРА-2017» начали по-олимпийски</a> — -0.012882855353862929"
      ],
      "text/plain": [
       "<IPython.core.display.HTML object>"
      ]
     },
     "metadata": {},
     "output_type": "display_data"
    },
    {
     "name": "stdout",
     "output_type": "stream",
     "text": [
      "None\n"
     ]
    },
    {
     "data": {
      "text/html": [
       "<a href=\"https://ks-yanao.ru/novosti/-setevichok-v-chetvertfinale-konkursa-oon.html\">«Сетевичок» – в четвертьфинале конкурса ООН</a> — -0.013008920940992047"
      ],
      "text/plain": [
       "<IPython.core.display.HTML object>"
      ]
     },
     "metadata": {},
     "output_type": "display_data"
    },
    {
     "name": "stdout",
     "output_type": "stream",
     "text": [
      "None\n"
     ]
    },
    {
     "data": {
      "text/html": [
       "<a href=\"https://ks-yanao.ru/novosti/bolee-poloviny-sotsialnykh-obektov-eshchye-nedostupny-dlya-invalidov.html\">Более половины социальных объектов ещё недоступны для инвалидов</a> — -0.013090057364143181"
      ],
      "text/plain": [
       "<IPython.core.display.HTML object>"
      ]
     },
     "metadata": {},
     "output_type": "display_data"
    },
    {
     "name": "stdout",
     "output_type": "stream",
     "text": [
      "None\n"
     ]
    },
    {
     "data": {
      "text/html": [
       "<a href=\"https://ks-yanao.ru/novosti/den-v-stoybishche-proveli-deti-i-pensionery-iz-labytnangi.html\">День в стойбище провели дети и пенсионеры из Лабытнанги</a> — -0.013205884026929869"
      ],
      "text/plain": [
       "<IPython.core.display.HTML object>"
      ]
     },
     "metadata": {},
     "output_type": "display_data"
    },
    {
     "name": "stdout",
     "output_type": "stream",
     "text": [
      "None\n"
     ]
    },
    {
     "data": {
      "text/html": [
       "<a href=\"https://ks-yanao.ru/novosti/zaslugi-meditsinskikh-rabotnikov-otmetili-regionalnymi-nagradami-.html\">Заслуги медицинских работников отметили региональными наградами</a> — -0.013352342017361981"
      ],
      "text/plain": [
       "<IPython.core.display.HTML object>"
      ]
     },
     "metadata": {},
     "output_type": "display_data"
    },
    {
     "name": "stdout",
     "output_type": "stream",
     "text": [
      "None\n"
     ]
    },
    {
     "data": {
      "text/html": [
       "<a href=\"https://ks-yanao.ru/novosti/rechniki-gotovyatsya-k-zaversheniyu-navigatsii.html\">Речники готовятся к завершению навигации</a> — -0.013411404983723885"
      ],
      "text/plain": [
       "<IPython.core.display.HTML object>"
      ]
     },
     "metadata": {},
     "output_type": "display_data"
    },
    {
     "name": "stdout",
     "output_type": "stream",
     "text": [
      "None\n"
     ]
    },
    {
     "data": {
      "text/html": [
       "<a href=\"https://ks-yanao.ru/novosti/yamalskoy-aviakompanii-ne-dayut-letat-v-tadzhikistan.html\">﻿Ямальской авиакомпании не дают летать в Таджикистан</a> — -0.013458549151988783"
      ],
      "text/plain": [
       "<IPython.core.display.HTML object>"
      ]
     },
     "metadata": {},
     "output_type": "display_data"
    },
    {
     "name": "stdout",
     "output_type": "stream",
     "text": [
      "None\n"
     ]
    },
    {
     "data": {
      "text/html": [
       "<a href=\"https://ks-yanao.ru/novosti/kto-kogo-podtyanet-na-smene-.html\">Кто кого подтянет на «Смене»?</a> — -0.013611670519356507"
      ],
      "text/plain": [
       "<IPython.core.display.HTML object>"
      ]
     },
     "metadata": {},
     "output_type": "display_data"
    },
    {
     "name": "stdout",
     "output_type": "stream",
     "text": [
      "None\n"
     ]
    },
    {
     "data": {
      "text/html": [
       "<a href=\"https://ks-yanao.ru/novosti/inostrantsy-khotyat-bolshe-oleniny.html\">Иностранцы хотят больше оленины</a> — -0.013788564731162987"
      ],
      "text/plain": [
       "<IPython.core.display.HTML object>"
      ]
     },
     "metadata": {},
     "output_type": "display_data"
    },
    {
     "name": "stdout",
     "output_type": "stream",
     "text": [
      "None\n"
     ]
    },
    {
     "data": {
      "text/html": [
       "<a href=\"https://ks-yanao.ru/novosti/v-zelenom-yaru-arkheologi-obnaruzhili-mumiyu-mladentsa.html\">В Зеленом Яру археологи обнаружили мумию младенца</a> — -0.013808522316512702"
      ],
      "text/plain": [
       "<IPython.core.display.HTML object>"
      ]
     },
     "metadata": {},
     "output_type": "display_data"
    },
    {
     "name": "stdout",
     "output_type": "stream",
     "text": [
      "None\n"
     ]
    },
    {
     "data": {
      "text/html": [
       "<a href=\"https://ks-yanao.ru/novosti/yamalskie-deti-zasvetilis-na-dne-rossii-v-volgograde.html\">Ямальские дети «засветились» на Дне России в Волгограде</a> — -0.013954327110977233"
      ],
      "text/plain": [
       "<IPython.core.display.HTML object>"
      ]
     },
     "metadata": {},
     "output_type": "display_data"
    },
    {
     "name": "stdout",
     "output_type": "stream",
     "text": [
      "None\n"
     ]
    },
    {
     "data": {
      "text/html": [
       "<a href=\"https://ks-yanao.ru/novosti/abiturientam-pomogut-zolotye-znaki-gto.html\">Абитуриентам помогут золотые знаки ГТО</a> — -0.013978656463800749"
      ],
      "text/plain": [
       "<IPython.core.display.HTML object>"
      ]
     },
     "metadata": {},
     "output_type": "display_data"
    },
    {
     "name": "stdout",
     "output_type": "stream",
     "text": [
      "None\n"
     ]
    },
    {
     "data": {
      "text/html": [
       "<a href=\"https://ks-yanao.ru/novosti/salekhardskiy-rechvokzal-pokazal-chto-sdelano-dlya-osobykh-posetiteley.html\">Салехардский речвокзал показал, что сделано для особых посетителей</a> — -0.014007352480063138"
      ],
      "text/plain": [
       "<IPython.core.display.HTML object>"
      ]
     },
     "metadata": {},
     "output_type": "display_data"
    },
    {
     "name": "stdout",
     "output_type": "stream",
     "text": [
      "None\n"
     ]
    },
    {
     "data": {
      "text/html": [
       "<a href=\"https://ks-yanao.ru/novosti/vpervye-v-ozero-u-lednika-romantikov-pogruzilis-dayvery.html\">Впервые в озеро у ледника Романтиков погрузились дайверы. ВИДЕО</a> — -0.01401629715935848"
      ],
      "text/plain": [
       "<IPython.core.display.HTML object>"
      ]
     },
     "metadata": {},
     "output_type": "display_data"
    },
    {
     "name": "stdout",
     "output_type": "stream",
     "text": [
      "None\n"
     ]
    },
    {
     "data": {
      "text/html": [
       "<a href=\"https://ks-yanao.ru/novosti/magaziny-priplyli-vsled-za-ledokhodom.html\">Магазины приплыли вслед за ледоходом</a> — -0.014123853568759703"
      ],
      "text/plain": [
       "<IPython.core.display.HTML object>"
      ]
     },
     "metadata": {},
     "output_type": "display_data"
    },
    {
     "name": "stdout",
     "output_type": "stream",
     "text": [
      "None\n"
     ]
    },
    {
     "data": {
      "text/html": [
       "<a href=\"https://ks-yanao.ru/novosti/byudzhetniki-i-pensionery-poluchat-kartu-mir.html\">Бюджетники и пенсионеры получат карту «МИР»</a> — -0.014199641796669018"
      ],
      "text/plain": [
       "<IPython.core.display.HTML object>"
      ]
     },
     "metadata": {},
     "output_type": "display_data"
    },
    {
     "name": "stdout",
     "output_type": "stream",
     "text": [
      "None\n"
     ]
    },
    {
     "data": {
      "text/html": [
       "<a href=\"https://ks-yanao.ru/novosti/den-goroda-zavershili-diskotekoy.html\">День города завершили дискотекой</a> — -0.01428948265402655"
      ],
      "text/plain": [
       "<IPython.core.display.HTML object>"
      ]
     },
     "metadata": {},
     "output_type": "display_data"
    },
    {
     "name": "stdout",
     "output_type": "stream",
     "text": [
      "None\n"
     ]
    },
    {
     "data": {
      "text/html": [
       "<a href=\"https://ks-yanao.ru/novosti/budushchie-pozharnye-muravlenko-vnov-vzyali-kubok-yamala.html\">Будущие пожарные Муравленко вновь взяли «Кубок Ямала»</a> — -0.014556831480738606"
      ],
      "text/plain": [
       "<IPython.core.display.HTML object>"
      ]
     },
     "metadata": {},
     "output_type": "display_data"
    },
    {
     "name": "stdout",
     "output_type": "stream",
     "text": [
      "None\n"
     ]
    },
    {
     "data": {
      "text/html": [
       "<a href=\"https://ks-yanao.ru/novosti/na-yamale-dva-podrostka-perevernulis-na-snegokhode.html\">На Ямале два подростка перевернулись на снегоходе</a> — -0.014589687165451384"
      ],
      "text/plain": [
       "<IPython.core.display.HTML object>"
      ]
     },
     "metadata": {},
     "output_type": "display_data"
    },
    {
     "name": "stdout",
     "output_type": "stream",
     "text": [
      "None\n"
     ]
    },
    {
     "data": {
      "text/html": [
       "<a href=\"https://ks-yanao.ru/novosti/na-yamale-nachalis-dosrochnye-ege.html\">На Ямале начались досрочные ЕГЭ</a> — -0.014732963376430245"
      ],
      "text/plain": [
       "<IPython.core.display.HTML object>"
      ]
     },
     "metadata": {},
     "output_type": "display_data"
    },
    {
     "name": "stdout",
     "output_type": "stream",
     "text": [
      "None\n"
     ]
    },
    {
     "data": {
      "text/html": [
       "<a href=\"https://ks-yanao.ru/novosti/salekhartstrit-predlagaet-kulturno-progulyatsya.html\">«СалехАРТстрит»  предлагает культурно прогуляться</a> — -0.015005083730711131"
      ],
      "text/plain": [
       "<IPython.core.display.HTML object>"
      ]
     },
     "metadata": {},
     "output_type": "display_data"
    },
    {
     "name": "stdout",
     "output_type": "stream",
     "text": [
      "None\n"
     ]
    },
    {
     "data": {
      "text/html": [
       "<a href=\"https://ks-yanao.ru/novosti/v-noyabrske-po-subbotam-ustraivayut-fitnes-drayv.html\">В Ноябрьске по субботам устраивают фитнес-драйв</a> — -0.015007278549857122"
      ],
      "text/plain": [
       "<IPython.core.display.HTML object>"
      ]
     },
     "metadata": {},
     "output_type": "display_data"
    },
    {
     "name": "stdout",
     "output_type": "stream",
     "text": [
      "None\n"
     ]
    },
    {
     "data": {
      "text/html": [
       "<a href=\"https://ks-yanao.ru/novosti/v-salekharde-osudili-mat-po-nedosmotru-zadushivshuyu-uzhe-vtorogo-rebenka.html\">В Салехарде осудили мать, по недосмотру задушившую уже второго ребенка</a> — -0.015049597937390803"
      ],
      "text/plain": [
       "<IPython.core.display.HTML object>"
      ]
     },
     "metadata": {},
     "output_type": "display_data"
    },
    {
     "name": "stdout",
     "output_type": "stream",
     "text": [
      "None\n"
     ]
    },
    {
     "data": {
      "text/html": [
       "<a href=\"https://ks-yanao.ru/novosti/krasnuyu-i-chyernuyu-ikru-khotyat-chipirovat.html\">Красную и чёрную икру хотят чипировать</a> — -0.015076025665604642"
      ],
      "text/plain": [
       "<IPython.core.display.HTML object>"
      ]
     },
     "metadata": {},
     "output_type": "display_data"
    },
    {
     "name": "stdout",
     "output_type": "stream",
     "text": [
      "None\n"
     ]
    },
    {
     "data": {
      "text/html": [
       "<a href=\"https://ks-yanao.ru/novosti/rasprostranenie-vich-v-glubinke-udalos-unyat.html\">Распространение ВИЧ в глубинке удалось унять</a> — -0.015268862017492729"
      ],
      "text/plain": [
       "<IPython.core.display.HTML object>"
      ]
     },
     "metadata": {},
     "output_type": "display_data"
    },
    {
     "name": "stdout",
     "output_type": "stream",
     "text": [
      "None\n"
     ]
    },
    {
     "data": {
      "text/html": [
       "<a href=\"https://ks-yanao.ru/novosti/starets-iliya-voskhitilsya-calekhardskim-khramom.html\">Старец Илия восхитился cалехардским храмом</a> — -0.01533469181725446"
      ],
      "text/plain": [
       "<IPython.core.display.HTML object>"
      ]
     },
     "metadata": {},
     "output_type": "display_data"
    },
    {
     "name": "stdout",
     "output_type": "stream",
     "text": [
      "None\n"
     ]
    },
    {
     "data": {
      "text/html": [
       "<a href=\"https://ks-yanao.ru/novosti/v-salekhard-priedet-kosmonavt-ispytatel.html\">В Салехард приедет космонавт-испытатель</a> — -0.015465672246592213"
      ],
      "text/plain": [
       "<IPython.core.display.HTML object>"
      ]
     },
     "metadata": {},
     "output_type": "display_data"
    },
    {
     "name": "stdout",
     "output_type": "stream",
     "text": [
      "None\n"
     ]
    },
    {
     "data": {
      "text/html": [
       "<a href=\"https://ks-yanao.ru/novosti/noyabrskie-gazoviki-sobrali-95-kilogramm-otrabotannykh-batareek.html\">Ноябрьские газовики собрали 95 килограмм отработанных батареек</a> — -0.015631167775555146"
      ],
      "text/plain": [
       "<IPython.core.display.HTML object>"
      ]
     },
     "metadata": {},
     "output_type": "display_data"
    },
    {
     "name": "stdout",
     "output_type": "stream",
     "text": [
      "None\n"
     ]
    },
    {
     "data": {
      "text/html": [
       "<a href=\"https://ks-yanao.ru/novosti/kazhdyy-desyatyy-sirota-pereezzhaet-v-tyumen.html\">Каждый десятый сирота переезжает в Тюмень</a> — -0.01580491005176586"
      ],
      "text/plain": [
       "<IPython.core.display.HTML object>"
      ]
     },
     "metadata": {},
     "output_type": "display_data"
    },
    {
     "name": "stdout",
     "output_type": "stream",
     "text": [
      "None\n"
     ]
    },
    {
     "data": {
      "text/html": [
       "<a href=\"https://ks-yanao.ru/novosti/noyabrsk-rastsvetaet.html\">Ноябрьск расцветает</a> — -0.016077831608493513"
      ],
      "text/plain": [
       "<IPython.core.display.HTML object>"
      ]
     },
     "metadata": {},
     "output_type": "display_data"
    },
    {
     "name": "stdout",
     "output_type": "stream",
     "text": [
      "None\n"
     ]
    },
    {
     "data": {
      "text/html": [
       "<a href=\"https://ks-yanao.ru/novosti/pochti-trista-yamaltsev-povredili-zdorove-na-rabote.html\">Почти триста ямальцев повредили здоровье на работе</a> — -0.016606137649626602"
      ],
      "text/plain": [
       "<IPython.core.display.HTML object>"
      ]
     },
     "metadata": {},
     "output_type": "display_data"
    },
    {
     "name": "stdout",
     "output_type": "stream",
     "text": [
      "None\n"
     ]
    },
    {
     "data": {
      "text/html": [
       "<a href=\"https://ks-yanao.ru/novosti/ot-ukusov-kleshchey-postradali-26-yamaltsev.html\">От укусов клещей пострадали  26 ямальцев</a> — -0.016721600071667394"
      ],
      "text/plain": [
       "<IPython.core.display.HTML object>"
      ]
     },
     "metadata": {},
     "output_type": "display_data"
    },
    {
     "name": "stdout",
     "output_type": "stream",
     "text": [
      "None\n"
     ]
    },
    {
     "data": {
      "text/html": [
       "<a href=\"https://ks-yanao.ru/novosti/v-nadyme-prizhilas-siren-no-ee-novykh-posadok-poka-ne-planiruetsya.html\">В Надыме прижилась сирень,  но ее новых посадок пока не планируется</a> — -0.017022184498900642"
      ],
      "text/plain": [
       "<IPython.core.display.HTML object>"
      ]
     },
     "metadata": {},
     "output_type": "display_data"
    },
    {
     "name": "stdout",
     "output_type": "stream",
     "text": [
      "None\n"
     ]
    },
    {
     "data": {
      "text/html": [
       "<a href=\"https://ks-yanao.ru/novosti/nastavnikov-gotovyat-k-vyezdu-v-detskie-lagerya.html\">Наставников готовят к выезду в детские лагеря</a> — -0.01723662415502733"
      ],
      "text/plain": [
       "<IPython.core.display.HTML object>"
      ]
     },
     "metadata": {},
     "output_type": "display_data"
    },
    {
     "name": "stdout",
     "output_type": "stream",
     "text": [
      "None\n"
     ]
    },
    {
     "data": {
      "text/html": [
       "<a href=\"https://ks-yanao.ru/novosti/yamalskiy-mart-zime-ne-veren.html\">Ямальский март зиме не верен</a> — -0.017293739704241667"
      ],
      "text/plain": [
       "<IPython.core.display.HTML object>"
      ]
     },
     "metadata": {},
     "output_type": "display_data"
    },
    {
     "name": "stdout",
     "output_type": "stream",
     "text": [
      "None\n"
     ]
    },
    {
     "data": {
      "text/html": [
       "<a href=\"https://ks-yanao.ru/novosti/skhodil-pogulyat-propavshiy-v-noyabrske-rebenok-nashelsya-sutki-spustya-.html\">Сходил погулять: пропавший в Ноябрьске ребенок нашелся сутки спустя</a> — -0.018121922098748227"
      ],
      "text/plain": [
       "<IPython.core.display.HTML object>"
      ]
     },
     "metadata": {},
     "output_type": "display_data"
    },
    {
     "name": "stdout",
     "output_type": "stream",
     "text": [
      "None\n"
     ]
    },
    {
     "data": {
      "text/html": [
       "<a href=\"https://ks-yanao.ru/novosti/yamalskaya-skalolazka-dotyanulas-do-bronzy.html\">Ямальская скалолазка дотянулась до «бронзы»</a> — -0.01827857163520378"
      ],
      "text/plain": [
       "<IPython.core.display.HTML object>"
      ]
     },
     "metadata": {},
     "output_type": "display_data"
    },
    {
     "name": "stdout",
     "output_type": "stream",
     "text": [
      "None\n"
     ]
    },
    {
     "data": {
      "text/html": [
       "<a href=\"https://ks-yanao.ru/novosti/sto-ballov-dlya-pobedy.html\">Сто баллов для Победы</a> — -0.01835998437918963"
      ],
      "text/plain": [
       "<IPython.core.display.HTML object>"
      ]
     },
     "metadata": {},
     "output_type": "display_data"
    },
    {
     "name": "stdout",
     "output_type": "stream",
     "text": [
      "None\n"
     ]
    },
    {
     "data": {
      "text/html": [
       "<a href=\"https://ks-yanao.ru/novosti/yamalskie-lebedi-vozvrashchayutsya-s-zimovki.html\">Ямальские лебеди возвращаются с зимовки</a> — -0.01853450884472288"
      ],
      "text/plain": [
       "<IPython.core.display.HTML object>"
      ]
     },
     "metadata": {},
     "output_type": "display_data"
    },
    {
     "name": "stdout",
     "output_type": "stream",
     "text": [
      "None\n"
     ]
    },
    {
     "data": {
      "text/html": [
       "<a href=\"https://ks-yanao.ru/novosti/v-gazovoy-stolitse-pogib-mototsiklist.html\">В газовой столице погиб мотоциклист</a> — -0.018543899106215126"
      ],
      "text/plain": [
       "<IPython.core.display.HTML object>"
      ]
     },
     "metadata": {},
     "output_type": "display_data"
    },
    {
     "name": "stdout",
     "output_type": "stream",
     "text": [
      "None\n"
     ]
    },
    {
     "data": {
      "text/html": [
       "<a href=\"https://ks-yanao.ru/novosti/po-novomu-urengoyu-proedut-frontovye-brigady.html\">По Новому Уренгою  проедут «Фронтовые бригады»</a> — -0.01871183386605211"
      ],
      "text/plain": [
       "<IPython.core.display.HTML object>"
      ]
     },
     "metadata": {},
     "output_type": "display_data"
    },
    {
     "name": "stdout",
     "output_type": "stream",
     "text": [
      "None\n"
     ]
    },
    {
     "data": {
      "text/html": [
       "<a href=\"https://ks-yanao.ru/novosti/rossiyan-zhdut-28-vykhodnykh-v-sleduyushchem-godu.html\">Россиян ждут 28  праздничных выходных в следующем году</a> — -0.01947540571891617"
      ],
      "text/plain": [
       "<IPython.core.display.HTML object>"
      ]
     },
     "metadata": {},
     "output_type": "display_data"
    },
    {
     "name": "stdout",
     "output_type": "stream",
     "text": [
      "None\n"
     ]
    },
    {
     "data": {
      "text/html": [
       "<a href=\"https://ks-yanao.ru/novosti/v-bessmertnom-polku-proydut-bolee-23-tysyach-yamaltsev.html\">В «Бессмертном полку» пройдут более 23 тысяч ямальцев</a> — -0.020111340432196947"
      ],
      "text/plain": [
       "<IPython.core.display.HTML object>"
      ]
     },
     "metadata": {},
     "output_type": "display_data"
    },
    {
     "name": "stdout",
     "output_type": "stream",
     "text": [
      "None\n"
     ]
    },
    {
     "data": {
      "text/html": [
       "<a href=\"https://ks-yanao.ru/novosti/u-yamalskiy-veteranov-novyy-rukovoditel.html\">У ямальских  ветеранов новый руководитель</a> — -0.020919453964775164"
      ],
      "text/plain": [
       "<IPython.core.display.HTML object>"
      ]
     },
     "metadata": {},
     "output_type": "display_data"
    },
    {
     "name": "stdout",
     "output_type": "stream",
     "text": [
      "None\n"
     ]
    },
    {
     "data": {
      "text/html": [
       "<a href=\"https://ks-yanao.ru/novosti/stroyatsya-samye-ozhidaemye-obekty-v-krasnoselkupe-aeroport-i-vzletno-posadochnaya-polosa.html\">Строятся самые ожидаемые объекты в Красноселькупе – аэропорт и взлетно-посадочная полоса</a> — -0.020985894399610034"
      ],
      "text/plain": [
       "<IPython.core.display.HTML object>"
      ]
     },
     "metadata": {},
     "output_type": "display_data"
    },
    {
     "name": "stdout",
     "output_type": "stream",
     "text": [
      "None\n"
     ]
    },
    {
     "data": {
      "text/html": [
       "<a href=\"https://ks-yanao.ru/novosti/ledokhod-na-yamale-zhdut-ranshe-sroka.html\">Ледоход на Ямале ждут раньше срока</a> — -0.021082138128612714"
      ],
      "text/plain": [
       "<IPython.core.display.HTML object>"
      ]
     },
     "metadata": {},
     "output_type": "display_data"
    },
    {
     "name": "stdout",
     "output_type": "stream",
     "text": [
      "None\n"
     ]
    },
    {
     "data": {
      "text/html": [
       "<a href=\"https://ks-yanao.ru/novosti/podrobnosti-v-dtp-pogib-eks-solist-syra-sev.html\">Подробности: в ДТП погиб экс-солист «Сыра-Сэв»</a> — -0.021124684192138303"
      ],
      "text/plain": [
       "<IPython.core.display.HTML object>"
      ]
     },
     "metadata": {},
     "output_type": "display_data"
    },
    {
     "name": "stdout",
     "output_type": "stream",
     "text": [
      "None\n"
     ]
    },
    {
     "data": {
      "text/html": [
       "<a href=\"https://ks-yanao.ru/novosti/zastroyshchikam-predlagayut-doma-so-skidkoy.html\">Застройщикам предлагают дома со скидкой</a> — -0.021230114851564147"
      ],
      "text/plain": [
       "<IPython.core.display.HTML object>"
      ]
     },
     "metadata": {},
     "output_type": "display_data"
    },
    {
     "name": "stdout",
     "output_type": "stream",
     "text": [
      "None\n"
     ]
    },
    {
     "data": {
      "text/html": [
       "<a href=\"https://ks-yanao.ru/novosti/ratsionalizatorov-i-izobretateley-yanao-prinyali-v-voir.html\">«Рационализаторов и изобретателей ЯНАО» приняли в ВОИР</a> — -0.021240704110407422"
      ],
      "text/plain": [
       "<IPython.core.display.HTML object>"
      ]
     },
     "metadata": {},
     "output_type": "display_data"
    },
    {
     "name": "stdout",
     "output_type": "stream",
     "text": [
      "None\n"
     ]
    },
    {
     "data": {
      "text/html": [
       "<a href=\"https://ks-yanao.ru/novosti/yuzhane-privezut-na-yamal-produktsiyu-sobstvennogo-proizvodstva.html\">Южане привезут на Ямал продукцию собственного производства</a> — -0.02168572540080317"
      ],
      "text/plain": [
       "<IPython.core.display.HTML object>"
      ]
     },
     "metadata": {},
     "output_type": "display_data"
    },
    {
     "name": "stdout",
     "output_type": "stream",
     "text": [
      "None\n"
     ]
    },
    {
     "data": {
      "text/html": [
       "<a href=\"https://ks-yanao.ru/novosti/sleduyushchey-zimoy-nachnyetsya-postavka-pitevoy-vody-v-vyngapurovskiy.html\">Следующей зимой начнётся поставка питьевой воды в Вынгапуровский</a> — -0.02201827793374138"
      ],
      "text/plain": [
       "<IPython.core.display.HTML object>"
      ]
     },
     "metadata": {},
     "output_type": "display_data"
    },
    {
     "name": "stdout",
     "output_type": "stream",
     "text": [
      "None\n"
     ]
    },
    {
     "data": {
      "text/html": [
       "<a href=\"https://ks-yanao.ru/novosti/yamalskie-zebry-podgonyayut-pod-standart.html\">Ямальские «зебры» подгоняют под стандарт</a> — -0.022024350796689258"
      ],
      "text/plain": [
       "<IPython.core.display.HTML object>"
      ]
     },
     "metadata": {},
     "output_type": "display_data"
    },
    {
     "name": "stdout",
     "output_type": "stream",
     "text": [
      "None\n"
     ]
    },
    {
     "data": {
      "text/html": [
       "<a href=\"https://ks-yanao.ru/novosti/tret-opticheskoy-stroyki-prikhoditsya-na-salekhard.html\">Треть «оптической» стройки приходится на Салехард</a> — -0.02204220969371271"
      ],
      "text/plain": [
       "<IPython.core.display.HTML object>"
      ]
     },
     "metadata": {},
     "output_type": "display_data"
    },
    {
     "name": "stdout",
     "output_type": "stream",
     "text": [
      "None\n"
     ]
    },
    {
     "data": {
      "text/html": [
       "<a href=\"https://ks-yanao.ru/novosti/ledovyy-dvorets-salekharda-pochti-kak-na-voyne.html\">Ледовый дворец Салехарда: почти как на войне</a> — -0.02212318358405882"
      ],
      "text/plain": [
       "<IPython.core.display.HTML object>"
      ]
     },
     "metadata": {},
     "output_type": "display_data"
    },
    {
     "name": "stdout",
     "output_type": "stream",
     "text": [
      "None\n"
     ]
    },
    {
     "data": {
      "text/html": [
       "<a href=\"https://ks-yanao.ru/novosti/po-salekhardu-proekhal-poyushchiy-avtobus.html\">По Салехарду проехал «поющий» автобус</a> — -0.02225293698983047"
      ],
      "text/plain": [
       "<IPython.core.display.HTML object>"
      ]
     },
     "metadata": {},
     "output_type": "display_data"
    },
    {
     "name": "stdout",
     "output_type": "stream",
     "text": [
      "None\n"
     ]
    },
    {
     "data": {
      "text/html": [
       "<a href=\"https://ks-yanao.ru/novosti/gorno-knyazevskaya-rybolovetskaya-obshchina-dayet-plan.html\">Горно-Князевская рыболовецкая община выживает без белой рыбы</a> — -0.02250680729377346"
      ],
      "text/plain": [
       "<IPython.core.display.HTML object>"
      ]
     },
     "metadata": {},
     "output_type": "display_data"
    },
    {
     "name": "stdout",
     "output_type": "stream",
     "text": [
      "None\n"
     ]
    },
    {
     "data": {
      "text/html": [
       "<a href=\"https://ks-yanao.ru/novosti/na-kanikulakh-vdvoe-deshevle.html\">На каникулах – вдвое дешевле</a> — -0.02273929566792597"
      ],
      "text/plain": [
       "<IPython.core.display.HTML object>"
      ]
     },
     "metadata": {},
     "output_type": "display_data"
    },
    {
     "name": "stdout",
     "output_type": "stream",
     "text": [
      "None\n"
     ]
    },
    {
     "data": {
      "text/html": [
       "<a href=\"https://ks-yanao.ru/novosti/v-noyabrske-za-nedelyu-sgoreli-dve-rasselyennye-derevyashki.html\">В Ноябрьске за неделю сгорели две расселённые «деревяшки»</a> — -0.02291912513988002"
      ],
      "text/plain": [
       "<IPython.core.display.HTML object>"
      ]
     },
     "metadata": {},
     "output_type": "display_data"
    },
    {
     "name": "stdout",
     "output_type": "stream",
     "text": [
      "None\n"
     ]
    },
    {
     "data": {
      "text/html": [
       "<a href=\"https://ks-yanao.ru/novosti/vypusknikam-predostavili-rezerv.html\">Выпускникам предоставили резерв</a> — -0.023575347950474793"
      ],
      "text/plain": [
       "<IPython.core.display.HTML object>"
      ]
     },
     "metadata": {},
     "output_type": "display_data"
    },
    {
     "name": "stdout",
     "output_type": "stream",
     "text": [
      "None\n"
     ]
    },
    {
     "data": {
      "text/html": [
       "<a href=\"https://ks-yanao.ru/novosti/na-yamale-startoval-regionalnyy-etap-vserossiyskogo-konkursa-molodoy-predprinimatel-rossii-2017-v-ra.html\">К участию в конкурсе приглашаются молодые бизнесмены</a> — -0.024062883145783365"
      ],
      "text/plain": [
       "<IPython.core.display.HTML object>"
      ]
     },
     "metadata": {},
     "output_type": "display_data"
    },
    {
     "name": "stdout",
     "output_type": "stream",
     "text": [
      "None\n"
     ]
    },
    {
     "data": {
      "text/html": [
       "<a href=\"https://ks-yanao.ru/novosti/pervoe-mesto-za-prizyv.html\">Первое место – за призыв</a> — -0.024675012891685576"
      ],
      "text/plain": [
       "<IPython.core.display.HTML object>"
      ]
     },
     "metadata": {},
     "output_type": "display_data"
    },
    {
     "name": "stdout",
     "output_type": "stream",
     "text": [
      "None\n"
     ]
    },
    {
     "data": {
      "text/html": [
       "<a href=\"https://ks-yanao.ru/novosti/vlasti-noyabrska-predlagayut-zhitelyam-otkazatsya-ot-avtomobiley.html\">Власти Ноябрьска предлагают жителям отказаться от автомобилей</a> — -0.02534657292621366"
      ],
      "text/plain": [
       "<IPython.core.display.HTML object>"
      ]
     },
     "metadata": {},
     "output_type": "display_data"
    },
    {
     "name": "stdout",
     "output_type": "stream",
     "text": [
      "None\n"
     ]
    },
    {
     "data": {
      "text/html": [
       "<a href=\"https://ks-yanao.ru/novosti/podsnezhnik-k-vypusknomu.html\">«Подснежник» к выпускному</a> — -0.02567927495885904"
      ],
      "text/plain": [
       "<IPython.core.display.HTML object>"
      ]
     },
     "metadata": {},
     "output_type": "display_data"
    },
    {
     "name": "stdout",
     "output_type": "stream",
     "text": [
      "None\n"
     ]
    },
    {
     "data": {
      "text/html": [
       "<a href=\"https://ks-yanao.ru/novosti/izvestnyy-rybak-yamala-zasluzhil-vserossiyskiy-pochyet.html\">Известный рыбак Ямала заслужил всероссийский почёт</a> — -0.02592330137086568"
      ],
      "text/plain": [
       "<IPython.core.display.HTML object>"
      ]
     },
     "metadata": {},
     "output_type": "display_data"
    },
    {
     "name": "stdout",
     "output_type": "stream",
     "text": [
      "None\n"
     ]
    },
    {
     "data": {
      "text/html": [
       "<a href=\"https://ks-yanao.ru/novosti/v-noyabrske-na-pozhare-pogib-muzhchina.html\">В Ноябрьске на пожаре погиб мужчина</a> — -0.026896353554547843"
      ],
      "text/plain": [
       "<IPython.core.display.HTML object>"
      ]
     },
     "metadata": {},
     "output_type": "display_data"
    },
    {
     "name": "stdout",
     "output_type": "stream",
     "text": [
      "None\n"
     ]
    },
    {
     "data": {
      "text/html": [
       "<a href=\"https://ks-yanao.ru/novosti/yamaltsy-vsye-chashche-poluchayut-invalidnost-iz-za-onkologii.html\">Ямальцы всё чаще получают инвалидность из-за онкологии</a> — -0.02777352305052503"
      ],
      "text/plain": [
       "<IPython.core.display.HTML object>"
      ]
     },
     "metadata": {},
     "output_type": "display_data"
    },
    {
     "name": "stdout",
     "output_type": "stream",
     "text": [
      "None\n"
     ]
    },
    {
     "data": {
      "text/html": [
       "<a href=\"https://ks-yanao.ru/novosti/starinnye-ikony-v-salekhard-iz-tobolska-vernutsya-po-vode.html\">Старинные иконы в Салехард из Тобольска вернутся по воде</a> — -0.028414220657476355"
      ],
      "text/plain": [
       "<IPython.core.display.HTML object>"
      ]
     },
     "metadata": {},
     "output_type": "display_data"
    },
    {
     "name": "stdout",
     "output_type": "stream",
     "text": [
      "None\n"
     ]
    },
    {
     "data": {
      "text/html": [
       "<a href=\"https://ks-yanao.ru/novosti/skolko-kvadratov-kupit-na-zarplatu.html\">Сколько «квадратов» купить на зарплату?</a> — -0.028522264251634358"
      ],
      "text/plain": [
       "<IPython.core.display.HTML object>"
      ]
     },
     "metadata": {},
     "output_type": "display_data"
    },
    {
     "name": "stdout",
     "output_type": "stream",
     "text": [
      "None\n"
     ]
    },
    {
     "data": {
      "text/html": [
       "<a href=\"https://ks-yanao.ru/novosti/kommunalshchiki-yamalskogo-rayona-gotovyatsya-k-zime.html\">Коммунальщики Ямальского района готовятся к зиме</a> — -0.028856158782942225"
      ],
      "text/plain": [
       "<IPython.core.display.HTML object>"
      ]
     },
     "metadata": {},
     "output_type": "display_data"
    },
    {
     "name": "stdout",
     "output_type": "stream",
     "text": [
      "None\n"
     ]
    },
    {
     "data": {
      "text/html": [
       "<a href=\"https://ks-yanao.ru/novosti/allo-tak-telefonnye-sobesedniki-privetstvuyut-drug-druga-uzhe-140-let.html\">«Алло!» – так телефонные собеседники приветствуют друг друга уже 140 лет</a> — -0.029409286367051153"
      ],
      "text/plain": [
       "<IPython.core.display.HTML object>"
      ]
     },
     "metadata": {},
     "output_type": "display_data"
    },
    {
     "name": "stdout",
     "output_type": "stream",
     "text": [
      "None\n"
     ]
    },
    {
     "data": {
      "text/html": [
       "<a href=\"https://ks-yanao.ru/novosti/v-novom-urengoe-direktor-atp-stal-figurantom-ugolovnogo-dela.html\">В Новом Уренгое директор АТП стал фигурантом уголовного дела</a> — -0.030082107133757058"
      ],
      "text/plain": [
       "<IPython.core.display.HTML object>"
      ]
     },
     "metadata": {},
     "output_type": "display_data"
    },
    {
     "name": "stdout",
     "output_type": "stream",
     "text": [
      "None\n"
     ]
    },
    {
     "data": {
      "text/html": [
       "<a href=\"https://ks-yanao.ru/novosti/yamal-v-pyatyerke-luchshikh-likvidatorov-avariynogo-zhilya.html\">Ямал в пятёрке лучших ликвидаторов аварийного жилья</a> — -0.030104199910150932"
      ],
      "text/plain": [
       "<IPython.core.display.HTML object>"
      ]
     },
     "metadata": {},
     "output_type": "display_data"
    },
    {
     "name": "stdout",
     "output_type": "stream",
     "text": [
      "None\n"
     ]
    },
    {
     "data": {
      "text/html": [
       "<a href=\"https://ks-yanao.ru/novosti/sledovateli-sobrali-materialy-na-salekhardskikh-detey.html\">Следователи собрали материалы на салехардских детей</a> — -0.030910825839253506"
      ],
      "text/plain": [
       "<IPython.core.display.HTML object>"
      ]
     },
     "metadata": {},
     "output_type": "display_data"
    },
    {
     "name": "stdout",
     "output_type": "stream",
     "text": [
      "None\n"
     ]
    },
    {
     "data": {
      "text/html": [
       "<a href=\"https://ks-yanao.ru/novosti/yamalskoe-stado-uvelichilos-na-105-tysyach-olenyat.html\">Ямальское стадо увеличилось на 105 тысяч оленят</a> — -0.031613183106005596"
      ],
      "text/plain": [
       "<IPython.core.display.HTML object>"
      ]
     },
     "metadata": {},
     "output_type": "display_data"
    },
    {
     "name": "stdout",
     "output_type": "stream",
     "text": [
      "None\n"
     ]
    },
    {
     "data": {
      "text/html": [
       "<a href=\"https://ks-yanao.ru/novosti/staroy-dvukhetazhki-zhkkh-bolshe-net.html\">Старой двухэтажки ЖКХ больше нет</a> — -0.03273128337809148"
      ],
      "text/plain": [
       "<IPython.core.display.HTML object>"
      ]
     },
     "metadata": {},
     "output_type": "display_data"
    },
    {
     "name": "stdout",
     "output_type": "stream",
     "text": [
      "None\n"
     ]
    },
    {
     "data": {
      "text/html": [
       "<a href=\"https://ks-yanao.ru/novosti/edinyy-nomer-112-v-salekharde-zarabotaet-v-kontse-goda.html\">Единый номер «112» в Салехарде заработает в конце года</a> — -0.03487150870890013"
      ],
      "text/plain": [
       "<IPython.core.display.HTML object>"
      ]
     },
     "metadata": {},
     "output_type": "display_data"
    },
    {
     "name": "stdout",
     "output_type": "stream",
     "text": [
      "None\n"
     ]
    },
    {
     "data": {
      "text/html": [
       "<a href=\"https://ks-yanao.ru/novosti/-vozdushnye-podushki-gotovyatsya-startovat-cherez-ob.html\">«Воздушные подушки» готовятся стартовать через Обь</a> — -0.036049547586219095"
      ],
      "text/plain": [
       "<IPython.core.display.HTML object>"
      ]
     },
     "metadata": {},
     "output_type": "display_data"
    },
    {
     "name": "stdout",
     "output_type": "stream",
     "text": [
      "None\n"
     ]
    },
    {
     "data": {
      "text/html": [
       "<a href=\"https://ks-yanao.ru/novosti/v-salekharde-vozlozhili-tsvety-k-byustu-gazovogo-generalissimusa.html\">В Салехарде возложили цветы к бюсту «газового генералиссимуса»</a> — -0.03664027083009721"
      ],
      "text/plain": [
       "<IPython.core.display.HTML object>"
      ]
     },
     "metadata": {},
     "output_type": "display_data"
    },
    {
     "name": "stdout",
     "output_type": "stream",
     "text": [
      "None\n"
     ]
    },
    {
     "data": {
      "text/html": [
       "<a href=\"https://ks-yanao.ru/novosti/v-salekharde-ishchut-novoe-mesto-dlya-gorodskoy-lyzhnoy-bazy.html\">В Салехарде ищут новое место для городской лыжной базы</a> — -0.0551338582896302"
      ],
      "text/plain": [
       "<IPython.core.display.HTML object>"
      ]
     },
     "metadata": {},
     "output_type": "display_data"
    },
    {
     "name": "stdout",
     "output_type": "stream",
     "text": [
      "None\n"
     ]
    },
    {
     "data": {
      "text/html": [
       "<a href=\"https://ks-yanao.ru/novosti/ledokhod-na-beregakh-budut-vstrechat-na-nedelyu-ranshe.html\">Ледоход на берегах будут встречать на неделю раньше</a> — -0.2065489674364099"
      ],
      "text/plain": [
       "<IPython.core.display.HTML object>"
      ]
     },
     "metadata": {},
     "output_type": "display_data"
    },
    {
     "name": "stdout",
     "output_type": "stream",
     "text": [
      "None\n"
     ]
    }
   ],
   "source": [
    "def search(query, data):\n",
    "    lem_query = lemmatize_me(query)\n",
    "    result = defaultdict(set)\n",
    "    for key, value in data.items():\n",
    "        for word in lem_query:\n",
    "            if word == key:\n",
    "                result[word] = set(value)\n",
    "    return result\n",
    "\n",
    "query = 'каникулы на новый год и рождество'\n",
    "#print(search(query,data))\n",
    "\n",
    "def extract_info(text, key):\n",
    "    url = re.search('@url (.+)', text).group(1)\n",
    "    title = re.search('@ti (.+)', text).group(1)\n",
    "    content = text.split(\"html\",1)[1] \n",
    "    dl = len(content.split())\n",
    "    qf = compute_tf(key, lemmatize_me(content))\n",
    "    return url, title, content, dl, qf\n",
    "\n",
    "def metrics(result, N=1000, avdl=253.233, k1=2.0, b=0.75):\n",
    "    output = {}\n",
    "    for key, value in result.items():\n",
    "        n = len(value)\n",
    "        for file in value:\n",
    "            f = open('./news/' + file, 'r', encoding='utf-8')\n",
    "            text = f.read()\n",
    "            url, title, content, dl, qf = extract_info(text, key)\n",
    "            metric = score_BM25(n, qf, N, dl, avdl)\n",
    "            link = '<a href=\"' + url + '\">' + title + '</a>'\n",
    "            if file not in output:\n",
    "                output[link] = metric\n",
    "            else:\n",
    "                output[link] += metric\n",
    "            f.close()\n",
    "            \n",
    "    for key in sorted(output, key=output.get, reverse=True):\n",
    "        link = '{} — {}'.format(key, output[key])\n",
    "        print(display(HTML(str(link))))\n",
    "metrics(search(query,data)) \n",
    "#search(query,data)"
   ]
  },
  {
   "cell_type": "code",
   "execution_count": null,
   "metadata": {
    "collapsed": true
   },
   "outputs": [],
   "source": []
  }
 ],
 "metadata": {
  "kernelspec": {
   "display_name": "Python 3",
   "language": "python",
   "name": "python3"
  },
  "language_info": {
   "codemirror_mode": {
    "name": "ipython",
    "version": 3
   },
   "file_extension": ".py",
   "mimetype": "text/x-python",
   "name": "python",
   "nbconvert_exporter": "python",
   "pygments_lexer": "ipython3",
   "version": "3.6.1"
  }
 },
 "nbformat": 4,
 "nbformat_minor": 2
}
